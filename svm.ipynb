{
 "cells": [
  {
   "cell_type": "markdown",
   "metadata": {},
   "source": [
    "# SVM Implementation\n",
    "\n",
    "I did separate preprocessing from the preprocessing.ipynb because SVM was maximizing accuracy by just labeling all data as 0."
   ]
  },
  {
   "cell_type": "code",
   "execution_count": null,
   "metadata": {},
   "outputs": [],
   "source": [
    "import pandas as pd\n",
    "import itertools\n",
    "import numpy as np\n",
    "import re\n",
    "from sklearn.model_selection import train_test_split, GridSearchCV\n",
    "from sklearn.preprocessing import StandardScaler\n",
    "from sklearn.svm import SVC\n",
    "from sklearn.metrics import classification_report, confusion_matrix, accuracy_score\n",
    "\n",
    "df = pd.read_csv(\"loan_approval_dataset.csv\")\n",
    "df.drop(columns=[\"Id\"], inplace=True)\n",
    "df[\"Risk_Flag\"] = df[\"Risk_Flag\"].apply(lambda x: 1 if x == 1 else -1)\n",
    "\n",
    "X = df.drop(columns=[\"Risk_Flag\"])\n",
    "y = df[\"Risk_Flag\"]\n",
    "\n",
    "X = pd.get_dummies(X)\n",
    "\n",
    "scaler = StandardScaler()\n",
    "X_scaled = scaler.fit_transform(X)\n",
    "\n",
    "X_train, X_test, y_train, y_test = train_test_split(\n",
    "    X_scaled, y, test_size=0.2, random_state=9, stratify=y\n",
    ")"
   ]
  },
  {
   "cell_type": "markdown",
   "metadata": {},
   "source": [
    "### Simple Test to see that SVM training is working."
   ]
  },
  {
   "cell_type": "code",
   "execution_count": 4,
   "metadata": {},
   "outputs": [
    {
     "name": "stdout",
     "output_type": "stream",
     "text": [
      "[LibSVM]"
     ]
    },
    {
     "name": "stderr",
     "output_type": "stream",
     "text": [
      "c:\\Users\\codyb\\.vscode\\Py\\COMP7970-Homework\\Lib\\site-packages\\sklearn\\svm\\_base.py:305: ConvergenceWarning: Solver terminated early (max_iter=1000).  Consider pre-processing your data with StandardScaler or MinMaxScaler.\n",
      "  warnings.warn(\n"
     ]
    },
    {
     "name": "stdout",
     "output_type": "stream",
     "text": [
      "Linear SVM Performance:\n",
      "Accuracy: 0.4360\n",
      "Confusion Matrix:\n",
      "[[18266 25935]\n",
      " [ 2491  3708]]\n",
      "\n",
      "Classification Report:\n",
      "              precision    recall  f1-score   support\n",
      "\n",
      "          -1       0.88      0.41      0.56     44201\n",
      "           1       0.13      0.60      0.21      6199\n",
      "\n",
      "    accuracy                           0.44     50400\n",
      "   macro avg       0.50      0.51      0.38     50400\n",
      "weighted avg       0.79      0.44      0.52     50400\n",
      "\n"
     ]
    }
   ],
   "source": [
    "linear_svm = SVC(kernel=\"linear\", class_weight=\"balanced\", random_state=9, max_iter=1000, verbose=True)\n",
    "\n",
    "linear_svm.fit(X_train, y_train)\n",
    "\n",
    "y_pred_linear = linear_svm.predict(X_test)\n",
    "\n",
    "print(\"Linear SVM Performance:\")\n",
    "print(\"Accuracy: {:.4f}\".format(accuracy_score(y_test, y_pred_linear)))\n",
    "print(\"Confusion Matrix:\")\n",
    "print(confusion_matrix(y_test, y_pred_linear))\n",
    "print(\"\\nClassification Report:\")\n",
    "print(classification_report(y_test, y_pred_linear))"
   ]
  },
  {
   "cell_type": "markdown",
   "metadata": {},
   "source": [
    "Before I got to these behemoth parameter grids, I was not being organized and ran a bunch of training loops for a bunch of hyperparams. I ended up deleting the results and just going with one big iteration that I am going to take as the final hyperparameter testing results\n",
    "\n",
    "I have tested different max_iters values and it did not seem to effect the results."
   ]
  },
  {
   "cell_type": "code",
   "execution_count": 16,
   "metadata": {},
   "outputs": [],
   "source": [
    "customClassWeight1 = {1: 3, -1: 1}\n",
    "customClassWeight2 = {1: 2, -1: 1}\n",
    "class_weight_options = [\"balanced\", customClassWeight1, customClassWeight2]\n",
    "\n",
    "max_iters = [250]\n",
    "linear_params = {\n",
    "    \"kernel\": [\"linear\"],\n",
    "    \"C\": [0.1, 1, 10, 100],\n",
    "    \"class_weight\": class_weight_options\n",
    "}\n",
    "rbf_params = {\n",
    "    \"kernel\": [\"rbf\"],\n",
    "    \"C\": [0.001, 0.01, 0.1, 1, 10, 100],\n",
    "    \"gamma\": [0.001, 0.01, 0.1, 1, 5, 10, 100],\n",
    "    \"class_weight\": class_weight_options\n",
    "}\n",
    "poly_params = {\n",
    "    \"kernel\": [\"poly\"],\n",
    "    \"C\": [0.001, 0.01, 0.1, 1, 10, 100],\n",
    "    \"gamma\": [0.001, 0.01, 0.1, 1, 5, 10, 100],\n",
    "    \"degree\": [2, 3, 4],\n",
    "    \"class_weight\": class_weight_options\n",
    "}"
   ]
  },
  {
   "cell_type": "code",
   "execution_count": 17,
   "metadata": {},
   "outputs": [
    {
     "name": "stdout",
     "output_type": "stream",
     "text": [
      "\n",
      "==============================\n",
      "Starting tests for max_iter = 250\n",
      "==============================\n",
      "\n"
     ]
    },
    {
     "name": "stderr",
     "output_type": "stream",
     "text": [
      "c:\\Users\\codyb\\.vscode\\Py\\COMP7970-Homework\\Lib\\site-packages\\sklearn\\svm\\_base.py:305: ConvergenceWarning: Solver terminated early (max_iter=250).  Consider pre-processing your data with StandardScaler or MinMaxScaler.\n",
      "  warnings.warn(\n"
     ]
    },
    {
     "name": "stdout",
     "output_type": "stream",
     "text": [
      "[Linear] max_iter: 250, C: 0.1, class_weight: balanced -> accuracy: 0.2865\n",
      "              precision    recall  f1-score   support\n",
      "\n",
      "          -1       0.89      0.21      0.34     44201\n",
      "           1       0.13      0.82      0.22      6199\n",
      "\n",
      "    accuracy                           0.29     50400\n",
      "   macro avg       0.51      0.51      0.28     50400\n",
      "weighted avg       0.80      0.29      0.33     50400\n",
      "\n"
     ]
    },
    {
     "name": "stderr",
     "output_type": "stream",
     "text": [
      "c:\\Users\\codyb\\.vscode\\Py\\COMP7970-Homework\\Lib\\site-packages\\sklearn\\svm\\_base.py:305: ConvergenceWarning: Solver terminated early (max_iter=250).  Consider pre-processing your data with StandardScaler or MinMaxScaler.\n",
      "  warnings.warn(\n"
     ]
    },
    {
     "name": "stdout",
     "output_type": "stream",
     "text": [
      "[Linear] max_iter: 250, C: 0.1, class_weight: {1: 3, -1: 1} -> accuracy: 0.2464\n",
      "              precision    recall  f1-score   support\n",
      "\n",
      "          -1       0.89      0.16      0.27     44201\n",
      "           1       0.13      0.87      0.22      6199\n",
      "\n",
      "    accuracy                           0.25     50400\n",
      "   macro avg       0.51      0.51      0.25     50400\n",
      "weighted avg       0.80      0.25      0.26     50400\n",
      "\n"
     ]
    },
    {
     "name": "stderr",
     "output_type": "stream",
     "text": [
      "c:\\Users\\codyb\\.vscode\\Py\\COMP7970-Homework\\Lib\\site-packages\\sklearn\\svm\\_base.py:305: ConvergenceWarning: Solver terminated early (max_iter=250).  Consider pre-processing your data with StandardScaler or MinMaxScaler.\n",
      "  warnings.warn(\n"
     ]
    },
    {
     "name": "stdout",
     "output_type": "stream",
     "text": [
      "[Linear] max_iter: 250, C: 0.1, class_weight: {1: 2, -1: 1} -> accuracy: 0.4095\n",
      "              precision    recall  f1-score   support\n",
      "\n",
      "          -1       0.87      0.38      0.53     44201\n",
      "           1       0.12      0.59      0.20      6199\n",
      "\n",
      "    accuracy                           0.41     50400\n",
      "   macro avg       0.49      0.49      0.37     50400\n",
      "weighted avg       0.78      0.41      0.49     50400\n",
      "\n"
     ]
    },
    {
     "name": "stderr",
     "output_type": "stream",
     "text": [
      "c:\\Users\\codyb\\.vscode\\Py\\COMP7970-Homework\\Lib\\site-packages\\sklearn\\svm\\_base.py:305: ConvergenceWarning: Solver terminated early (max_iter=250).  Consider pre-processing your data with StandardScaler or MinMaxScaler.\n",
      "  warnings.warn(\n"
     ]
    },
    {
     "name": "stdout",
     "output_type": "stream",
     "text": [
      "[Linear] max_iter: 250, C: 1, class_weight: balanced -> accuracy: 0.2421\n",
      "              precision    recall  f1-score   support\n",
      "\n",
      "          -1       0.90      0.15      0.26     44201\n",
      "           1       0.13      0.87      0.22      6199\n",
      "\n",
      "    accuracy                           0.24     50400\n",
      "   macro avg       0.51      0.51      0.24     50400\n",
      "weighted avg       0.80      0.24      0.26     50400\n",
      "\n"
     ]
    },
    {
     "name": "stderr",
     "output_type": "stream",
     "text": [
      "c:\\Users\\codyb\\.vscode\\Py\\COMP7970-Homework\\Lib\\site-packages\\sklearn\\svm\\_base.py:305: ConvergenceWarning: Solver terminated early (max_iter=250).  Consider pre-processing your data with StandardScaler or MinMaxScaler.\n",
      "  warnings.warn(\n"
     ]
    },
    {
     "name": "stdout",
     "output_type": "stream",
     "text": [
      "[Linear] max_iter: 250, C: 1, class_weight: {1: 3, -1: 1} -> accuracy: 0.4252\n",
      "              precision    recall  f1-score   support\n",
      "\n",
      "          -1       0.88      0.40      0.55     44201\n",
      "           1       0.13      0.63      0.21      6199\n",
      "\n",
      "    accuracy                           0.43     50400\n",
      "   macro avg       0.51      0.51      0.38     50400\n",
      "weighted avg       0.79      0.43      0.51     50400\n",
      "\n"
     ]
    },
    {
     "name": "stderr",
     "output_type": "stream",
     "text": [
      "c:\\Users\\codyb\\.vscode\\Py\\COMP7970-Homework\\Lib\\site-packages\\sklearn\\svm\\_base.py:305: ConvergenceWarning: Solver terminated early (max_iter=250).  Consider pre-processing your data with StandardScaler or MinMaxScaler.\n",
      "  warnings.warn(\n"
     ]
    },
    {
     "name": "stdout",
     "output_type": "stream",
     "text": [
      "[Linear] max_iter: 250, C: 1, class_weight: {1: 2, -1: 1} -> accuracy: 0.2788\n",
      "              precision    recall  f1-score   support\n",
      "\n",
      "          -1       0.88      0.21      0.33     44201\n",
      "           1       0.12      0.80      0.21      6199\n",
      "\n",
      "    accuracy                           0.28     50400\n",
      "   macro avg       0.50      0.50      0.27     50400\n",
      "weighted avg       0.79      0.28      0.32     50400\n",
      "\n"
     ]
    },
    {
     "name": "stderr",
     "output_type": "stream",
     "text": [
      "c:\\Users\\codyb\\.vscode\\Py\\COMP7970-Homework\\Lib\\site-packages\\sklearn\\svm\\_base.py:305: ConvergenceWarning: Solver terminated early (max_iter=250).  Consider pre-processing your data with StandardScaler or MinMaxScaler.\n",
      "  warnings.warn(\n"
     ]
    },
    {
     "name": "stdout",
     "output_type": "stream",
     "text": [
      "[Linear] max_iter: 250, C: 10, class_weight: balanced -> accuracy: 0.4336\n",
      "              precision    recall  f1-score   support\n",
      "\n",
      "          -1       0.88      0.41      0.56     44201\n",
      "           1       0.12      0.59      0.20      6199\n",
      "\n",
      "    accuracy                           0.43     50400\n",
      "   macro avg       0.50      0.50      0.38     50400\n",
      "weighted avg       0.78      0.43      0.52     50400\n",
      "\n"
     ]
    },
    {
     "name": "stderr",
     "output_type": "stream",
     "text": [
      "c:\\Users\\codyb\\.vscode\\Py\\COMP7970-Homework\\Lib\\site-packages\\sklearn\\svm\\_base.py:305: ConvergenceWarning: Solver terminated early (max_iter=250).  Consider pre-processing your data with StandardScaler or MinMaxScaler.\n",
      "  warnings.warn(\n"
     ]
    },
    {
     "name": "stdout",
     "output_type": "stream",
     "text": [
      "[Linear] max_iter: 250, C: 10, class_weight: {1: 3, -1: 1} -> accuracy: 0.5223\n",
      "              precision    recall  f1-score   support\n",
      "\n",
      "          -1       0.88      0.53      0.66     44201\n",
      "           1       0.12      0.47      0.20      6199\n",
      "\n",
      "    accuracy                           0.52     50400\n",
      "   macro avg       0.50      0.50      0.43     50400\n",
      "weighted avg       0.78      0.52      0.60     50400\n",
      "\n"
     ]
    },
    {
     "name": "stderr",
     "output_type": "stream",
     "text": [
      "c:\\Users\\codyb\\.vscode\\Py\\COMP7970-Homework\\Lib\\site-packages\\sklearn\\svm\\_base.py:305: ConvergenceWarning: Solver terminated early (max_iter=250).  Consider pre-processing your data with StandardScaler or MinMaxScaler.\n",
      "  warnings.warn(\n"
     ]
    },
    {
     "name": "stdout",
     "output_type": "stream",
     "text": [
      "[Linear] max_iter: 250, C: 10, class_weight: {1: 2, -1: 1} -> accuracy: 0.2788\n",
      "              precision    recall  f1-score   support\n",
      "\n",
      "          -1       0.88      0.21      0.33     44201\n",
      "           1       0.12      0.80      0.21      6199\n",
      "\n",
      "    accuracy                           0.28     50400\n",
      "   macro avg       0.50      0.50      0.27     50400\n",
      "weighted avg       0.79      0.28      0.32     50400\n",
      "\n"
     ]
    },
    {
     "name": "stderr",
     "output_type": "stream",
     "text": [
      "c:\\Users\\codyb\\.vscode\\Py\\COMP7970-Homework\\Lib\\site-packages\\sklearn\\svm\\_base.py:305: ConvergenceWarning: Solver terminated early (max_iter=250).  Consider pre-processing your data with StandardScaler or MinMaxScaler.\n",
      "  warnings.warn(\n"
     ]
    },
    {
     "name": "stdout",
     "output_type": "stream",
     "text": [
      "[Linear] max_iter: 250, C: 100, class_weight: balanced -> accuracy: 0.4336\n",
      "              precision    recall  f1-score   support\n",
      "\n",
      "          -1       0.88      0.41      0.56     44201\n",
      "           1       0.12      0.59      0.20      6199\n",
      "\n",
      "    accuracy                           0.43     50400\n",
      "   macro avg       0.50      0.50      0.38     50400\n",
      "weighted avg       0.78      0.43      0.52     50400\n",
      "\n"
     ]
    },
    {
     "name": "stderr",
     "output_type": "stream",
     "text": [
      "c:\\Users\\codyb\\.vscode\\Py\\COMP7970-Homework\\Lib\\site-packages\\sklearn\\svm\\_base.py:305: ConvergenceWarning: Solver terminated early (max_iter=250).  Consider pre-processing your data with StandardScaler or MinMaxScaler.\n",
      "  warnings.warn(\n"
     ]
    },
    {
     "name": "stdout",
     "output_type": "stream",
     "text": [
      "[Linear] max_iter: 250, C: 100, class_weight: {1: 3, -1: 1} -> accuracy: 0.5223\n",
      "              precision    recall  f1-score   support\n",
      "\n",
      "          -1       0.88      0.53      0.66     44201\n",
      "           1       0.12      0.47      0.20      6199\n",
      "\n",
      "    accuracy                           0.52     50400\n",
      "   macro avg       0.50      0.50      0.43     50400\n",
      "weighted avg       0.78      0.52      0.60     50400\n",
      "\n"
     ]
    },
    {
     "name": "stderr",
     "output_type": "stream",
     "text": [
      "c:\\Users\\codyb\\.vscode\\Py\\COMP7970-Homework\\Lib\\site-packages\\sklearn\\svm\\_base.py:305: ConvergenceWarning: Solver terminated early (max_iter=250).  Consider pre-processing your data with StandardScaler or MinMaxScaler.\n",
      "  warnings.warn(\n"
     ]
    },
    {
     "name": "stdout",
     "output_type": "stream",
     "text": [
      "[Linear] max_iter: 250, C: 100, class_weight: {1: 2, -1: 1} -> accuracy: 0.2788\n",
      "              precision    recall  f1-score   support\n",
      "\n",
      "          -1       0.88      0.21      0.33     44201\n",
      "           1       0.12      0.80      0.21      6199\n",
      "\n",
      "    accuracy                           0.28     50400\n",
      "   macro avg       0.50      0.50      0.27     50400\n",
      "weighted avg       0.79      0.28      0.32     50400\n",
      "\n",
      "Saved linear report to linear_report.csv\n",
      "\n"
     ]
    },
    {
     "name": "stderr",
     "output_type": "stream",
     "text": [
      "c:\\Users\\codyb\\.vscode\\Py\\COMP7970-Homework\\Lib\\site-packages\\sklearn\\svm\\_base.py:305: ConvergenceWarning: Solver terminated early (max_iter=250).  Consider pre-processing your data with StandardScaler or MinMaxScaler.\n",
      "  warnings.warn(\n"
     ]
    },
    {
     "name": "stdout",
     "output_type": "stream",
     "text": [
      "[RBF] max_iter: 250, C: 0.001, gamma: 0.001, class_weight: balanced -> accuracy: 0.1230\n",
      "              precision    recall  f1-score   support\n",
      "\n",
      "          -1       0.00      0.00      0.00     44201\n",
      "           1       0.12      1.00      0.22      6199\n",
      "\n",
      "    accuracy                           0.12     50400\n",
      "   macro avg       0.06      0.50      0.11     50400\n",
      "weighted avg       0.02      0.12      0.03     50400\n",
      "\n"
     ]
    },
    {
     "name": "stderr",
     "output_type": "stream",
     "text": [
      "c:\\Users\\codyb\\.vscode\\Py\\COMP7970-Homework\\Lib\\site-packages\\sklearn\\svm\\_base.py:305: ConvergenceWarning: Solver terminated early (max_iter=250).  Consider pre-processing your data with StandardScaler or MinMaxScaler.\n",
      "  warnings.warn(\n"
     ]
    },
    {
     "name": "stdout",
     "output_type": "stream",
     "text": [
      "[RBF] max_iter: 250, C: 0.001, gamma: 0.001, class_weight: {1: 3, -1: 1} -> accuracy: 0.1230\n",
      "              precision    recall  f1-score   support\n",
      "\n",
      "          -1       0.00      0.00      0.00     44201\n",
      "           1       0.12      1.00      0.22      6199\n",
      "\n",
      "    accuracy                           0.12     50400\n",
      "   macro avg       0.06      0.50      0.11     50400\n",
      "weighted avg       0.02      0.12      0.03     50400\n",
      "\n"
     ]
    },
    {
     "name": "stderr",
     "output_type": "stream",
     "text": [
      "c:\\Users\\codyb\\.vscode\\Py\\COMP7970-Homework\\Lib\\site-packages\\sklearn\\svm\\_base.py:305: ConvergenceWarning: Solver terminated early (max_iter=250).  Consider pre-processing your data with StandardScaler or MinMaxScaler.\n",
      "  warnings.warn(\n"
     ]
    },
    {
     "name": "stdout",
     "output_type": "stream",
     "text": [
      "[RBF] max_iter: 250, C: 0.001, gamma: 0.001, class_weight: {1: 2, -1: 1} -> accuracy: 0.1230\n",
      "              precision    recall  f1-score   support\n",
      "\n",
      "          -1       0.00      0.00      0.00     44201\n",
      "           1       0.12      1.00      0.22      6199\n",
      "\n",
      "    accuracy                           0.12     50400\n",
      "   macro avg       0.06      0.50      0.11     50400\n",
      "weighted avg       0.02      0.12      0.03     50400\n",
      "\n"
     ]
    },
    {
     "name": "stderr",
     "output_type": "stream",
     "text": [
      "c:\\Users\\codyb\\.vscode\\Py\\COMP7970-Homework\\Lib\\site-packages\\sklearn\\svm\\_base.py:305: ConvergenceWarning: Solver terminated early (max_iter=250).  Consider pre-processing your data with StandardScaler or MinMaxScaler.\n",
      "  warnings.warn(\n"
     ]
    },
    {
     "name": "stdout",
     "output_type": "stream",
     "text": [
      "[RBF] max_iter: 250, C: 0.001, gamma: 0.01, class_weight: balanced -> accuracy: 0.1230\n",
      "              precision    recall  f1-score   support\n",
      "\n",
      "          -1       0.00      0.00      0.00     44201\n",
      "           1       0.12      1.00      0.22      6199\n",
      "\n",
      "    accuracy                           0.12     50400\n",
      "   macro avg       0.06      0.50      0.11     50400\n",
      "weighted avg       0.02      0.12      0.03     50400\n",
      "\n"
     ]
    },
    {
     "name": "stderr",
     "output_type": "stream",
     "text": [
      "c:\\Users\\codyb\\.vscode\\Py\\COMP7970-Homework\\Lib\\site-packages\\sklearn\\svm\\_base.py:305: ConvergenceWarning: Solver terminated early (max_iter=250).  Consider pre-processing your data with StandardScaler or MinMaxScaler.\n",
      "  warnings.warn(\n"
     ]
    },
    {
     "name": "stdout",
     "output_type": "stream",
     "text": [
      "[RBF] max_iter: 250, C: 0.001, gamma: 0.01, class_weight: {1: 3, -1: 1} -> accuracy: 0.1230\n",
      "              precision    recall  f1-score   support\n",
      "\n",
      "          -1       0.00      0.00      0.00     44201\n",
      "           1       0.12      1.00      0.22      6199\n",
      "\n",
      "    accuracy                           0.12     50400\n",
      "   macro avg       0.06      0.50      0.11     50400\n",
      "weighted avg       0.02      0.12      0.03     50400\n",
      "\n"
     ]
    },
    {
     "name": "stderr",
     "output_type": "stream",
     "text": [
      "c:\\Users\\codyb\\.vscode\\Py\\COMP7970-Homework\\Lib\\site-packages\\sklearn\\svm\\_base.py:305: ConvergenceWarning: Solver terminated early (max_iter=250).  Consider pre-processing your data with StandardScaler or MinMaxScaler.\n",
      "  warnings.warn(\n"
     ]
    },
    {
     "name": "stdout",
     "output_type": "stream",
     "text": [
      "[RBF] max_iter: 250, C: 0.001, gamma: 0.01, class_weight: {1: 2, -1: 1} -> accuracy: 0.1230\n",
      "              precision    recall  f1-score   support\n",
      "\n",
      "          -1       0.00      0.00      0.00     44201\n",
      "           1       0.12      1.00      0.22      6199\n",
      "\n",
      "    accuracy                           0.12     50400\n",
      "   macro avg       0.06      0.50      0.11     50400\n",
      "weighted avg       0.02      0.12      0.03     50400\n",
      "\n"
     ]
    },
    {
     "name": "stderr",
     "output_type": "stream",
     "text": [
      "c:\\Users\\codyb\\.vscode\\Py\\COMP7970-Homework\\Lib\\site-packages\\sklearn\\svm\\_base.py:305: ConvergenceWarning: Solver terminated early (max_iter=250).  Consider pre-processing your data with StandardScaler or MinMaxScaler.\n",
      "  warnings.warn(\n"
     ]
    },
    {
     "name": "stdout",
     "output_type": "stream",
     "text": [
      "[RBF] max_iter: 250, C: 0.001, gamma: 0.1, class_weight: balanced -> accuracy: 0.1230\n",
      "              precision    recall  f1-score   support\n",
      "\n",
      "          -1       0.00      0.00      0.00     44201\n",
      "           1       0.12      1.00      0.22      6199\n",
      "\n",
      "    accuracy                           0.12     50400\n",
      "   macro avg       0.06      0.50      0.11     50400\n",
      "weighted avg       0.02      0.12      0.03     50400\n",
      "\n"
     ]
    },
    {
     "name": "stderr",
     "output_type": "stream",
     "text": [
      "c:\\Users\\codyb\\.vscode\\Py\\COMP7970-Homework\\Lib\\site-packages\\sklearn\\svm\\_base.py:305: ConvergenceWarning: Solver terminated early (max_iter=250).  Consider pre-processing your data with StandardScaler or MinMaxScaler.\n",
      "  warnings.warn(\n"
     ]
    },
    {
     "name": "stdout",
     "output_type": "stream",
     "text": [
      "[RBF] max_iter: 250, C: 0.001, gamma: 0.1, class_weight: {1: 3, -1: 1} -> accuracy: 0.1230\n",
      "              precision    recall  f1-score   support\n",
      "\n",
      "          -1       0.00      0.00      0.00     44201\n",
      "           1       0.12      1.00      0.22      6199\n",
      "\n",
      "    accuracy                           0.12     50400\n",
      "   macro avg       0.06      0.50      0.11     50400\n",
      "weighted avg       0.02      0.12      0.03     50400\n",
      "\n"
     ]
    },
    {
     "name": "stderr",
     "output_type": "stream",
     "text": [
      "c:\\Users\\codyb\\.vscode\\Py\\COMP7970-Homework\\Lib\\site-packages\\sklearn\\svm\\_base.py:305: ConvergenceWarning: Solver terminated early (max_iter=250).  Consider pre-processing your data with StandardScaler or MinMaxScaler.\n",
      "  warnings.warn(\n"
     ]
    },
    {
     "name": "stdout",
     "output_type": "stream",
     "text": [
      "[RBF] max_iter: 250, C: 0.001, gamma: 0.1, class_weight: {1: 2, -1: 1} -> accuracy: 0.1230\n",
      "              precision    recall  f1-score   support\n",
      "\n",
      "          -1       0.00      0.00      0.00     44201\n",
      "           1       0.12      1.00      0.22      6199\n",
      "\n",
      "    accuracy                           0.12     50400\n",
      "   macro avg       0.06      0.50      0.11     50400\n",
      "weighted avg       0.02      0.12      0.03     50400\n",
      "\n"
     ]
    },
    {
     "name": "stderr",
     "output_type": "stream",
     "text": [
      "c:\\Users\\codyb\\.vscode\\Py\\COMP7970-Homework\\Lib\\site-packages\\sklearn\\svm\\_base.py:305: ConvergenceWarning: Solver terminated early (max_iter=250).  Consider pre-processing your data with StandardScaler or MinMaxScaler.\n",
      "  warnings.warn(\n"
     ]
    },
    {
     "name": "stdout",
     "output_type": "stream",
     "text": [
      "[RBF] max_iter: 250, C: 0.001, gamma: 1, class_weight: balanced -> accuracy: 0.1230\n",
      "              precision    recall  f1-score   support\n",
      "\n",
      "          -1       0.00      0.00      0.00     44201\n",
      "           1       0.12      1.00      0.22      6199\n",
      "\n",
      "    accuracy                           0.12     50400\n",
      "   macro avg       0.06      0.50      0.11     50400\n",
      "weighted avg       0.02      0.12      0.03     50400\n",
      "\n"
     ]
    },
    {
     "name": "stderr",
     "output_type": "stream",
     "text": [
      "c:\\Users\\codyb\\.vscode\\Py\\COMP7970-Homework\\Lib\\site-packages\\sklearn\\svm\\_base.py:305: ConvergenceWarning: Solver terminated early (max_iter=250).  Consider pre-processing your data with StandardScaler or MinMaxScaler.\n",
      "  warnings.warn(\n"
     ]
    },
    {
     "name": "stdout",
     "output_type": "stream",
     "text": [
      "[RBF] max_iter: 250, C: 0.001, gamma: 1, class_weight: {1: 3, -1: 1} -> accuracy: 0.1230\n",
      "              precision    recall  f1-score   support\n",
      "\n",
      "          -1       0.00      0.00      0.00     44201\n",
      "           1       0.12      1.00      0.22      6199\n",
      "\n",
      "    accuracy                           0.12     50400\n",
      "   macro avg       0.06      0.50      0.11     50400\n",
      "weighted avg       0.02      0.12      0.03     50400\n",
      "\n"
     ]
    },
    {
     "name": "stderr",
     "output_type": "stream",
     "text": [
      "c:\\Users\\codyb\\.vscode\\Py\\COMP7970-Homework\\Lib\\site-packages\\sklearn\\svm\\_base.py:305: ConvergenceWarning: Solver terminated early (max_iter=250).  Consider pre-processing your data with StandardScaler or MinMaxScaler.\n",
      "  warnings.warn(\n"
     ]
    },
    {
     "name": "stdout",
     "output_type": "stream",
     "text": [
      "[RBF] max_iter: 250, C: 0.001, gamma: 1, class_weight: {1: 2, -1: 1} -> accuracy: 0.1230\n",
      "              precision    recall  f1-score   support\n",
      "\n",
      "          -1       0.00      0.00      0.00     44201\n",
      "           1       0.12      1.00      0.22      6199\n",
      "\n",
      "    accuracy                           0.12     50400\n",
      "   macro avg       0.06      0.50      0.11     50400\n",
      "weighted avg       0.02      0.12      0.03     50400\n",
      "\n"
     ]
    },
    {
     "name": "stderr",
     "output_type": "stream",
     "text": [
      "c:\\Users\\codyb\\.vscode\\Py\\COMP7970-Homework\\Lib\\site-packages\\sklearn\\svm\\_base.py:305: ConvergenceWarning: Solver terminated early (max_iter=250).  Consider pre-processing your data with StandardScaler or MinMaxScaler.\n",
      "  warnings.warn(\n"
     ]
    },
    {
     "name": "stdout",
     "output_type": "stream",
     "text": [
      "[RBF] max_iter: 250, C: 0.001, gamma: 5, class_weight: balanced -> accuracy: 0.1230\n",
      "              precision    recall  f1-score   support\n",
      "\n",
      "          -1       0.00      0.00      0.00     44201\n",
      "           1       0.12      1.00      0.22      6199\n",
      "\n",
      "    accuracy                           0.12     50400\n",
      "   macro avg       0.06      0.50      0.11     50400\n",
      "weighted avg       0.02      0.12      0.03     50400\n",
      "\n"
     ]
    },
    {
     "name": "stderr",
     "output_type": "stream",
     "text": [
      "c:\\Users\\codyb\\.vscode\\Py\\COMP7970-Homework\\Lib\\site-packages\\sklearn\\svm\\_base.py:305: ConvergenceWarning: Solver terminated early (max_iter=250).  Consider pre-processing your data with StandardScaler or MinMaxScaler.\n",
      "  warnings.warn(\n"
     ]
    },
    {
     "name": "stdout",
     "output_type": "stream",
     "text": [
      "[RBF] max_iter: 250, C: 0.001, gamma: 5, class_weight: {1: 3, -1: 1} -> accuracy: 0.1230\n",
      "              precision    recall  f1-score   support\n",
      "\n",
      "          -1       0.00      0.00      0.00     44201\n",
      "           1       0.12      1.00      0.22      6199\n",
      "\n",
      "    accuracy                           0.12     50400\n",
      "   macro avg       0.06      0.50      0.11     50400\n",
      "weighted avg       0.02      0.12      0.03     50400\n",
      "\n"
     ]
    },
    {
     "name": "stderr",
     "output_type": "stream",
     "text": [
      "c:\\Users\\codyb\\.vscode\\Py\\COMP7970-Homework\\Lib\\site-packages\\sklearn\\svm\\_base.py:305: ConvergenceWarning: Solver terminated early (max_iter=250).  Consider pre-processing your data with StandardScaler or MinMaxScaler.\n",
      "  warnings.warn(\n"
     ]
    },
    {
     "name": "stdout",
     "output_type": "stream",
     "text": [
      "[RBF] max_iter: 250, C: 0.001, gamma: 5, class_weight: {1: 2, -1: 1} -> accuracy: 0.1230\n",
      "              precision    recall  f1-score   support\n",
      "\n",
      "          -1       0.00      0.00      0.00     44201\n",
      "           1       0.12      1.00      0.22      6199\n",
      "\n",
      "    accuracy                           0.12     50400\n",
      "   macro avg       0.06      0.50      0.11     50400\n",
      "weighted avg       0.02      0.12      0.03     50400\n",
      "\n"
     ]
    },
    {
     "name": "stderr",
     "output_type": "stream",
     "text": [
      "c:\\Users\\codyb\\.vscode\\Py\\COMP7970-Homework\\Lib\\site-packages\\sklearn\\svm\\_base.py:305: ConvergenceWarning: Solver terminated early (max_iter=250).  Consider pre-processing your data with StandardScaler or MinMaxScaler.\n",
      "  warnings.warn(\n"
     ]
    },
    {
     "name": "stdout",
     "output_type": "stream",
     "text": [
      "[RBF] max_iter: 250, C: 0.001, gamma: 10, class_weight: balanced -> accuracy: 0.1230\n",
      "              precision    recall  f1-score   support\n",
      "\n",
      "          -1       0.00      0.00      0.00     44201\n",
      "           1       0.12      1.00      0.22      6199\n",
      "\n",
      "    accuracy                           0.12     50400\n",
      "   macro avg       0.06      0.50      0.11     50400\n",
      "weighted avg       0.02      0.12      0.03     50400\n",
      "\n"
     ]
    },
    {
     "name": "stderr",
     "output_type": "stream",
     "text": [
      "c:\\Users\\codyb\\.vscode\\Py\\COMP7970-Homework\\Lib\\site-packages\\sklearn\\svm\\_base.py:305: ConvergenceWarning: Solver terminated early (max_iter=250).  Consider pre-processing your data with StandardScaler or MinMaxScaler.\n",
      "  warnings.warn(\n"
     ]
    },
    {
     "name": "stdout",
     "output_type": "stream",
     "text": [
      "[RBF] max_iter: 250, C: 0.001, gamma: 10, class_weight: {1: 3, -1: 1} -> accuracy: 0.1230\n",
      "              precision    recall  f1-score   support\n",
      "\n",
      "          -1       0.00      0.00      0.00     44201\n",
      "           1       0.12      1.00      0.22      6199\n",
      "\n",
      "    accuracy                           0.12     50400\n",
      "   macro avg       0.06      0.50      0.11     50400\n",
      "weighted avg       0.02      0.12      0.03     50400\n",
      "\n"
     ]
    },
    {
     "name": "stderr",
     "output_type": "stream",
     "text": [
      "c:\\Users\\codyb\\.vscode\\Py\\COMP7970-Homework\\Lib\\site-packages\\sklearn\\svm\\_base.py:305: ConvergenceWarning: Solver terminated early (max_iter=250).  Consider pre-processing your data with StandardScaler or MinMaxScaler.\n",
      "  warnings.warn(\n"
     ]
    },
    {
     "name": "stdout",
     "output_type": "stream",
     "text": [
      "[RBF] max_iter: 250, C: 0.001, gamma: 10, class_weight: {1: 2, -1: 1} -> accuracy: 0.1230\n",
      "              precision    recall  f1-score   support\n",
      "\n",
      "          -1       0.00      0.00      0.00     44201\n",
      "           1       0.12      1.00      0.22      6199\n",
      "\n",
      "    accuracy                           0.12     50400\n",
      "   macro avg       0.06      0.50      0.11     50400\n",
      "weighted avg       0.02      0.12      0.03     50400\n",
      "\n"
     ]
    },
    {
     "name": "stderr",
     "output_type": "stream",
     "text": [
      "c:\\Users\\codyb\\.vscode\\Py\\COMP7970-Homework\\Lib\\site-packages\\sklearn\\svm\\_base.py:305: ConvergenceWarning: Solver terminated early (max_iter=250).  Consider pre-processing your data with StandardScaler or MinMaxScaler.\n",
      "  warnings.warn(\n"
     ]
    },
    {
     "name": "stdout",
     "output_type": "stream",
     "text": [
      "[RBF] max_iter: 250, C: 0.001, gamma: 100, class_weight: balanced -> accuracy: 0.1230\n",
      "              precision    recall  f1-score   support\n",
      "\n",
      "          -1       0.00      0.00      0.00     44201\n",
      "           1       0.12      1.00      0.22      6199\n",
      "\n",
      "    accuracy                           0.12     50400\n",
      "   macro avg       0.06      0.50      0.11     50400\n",
      "weighted avg       0.02      0.12      0.03     50400\n",
      "\n"
     ]
    },
    {
     "name": "stderr",
     "output_type": "stream",
     "text": [
      "c:\\Users\\codyb\\.vscode\\Py\\COMP7970-Homework\\Lib\\site-packages\\sklearn\\svm\\_base.py:305: ConvergenceWarning: Solver terminated early (max_iter=250).  Consider pre-processing your data with StandardScaler or MinMaxScaler.\n",
      "  warnings.warn(\n"
     ]
    },
    {
     "name": "stdout",
     "output_type": "stream",
     "text": [
      "[RBF] max_iter: 250, C: 0.001, gamma: 100, class_weight: {1: 3, -1: 1} -> accuracy: 0.1230\n",
      "              precision    recall  f1-score   support\n",
      "\n",
      "          -1       0.00      0.00      0.00     44201\n",
      "           1       0.12      1.00      0.22      6199\n",
      "\n",
      "    accuracy                           0.12     50400\n",
      "   macro avg       0.06      0.50      0.11     50400\n",
      "weighted avg       0.02      0.12      0.03     50400\n",
      "\n"
     ]
    },
    {
     "name": "stderr",
     "output_type": "stream",
     "text": [
      "c:\\Users\\codyb\\.vscode\\Py\\COMP7970-Homework\\Lib\\site-packages\\sklearn\\svm\\_base.py:305: ConvergenceWarning: Solver terminated early (max_iter=250).  Consider pre-processing your data with StandardScaler or MinMaxScaler.\n",
      "  warnings.warn(\n"
     ]
    },
    {
     "name": "stdout",
     "output_type": "stream",
     "text": [
      "[RBF] max_iter: 250, C: 0.001, gamma: 100, class_weight: {1: 2, -1: 1} -> accuracy: 0.1230\n",
      "              precision    recall  f1-score   support\n",
      "\n",
      "          -1       0.00      0.00      0.00     44201\n",
      "           1       0.12      1.00      0.22      6199\n",
      "\n",
      "    accuracy                           0.12     50400\n",
      "   macro avg       0.06      0.50      0.11     50400\n",
      "weighted avg       0.02      0.12      0.03     50400\n",
      "\n"
     ]
    },
    {
     "name": "stderr",
     "output_type": "stream",
     "text": [
      "c:\\Users\\codyb\\.vscode\\Py\\COMP7970-Homework\\Lib\\site-packages\\sklearn\\svm\\_base.py:305: ConvergenceWarning: Solver terminated early (max_iter=250).  Consider pre-processing your data with StandardScaler or MinMaxScaler.\n",
      "  warnings.warn(\n"
     ]
    },
    {
     "name": "stdout",
     "output_type": "stream",
     "text": [
      "[RBF] max_iter: 250, C: 0.01, gamma: 0.001, class_weight: balanced -> accuracy: 0.1230\n",
      "              precision    recall  f1-score   support\n",
      "\n",
      "          -1       0.00      0.00      0.00     44201\n",
      "           1       0.12      1.00      0.22      6199\n",
      "\n",
      "    accuracy                           0.12     50400\n",
      "   macro avg       0.06      0.50      0.11     50400\n",
      "weighted avg       0.02      0.12      0.03     50400\n",
      "\n"
     ]
    },
    {
     "name": "stderr",
     "output_type": "stream",
     "text": [
      "c:\\Users\\codyb\\.vscode\\Py\\COMP7970-Homework\\Lib\\site-packages\\sklearn\\svm\\_base.py:305: ConvergenceWarning: Solver terminated early (max_iter=250).  Consider pre-processing your data with StandardScaler or MinMaxScaler.\n",
      "  warnings.warn(\n"
     ]
    },
    {
     "name": "stdout",
     "output_type": "stream",
     "text": [
      "[RBF] max_iter: 250, C: 0.01, gamma: 0.001, class_weight: {1: 3, -1: 1} -> accuracy: 0.1230\n",
      "              precision    recall  f1-score   support\n",
      "\n",
      "          -1       0.00      0.00      0.00     44201\n",
      "           1       0.12      1.00      0.22      6199\n",
      "\n",
      "    accuracy                           0.12     50400\n",
      "   macro avg       0.06      0.50      0.11     50400\n",
      "weighted avg       0.02      0.12      0.03     50400\n",
      "\n"
     ]
    },
    {
     "name": "stderr",
     "output_type": "stream",
     "text": [
      "c:\\Users\\codyb\\.vscode\\Py\\COMP7970-Homework\\Lib\\site-packages\\sklearn\\svm\\_base.py:305: ConvergenceWarning: Solver terminated early (max_iter=250).  Consider pre-processing your data with StandardScaler or MinMaxScaler.\n",
      "  warnings.warn(\n"
     ]
    },
    {
     "name": "stdout",
     "output_type": "stream",
     "text": [
      "[RBF] max_iter: 250, C: 0.01, gamma: 0.001, class_weight: {1: 2, -1: 1} -> accuracy: 0.1230\n",
      "              precision    recall  f1-score   support\n",
      "\n",
      "          -1       0.00      0.00      0.00     44201\n",
      "           1       0.12      1.00      0.22      6199\n",
      "\n",
      "    accuracy                           0.12     50400\n",
      "   macro avg       0.06      0.50      0.11     50400\n",
      "weighted avg       0.02      0.12      0.03     50400\n",
      "\n"
     ]
    },
    {
     "name": "stderr",
     "output_type": "stream",
     "text": [
      "c:\\Users\\codyb\\.vscode\\Py\\COMP7970-Homework\\Lib\\site-packages\\sklearn\\svm\\_base.py:305: ConvergenceWarning: Solver terminated early (max_iter=250).  Consider pre-processing your data with StandardScaler or MinMaxScaler.\n",
      "  warnings.warn(\n"
     ]
    },
    {
     "name": "stdout",
     "output_type": "stream",
     "text": [
      "[RBF] max_iter: 250, C: 0.01, gamma: 0.01, class_weight: balanced -> accuracy: 0.1230\n",
      "              precision    recall  f1-score   support\n",
      "\n",
      "          -1       0.00      0.00      0.00     44201\n",
      "           1       0.12      1.00      0.22      6199\n",
      "\n",
      "    accuracy                           0.12     50400\n",
      "   macro avg       0.06      0.50      0.11     50400\n",
      "weighted avg       0.02      0.12      0.03     50400\n",
      "\n"
     ]
    },
    {
     "name": "stderr",
     "output_type": "stream",
     "text": [
      "c:\\Users\\codyb\\.vscode\\Py\\COMP7970-Homework\\Lib\\site-packages\\sklearn\\svm\\_base.py:305: ConvergenceWarning: Solver terminated early (max_iter=250).  Consider pre-processing your data with StandardScaler or MinMaxScaler.\n",
      "  warnings.warn(\n"
     ]
    },
    {
     "name": "stdout",
     "output_type": "stream",
     "text": [
      "[RBF] max_iter: 250, C: 0.01, gamma: 0.01, class_weight: {1: 3, -1: 1} -> accuracy: 0.8770\n",
      "              precision    recall  f1-score   support\n",
      "\n",
      "          -1       0.88      1.00      0.93     44201\n",
      "           1       0.00      0.00      0.00      6199\n",
      "\n",
      "    accuracy                           0.88     50400\n",
      "   macro avg       0.44      0.50      0.47     50400\n",
      "weighted avg       0.77      0.88      0.82     50400\n",
      "\n"
     ]
    },
    {
     "name": "stderr",
     "output_type": "stream",
     "text": [
      "c:\\Users\\codyb\\.vscode\\Py\\COMP7970-Homework\\Lib\\site-packages\\sklearn\\svm\\_base.py:305: ConvergenceWarning: Solver terminated early (max_iter=250).  Consider pre-processing your data with StandardScaler or MinMaxScaler.\n",
      "  warnings.warn(\n"
     ]
    },
    {
     "name": "stdout",
     "output_type": "stream",
     "text": [
      "[RBF] max_iter: 250, C: 0.01, gamma: 0.01, class_weight: {1: 2, -1: 1} -> accuracy: 0.1230\n",
      "              precision    recall  f1-score   support\n",
      "\n",
      "          -1       0.00      0.00      0.00     44201\n",
      "           1       0.12      1.00      0.22      6199\n",
      "\n",
      "    accuracy                           0.12     50400\n",
      "   macro avg       0.06      0.50      0.11     50400\n",
      "weighted avg       0.02      0.12      0.03     50400\n",
      "\n"
     ]
    },
    {
     "name": "stderr",
     "output_type": "stream",
     "text": [
      "c:\\Users\\codyb\\.vscode\\Py\\COMP7970-Homework\\Lib\\site-packages\\sklearn\\svm\\_base.py:305: ConvergenceWarning: Solver terminated early (max_iter=250).  Consider pre-processing your data with StandardScaler or MinMaxScaler.\n",
      "  warnings.warn(\n"
     ]
    },
    {
     "name": "stdout",
     "output_type": "stream",
     "text": [
      "[RBF] max_iter: 250, C: 0.01, gamma: 0.1, class_weight: balanced -> accuracy: 0.1230\n",
      "              precision    recall  f1-score   support\n",
      "\n",
      "          -1       0.00      0.00      0.00     44201\n",
      "           1       0.12      1.00      0.22      6199\n",
      "\n",
      "    accuracy                           0.12     50400\n",
      "   macro avg       0.06      0.50      0.11     50400\n",
      "weighted avg       0.02      0.12      0.03     50400\n",
      "\n"
     ]
    },
    {
     "name": "stderr",
     "output_type": "stream",
     "text": [
      "c:\\Users\\codyb\\.vscode\\Py\\COMP7970-Homework\\Lib\\site-packages\\sklearn\\svm\\_base.py:305: ConvergenceWarning: Solver terminated early (max_iter=250).  Consider pre-processing your data with StandardScaler or MinMaxScaler.\n",
      "  warnings.warn(\n"
     ]
    },
    {
     "name": "stdout",
     "output_type": "stream",
     "text": [
      "[RBF] max_iter: 250, C: 0.01, gamma: 0.1, class_weight: {1: 3, -1: 1} -> accuracy: 0.1230\n",
      "              precision    recall  f1-score   support\n",
      "\n",
      "          -1       0.00      0.00      0.00     44201\n",
      "           1       0.12      1.00      0.22      6199\n",
      "\n",
      "    accuracy                           0.12     50400\n",
      "   macro avg       0.06      0.50      0.11     50400\n",
      "weighted avg       0.02      0.12      0.03     50400\n",
      "\n"
     ]
    },
    {
     "name": "stderr",
     "output_type": "stream",
     "text": [
      "c:\\Users\\codyb\\.vscode\\Py\\COMP7970-Homework\\Lib\\site-packages\\sklearn\\svm\\_base.py:305: ConvergenceWarning: Solver terminated early (max_iter=250).  Consider pre-processing your data with StandardScaler or MinMaxScaler.\n",
      "  warnings.warn(\n"
     ]
    },
    {
     "name": "stdout",
     "output_type": "stream",
     "text": [
      "[RBF] max_iter: 250, C: 0.01, gamma: 0.1, class_weight: {1: 2, -1: 1} -> accuracy: 0.1230\n",
      "              precision    recall  f1-score   support\n",
      "\n",
      "          -1       0.00      0.00      0.00     44201\n",
      "           1       0.12      1.00      0.22      6199\n",
      "\n",
      "    accuracy                           0.12     50400\n",
      "   macro avg       0.06      0.50      0.11     50400\n",
      "weighted avg       0.02      0.12      0.03     50400\n",
      "\n"
     ]
    },
    {
     "name": "stderr",
     "output_type": "stream",
     "text": [
      "c:\\Users\\codyb\\.vscode\\Py\\COMP7970-Homework\\Lib\\site-packages\\sklearn\\svm\\_base.py:305: ConvergenceWarning: Solver terminated early (max_iter=250).  Consider pre-processing your data with StandardScaler or MinMaxScaler.\n",
      "  warnings.warn(\n"
     ]
    },
    {
     "name": "stdout",
     "output_type": "stream",
     "text": [
      "[RBF] max_iter: 250, C: 0.01, gamma: 1, class_weight: balanced -> accuracy: 0.1230\n",
      "              precision    recall  f1-score   support\n",
      "\n",
      "          -1       0.00      0.00      0.00     44201\n",
      "           1       0.12      1.00      0.22      6199\n",
      "\n",
      "    accuracy                           0.12     50400\n",
      "   macro avg       0.06      0.50      0.11     50400\n",
      "weighted avg       0.02      0.12      0.03     50400\n",
      "\n"
     ]
    },
    {
     "name": "stderr",
     "output_type": "stream",
     "text": [
      "c:\\Users\\codyb\\.vscode\\Py\\COMP7970-Homework\\Lib\\site-packages\\sklearn\\svm\\_base.py:305: ConvergenceWarning: Solver terminated early (max_iter=250).  Consider pre-processing your data with StandardScaler or MinMaxScaler.\n",
      "  warnings.warn(\n"
     ]
    },
    {
     "name": "stdout",
     "output_type": "stream",
     "text": [
      "[RBF] max_iter: 250, C: 0.01, gamma: 1, class_weight: {1: 3, -1: 1} -> accuracy: 0.1230\n",
      "              precision    recall  f1-score   support\n",
      "\n",
      "          -1       0.00      0.00      0.00     44201\n",
      "           1       0.12      1.00      0.22      6199\n",
      "\n",
      "    accuracy                           0.12     50400\n",
      "   macro avg       0.06      0.50      0.11     50400\n",
      "weighted avg       0.02      0.12      0.03     50400\n",
      "\n"
     ]
    },
    {
     "name": "stderr",
     "output_type": "stream",
     "text": [
      "c:\\Users\\codyb\\.vscode\\Py\\COMP7970-Homework\\Lib\\site-packages\\sklearn\\svm\\_base.py:305: ConvergenceWarning: Solver terminated early (max_iter=250).  Consider pre-processing your data with StandardScaler or MinMaxScaler.\n",
      "  warnings.warn(\n"
     ]
    },
    {
     "name": "stdout",
     "output_type": "stream",
     "text": [
      "[RBF] max_iter: 250, C: 0.01, gamma: 1, class_weight: {1: 2, -1: 1} -> accuracy: 0.1230\n",
      "              precision    recall  f1-score   support\n",
      "\n",
      "          -1       0.00      0.00      0.00     44201\n",
      "           1       0.12      1.00      0.22      6199\n",
      "\n",
      "    accuracy                           0.12     50400\n",
      "   macro avg       0.06      0.50      0.11     50400\n",
      "weighted avg       0.02      0.12      0.03     50400\n",
      "\n"
     ]
    },
    {
     "name": "stderr",
     "output_type": "stream",
     "text": [
      "c:\\Users\\codyb\\.vscode\\Py\\COMP7970-Homework\\Lib\\site-packages\\sklearn\\svm\\_base.py:305: ConvergenceWarning: Solver terminated early (max_iter=250).  Consider pre-processing your data with StandardScaler or MinMaxScaler.\n",
      "  warnings.warn(\n"
     ]
    },
    {
     "name": "stdout",
     "output_type": "stream",
     "text": [
      "[RBF] max_iter: 250, C: 0.01, gamma: 5, class_weight: balanced -> accuracy: 0.1230\n",
      "              precision    recall  f1-score   support\n",
      "\n",
      "          -1       0.00      0.00      0.00     44201\n",
      "           1       0.12      1.00      0.22      6199\n",
      "\n",
      "    accuracy                           0.12     50400\n",
      "   macro avg       0.06      0.50      0.11     50400\n",
      "weighted avg       0.02      0.12      0.03     50400\n",
      "\n"
     ]
    },
    {
     "name": "stderr",
     "output_type": "stream",
     "text": [
      "c:\\Users\\codyb\\.vscode\\Py\\COMP7970-Homework\\Lib\\site-packages\\sklearn\\svm\\_base.py:305: ConvergenceWarning: Solver terminated early (max_iter=250).  Consider pre-processing your data with StandardScaler or MinMaxScaler.\n",
      "  warnings.warn(\n"
     ]
    },
    {
     "name": "stdout",
     "output_type": "stream",
     "text": [
      "[RBF] max_iter: 250, C: 0.01, gamma: 5, class_weight: {1: 3, -1: 1} -> accuracy: 0.1230\n",
      "              precision    recall  f1-score   support\n",
      "\n",
      "          -1       0.00      0.00      0.00     44201\n",
      "           1       0.12      1.00      0.22      6199\n",
      "\n",
      "    accuracy                           0.12     50400\n",
      "   macro avg       0.06      0.50      0.11     50400\n",
      "weighted avg       0.02      0.12      0.03     50400\n",
      "\n"
     ]
    },
    {
     "name": "stderr",
     "output_type": "stream",
     "text": [
      "c:\\Users\\codyb\\.vscode\\Py\\COMP7970-Homework\\Lib\\site-packages\\sklearn\\svm\\_base.py:305: ConvergenceWarning: Solver terminated early (max_iter=250).  Consider pre-processing your data with StandardScaler or MinMaxScaler.\n",
      "  warnings.warn(\n"
     ]
    },
    {
     "name": "stdout",
     "output_type": "stream",
     "text": [
      "[RBF] max_iter: 250, C: 0.01, gamma: 5, class_weight: {1: 2, -1: 1} -> accuracy: 0.1230\n",
      "              precision    recall  f1-score   support\n",
      "\n",
      "          -1       0.00      0.00      0.00     44201\n",
      "           1       0.12      1.00      0.22      6199\n",
      "\n",
      "    accuracy                           0.12     50400\n",
      "   macro avg       0.06      0.50      0.11     50400\n",
      "weighted avg       0.02      0.12      0.03     50400\n",
      "\n"
     ]
    },
    {
     "name": "stderr",
     "output_type": "stream",
     "text": [
      "c:\\Users\\codyb\\.vscode\\Py\\COMP7970-Homework\\Lib\\site-packages\\sklearn\\svm\\_base.py:305: ConvergenceWarning: Solver terminated early (max_iter=250).  Consider pre-processing your data with StandardScaler or MinMaxScaler.\n",
      "  warnings.warn(\n"
     ]
    },
    {
     "name": "stdout",
     "output_type": "stream",
     "text": [
      "[RBF] max_iter: 250, C: 0.01, gamma: 10, class_weight: balanced -> accuracy: 0.1230\n",
      "              precision    recall  f1-score   support\n",
      "\n",
      "          -1       0.00      0.00      0.00     44201\n",
      "           1       0.12      1.00      0.22      6199\n",
      "\n",
      "    accuracy                           0.12     50400\n",
      "   macro avg       0.06      0.50      0.11     50400\n",
      "weighted avg       0.02      0.12      0.03     50400\n",
      "\n"
     ]
    },
    {
     "name": "stderr",
     "output_type": "stream",
     "text": [
      "c:\\Users\\codyb\\.vscode\\Py\\COMP7970-Homework\\Lib\\site-packages\\sklearn\\svm\\_base.py:305: ConvergenceWarning: Solver terminated early (max_iter=250).  Consider pre-processing your data with StandardScaler or MinMaxScaler.\n",
      "  warnings.warn(\n"
     ]
    },
    {
     "name": "stdout",
     "output_type": "stream",
     "text": [
      "[RBF] max_iter: 250, C: 0.01, gamma: 10, class_weight: {1: 3, -1: 1} -> accuracy: 0.1230\n",
      "              precision    recall  f1-score   support\n",
      "\n",
      "          -1       0.00      0.00      0.00     44201\n",
      "           1       0.12      1.00      0.22      6199\n",
      "\n",
      "    accuracy                           0.12     50400\n",
      "   macro avg       0.06      0.50      0.11     50400\n",
      "weighted avg       0.02      0.12      0.03     50400\n",
      "\n"
     ]
    },
    {
     "name": "stderr",
     "output_type": "stream",
     "text": [
      "c:\\Users\\codyb\\.vscode\\Py\\COMP7970-Homework\\Lib\\site-packages\\sklearn\\svm\\_base.py:305: ConvergenceWarning: Solver terminated early (max_iter=250).  Consider pre-processing your data with StandardScaler or MinMaxScaler.\n",
      "  warnings.warn(\n"
     ]
    },
    {
     "name": "stdout",
     "output_type": "stream",
     "text": [
      "[RBF] max_iter: 250, C: 0.01, gamma: 10, class_weight: {1: 2, -1: 1} -> accuracy: 0.1230\n",
      "              precision    recall  f1-score   support\n",
      "\n",
      "          -1       0.00      0.00      0.00     44201\n",
      "           1       0.12      1.00      0.22      6199\n",
      "\n",
      "    accuracy                           0.12     50400\n",
      "   macro avg       0.06      0.50      0.11     50400\n",
      "weighted avg       0.02      0.12      0.03     50400\n",
      "\n"
     ]
    },
    {
     "name": "stderr",
     "output_type": "stream",
     "text": [
      "c:\\Users\\codyb\\.vscode\\Py\\COMP7970-Homework\\Lib\\site-packages\\sklearn\\svm\\_base.py:305: ConvergenceWarning: Solver terminated early (max_iter=250).  Consider pre-processing your data with StandardScaler or MinMaxScaler.\n",
      "  warnings.warn(\n"
     ]
    },
    {
     "name": "stdout",
     "output_type": "stream",
     "text": [
      "[RBF] max_iter: 250, C: 0.01, gamma: 100, class_weight: balanced -> accuracy: 0.1230\n",
      "              precision    recall  f1-score   support\n",
      "\n",
      "          -1       0.00      0.00      0.00     44201\n",
      "           1       0.12      1.00      0.22      6199\n",
      "\n",
      "    accuracy                           0.12     50400\n",
      "   macro avg       0.06      0.50      0.11     50400\n",
      "weighted avg       0.02      0.12      0.03     50400\n",
      "\n"
     ]
    },
    {
     "name": "stderr",
     "output_type": "stream",
     "text": [
      "c:\\Users\\codyb\\.vscode\\Py\\COMP7970-Homework\\Lib\\site-packages\\sklearn\\svm\\_base.py:305: ConvergenceWarning: Solver terminated early (max_iter=250).  Consider pre-processing your data with StandardScaler or MinMaxScaler.\n",
      "  warnings.warn(\n"
     ]
    },
    {
     "name": "stdout",
     "output_type": "stream",
     "text": [
      "[RBF] max_iter: 250, C: 0.01, gamma: 100, class_weight: {1: 3, -1: 1} -> accuracy: 0.1230\n",
      "              precision    recall  f1-score   support\n",
      "\n",
      "          -1       0.00      0.00      0.00     44201\n",
      "           1       0.12      1.00      0.22      6199\n",
      "\n",
      "    accuracy                           0.12     50400\n",
      "   macro avg       0.06      0.50      0.11     50400\n",
      "weighted avg       0.02      0.12      0.03     50400\n",
      "\n"
     ]
    },
    {
     "name": "stderr",
     "output_type": "stream",
     "text": [
      "c:\\Users\\codyb\\.vscode\\Py\\COMP7970-Homework\\Lib\\site-packages\\sklearn\\svm\\_base.py:305: ConvergenceWarning: Solver terminated early (max_iter=250).  Consider pre-processing your data with StandardScaler or MinMaxScaler.\n",
      "  warnings.warn(\n"
     ]
    },
    {
     "name": "stdout",
     "output_type": "stream",
     "text": [
      "[RBF] max_iter: 250, C: 0.01, gamma: 100, class_weight: {1: 2, -1: 1} -> accuracy: 0.1230\n",
      "              precision    recall  f1-score   support\n",
      "\n",
      "          -1       0.00      0.00      0.00     44201\n",
      "           1       0.12      1.00      0.22      6199\n",
      "\n",
      "    accuracy                           0.12     50400\n",
      "   macro avg       0.06      0.50      0.11     50400\n",
      "weighted avg       0.02      0.12      0.03     50400\n",
      "\n"
     ]
    },
    {
     "name": "stderr",
     "output_type": "stream",
     "text": [
      "c:\\Users\\codyb\\.vscode\\Py\\COMP7970-Homework\\Lib\\site-packages\\sklearn\\svm\\_base.py:305: ConvergenceWarning: Solver terminated early (max_iter=250).  Consider pre-processing your data with StandardScaler or MinMaxScaler.\n",
      "  warnings.warn(\n"
     ]
    },
    {
     "name": "stdout",
     "output_type": "stream",
     "text": [
      "[RBF] max_iter: 250, C: 0.1, gamma: 0.001, class_weight: balanced -> accuracy: 0.1230\n",
      "              precision    recall  f1-score   support\n",
      "\n",
      "          -1       0.00      0.00      0.00     44201\n",
      "           1       0.12      1.00      0.22      6199\n",
      "\n",
      "    accuracy                           0.12     50400\n",
      "   macro avg       0.06      0.50      0.11     50400\n",
      "weighted avg       0.02      0.12      0.03     50400\n",
      "\n"
     ]
    },
    {
     "name": "stderr",
     "output_type": "stream",
     "text": [
      "c:\\Users\\codyb\\.vscode\\Py\\COMP7970-Homework\\Lib\\site-packages\\sklearn\\svm\\_base.py:305: ConvergenceWarning: Solver terminated early (max_iter=250).  Consider pre-processing your data with StandardScaler or MinMaxScaler.\n",
      "  warnings.warn(\n"
     ]
    },
    {
     "name": "stdout",
     "output_type": "stream",
     "text": [
      "[RBF] max_iter: 250, C: 0.1, gamma: 0.001, class_weight: {1: 3, -1: 1} -> accuracy: 0.1230\n",
      "              precision    recall  f1-score   support\n",
      "\n",
      "          -1       0.00      0.00      0.00     44201\n",
      "           1       0.12      1.00      0.22      6199\n",
      "\n",
      "    accuracy                           0.12     50400\n",
      "   macro avg       0.06      0.50      0.11     50400\n",
      "weighted avg       0.02      0.12      0.03     50400\n",
      "\n"
     ]
    },
    {
     "name": "stderr",
     "output_type": "stream",
     "text": [
      "c:\\Users\\codyb\\.vscode\\Py\\COMP7970-Homework\\Lib\\site-packages\\sklearn\\svm\\_base.py:305: ConvergenceWarning: Solver terminated early (max_iter=250).  Consider pre-processing your data with StandardScaler or MinMaxScaler.\n",
      "  warnings.warn(\n"
     ]
    },
    {
     "name": "stdout",
     "output_type": "stream",
     "text": [
      "[RBF] max_iter: 250, C: 0.1, gamma: 0.001, class_weight: {1: 2, -1: 1} -> accuracy: 0.1230\n",
      "              precision    recall  f1-score   support\n",
      "\n",
      "          -1       0.00      0.00      0.00     44201\n",
      "           1       0.12      1.00      0.22      6199\n",
      "\n",
      "    accuracy                           0.12     50400\n",
      "   macro avg       0.06      0.50      0.11     50400\n",
      "weighted avg       0.02      0.12      0.03     50400\n",
      "\n"
     ]
    },
    {
     "name": "stderr",
     "output_type": "stream",
     "text": [
      "c:\\Users\\codyb\\.vscode\\Py\\COMP7970-Homework\\Lib\\site-packages\\sklearn\\svm\\_base.py:305: ConvergenceWarning: Solver terminated early (max_iter=250).  Consider pre-processing your data with StandardScaler or MinMaxScaler.\n",
      "  warnings.warn(\n"
     ]
    },
    {
     "name": "stdout",
     "output_type": "stream",
     "text": [
      "[RBF] max_iter: 250, C: 0.1, gamma: 0.01, class_weight: balanced -> accuracy: 0.1230\n",
      "              precision    recall  f1-score   support\n",
      "\n",
      "          -1       0.00      0.00      0.00     44201\n",
      "           1       0.12      1.00      0.22      6199\n",
      "\n",
      "    accuracy                           0.12     50400\n",
      "   macro avg       0.06      0.50      0.11     50400\n",
      "weighted avg       0.02      0.12      0.03     50400\n",
      "\n"
     ]
    },
    {
     "name": "stderr",
     "output_type": "stream",
     "text": [
      "c:\\Users\\codyb\\.vscode\\Py\\COMP7970-Homework\\Lib\\site-packages\\sklearn\\svm\\_base.py:305: ConvergenceWarning: Solver terminated early (max_iter=250).  Consider pre-processing your data with StandardScaler or MinMaxScaler.\n",
      "  warnings.warn(\n"
     ]
    },
    {
     "name": "stdout",
     "output_type": "stream",
     "text": [
      "[RBF] max_iter: 250, C: 0.1, gamma: 0.01, class_weight: {1: 3, -1: 1} -> accuracy: 0.1230\n",
      "              precision    recall  f1-score   support\n",
      "\n",
      "          -1       0.00      0.00      0.00     44201\n",
      "           1       0.12      1.00      0.22      6199\n",
      "\n",
      "    accuracy                           0.12     50400\n",
      "   macro avg       0.06      0.50      0.11     50400\n",
      "weighted avg       0.02      0.12      0.03     50400\n",
      "\n"
     ]
    },
    {
     "name": "stderr",
     "output_type": "stream",
     "text": [
      "c:\\Users\\codyb\\.vscode\\Py\\COMP7970-Homework\\Lib\\site-packages\\sklearn\\svm\\_base.py:305: ConvergenceWarning: Solver terminated early (max_iter=250).  Consider pre-processing your data with StandardScaler or MinMaxScaler.\n",
      "  warnings.warn(\n"
     ]
    },
    {
     "name": "stdout",
     "output_type": "stream",
     "text": [
      "[RBF] max_iter: 250, C: 0.1, gamma: 0.01, class_weight: {1: 2, -1: 1} -> accuracy: 0.1230\n",
      "              precision    recall  f1-score   support\n",
      "\n",
      "          -1       0.00      0.00      0.00     44201\n",
      "           1       0.12      1.00      0.22      6199\n",
      "\n",
      "    accuracy                           0.12     50400\n",
      "   macro avg       0.06      0.50      0.11     50400\n",
      "weighted avg       0.02      0.12      0.03     50400\n",
      "\n"
     ]
    },
    {
     "name": "stderr",
     "output_type": "stream",
     "text": [
      "c:\\Users\\codyb\\.vscode\\Py\\COMP7970-Homework\\Lib\\site-packages\\sklearn\\svm\\_base.py:305: ConvergenceWarning: Solver terminated early (max_iter=250).  Consider pre-processing your data with StandardScaler or MinMaxScaler.\n",
      "  warnings.warn(\n"
     ]
    },
    {
     "name": "stdout",
     "output_type": "stream",
     "text": [
      "[RBF] max_iter: 250, C: 0.1, gamma: 0.1, class_weight: balanced -> accuracy: 0.1230\n",
      "              precision    recall  f1-score   support\n",
      "\n",
      "          -1       0.00      0.00      0.00     44201\n",
      "           1       0.12      1.00      0.22      6199\n",
      "\n",
      "    accuracy                           0.12     50400\n",
      "   macro avg       0.06      0.50      0.11     50400\n",
      "weighted avg       0.02      0.12      0.03     50400\n",
      "\n"
     ]
    },
    {
     "name": "stderr",
     "output_type": "stream",
     "text": [
      "c:\\Users\\codyb\\.vscode\\Py\\COMP7970-Homework\\Lib\\site-packages\\sklearn\\svm\\_base.py:305: ConvergenceWarning: Solver terminated early (max_iter=250).  Consider pre-processing your data with StandardScaler or MinMaxScaler.\n",
      "  warnings.warn(\n"
     ]
    },
    {
     "name": "stdout",
     "output_type": "stream",
     "text": [
      "[RBF] max_iter: 250, C: 0.1, gamma: 0.1, class_weight: {1: 3, -1: 1} -> accuracy: 0.1230\n",
      "              precision    recall  f1-score   support\n",
      "\n",
      "          -1       0.00      0.00      0.00     44201\n",
      "           1       0.12      1.00      0.22      6199\n",
      "\n",
      "    accuracy                           0.12     50400\n",
      "   macro avg       0.06      0.50      0.11     50400\n",
      "weighted avg       0.02      0.12      0.03     50400\n",
      "\n"
     ]
    },
    {
     "name": "stderr",
     "output_type": "stream",
     "text": [
      "c:\\Users\\codyb\\.vscode\\Py\\COMP7970-Homework\\Lib\\site-packages\\sklearn\\svm\\_base.py:305: ConvergenceWarning: Solver terminated early (max_iter=250).  Consider pre-processing your data with StandardScaler or MinMaxScaler.\n",
      "  warnings.warn(\n"
     ]
    },
    {
     "name": "stdout",
     "output_type": "stream",
     "text": [
      "[RBF] max_iter: 250, C: 0.1, gamma: 0.1, class_weight: {1: 2, -1: 1} -> accuracy: 0.1230\n",
      "              precision    recall  f1-score   support\n",
      "\n",
      "          -1       0.00      0.00      0.00     44201\n",
      "           1       0.12      1.00      0.22      6199\n",
      "\n",
      "    accuracy                           0.12     50400\n",
      "   macro avg       0.06      0.50      0.11     50400\n",
      "weighted avg       0.02      0.12      0.03     50400\n",
      "\n"
     ]
    },
    {
     "name": "stderr",
     "output_type": "stream",
     "text": [
      "c:\\Users\\codyb\\.vscode\\Py\\COMP7970-Homework\\Lib\\site-packages\\sklearn\\svm\\_base.py:305: ConvergenceWarning: Solver terminated early (max_iter=250).  Consider pre-processing your data with StandardScaler or MinMaxScaler.\n",
      "  warnings.warn(\n"
     ]
    },
    {
     "name": "stdout",
     "output_type": "stream",
     "text": [
      "[RBF] max_iter: 250, C: 0.1, gamma: 1, class_weight: balanced -> accuracy: 0.1230\n",
      "              precision    recall  f1-score   support\n",
      "\n",
      "          -1       0.00      0.00      0.00     44201\n",
      "           1       0.12      1.00      0.22      6199\n",
      "\n",
      "    accuracy                           0.12     50400\n",
      "   macro avg       0.06      0.50      0.11     50400\n",
      "weighted avg       0.02      0.12      0.03     50400\n",
      "\n"
     ]
    },
    {
     "name": "stderr",
     "output_type": "stream",
     "text": [
      "c:\\Users\\codyb\\.vscode\\Py\\COMP7970-Homework\\Lib\\site-packages\\sklearn\\svm\\_base.py:305: ConvergenceWarning: Solver terminated early (max_iter=250).  Consider pre-processing your data with StandardScaler or MinMaxScaler.\n",
      "  warnings.warn(\n"
     ]
    },
    {
     "name": "stdout",
     "output_type": "stream",
     "text": [
      "[RBF] max_iter: 250, C: 0.1, gamma: 1, class_weight: {1: 3, -1: 1} -> accuracy: 0.1230\n",
      "              precision    recall  f1-score   support\n",
      "\n",
      "          -1       0.00      0.00      0.00     44201\n",
      "           1       0.12      1.00      0.22      6199\n",
      "\n",
      "    accuracy                           0.12     50400\n",
      "   macro avg       0.06      0.50      0.11     50400\n",
      "weighted avg       0.02      0.12      0.03     50400\n",
      "\n"
     ]
    },
    {
     "name": "stderr",
     "output_type": "stream",
     "text": [
      "c:\\Users\\codyb\\.vscode\\Py\\COMP7970-Homework\\Lib\\site-packages\\sklearn\\svm\\_base.py:305: ConvergenceWarning: Solver terminated early (max_iter=250).  Consider pre-processing your data with StandardScaler or MinMaxScaler.\n",
      "  warnings.warn(\n"
     ]
    },
    {
     "name": "stdout",
     "output_type": "stream",
     "text": [
      "[RBF] max_iter: 250, C: 0.1, gamma: 1, class_weight: {1: 2, -1: 1} -> accuracy: 0.1230\n",
      "              precision    recall  f1-score   support\n",
      "\n",
      "          -1       0.00      0.00      0.00     44201\n",
      "           1       0.12      1.00      0.22      6199\n",
      "\n",
      "    accuracy                           0.12     50400\n",
      "   macro avg       0.06      0.50      0.11     50400\n",
      "weighted avg       0.02      0.12      0.03     50400\n",
      "\n"
     ]
    },
    {
     "name": "stderr",
     "output_type": "stream",
     "text": [
      "c:\\Users\\codyb\\.vscode\\Py\\COMP7970-Homework\\Lib\\site-packages\\sklearn\\svm\\_base.py:305: ConvergenceWarning: Solver terminated early (max_iter=250).  Consider pre-processing your data with StandardScaler or MinMaxScaler.\n",
      "  warnings.warn(\n"
     ]
    },
    {
     "name": "stdout",
     "output_type": "stream",
     "text": [
      "[RBF] max_iter: 250, C: 0.1, gamma: 5, class_weight: balanced -> accuracy: 0.1230\n",
      "              precision    recall  f1-score   support\n",
      "\n",
      "          -1       0.00      0.00      0.00     44201\n",
      "           1       0.12      1.00      0.22      6199\n",
      "\n",
      "    accuracy                           0.12     50400\n",
      "   macro avg       0.06      0.50      0.11     50400\n",
      "weighted avg       0.02      0.12      0.03     50400\n",
      "\n"
     ]
    },
    {
     "name": "stderr",
     "output_type": "stream",
     "text": [
      "c:\\Users\\codyb\\.vscode\\Py\\COMP7970-Homework\\Lib\\site-packages\\sklearn\\svm\\_base.py:305: ConvergenceWarning: Solver terminated early (max_iter=250).  Consider pre-processing your data with StandardScaler or MinMaxScaler.\n",
      "  warnings.warn(\n"
     ]
    },
    {
     "name": "stdout",
     "output_type": "stream",
     "text": [
      "[RBF] max_iter: 250, C: 0.1, gamma: 5, class_weight: {1: 3, -1: 1} -> accuracy: 0.1230\n",
      "              precision    recall  f1-score   support\n",
      "\n",
      "          -1       0.00      0.00      0.00     44201\n",
      "           1       0.12      1.00      0.22      6199\n",
      "\n",
      "    accuracy                           0.12     50400\n",
      "   macro avg       0.06      0.50      0.11     50400\n",
      "weighted avg       0.02      0.12      0.03     50400\n",
      "\n"
     ]
    },
    {
     "name": "stderr",
     "output_type": "stream",
     "text": [
      "c:\\Users\\codyb\\.vscode\\Py\\COMP7970-Homework\\Lib\\site-packages\\sklearn\\svm\\_base.py:305: ConvergenceWarning: Solver terminated early (max_iter=250).  Consider pre-processing your data with StandardScaler or MinMaxScaler.\n",
      "  warnings.warn(\n"
     ]
    },
    {
     "name": "stdout",
     "output_type": "stream",
     "text": [
      "[RBF] max_iter: 250, C: 0.1, gamma: 5, class_weight: {1: 2, -1: 1} -> accuracy: 0.1230\n",
      "              precision    recall  f1-score   support\n",
      "\n",
      "          -1       0.00      0.00      0.00     44201\n",
      "           1       0.12      1.00      0.22      6199\n",
      "\n",
      "    accuracy                           0.12     50400\n",
      "   macro avg       0.06      0.50      0.11     50400\n",
      "weighted avg       0.02      0.12      0.03     50400\n",
      "\n"
     ]
    },
    {
     "name": "stderr",
     "output_type": "stream",
     "text": [
      "c:\\Users\\codyb\\.vscode\\Py\\COMP7970-Homework\\Lib\\site-packages\\sklearn\\svm\\_base.py:305: ConvergenceWarning: Solver terminated early (max_iter=250).  Consider pre-processing your data with StandardScaler or MinMaxScaler.\n",
      "  warnings.warn(\n"
     ]
    },
    {
     "name": "stdout",
     "output_type": "stream",
     "text": [
      "[RBF] max_iter: 250, C: 0.1, gamma: 10, class_weight: balanced -> accuracy: 0.1230\n",
      "              precision    recall  f1-score   support\n",
      "\n",
      "          -1       0.00      0.00      0.00     44201\n",
      "           1       0.12      1.00      0.22      6199\n",
      "\n",
      "    accuracy                           0.12     50400\n",
      "   macro avg       0.06      0.50      0.11     50400\n",
      "weighted avg       0.02      0.12      0.03     50400\n",
      "\n"
     ]
    },
    {
     "name": "stderr",
     "output_type": "stream",
     "text": [
      "c:\\Users\\codyb\\.vscode\\Py\\COMP7970-Homework\\Lib\\site-packages\\sklearn\\svm\\_base.py:305: ConvergenceWarning: Solver terminated early (max_iter=250).  Consider pre-processing your data with StandardScaler or MinMaxScaler.\n",
      "  warnings.warn(\n"
     ]
    },
    {
     "name": "stdout",
     "output_type": "stream",
     "text": [
      "[RBF] max_iter: 250, C: 0.1, gamma: 10, class_weight: {1: 3, -1: 1} -> accuracy: 0.1230\n",
      "              precision    recall  f1-score   support\n",
      "\n",
      "          -1       0.00      0.00      0.00     44201\n",
      "           1       0.12      1.00      0.22      6199\n",
      "\n",
      "    accuracy                           0.12     50400\n",
      "   macro avg       0.06      0.50      0.11     50400\n",
      "weighted avg       0.02      0.12      0.03     50400\n",
      "\n"
     ]
    },
    {
     "name": "stderr",
     "output_type": "stream",
     "text": [
      "c:\\Users\\codyb\\.vscode\\Py\\COMP7970-Homework\\Lib\\site-packages\\sklearn\\svm\\_base.py:305: ConvergenceWarning: Solver terminated early (max_iter=250).  Consider pre-processing your data with StandardScaler or MinMaxScaler.\n",
      "  warnings.warn(\n"
     ]
    },
    {
     "name": "stdout",
     "output_type": "stream",
     "text": [
      "[RBF] max_iter: 250, C: 0.1, gamma: 10, class_weight: {1: 2, -1: 1} -> accuracy: 0.1230\n",
      "              precision    recall  f1-score   support\n",
      "\n",
      "          -1       0.00      0.00      0.00     44201\n",
      "           1       0.12      1.00      0.22      6199\n",
      "\n",
      "    accuracy                           0.12     50400\n",
      "   macro avg       0.06      0.50      0.11     50400\n",
      "weighted avg       0.02      0.12      0.03     50400\n",
      "\n"
     ]
    },
    {
     "name": "stderr",
     "output_type": "stream",
     "text": [
      "c:\\Users\\codyb\\.vscode\\Py\\COMP7970-Homework\\Lib\\site-packages\\sklearn\\svm\\_base.py:305: ConvergenceWarning: Solver terminated early (max_iter=250).  Consider pre-processing your data with StandardScaler or MinMaxScaler.\n",
      "  warnings.warn(\n"
     ]
    },
    {
     "name": "stdout",
     "output_type": "stream",
     "text": [
      "[RBF] max_iter: 250, C: 0.1, gamma: 100, class_weight: balanced -> accuracy: 0.1230\n",
      "              precision    recall  f1-score   support\n",
      "\n",
      "          -1       0.00      0.00      0.00     44201\n",
      "           1       0.12      1.00      0.22      6199\n",
      "\n",
      "    accuracy                           0.12     50400\n",
      "   macro avg       0.06      0.50      0.11     50400\n",
      "weighted avg       0.02      0.12      0.03     50400\n",
      "\n"
     ]
    },
    {
     "name": "stderr",
     "output_type": "stream",
     "text": [
      "c:\\Users\\codyb\\.vscode\\Py\\COMP7970-Homework\\Lib\\site-packages\\sklearn\\svm\\_base.py:305: ConvergenceWarning: Solver terminated early (max_iter=250).  Consider pre-processing your data with StandardScaler or MinMaxScaler.\n",
      "  warnings.warn(\n"
     ]
    },
    {
     "name": "stdout",
     "output_type": "stream",
     "text": [
      "[RBF] max_iter: 250, C: 0.1, gamma: 100, class_weight: {1: 3, -1: 1} -> accuracy: 0.1230\n",
      "              precision    recall  f1-score   support\n",
      "\n",
      "          -1       0.00      0.00      0.00     44201\n",
      "           1       0.12      1.00      0.22      6199\n",
      "\n",
      "    accuracy                           0.12     50400\n",
      "   macro avg       0.06      0.50      0.11     50400\n",
      "weighted avg       0.02      0.12      0.03     50400\n",
      "\n"
     ]
    },
    {
     "name": "stderr",
     "output_type": "stream",
     "text": [
      "c:\\Users\\codyb\\.vscode\\Py\\COMP7970-Homework\\Lib\\site-packages\\sklearn\\svm\\_base.py:305: ConvergenceWarning: Solver terminated early (max_iter=250).  Consider pre-processing your data with StandardScaler or MinMaxScaler.\n",
      "  warnings.warn(\n"
     ]
    },
    {
     "name": "stdout",
     "output_type": "stream",
     "text": [
      "[RBF] max_iter: 250, C: 0.1, gamma: 100, class_weight: {1: 2, -1: 1} -> accuracy: 0.1230\n",
      "              precision    recall  f1-score   support\n",
      "\n",
      "          -1       0.00      0.00      0.00     44201\n",
      "           1       0.12      1.00      0.22      6199\n",
      "\n",
      "    accuracy                           0.12     50400\n",
      "   macro avg       0.06      0.50      0.11     50400\n",
      "weighted avg       0.02      0.12      0.03     50400\n",
      "\n"
     ]
    },
    {
     "name": "stderr",
     "output_type": "stream",
     "text": [
      "c:\\Users\\codyb\\.vscode\\Py\\COMP7970-Homework\\Lib\\site-packages\\sklearn\\svm\\_base.py:305: ConvergenceWarning: Solver terminated early (max_iter=250).  Consider pre-processing your data with StandardScaler or MinMaxScaler.\n",
      "  warnings.warn(\n"
     ]
    },
    {
     "name": "stdout",
     "output_type": "stream",
     "text": [
      "[RBF] max_iter: 250, C: 1, gamma: 0.001, class_weight: balanced -> accuracy: 0.1230\n",
      "              precision    recall  f1-score   support\n",
      "\n",
      "          -1       0.00      0.00      0.00     44201\n",
      "           1       0.12      1.00      0.22      6199\n",
      "\n",
      "    accuracy                           0.12     50400\n",
      "   macro avg       0.06      0.50      0.11     50400\n",
      "weighted avg       0.02      0.12      0.03     50400\n",
      "\n"
     ]
    },
    {
     "name": "stderr",
     "output_type": "stream",
     "text": [
      "c:\\Users\\codyb\\.vscode\\Py\\COMP7970-Homework\\Lib\\site-packages\\sklearn\\svm\\_base.py:305: ConvergenceWarning: Solver terminated early (max_iter=250).  Consider pre-processing your data with StandardScaler or MinMaxScaler.\n",
      "  warnings.warn(\n"
     ]
    },
    {
     "name": "stdout",
     "output_type": "stream",
     "text": [
      "[RBF] max_iter: 250, C: 1, gamma: 0.001, class_weight: {1: 3, -1: 1} -> accuracy: 0.1230\n",
      "              precision    recall  f1-score   support\n",
      "\n",
      "          -1       0.00      0.00      0.00     44201\n",
      "           1       0.12      1.00      0.22      6199\n",
      "\n",
      "    accuracy                           0.12     50400\n",
      "   macro avg       0.06      0.50      0.11     50400\n",
      "weighted avg       0.02      0.12      0.03     50400\n",
      "\n"
     ]
    },
    {
     "name": "stderr",
     "output_type": "stream",
     "text": [
      "c:\\Users\\codyb\\.vscode\\Py\\COMP7970-Homework\\Lib\\site-packages\\sklearn\\svm\\_base.py:305: ConvergenceWarning: Solver terminated early (max_iter=250).  Consider pre-processing your data with StandardScaler or MinMaxScaler.\n",
      "  warnings.warn(\n"
     ]
    },
    {
     "name": "stdout",
     "output_type": "stream",
     "text": [
      "[RBF] max_iter: 250, C: 1, gamma: 0.001, class_weight: {1: 2, -1: 1} -> accuracy: 0.1230\n",
      "              precision    recall  f1-score   support\n",
      "\n",
      "          -1       0.00      0.00      0.00     44201\n",
      "           1       0.12      1.00      0.22      6199\n",
      "\n",
      "    accuracy                           0.12     50400\n",
      "   macro avg       0.06      0.50      0.11     50400\n",
      "weighted avg       0.02      0.12      0.03     50400\n",
      "\n"
     ]
    },
    {
     "name": "stderr",
     "output_type": "stream",
     "text": [
      "c:\\Users\\codyb\\.vscode\\Py\\COMP7970-Homework\\Lib\\site-packages\\sklearn\\svm\\_base.py:305: ConvergenceWarning: Solver terminated early (max_iter=250).  Consider pre-processing your data with StandardScaler or MinMaxScaler.\n",
      "  warnings.warn(\n"
     ]
    },
    {
     "name": "stdout",
     "output_type": "stream",
     "text": [
      "[RBF] max_iter: 250, C: 1, gamma: 0.01, class_weight: balanced -> accuracy: 0.1231\n",
      "              precision    recall  f1-score   support\n",
      "\n",
      "          -1       1.00      0.00      0.00     44201\n",
      "           1       0.12      1.00      0.22      6199\n",
      "\n",
      "    accuracy                           0.12     50400\n",
      "   macro avg       0.56      0.50      0.11     50400\n",
      "weighted avg       0.89      0.12      0.03     50400\n",
      "\n"
     ]
    },
    {
     "name": "stderr",
     "output_type": "stream",
     "text": [
      "c:\\Users\\codyb\\.vscode\\Py\\COMP7970-Homework\\Lib\\site-packages\\sklearn\\svm\\_base.py:305: ConvergenceWarning: Solver terminated early (max_iter=250).  Consider pre-processing your data with StandardScaler or MinMaxScaler.\n",
      "  warnings.warn(\n"
     ]
    },
    {
     "name": "stdout",
     "output_type": "stream",
     "text": [
      "[RBF] max_iter: 250, C: 1, gamma: 0.01, class_weight: {1: 3, -1: 1} -> accuracy: 0.1252\n",
      "              precision    recall  f1-score   support\n",
      "\n",
      "          -1       0.98      0.00      0.01     44201\n",
      "           1       0.12      1.00      0.22      6199\n",
      "\n",
      "    accuracy                           0.13     50400\n",
      "   macro avg       0.55      0.50      0.11     50400\n",
      "weighted avg       0.88      0.13      0.03     50400\n",
      "\n"
     ]
    },
    {
     "name": "stderr",
     "output_type": "stream",
     "text": [
      "c:\\Users\\codyb\\.vscode\\Py\\COMP7970-Homework\\Lib\\site-packages\\sklearn\\svm\\_base.py:305: ConvergenceWarning: Solver terminated early (max_iter=250).  Consider pre-processing your data with StandardScaler or MinMaxScaler.\n",
      "  warnings.warn(\n"
     ]
    },
    {
     "name": "stdout",
     "output_type": "stream",
     "text": [
      "[RBF] max_iter: 250, C: 1, gamma: 0.01, class_weight: {1: 2, -1: 1} -> accuracy: 0.1252\n",
      "              precision    recall  f1-score   support\n",
      "\n",
      "          -1       0.98      0.00      0.01     44201\n",
      "           1       0.12      1.00      0.22      6199\n",
      "\n",
      "    accuracy                           0.13     50400\n",
      "   macro avg       0.55      0.50      0.11     50400\n",
      "weighted avg       0.88      0.13      0.03     50400\n",
      "\n"
     ]
    },
    {
     "name": "stderr",
     "output_type": "stream",
     "text": [
      "c:\\Users\\codyb\\.vscode\\Py\\COMP7970-Homework\\Lib\\site-packages\\sklearn\\svm\\_base.py:305: ConvergenceWarning: Solver terminated early (max_iter=250).  Consider pre-processing your data with StandardScaler or MinMaxScaler.\n",
      "  warnings.warn(\n"
     ]
    },
    {
     "name": "stdout",
     "output_type": "stream",
     "text": [
      "[RBF] max_iter: 250, C: 1, gamma: 0.1, class_weight: balanced -> accuracy: 0.1237\n",
      "              precision    recall  f1-score   support\n",
      "\n",
      "          -1       1.00      0.00      0.00     44201\n",
      "           1       0.12      1.00      0.22      6199\n",
      "\n",
      "    accuracy                           0.12     50400\n",
      "   macro avg       0.56      0.50      0.11     50400\n",
      "weighted avg       0.89      0.12      0.03     50400\n",
      "\n"
     ]
    },
    {
     "name": "stderr",
     "output_type": "stream",
     "text": [
      "c:\\Users\\codyb\\.vscode\\Py\\COMP7970-Homework\\Lib\\site-packages\\sklearn\\svm\\_base.py:305: ConvergenceWarning: Solver terminated early (max_iter=250).  Consider pre-processing your data with StandardScaler or MinMaxScaler.\n",
      "  warnings.warn(\n"
     ]
    },
    {
     "name": "stdout",
     "output_type": "stream",
     "text": [
      "[RBF] max_iter: 250, C: 1, gamma: 0.1, class_weight: {1: 3, -1: 1} -> accuracy: 0.1256\n",
      "              precision    recall  f1-score   support\n",
      "\n",
      "          -1       0.99      0.00      0.01     44201\n",
      "           1       0.12      1.00      0.22      6199\n",
      "\n",
      "    accuracy                           0.13     50400\n",
      "   macro avg       0.56      0.50      0.11     50400\n",
      "weighted avg       0.89      0.13      0.03     50400\n",
      "\n"
     ]
    },
    {
     "name": "stderr",
     "output_type": "stream",
     "text": [
      "c:\\Users\\codyb\\.vscode\\Py\\COMP7970-Homework\\Lib\\site-packages\\sklearn\\svm\\_base.py:305: ConvergenceWarning: Solver terminated early (max_iter=250).  Consider pre-processing your data with StandardScaler or MinMaxScaler.\n",
      "  warnings.warn(\n"
     ]
    },
    {
     "name": "stdout",
     "output_type": "stream",
     "text": [
      "[RBF] max_iter: 250, C: 1, gamma: 0.1, class_weight: {1: 2, -1: 1} -> accuracy: 0.1249\n",
      "              precision    recall  f1-score   support\n",
      "\n",
      "          -1       0.99      0.00      0.00     44201\n",
      "           1       0.12      1.00      0.22      6199\n",
      "\n",
      "    accuracy                           0.12     50400\n",
      "   macro avg       0.56      0.50      0.11     50400\n",
      "weighted avg       0.88      0.12      0.03     50400\n",
      "\n"
     ]
    },
    {
     "name": "stderr",
     "output_type": "stream",
     "text": [
      "c:\\Users\\codyb\\.vscode\\Py\\COMP7970-Homework\\Lib\\site-packages\\sklearn\\svm\\_base.py:305: ConvergenceWarning: Solver terminated early (max_iter=250).  Consider pre-processing your data with StandardScaler or MinMaxScaler.\n",
      "  warnings.warn(\n"
     ]
    },
    {
     "name": "stdout",
     "output_type": "stream",
     "text": [
      "[RBF] max_iter: 250, C: 1, gamma: 1, class_weight: balanced -> accuracy: 0.1241\n",
      "              precision    recall  f1-score   support\n",
      "\n",
      "          -1       1.00      0.00      0.00     44201\n",
      "           1       0.12      1.00      0.22      6199\n",
      "\n",
      "    accuracy                           0.12     50400\n",
      "   macro avg       0.56      0.50      0.11     50400\n",
      "weighted avg       0.89      0.12      0.03     50400\n",
      "\n"
     ]
    },
    {
     "name": "stderr",
     "output_type": "stream",
     "text": [
      "c:\\Users\\codyb\\.vscode\\Py\\COMP7970-Homework\\Lib\\site-packages\\sklearn\\svm\\_base.py:305: ConvergenceWarning: Solver terminated early (max_iter=250).  Consider pre-processing your data with StandardScaler or MinMaxScaler.\n",
      "  warnings.warn(\n"
     ]
    },
    {
     "name": "stdout",
     "output_type": "stream",
     "text": [
      "[RBF] max_iter: 250, C: 1, gamma: 1, class_weight: {1: 3, -1: 1} -> accuracy: 0.1242\n",
      "              precision    recall  f1-score   support\n",
      "\n",
      "          -1       0.98      0.00      0.00     44201\n",
      "           1       0.12      1.00      0.22      6199\n",
      "\n",
      "    accuracy                           0.12     50400\n",
      "   macro avg       0.55      0.50      0.11     50400\n",
      "weighted avg       0.88      0.12      0.03     50400\n",
      "\n"
     ]
    },
    {
     "name": "stderr",
     "output_type": "stream",
     "text": [
      "c:\\Users\\codyb\\.vscode\\Py\\COMP7970-Homework\\Lib\\site-packages\\sklearn\\svm\\_base.py:305: ConvergenceWarning: Solver terminated early (max_iter=250).  Consider pre-processing your data with StandardScaler or MinMaxScaler.\n",
      "  warnings.warn(\n"
     ]
    },
    {
     "name": "stdout",
     "output_type": "stream",
     "text": [
      "[RBF] max_iter: 250, C: 1, gamma: 1, class_weight: {1: 2, -1: 1} -> accuracy: 0.1242\n",
      "              precision    recall  f1-score   support\n",
      "\n",
      "          -1       0.98      0.00      0.00     44201\n",
      "           1       0.12      1.00      0.22      6199\n",
      "\n",
      "    accuracy                           0.12     50400\n",
      "   macro avg       0.55      0.50      0.11     50400\n",
      "weighted avg       0.88      0.12      0.03     50400\n",
      "\n"
     ]
    },
    {
     "name": "stderr",
     "output_type": "stream",
     "text": [
      "c:\\Users\\codyb\\.vscode\\Py\\COMP7970-Homework\\Lib\\site-packages\\sklearn\\svm\\_base.py:305: ConvergenceWarning: Solver terminated early (max_iter=250).  Consider pre-processing your data with StandardScaler or MinMaxScaler.\n",
      "  warnings.warn(\n"
     ]
    },
    {
     "name": "stdout",
     "output_type": "stream",
     "text": [
      "[RBF] max_iter: 250, C: 1, gamma: 5, class_weight: balanced -> accuracy: 0.1254\n",
      "              precision    recall  f1-score   support\n",
      "\n",
      "          -1       1.00      0.00      0.01     44201\n",
      "           1       0.12      1.00      0.22      6199\n",
      "\n",
      "    accuracy                           0.13     50400\n",
      "   macro avg       0.56      0.50      0.11     50400\n",
      "weighted avg       0.89      0.13      0.03     50400\n",
      "\n"
     ]
    },
    {
     "name": "stderr",
     "output_type": "stream",
     "text": [
      "c:\\Users\\codyb\\.vscode\\Py\\COMP7970-Homework\\Lib\\site-packages\\sklearn\\svm\\_base.py:305: ConvergenceWarning: Solver terminated early (max_iter=250).  Consider pre-processing your data with StandardScaler or MinMaxScaler.\n",
      "  warnings.warn(\n"
     ]
    },
    {
     "name": "stdout",
     "output_type": "stream",
     "text": [
      "[RBF] max_iter: 250, C: 1, gamma: 5, class_weight: {1: 3, -1: 1} -> accuracy: 0.1256\n",
      "              precision    recall  f1-score   support\n",
      "\n",
      "          -1       1.00      0.00      0.01     44201\n",
      "           1       0.12      1.00      0.22      6199\n",
      "\n",
      "    accuracy                           0.13     50400\n",
      "   macro avg       0.56      0.50      0.11     50400\n",
      "weighted avg       0.89      0.13      0.03     50400\n",
      "\n"
     ]
    },
    {
     "name": "stderr",
     "output_type": "stream",
     "text": [
      "c:\\Users\\codyb\\.vscode\\Py\\COMP7970-Homework\\Lib\\site-packages\\sklearn\\svm\\_base.py:305: ConvergenceWarning: Solver terminated early (max_iter=250).  Consider pre-processing your data with StandardScaler or MinMaxScaler.\n",
      "  warnings.warn(\n"
     ]
    },
    {
     "name": "stdout",
     "output_type": "stream",
     "text": [
      "[RBF] max_iter: 250, C: 1, gamma: 5, class_weight: {1: 2, -1: 1} -> accuracy: 0.1253\n",
      "              precision    recall  f1-score   support\n",
      "\n",
      "          -1       1.00      0.00      0.01     44201\n",
      "           1       0.12      1.00      0.22      6199\n",
      "\n",
      "    accuracy                           0.13     50400\n",
      "   macro avg       0.56      0.50      0.11     50400\n",
      "weighted avg       0.89      0.13      0.03     50400\n",
      "\n"
     ]
    },
    {
     "name": "stderr",
     "output_type": "stream",
     "text": [
      "c:\\Users\\codyb\\.vscode\\Py\\COMP7970-Homework\\Lib\\site-packages\\sklearn\\svm\\_base.py:305: ConvergenceWarning: Solver terminated early (max_iter=250).  Consider pre-processing your data with StandardScaler or MinMaxScaler.\n",
      "  warnings.warn(\n"
     ]
    },
    {
     "name": "stdout",
     "output_type": "stream",
     "text": [
      "[RBF] max_iter: 250, C: 1, gamma: 10, class_weight: balanced -> accuracy: 0.1258\n",
      "              precision    recall  f1-score   support\n",
      "\n",
      "          -1       1.00      0.00      0.01     44201\n",
      "           1       0.12      1.00      0.22      6199\n",
      "\n",
      "    accuracy                           0.13     50400\n",
      "   macro avg       0.56      0.50      0.11     50400\n",
      "weighted avg       0.89      0.13      0.03     50400\n",
      "\n"
     ]
    },
    {
     "name": "stderr",
     "output_type": "stream",
     "text": [
      "c:\\Users\\codyb\\.vscode\\Py\\COMP7970-Homework\\Lib\\site-packages\\sklearn\\svm\\_base.py:305: ConvergenceWarning: Solver terminated early (max_iter=250).  Consider pre-processing your data with StandardScaler or MinMaxScaler.\n",
      "  warnings.warn(\n"
     ]
    },
    {
     "name": "stdout",
     "output_type": "stream",
     "text": [
      "[RBF] max_iter: 250, C: 1, gamma: 10, class_weight: {1: 3, -1: 1} -> accuracy: 0.1273\n",
      "              precision    recall  f1-score   support\n",
      "\n",
      "          -1       0.99      0.01      0.01     44201\n",
      "           1       0.12      1.00      0.22      6199\n",
      "\n",
      "    accuracy                           0.13     50400\n",
      "   macro avg       0.56      0.50      0.11     50400\n",
      "weighted avg       0.88      0.13      0.04     50400\n",
      "\n"
     ]
    },
    {
     "name": "stderr",
     "output_type": "stream",
     "text": [
      "c:\\Users\\codyb\\.vscode\\Py\\COMP7970-Homework\\Lib\\site-packages\\sklearn\\svm\\_base.py:305: ConvergenceWarning: Solver terminated early (max_iter=250).  Consider pre-processing your data with StandardScaler or MinMaxScaler.\n",
      "  warnings.warn(\n"
     ]
    },
    {
     "name": "stdout",
     "output_type": "stream",
     "text": [
      "[RBF] max_iter: 250, C: 1, gamma: 10, class_weight: {1: 2, -1: 1} -> accuracy: 0.1269\n",
      "              precision    recall  f1-score   support\n",
      "\n",
      "          -1       0.99      0.00      0.01     44201\n",
      "           1       0.12      1.00      0.22      6199\n",
      "\n",
      "    accuracy                           0.13     50400\n",
      "   macro avg       0.55      0.50      0.11     50400\n",
      "weighted avg       0.88      0.13      0.04     50400\n",
      "\n"
     ]
    },
    {
     "name": "stderr",
     "output_type": "stream",
     "text": [
      "c:\\Users\\codyb\\.vscode\\Py\\COMP7970-Homework\\Lib\\site-packages\\sklearn\\svm\\_base.py:305: ConvergenceWarning: Solver terminated early (max_iter=250).  Consider pre-processing your data with StandardScaler or MinMaxScaler.\n",
      "  warnings.warn(\n"
     ]
    },
    {
     "name": "stdout",
     "output_type": "stream",
     "text": [
      "[RBF] max_iter: 250, C: 1, gamma: 100, class_weight: balanced -> accuracy: 0.1259\n",
      "              precision    recall  f1-score   support\n",
      "\n",
      "          -1       1.00      0.00      0.01     44201\n",
      "           1       0.12      1.00      0.22      6199\n",
      "\n",
      "    accuracy                           0.13     50400\n",
      "   macro avg       0.56      0.50      0.11     50400\n",
      "weighted avg       0.89      0.13      0.03     50400\n",
      "\n"
     ]
    },
    {
     "name": "stderr",
     "output_type": "stream",
     "text": [
      "c:\\Users\\codyb\\.vscode\\Py\\COMP7970-Homework\\Lib\\site-packages\\sklearn\\svm\\_base.py:305: ConvergenceWarning: Solver terminated early (max_iter=250).  Consider pre-processing your data with StandardScaler or MinMaxScaler.\n",
      "  warnings.warn(\n"
     ]
    },
    {
     "name": "stdout",
     "output_type": "stream",
     "text": [
      "[RBF] max_iter: 250, C: 1, gamma: 100, class_weight: {1: 3, -1: 1} -> accuracy: 0.1265\n",
      "              precision    recall  f1-score   support\n",
      "\n",
      "          -1       1.00      0.00      0.01     44201\n",
      "           1       0.12      1.00      0.22      6199\n",
      "\n",
      "    accuracy                           0.13     50400\n",
      "   macro avg       0.56      0.50      0.11     50400\n",
      "weighted avg       0.89      0.13      0.03     50400\n",
      "\n"
     ]
    },
    {
     "name": "stderr",
     "output_type": "stream",
     "text": [
      "c:\\Users\\codyb\\.vscode\\Py\\COMP7970-Homework\\Lib\\site-packages\\sklearn\\svm\\_base.py:305: ConvergenceWarning: Solver terminated early (max_iter=250).  Consider pre-processing your data with StandardScaler or MinMaxScaler.\n",
      "  warnings.warn(\n"
     ]
    },
    {
     "name": "stdout",
     "output_type": "stream",
     "text": [
      "[RBF] max_iter: 250, C: 1, gamma: 100, class_weight: {1: 2, -1: 1} -> accuracy: 0.1260\n",
      "              precision    recall  f1-score   support\n",
      "\n",
      "          -1       1.00      0.00      0.01     44201\n",
      "           1       0.12      1.00      0.22      6199\n",
      "\n",
      "    accuracy                           0.13     50400\n",
      "   macro avg       0.56      0.50      0.11     50400\n",
      "weighted avg       0.89      0.13      0.03     50400\n",
      "\n"
     ]
    },
    {
     "name": "stderr",
     "output_type": "stream",
     "text": [
      "c:\\Users\\codyb\\.vscode\\Py\\COMP7970-Homework\\Lib\\site-packages\\sklearn\\svm\\_base.py:305: ConvergenceWarning: Solver terminated early (max_iter=250).  Consider pre-processing your data with StandardScaler or MinMaxScaler.\n",
      "  warnings.warn(\n"
     ]
    },
    {
     "name": "stdout",
     "output_type": "stream",
     "text": [
      "[RBF] max_iter: 250, C: 10, gamma: 0.001, class_weight: balanced -> accuracy: 0.1230\n",
      "              precision    recall  f1-score   support\n",
      "\n",
      "          -1       0.00      0.00      0.00     44201\n",
      "           1       0.12      1.00      0.22      6199\n",
      "\n",
      "    accuracy                           0.12     50400\n",
      "   macro avg       0.06      0.50      0.11     50400\n",
      "weighted avg       0.02      0.12      0.03     50400\n",
      "\n"
     ]
    },
    {
     "name": "stderr",
     "output_type": "stream",
     "text": [
      "c:\\Users\\codyb\\.vscode\\Py\\COMP7970-Homework\\Lib\\site-packages\\sklearn\\svm\\_base.py:305: ConvergenceWarning: Solver terminated early (max_iter=250).  Consider pre-processing your data with StandardScaler or MinMaxScaler.\n",
      "  warnings.warn(\n"
     ]
    },
    {
     "name": "stdout",
     "output_type": "stream",
     "text": [
      "[RBF] max_iter: 250, C: 10, gamma: 0.001, class_weight: {1: 3, -1: 1} -> accuracy: 0.1304\n",
      "              precision    recall  f1-score   support\n",
      "\n",
      "          -1       0.92      0.01      0.02     44201\n",
      "           1       0.12      0.99      0.22      6199\n",
      "\n",
      "    accuracy                           0.13     50400\n",
      "   macro avg       0.52      0.50      0.12     50400\n",
      "weighted avg       0.82      0.13      0.04     50400\n",
      "\n"
     ]
    },
    {
     "name": "stderr",
     "output_type": "stream",
     "text": [
      "c:\\Users\\codyb\\.vscode\\Py\\COMP7970-Homework\\Lib\\site-packages\\sklearn\\svm\\_base.py:305: ConvergenceWarning: Solver terminated early (max_iter=250).  Consider pre-processing your data with StandardScaler or MinMaxScaler.\n",
      "  warnings.warn(\n"
     ]
    },
    {
     "name": "stdout",
     "output_type": "stream",
     "text": [
      "[RBF] max_iter: 250, C: 10, gamma: 0.001, class_weight: {1: 2, -1: 1} -> accuracy: 0.1266\n",
      "              precision    recall  f1-score   support\n",
      "\n",
      "          -1       0.87      0.00      0.01     44201\n",
      "           1       0.12      0.99      0.22      6199\n",
      "\n",
      "    accuracy                           0.13     50400\n",
      "   macro avg       0.50      0.50      0.11     50400\n",
      "weighted avg       0.78      0.13      0.04     50400\n",
      "\n"
     ]
    },
    {
     "name": "stderr",
     "output_type": "stream",
     "text": [
      "c:\\Users\\codyb\\.vscode\\Py\\COMP7970-Homework\\Lib\\site-packages\\sklearn\\svm\\_base.py:305: ConvergenceWarning: Solver terminated early (max_iter=250).  Consider pre-processing your data with StandardScaler or MinMaxScaler.\n",
      "  warnings.warn(\n"
     ]
    },
    {
     "name": "stdout",
     "output_type": "stream",
     "text": [
      "[RBF] max_iter: 250, C: 10, gamma: 0.01, class_weight: balanced -> accuracy: 0.8674\n",
      "              precision    recall  f1-score   support\n",
      "\n",
      "          -1       0.88      0.99      0.93     44201\n",
      "           1       0.17      0.02      0.04      6199\n",
      "\n",
      "    accuracy                           0.87     50400\n",
      "   macro avg       0.52      0.50      0.48     50400\n",
      "weighted avg       0.79      0.87      0.82     50400\n",
      "\n"
     ]
    },
    {
     "name": "stderr",
     "output_type": "stream",
     "text": [
      "c:\\Users\\codyb\\.vscode\\Py\\COMP7970-Homework\\Lib\\site-packages\\sklearn\\svm\\_base.py:305: ConvergenceWarning: Solver terminated early (max_iter=250).  Consider pre-processing your data with StandardScaler or MinMaxScaler.\n",
      "  warnings.warn(\n"
     ]
    },
    {
     "name": "stdout",
     "output_type": "stream",
     "text": [
      "[RBF] max_iter: 250, C: 10, gamma: 0.01, class_weight: {1: 3, -1: 1} -> accuracy: 0.8746\n",
      "              precision    recall  f1-score   support\n",
      "\n",
      "          -1       0.88      1.00      0.93     44201\n",
      "           1       0.21      0.01      0.01      6199\n",
      "\n",
      "    accuracy                           0.87     50400\n",
      "   macro avg       0.55      0.50      0.47     50400\n",
      "weighted avg       0.80      0.87      0.82     50400\n",
      "\n"
     ]
    },
    {
     "name": "stderr",
     "output_type": "stream",
     "text": [
      "c:\\Users\\codyb\\.vscode\\Py\\COMP7970-Homework\\Lib\\site-packages\\sklearn\\svm\\_base.py:305: ConvergenceWarning: Solver terminated early (max_iter=250).  Consider pre-processing your data with StandardScaler or MinMaxScaler.\n",
      "  warnings.warn(\n"
     ]
    },
    {
     "name": "stdout",
     "output_type": "stream",
     "text": [
      "[RBF] max_iter: 250, C: 10, gamma: 0.01, class_weight: {1: 2, -1: 1} -> accuracy: 0.8750\n",
      "              precision    recall  f1-score   support\n",
      "\n",
      "          -1       0.88      1.00      0.93     44201\n",
      "           1       0.24      0.01      0.01      6199\n",
      "\n",
      "    accuracy                           0.88     50400\n",
      "   macro avg       0.56      0.50      0.47     50400\n",
      "weighted avg       0.80      0.88      0.82     50400\n",
      "\n"
     ]
    },
    {
     "name": "stderr",
     "output_type": "stream",
     "text": [
      "c:\\Users\\codyb\\.vscode\\Py\\COMP7970-Homework\\Lib\\site-packages\\sklearn\\svm\\_base.py:305: ConvergenceWarning: Solver terminated early (max_iter=250).  Consider pre-processing your data with StandardScaler or MinMaxScaler.\n",
      "  warnings.warn(\n"
     ]
    },
    {
     "name": "stdout",
     "output_type": "stream",
     "text": [
      "[RBF] max_iter: 250, C: 10, gamma: 0.1, class_weight: balanced -> accuracy: 0.8769\n",
      "              precision    recall  f1-score   support\n",
      "\n",
      "          -1       0.88      1.00      0.93     44201\n",
      "           1       0.48      0.01      0.01      6199\n",
      "\n",
      "    accuracy                           0.88     50400\n",
      "   macro avg       0.68      0.50      0.47     50400\n",
      "weighted avg       0.83      0.88      0.82     50400\n",
      "\n"
     ]
    },
    {
     "name": "stderr",
     "output_type": "stream",
     "text": [
      "c:\\Users\\codyb\\.vscode\\Py\\COMP7970-Homework\\Lib\\site-packages\\sklearn\\svm\\_base.py:305: ConvergenceWarning: Solver terminated early (max_iter=250).  Consider pre-processing your data with StandardScaler or MinMaxScaler.\n",
      "  warnings.warn(\n"
     ]
    },
    {
     "name": "stdout",
     "output_type": "stream",
     "text": [
      "[RBF] max_iter: 250, C: 10, gamma: 0.1, class_weight: {1: 3, -1: 1} -> accuracy: 0.8770\n",
      "              precision    recall  f1-score   support\n",
      "\n",
      "          -1       0.88      1.00      0.93     44201\n",
      "           1       0.50      0.01      0.01      6199\n",
      "\n",
      "    accuracy                           0.88     50400\n",
      "   macro avg       0.69      0.50      0.47     50400\n",
      "weighted avg       0.83      0.88      0.82     50400\n",
      "\n"
     ]
    },
    {
     "name": "stderr",
     "output_type": "stream",
     "text": [
      "c:\\Users\\codyb\\.vscode\\Py\\COMP7970-Homework\\Lib\\site-packages\\sklearn\\svm\\_base.py:305: ConvergenceWarning: Solver terminated early (max_iter=250).  Consider pre-processing your data with StandardScaler or MinMaxScaler.\n",
      "  warnings.warn(\n"
     ]
    },
    {
     "name": "stdout",
     "output_type": "stream",
     "text": [
      "[RBF] max_iter: 250, C: 10, gamma: 0.1, class_weight: {1: 2, -1: 1} -> accuracy: 0.8770\n",
      "              precision    recall  f1-score   support\n",
      "\n",
      "          -1       0.88      1.00      0.93     44201\n",
      "           1       0.49      0.01      0.01      6199\n",
      "\n",
      "    accuracy                           0.88     50400\n",
      "   macro avg       0.69      0.50      0.47     50400\n",
      "weighted avg       0.83      0.88      0.82     50400\n",
      "\n"
     ]
    },
    {
     "name": "stderr",
     "output_type": "stream",
     "text": [
      "c:\\Users\\codyb\\.vscode\\Py\\COMP7970-Homework\\Lib\\site-packages\\sklearn\\svm\\_base.py:305: ConvergenceWarning: Solver terminated early (max_iter=250).  Consider pre-processing your data with StandardScaler or MinMaxScaler.\n",
      "  warnings.warn(\n"
     ]
    },
    {
     "name": "stdout",
     "output_type": "stream",
     "text": [
      "[RBF] max_iter: 250, C: 10, gamma: 1, class_weight: balanced -> accuracy: 0.1242\n",
      "              precision    recall  f1-score   support\n",
      "\n",
      "          -1       0.98      0.00      0.00     44201\n",
      "           1       0.12      1.00      0.22      6199\n",
      "\n",
      "    accuracy                           0.12     50400\n",
      "   macro avg       0.55      0.50      0.11     50400\n",
      "weighted avg       0.88      0.12      0.03     50400\n",
      "\n"
     ]
    },
    {
     "name": "stderr",
     "output_type": "stream",
     "text": [
      "c:\\Users\\codyb\\.vscode\\Py\\COMP7970-Homework\\Lib\\site-packages\\sklearn\\svm\\_base.py:305: ConvergenceWarning: Solver terminated early (max_iter=250).  Consider pre-processing your data with StandardScaler or MinMaxScaler.\n",
      "  warnings.warn(\n"
     ]
    },
    {
     "name": "stdout",
     "output_type": "stream",
     "text": [
      "[RBF] max_iter: 250, C: 10, gamma: 1, class_weight: {1: 3, -1: 1} -> accuracy: 0.1240\n",
      "              precision    recall  f1-score   support\n",
      "\n",
      "          -1       0.98      0.00      0.00     44201\n",
      "           1       0.12      1.00      0.22      6199\n",
      "\n",
      "    accuracy                           0.12     50400\n",
      "   macro avg       0.55      0.50      0.11     50400\n",
      "weighted avg       0.88      0.12      0.03     50400\n",
      "\n"
     ]
    },
    {
     "name": "stderr",
     "output_type": "stream",
     "text": [
      "c:\\Users\\codyb\\.vscode\\Py\\COMP7970-Homework\\Lib\\site-packages\\sklearn\\svm\\_base.py:305: ConvergenceWarning: Solver terminated early (max_iter=250).  Consider pre-processing your data with StandardScaler or MinMaxScaler.\n",
      "  warnings.warn(\n"
     ]
    },
    {
     "name": "stdout",
     "output_type": "stream",
     "text": [
      "[RBF] max_iter: 250, C: 10, gamma: 1, class_weight: {1: 2, -1: 1} -> accuracy: 0.1239\n",
      "              precision    recall  f1-score   support\n",
      "\n",
      "          -1       0.98      0.00      0.00     44201\n",
      "           1       0.12      1.00      0.22      6199\n",
      "\n",
      "    accuracy                           0.12     50400\n",
      "   macro avg       0.55      0.50      0.11     50400\n",
      "weighted avg       0.87      0.12      0.03     50400\n",
      "\n"
     ]
    },
    {
     "name": "stderr",
     "output_type": "stream",
     "text": [
      "c:\\Users\\codyb\\.vscode\\Py\\COMP7970-Homework\\Lib\\site-packages\\sklearn\\svm\\_base.py:305: ConvergenceWarning: Solver terminated early (max_iter=250).  Consider pre-processing your data with StandardScaler or MinMaxScaler.\n",
      "  warnings.warn(\n"
     ]
    },
    {
     "name": "stdout",
     "output_type": "stream",
     "text": [
      "[RBF] max_iter: 250, C: 10, gamma: 5, class_weight: balanced -> accuracy: 0.1254\n",
      "              precision    recall  f1-score   support\n",
      "\n",
      "          -1       1.00      0.00      0.01     44201\n",
      "           1       0.12      1.00      0.22      6199\n",
      "\n",
      "    accuracy                           0.13     50400\n",
      "   macro avg       0.56      0.50      0.11     50400\n",
      "weighted avg       0.89      0.13      0.03     50400\n",
      "\n"
     ]
    },
    {
     "name": "stderr",
     "output_type": "stream",
     "text": [
      "c:\\Users\\codyb\\.vscode\\Py\\COMP7970-Homework\\Lib\\site-packages\\sklearn\\svm\\_base.py:305: ConvergenceWarning: Solver terminated early (max_iter=250).  Consider pre-processing your data with StandardScaler or MinMaxScaler.\n",
      "  warnings.warn(\n"
     ]
    },
    {
     "name": "stdout",
     "output_type": "stream",
     "text": [
      "[RBF] max_iter: 250, C: 10, gamma: 5, class_weight: {1: 3, -1: 1} -> accuracy: 0.8769\n",
      "              precision    recall  f1-score   support\n",
      "\n",
      "          -1       0.88      1.00      0.93     44201\n",
      "           1       0.48      0.01      0.02      6199\n",
      "\n",
      "    accuracy                           0.88     50400\n",
      "   macro avg       0.68      0.50      0.47     50400\n",
      "weighted avg       0.83      0.88      0.82     50400\n",
      "\n"
     ]
    },
    {
     "name": "stderr",
     "output_type": "stream",
     "text": [
      "c:\\Users\\codyb\\.vscode\\Py\\COMP7970-Homework\\Lib\\site-packages\\sklearn\\svm\\_base.py:305: ConvergenceWarning: Solver terminated early (max_iter=250).  Consider pre-processing your data with StandardScaler or MinMaxScaler.\n",
      "  warnings.warn(\n"
     ]
    },
    {
     "name": "stdout",
     "output_type": "stream",
     "text": [
      "[RBF] max_iter: 250, C: 10, gamma: 5, class_weight: {1: 2, -1: 1} -> accuracy: 0.8770\n",
      "              precision    recall  f1-score   support\n",
      "\n",
      "          -1       0.88      1.00      0.93     44201\n",
      "           1       0.51      0.01      0.01      6199\n",
      "\n",
      "    accuracy                           0.88     50400\n",
      "   macro avg       0.70      0.50      0.47     50400\n",
      "weighted avg       0.83      0.88      0.82     50400\n",
      "\n"
     ]
    },
    {
     "name": "stderr",
     "output_type": "stream",
     "text": [
      "c:\\Users\\codyb\\.vscode\\Py\\COMP7970-Homework\\Lib\\site-packages\\sklearn\\svm\\_base.py:305: ConvergenceWarning: Solver terminated early (max_iter=250).  Consider pre-processing your data with StandardScaler or MinMaxScaler.\n",
      "  warnings.warn(\n"
     ]
    },
    {
     "name": "stdout",
     "output_type": "stream",
     "text": [
      "[RBF] max_iter: 250, C: 10, gamma: 10, class_weight: balanced -> accuracy: 0.8769\n",
      "              precision    recall  f1-score   support\n",
      "\n",
      "          -1       0.88      1.00      0.93     44201\n",
      "           1       0.48      0.01      0.02      6199\n",
      "\n",
      "    accuracy                           0.88     50400\n",
      "   macro avg       0.68      0.50      0.48     50400\n",
      "weighted avg       0.83      0.88      0.82     50400\n",
      "\n"
     ]
    },
    {
     "name": "stderr",
     "output_type": "stream",
     "text": [
      "c:\\Users\\codyb\\.vscode\\Py\\COMP7970-Homework\\Lib\\site-packages\\sklearn\\svm\\_base.py:305: ConvergenceWarning: Solver terminated early (max_iter=250).  Consider pre-processing your data with StandardScaler or MinMaxScaler.\n",
      "  warnings.warn(\n"
     ]
    },
    {
     "name": "stdout",
     "output_type": "stream",
     "text": [
      "[RBF] max_iter: 250, C: 10, gamma: 10, class_weight: {1: 3, -1: 1} -> accuracy: 0.1254\n",
      "              precision    recall  f1-score   support\n",
      "\n",
      "          -1       1.00      0.00      0.01     44201\n",
      "           1       0.12      1.00      0.22      6199\n",
      "\n",
      "    accuracy                           0.13     50400\n",
      "   macro avg       0.56      0.50      0.11     50400\n",
      "weighted avg       0.89      0.13      0.03     50400\n",
      "\n"
     ]
    },
    {
     "name": "stderr",
     "output_type": "stream",
     "text": [
      "c:\\Users\\codyb\\.vscode\\Py\\COMP7970-Homework\\Lib\\site-packages\\sklearn\\svm\\_base.py:305: ConvergenceWarning: Solver terminated early (max_iter=250).  Consider pre-processing your data with StandardScaler or MinMaxScaler.\n",
      "  warnings.warn(\n"
     ]
    },
    {
     "name": "stdout",
     "output_type": "stream",
     "text": [
      "[RBF] max_iter: 250, C: 10, gamma: 10, class_weight: {1: 2, -1: 1} -> accuracy: 0.1251\n",
      "              precision    recall  f1-score   support\n",
      "\n",
      "          -1       1.00      0.00      0.00     44201\n",
      "           1       0.12      1.00      0.22      6199\n",
      "\n",
      "    accuracy                           0.13     50400\n",
      "   macro avg       0.56      0.50      0.11     50400\n",
      "weighted avg       0.89      0.13      0.03     50400\n",
      "\n"
     ]
    },
    {
     "name": "stderr",
     "output_type": "stream",
     "text": [
      "c:\\Users\\codyb\\.vscode\\Py\\COMP7970-Homework\\Lib\\site-packages\\sklearn\\svm\\_base.py:305: ConvergenceWarning: Solver terminated early (max_iter=250).  Consider pre-processing your data with StandardScaler or MinMaxScaler.\n",
      "  warnings.warn(\n"
     ]
    },
    {
     "name": "stdout",
     "output_type": "stream",
     "text": [
      "[RBF] max_iter: 250, C: 10, gamma: 100, class_weight: balanced -> accuracy: 0.8769\n",
      "              precision    recall  f1-score   support\n",
      "\n",
      "          -1       0.88      1.00      0.93     44201\n",
      "           1       0.48      0.01      0.02      6199\n",
      "\n",
      "    accuracy                           0.88     50400\n",
      "   macro avg       0.68      0.50      0.48     50400\n",
      "weighted avg       0.83      0.88      0.82     50400\n",
      "\n"
     ]
    },
    {
     "name": "stderr",
     "output_type": "stream",
     "text": [
      "c:\\Users\\codyb\\.vscode\\Py\\COMP7970-Homework\\Lib\\site-packages\\sklearn\\svm\\_base.py:305: ConvergenceWarning: Solver terminated early (max_iter=250).  Consider pre-processing your data with StandardScaler or MinMaxScaler.\n",
      "  warnings.warn(\n"
     ]
    },
    {
     "name": "stdout",
     "output_type": "stream",
     "text": [
      "[RBF] max_iter: 250, C: 10, gamma: 100, class_weight: {1: 3, -1: 1} -> accuracy: 0.1256\n",
      "              precision    recall  f1-score   support\n",
      "\n",
      "          -1       1.00      0.00      0.01     44201\n",
      "           1       0.12      1.00      0.22      6199\n",
      "\n",
      "    accuracy                           0.13     50400\n",
      "   macro avg       0.56      0.50      0.11     50400\n",
      "weighted avg       0.89      0.13      0.03     50400\n",
      "\n"
     ]
    },
    {
     "name": "stderr",
     "output_type": "stream",
     "text": [
      "c:\\Users\\codyb\\.vscode\\Py\\COMP7970-Homework\\Lib\\site-packages\\sklearn\\svm\\_base.py:305: ConvergenceWarning: Solver terminated early (max_iter=250).  Consider pre-processing your data with StandardScaler or MinMaxScaler.\n",
      "  warnings.warn(\n"
     ]
    },
    {
     "name": "stdout",
     "output_type": "stream",
     "text": [
      "[RBF] max_iter: 250, C: 10, gamma: 100, class_weight: {1: 2, -1: 1} -> accuracy: 0.1252\n",
      "              precision    recall  f1-score   support\n",
      "\n",
      "          -1       1.00      0.00      0.01     44201\n",
      "           1       0.12      1.00      0.22      6199\n",
      "\n",
      "    accuracy                           0.13     50400\n",
      "   macro avg       0.56      0.50      0.11     50400\n",
      "weighted avg       0.89      0.13      0.03     50400\n",
      "\n"
     ]
    },
    {
     "name": "stderr",
     "output_type": "stream",
     "text": [
      "c:\\Users\\codyb\\.vscode\\Py\\COMP7970-Homework\\Lib\\site-packages\\sklearn\\svm\\_base.py:305: ConvergenceWarning: Solver terminated early (max_iter=250).  Consider pre-processing your data with StandardScaler or MinMaxScaler.\n",
      "  warnings.warn(\n"
     ]
    },
    {
     "name": "stdout",
     "output_type": "stream",
     "text": [
      "[RBF] max_iter: 250, C: 100, gamma: 0.001, class_weight: balanced -> accuracy: 0.6031\n",
      "              precision    recall  f1-score   support\n",
      "\n",
      "          -1       0.88      0.64      0.74     44201\n",
      "           1       0.13      0.37      0.19      6199\n",
      "\n",
      "    accuracy                           0.60     50400\n",
      "   macro avg       0.50      0.50      0.46     50400\n",
      "weighted avg       0.79      0.60      0.67     50400\n",
      "\n"
     ]
    },
    {
     "name": "stderr",
     "output_type": "stream",
     "text": [
      "c:\\Users\\codyb\\.vscode\\Py\\COMP7970-Homework\\Lib\\site-packages\\sklearn\\svm\\_base.py:305: ConvergenceWarning: Solver terminated early (max_iter=250).  Consider pre-processing your data with StandardScaler or MinMaxScaler.\n",
      "  warnings.warn(\n"
     ]
    },
    {
     "name": "stdout",
     "output_type": "stream",
     "text": [
      "[RBF] max_iter: 250, C: 100, gamma: 0.001, class_weight: {1: 3, -1: 1} -> accuracy: 0.7989\n",
      "              precision    recall  f1-score   support\n",
      "\n",
      "          -1       0.88      0.90      0.89     44201\n",
      "           1       0.12      0.10      0.11      6199\n",
      "\n",
      "    accuracy                           0.80     50400\n",
      "   macro avg       0.50      0.50      0.50     50400\n",
      "weighted avg       0.78      0.80      0.79     50400\n",
      "\n"
     ]
    },
    {
     "name": "stderr",
     "output_type": "stream",
     "text": [
      "c:\\Users\\codyb\\.vscode\\Py\\COMP7970-Homework\\Lib\\site-packages\\sklearn\\svm\\_base.py:305: ConvergenceWarning: Solver terminated early (max_iter=250).  Consider pre-processing your data with StandardScaler or MinMaxScaler.\n",
      "  warnings.warn(\n"
     ]
    },
    {
     "name": "stdout",
     "output_type": "stream",
     "text": [
      "[RBF] max_iter: 250, C: 100, gamma: 0.001, class_weight: {1: 2, -1: 1} -> accuracy: 0.7924\n",
      "              precision    recall  f1-score   support\n",
      "\n",
      "          -1       0.87      0.89      0.88     44201\n",
      "           1       0.11      0.09      0.10      6199\n",
      "\n",
      "    accuracy                           0.79     50400\n",
      "   macro avg       0.49      0.49      0.49     50400\n",
      "weighted avg       0.78      0.79      0.79     50400\n",
      "\n"
     ]
    },
    {
     "name": "stderr",
     "output_type": "stream",
     "text": [
      "c:\\Users\\codyb\\.vscode\\Py\\COMP7970-Homework\\Lib\\site-packages\\sklearn\\svm\\_base.py:305: ConvergenceWarning: Solver terminated early (max_iter=250).  Consider pre-processing your data with StandardScaler or MinMaxScaler.\n",
      "  warnings.warn(\n"
     ]
    },
    {
     "name": "stdout",
     "output_type": "stream",
     "text": [
      "[RBF] max_iter: 250, C: 100, gamma: 0.01, class_weight: balanced -> accuracy: 0.8749\n",
      "              precision    recall  f1-score   support\n",
      "\n",
      "          -1       0.88      1.00      0.93     44201\n",
      "           1       0.28      0.01      0.02      6199\n",
      "\n",
      "    accuracy                           0.87     50400\n",
      "   macro avg       0.58      0.50      0.48     50400\n",
      "weighted avg       0.80      0.87      0.82     50400\n",
      "\n"
     ]
    },
    {
     "name": "stderr",
     "output_type": "stream",
     "text": [
      "c:\\Users\\codyb\\.vscode\\Py\\COMP7970-Homework\\Lib\\site-packages\\sklearn\\svm\\_base.py:305: ConvergenceWarning: Solver terminated early (max_iter=250).  Consider pre-processing your data with StandardScaler or MinMaxScaler.\n",
      "  warnings.warn(\n"
     ]
    },
    {
     "name": "stdout",
     "output_type": "stream",
     "text": [
      "[RBF] max_iter: 250, C: 100, gamma: 0.01, class_weight: {1: 3, -1: 1} -> accuracy: 0.8752\n",
      "              precision    recall  f1-score   support\n",
      "\n",
      "          -1       0.88      1.00      0.93     44201\n",
      "           1       0.24      0.01      0.01      6199\n",
      "\n",
      "    accuracy                           0.88     50400\n",
      "   macro avg       0.56      0.50      0.47     50400\n",
      "weighted avg       0.80      0.88      0.82     50400\n",
      "\n"
     ]
    },
    {
     "name": "stderr",
     "output_type": "stream",
     "text": [
      "c:\\Users\\codyb\\.vscode\\Py\\COMP7970-Homework\\Lib\\site-packages\\sklearn\\svm\\_base.py:305: ConvergenceWarning: Solver terminated early (max_iter=250).  Consider pre-processing your data with StandardScaler or MinMaxScaler.\n",
      "  warnings.warn(\n"
     ]
    },
    {
     "name": "stdout",
     "output_type": "stream",
     "text": [
      "[RBF] max_iter: 250, C: 100, gamma: 0.01, class_weight: {1: 2, -1: 1} -> accuracy: 0.8763\n",
      "              precision    recall  f1-score   support\n",
      "\n",
      "          -1       0.88      1.00      0.93     44201\n",
      "           1       0.40      0.01      0.02      6199\n",
      "\n",
      "    accuracy                           0.88     50400\n",
      "   macro avg       0.64      0.50      0.48     50400\n",
      "weighted avg       0.82      0.88      0.82     50400\n",
      "\n"
     ]
    },
    {
     "name": "stderr",
     "output_type": "stream",
     "text": [
      "c:\\Users\\codyb\\.vscode\\Py\\COMP7970-Homework\\Lib\\site-packages\\sklearn\\svm\\_base.py:305: ConvergenceWarning: Solver terminated early (max_iter=250).  Consider pre-processing your data with StandardScaler or MinMaxScaler.\n",
      "  warnings.warn(\n"
     ]
    },
    {
     "name": "stdout",
     "output_type": "stream",
     "text": [
      "[RBF] max_iter: 250, C: 100, gamma: 0.1, class_weight: balanced -> accuracy: 0.8770\n",
      "              precision    recall  f1-score   support\n",
      "\n",
      "          -1       0.88      1.00      0.93     44201\n",
      "           1       0.49      0.01      0.01      6199\n",
      "\n",
      "    accuracy                           0.88     50400\n",
      "   macro avg       0.68      0.50      0.47     50400\n",
      "weighted avg       0.83      0.88      0.82     50400\n",
      "\n"
     ]
    },
    {
     "name": "stderr",
     "output_type": "stream",
     "text": [
      "c:\\Users\\codyb\\.vscode\\Py\\COMP7970-Homework\\Lib\\site-packages\\sklearn\\svm\\_base.py:305: ConvergenceWarning: Solver terminated early (max_iter=250).  Consider pre-processing your data with StandardScaler or MinMaxScaler.\n",
      "  warnings.warn(\n"
     ]
    },
    {
     "name": "stdout",
     "output_type": "stream",
     "text": [
      "[RBF] max_iter: 250, C: 100, gamma: 0.1, class_weight: {1: 3, -1: 1} -> accuracy: 0.8768\n",
      "              precision    recall  f1-score   support\n",
      "\n",
      "          -1       0.88      1.00      0.93     44201\n",
      "           1       0.45      0.01      0.01      6199\n",
      "\n",
      "    accuracy                           0.88     50400\n",
      "   macro avg       0.66      0.50      0.47     50400\n",
      "weighted avg       0.83      0.88      0.82     50400\n",
      "\n"
     ]
    },
    {
     "name": "stderr",
     "output_type": "stream",
     "text": [
      "c:\\Users\\codyb\\.vscode\\Py\\COMP7970-Homework\\Lib\\site-packages\\sklearn\\svm\\_base.py:305: ConvergenceWarning: Solver terminated early (max_iter=250).  Consider pre-processing your data with StandardScaler or MinMaxScaler.\n",
      "  warnings.warn(\n"
     ]
    },
    {
     "name": "stdout",
     "output_type": "stream",
     "text": [
      "[RBF] max_iter: 250, C: 100, gamma: 0.1, class_weight: {1: 2, -1: 1} -> accuracy: 0.8770\n",
      "              precision    recall  f1-score   support\n",
      "\n",
      "          -1       0.88      1.00      0.93     44201\n",
      "           1       0.49      0.01      0.01      6199\n",
      "\n",
      "    accuracy                           0.88     50400\n",
      "   macro avg       0.69      0.50      0.47     50400\n",
      "weighted avg       0.83      0.88      0.82     50400\n",
      "\n"
     ]
    },
    {
     "name": "stderr",
     "output_type": "stream",
     "text": [
      "c:\\Users\\codyb\\.vscode\\Py\\COMP7970-Homework\\Lib\\site-packages\\sklearn\\svm\\_base.py:305: ConvergenceWarning: Solver terminated early (max_iter=250).  Consider pre-processing your data with StandardScaler or MinMaxScaler.\n",
      "  warnings.warn(\n"
     ]
    },
    {
     "name": "stdout",
     "output_type": "stream",
     "text": [
      "[RBF] max_iter: 250, C: 100, gamma: 1, class_weight: balanced -> accuracy: 0.1242\n",
      "              precision    recall  f1-score   support\n",
      "\n",
      "          -1       0.98      0.00      0.00     44201\n",
      "           1       0.12      1.00      0.22      6199\n",
      "\n",
      "    accuracy                           0.12     50400\n",
      "   macro avg       0.55      0.50      0.11     50400\n",
      "weighted avg       0.88      0.12      0.03     50400\n",
      "\n"
     ]
    },
    {
     "name": "stderr",
     "output_type": "stream",
     "text": [
      "c:\\Users\\codyb\\.vscode\\Py\\COMP7970-Homework\\Lib\\site-packages\\sklearn\\svm\\_base.py:305: ConvergenceWarning: Solver terminated early (max_iter=250).  Consider pre-processing your data with StandardScaler or MinMaxScaler.\n",
      "  warnings.warn(\n"
     ]
    },
    {
     "name": "stdout",
     "output_type": "stream",
     "text": [
      "[RBF] max_iter: 250, C: 100, gamma: 1, class_weight: {1: 3, -1: 1} -> accuracy: 0.1240\n",
      "              precision    recall  f1-score   support\n",
      "\n",
      "          -1       0.98      0.00      0.00     44201\n",
      "           1       0.12      1.00      0.22      6199\n",
      "\n",
      "    accuracy                           0.12     50400\n",
      "   macro avg       0.55      0.50      0.11     50400\n",
      "weighted avg       0.88      0.12      0.03     50400\n",
      "\n"
     ]
    },
    {
     "name": "stderr",
     "output_type": "stream",
     "text": [
      "c:\\Users\\codyb\\.vscode\\Py\\COMP7970-Homework\\Lib\\site-packages\\sklearn\\svm\\_base.py:305: ConvergenceWarning: Solver terminated early (max_iter=250).  Consider pre-processing your data with StandardScaler or MinMaxScaler.\n",
      "  warnings.warn(\n"
     ]
    },
    {
     "name": "stdout",
     "output_type": "stream",
     "text": [
      "[RBF] max_iter: 250, C: 100, gamma: 1, class_weight: {1: 2, -1: 1} -> accuracy: 0.1239\n",
      "              precision    recall  f1-score   support\n",
      "\n",
      "          -1       0.98      0.00      0.00     44201\n",
      "           1       0.12      1.00      0.22      6199\n",
      "\n",
      "    accuracy                           0.12     50400\n",
      "   macro avg       0.55      0.50      0.11     50400\n",
      "weighted avg       0.87      0.12      0.03     50400\n",
      "\n"
     ]
    },
    {
     "name": "stderr",
     "output_type": "stream",
     "text": [
      "c:\\Users\\codyb\\.vscode\\Py\\COMP7970-Homework\\Lib\\site-packages\\sklearn\\svm\\_base.py:305: ConvergenceWarning: Solver terminated early (max_iter=250).  Consider pre-processing your data with StandardScaler or MinMaxScaler.\n",
      "  warnings.warn(\n"
     ]
    },
    {
     "name": "stdout",
     "output_type": "stream",
     "text": [
      "[RBF] max_iter: 250, C: 100, gamma: 5, class_weight: balanced -> accuracy: 0.1254\n",
      "              precision    recall  f1-score   support\n",
      "\n",
      "          -1       1.00      0.00      0.01     44201\n",
      "           1       0.12      1.00      0.22      6199\n",
      "\n",
      "    accuracy                           0.13     50400\n",
      "   macro avg       0.56      0.50      0.11     50400\n",
      "weighted avg       0.89      0.13      0.03     50400\n",
      "\n"
     ]
    },
    {
     "name": "stderr",
     "output_type": "stream",
     "text": [
      "c:\\Users\\codyb\\.vscode\\Py\\COMP7970-Homework\\Lib\\site-packages\\sklearn\\svm\\_base.py:305: ConvergenceWarning: Solver terminated early (max_iter=250).  Consider pre-processing your data with StandardScaler or MinMaxScaler.\n",
      "  warnings.warn(\n"
     ]
    },
    {
     "name": "stdout",
     "output_type": "stream",
     "text": [
      "[RBF] max_iter: 250, C: 100, gamma: 5, class_weight: {1: 3, -1: 1} -> accuracy: 0.8769\n",
      "              precision    recall  f1-score   support\n",
      "\n",
      "          -1       0.88      1.00      0.93     44201\n",
      "           1       0.48      0.01      0.02      6199\n",
      "\n",
      "    accuracy                           0.88     50400\n",
      "   macro avg       0.68      0.50      0.47     50400\n",
      "weighted avg       0.83      0.88      0.82     50400\n",
      "\n"
     ]
    },
    {
     "name": "stderr",
     "output_type": "stream",
     "text": [
      "c:\\Users\\codyb\\.vscode\\Py\\COMP7970-Homework\\Lib\\site-packages\\sklearn\\svm\\_base.py:305: ConvergenceWarning: Solver terminated early (max_iter=250).  Consider pre-processing your data with StandardScaler or MinMaxScaler.\n",
      "  warnings.warn(\n"
     ]
    },
    {
     "name": "stdout",
     "output_type": "stream",
     "text": [
      "[RBF] max_iter: 250, C: 100, gamma: 5, class_weight: {1: 2, -1: 1} -> accuracy: 0.8770\n",
      "              precision    recall  f1-score   support\n",
      "\n",
      "          -1       0.88      1.00      0.93     44201\n",
      "           1       0.51      0.01      0.01      6199\n",
      "\n",
      "    accuracy                           0.88     50400\n",
      "   macro avg       0.70      0.50      0.47     50400\n",
      "weighted avg       0.83      0.88      0.82     50400\n",
      "\n"
     ]
    },
    {
     "name": "stderr",
     "output_type": "stream",
     "text": [
      "c:\\Users\\codyb\\.vscode\\Py\\COMP7970-Homework\\Lib\\site-packages\\sklearn\\svm\\_base.py:305: ConvergenceWarning: Solver terminated early (max_iter=250).  Consider pre-processing your data with StandardScaler or MinMaxScaler.\n",
      "  warnings.warn(\n"
     ]
    },
    {
     "name": "stdout",
     "output_type": "stream",
     "text": [
      "[RBF] max_iter: 250, C: 100, gamma: 10, class_weight: balanced -> accuracy: 0.1258\n",
      "              precision    recall  f1-score   support\n",
      "\n",
      "          -1       1.00      0.00      0.01     44201\n",
      "           1       0.12      1.00      0.22      6199\n",
      "\n",
      "    accuracy                           0.13     50400\n",
      "   macro avg       0.56      0.50      0.11     50400\n",
      "weighted avg       0.89      0.13      0.03     50400\n",
      "\n"
     ]
    },
    {
     "name": "stderr",
     "output_type": "stream",
     "text": [
      "c:\\Users\\codyb\\.vscode\\Py\\COMP7970-Homework\\Lib\\site-packages\\sklearn\\svm\\_base.py:305: ConvergenceWarning: Solver terminated early (max_iter=250).  Consider pre-processing your data with StandardScaler or MinMaxScaler.\n",
      "  warnings.warn(\n"
     ]
    },
    {
     "name": "stdout",
     "output_type": "stream",
     "text": [
      "[RBF] max_iter: 250, C: 100, gamma: 10, class_weight: {1: 3, -1: 1} -> accuracy: 0.1254\n",
      "              precision    recall  f1-score   support\n",
      "\n",
      "          -1       1.00      0.00      0.01     44201\n",
      "           1       0.12      1.00      0.22      6199\n",
      "\n",
      "    accuracy                           0.13     50400\n",
      "   macro avg       0.56      0.50      0.11     50400\n",
      "weighted avg       0.89      0.13      0.03     50400\n",
      "\n"
     ]
    },
    {
     "name": "stderr",
     "output_type": "stream",
     "text": [
      "c:\\Users\\codyb\\.vscode\\Py\\COMP7970-Homework\\Lib\\site-packages\\sklearn\\svm\\_base.py:305: ConvergenceWarning: Solver terminated early (max_iter=250).  Consider pre-processing your data with StandardScaler or MinMaxScaler.\n",
      "  warnings.warn(\n"
     ]
    },
    {
     "name": "stdout",
     "output_type": "stream",
     "text": [
      "[RBF] max_iter: 250, C: 100, gamma: 10, class_weight: {1: 2, -1: 1} -> accuracy: 0.1251\n",
      "              precision    recall  f1-score   support\n",
      "\n",
      "          -1       1.00      0.00      0.00     44201\n",
      "           1       0.12      1.00      0.22      6199\n",
      "\n",
      "    accuracy                           0.13     50400\n",
      "   macro avg       0.56      0.50      0.11     50400\n",
      "weighted avg       0.89      0.13      0.03     50400\n",
      "\n"
     ]
    },
    {
     "name": "stderr",
     "output_type": "stream",
     "text": [
      "c:\\Users\\codyb\\.vscode\\Py\\COMP7970-Homework\\Lib\\site-packages\\sklearn\\svm\\_base.py:305: ConvergenceWarning: Solver terminated early (max_iter=250).  Consider pre-processing your data with StandardScaler or MinMaxScaler.\n",
      "  warnings.warn(\n"
     ]
    },
    {
     "name": "stdout",
     "output_type": "stream",
     "text": [
      "[RBF] max_iter: 250, C: 100, gamma: 100, class_weight: balanced -> accuracy: 0.1260\n",
      "              precision    recall  f1-score   support\n",
      "\n",
      "          -1       1.00      0.00      0.01     44201\n",
      "           1       0.12      1.00      0.22      6199\n",
      "\n",
      "    accuracy                           0.13     50400\n",
      "   macro avg       0.56      0.50      0.11     50400\n",
      "weighted avg       0.89      0.13      0.03     50400\n",
      "\n"
     ]
    },
    {
     "name": "stderr",
     "output_type": "stream",
     "text": [
      "c:\\Users\\codyb\\.vscode\\Py\\COMP7970-Homework\\Lib\\site-packages\\sklearn\\svm\\_base.py:305: ConvergenceWarning: Solver terminated early (max_iter=250).  Consider pre-processing your data with StandardScaler or MinMaxScaler.\n",
      "  warnings.warn(\n"
     ]
    },
    {
     "name": "stdout",
     "output_type": "stream",
     "text": [
      "[RBF] max_iter: 250, C: 100, gamma: 100, class_weight: {1: 3, -1: 1} -> accuracy: 0.1256\n",
      "              precision    recall  f1-score   support\n",
      "\n",
      "          -1       1.00      0.00      0.01     44201\n",
      "           1       0.12      1.00      0.22      6199\n",
      "\n",
      "    accuracy                           0.13     50400\n",
      "   macro avg       0.56      0.50      0.11     50400\n",
      "weighted avg       0.89      0.13      0.03     50400\n",
      "\n"
     ]
    },
    {
     "name": "stderr",
     "output_type": "stream",
     "text": [
      "c:\\Users\\codyb\\.vscode\\Py\\COMP7970-Homework\\Lib\\site-packages\\sklearn\\svm\\_base.py:305: ConvergenceWarning: Solver terminated early (max_iter=250).  Consider pre-processing your data with StandardScaler or MinMaxScaler.\n",
      "  warnings.warn(\n"
     ]
    },
    {
     "name": "stdout",
     "output_type": "stream",
     "text": [
      "[RBF] max_iter: 250, C: 100, gamma: 100, class_weight: {1: 2, -1: 1} -> accuracy: 0.1252\n",
      "              precision    recall  f1-score   support\n",
      "\n",
      "          -1       1.00      0.00      0.01     44201\n",
      "           1       0.12      1.00      0.22      6199\n",
      "\n",
      "    accuracy                           0.13     50400\n",
      "   macro avg       0.56      0.50      0.11     50400\n",
      "weighted avg       0.89      0.13      0.03     50400\n",
      "\n",
      "Saved RBF report to rbf_report.csv\n",
      "\n"
     ]
    },
    {
     "name": "stderr",
     "output_type": "stream",
     "text": [
      "c:\\Users\\codyb\\.vscode\\Py\\COMP7970-Homework\\Lib\\site-packages\\sklearn\\svm\\_base.py:305: ConvergenceWarning: Solver terminated early (max_iter=250).  Consider pre-processing your data with StandardScaler or MinMaxScaler.\n",
      "  warnings.warn(\n"
     ]
    },
    {
     "name": "stdout",
     "output_type": "stream",
     "text": [
      "[Poly] max_iter: 250, C: 0.001, gamma: 0.001, degree: 2, class_weight: balanced -> accuracy: 0.1230\n",
      "              precision    recall  f1-score   support\n",
      "\n",
      "          -1       0.00      0.00      0.00     44201\n",
      "           1       0.12      1.00      0.22      6199\n",
      "\n",
      "    accuracy                           0.12     50400\n",
      "   macro avg       0.06      0.50      0.11     50400\n",
      "weighted avg       0.02      0.12      0.03     50400\n",
      "\n"
     ]
    },
    {
     "name": "stderr",
     "output_type": "stream",
     "text": [
      "c:\\Users\\codyb\\.vscode\\Py\\COMP7970-Homework\\Lib\\site-packages\\sklearn\\svm\\_base.py:305: ConvergenceWarning: Solver terminated early (max_iter=250).  Consider pre-processing your data with StandardScaler or MinMaxScaler.\n",
      "  warnings.warn(\n"
     ]
    },
    {
     "name": "stdout",
     "output_type": "stream",
     "text": [
      "[Poly] max_iter: 250, C: 0.001, gamma: 0.001, degree: 2, class_weight: {1: 3, -1: 1} -> accuracy: 0.1230\n",
      "              precision    recall  f1-score   support\n",
      "\n",
      "          -1       0.00      0.00      0.00     44201\n",
      "           1       0.12      1.00      0.22      6199\n",
      "\n",
      "    accuracy                           0.12     50400\n",
      "   macro avg       0.06      0.50      0.11     50400\n",
      "weighted avg       0.02      0.12      0.03     50400\n",
      "\n"
     ]
    },
    {
     "name": "stderr",
     "output_type": "stream",
     "text": [
      "c:\\Users\\codyb\\.vscode\\Py\\COMP7970-Homework\\Lib\\site-packages\\sklearn\\svm\\_base.py:305: ConvergenceWarning: Solver terminated early (max_iter=250).  Consider pre-processing your data with StandardScaler or MinMaxScaler.\n",
      "  warnings.warn(\n"
     ]
    },
    {
     "name": "stdout",
     "output_type": "stream",
     "text": [
      "[Poly] max_iter: 250, C: 0.001, gamma: 0.001, degree: 2, class_weight: {1: 2, -1: 1} -> accuracy: 0.1230\n",
      "              precision    recall  f1-score   support\n",
      "\n",
      "          -1       0.00      0.00      0.00     44201\n",
      "           1       0.12      1.00      0.22      6199\n",
      "\n",
      "    accuracy                           0.12     50400\n",
      "   macro avg       0.06      0.50      0.11     50400\n",
      "weighted avg       0.02      0.12      0.03     50400\n",
      "\n"
     ]
    },
    {
     "name": "stderr",
     "output_type": "stream",
     "text": [
      "c:\\Users\\codyb\\.vscode\\Py\\COMP7970-Homework\\Lib\\site-packages\\sklearn\\svm\\_base.py:305: ConvergenceWarning: Solver terminated early (max_iter=250).  Consider pre-processing your data with StandardScaler or MinMaxScaler.\n",
      "  warnings.warn(\n"
     ]
    },
    {
     "name": "stdout",
     "output_type": "stream",
     "text": [
      "[Poly] max_iter: 250, C: 0.001, gamma: 0.001, degree: 3, class_weight: balanced -> accuracy: 0.1230\n",
      "              precision    recall  f1-score   support\n",
      "\n",
      "          -1       0.00      0.00      0.00     44201\n",
      "           1       0.12      1.00      0.22      6199\n",
      "\n",
      "    accuracy                           0.12     50400\n",
      "   macro avg       0.06      0.50      0.11     50400\n",
      "weighted avg       0.02      0.12      0.03     50400\n",
      "\n"
     ]
    },
    {
     "name": "stderr",
     "output_type": "stream",
     "text": [
      "c:\\Users\\codyb\\.vscode\\Py\\COMP7970-Homework\\Lib\\site-packages\\sklearn\\svm\\_base.py:305: ConvergenceWarning: Solver terminated early (max_iter=250).  Consider pre-processing your data with StandardScaler or MinMaxScaler.\n",
      "  warnings.warn(\n"
     ]
    },
    {
     "name": "stdout",
     "output_type": "stream",
     "text": [
      "[Poly] max_iter: 250, C: 0.001, gamma: 0.001, degree: 3, class_weight: {1: 3, -1: 1} -> accuracy: 0.1230\n",
      "              precision    recall  f1-score   support\n",
      "\n",
      "          -1       0.00      0.00      0.00     44201\n",
      "           1       0.12      1.00      0.22      6199\n",
      "\n",
      "    accuracy                           0.12     50400\n",
      "   macro avg       0.06      0.50      0.11     50400\n",
      "weighted avg       0.02      0.12      0.03     50400\n",
      "\n"
     ]
    },
    {
     "name": "stderr",
     "output_type": "stream",
     "text": [
      "c:\\Users\\codyb\\.vscode\\Py\\COMP7970-Homework\\Lib\\site-packages\\sklearn\\svm\\_base.py:305: ConvergenceWarning: Solver terminated early (max_iter=250).  Consider pre-processing your data with StandardScaler or MinMaxScaler.\n",
      "  warnings.warn(\n"
     ]
    },
    {
     "name": "stdout",
     "output_type": "stream",
     "text": [
      "[Poly] max_iter: 250, C: 0.001, gamma: 0.001, degree: 3, class_weight: {1: 2, -1: 1} -> accuracy: 0.1230\n",
      "              precision    recall  f1-score   support\n",
      "\n",
      "          -1       0.00      0.00      0.00     44201\n",
      "           1       0.12      1.00      0.22      6199\n",
      "\n",
      "    accuracy                           0.12     50400\n",
      "   macro avg       0.06      0.50      0.11     50400\n",
      "weighted avg       0.02      0.12      0.03     50400\n",
      "\n"
     ]
    },
    {
     "name": "stderr",
     "output_type": "stream",
     "text": [
      "c:\\Users\\codyb\\.vscode\\Py\\COMP7970-Homework\\Lib\\site-packages\\sklearn\\svm\\_base.py:305: ConvergenceWarning: Solver terminated early (max_iter=250).  Consider pre-processing your data with StandardScaler or MinMaxScaler.\n",
      "  warnings.warn(\n"
     ]
    },
    {
     "name": "stdout",
     "output_type": "stream",
     "text": [
      "[Poly] max_iter: 250, C: 0.001, gamma: 0.001, degree: 4, class_weight: balanced -> accuracy: 0.1230\n",
      "              precision    recall  f1-score   support\n",
      "\n",
      "          -1       0.00      0.00      0.00     44201\n",
      "           1       0.12      1.00      0.22      6199\n",
      "\n",
      "    accuracy                           0.12     50400\n",
      "   macro avg       0.06      0.50      0.11     50400\n",
      "weighted avg       0.02      0.12      0.03     50400\n",
      "\n"
     ]
    },
    {
     "name": "stderr",
     "output_type": "stream",
     "text": [
      "c:\\Users\\codyb\\.vscode\\Py\\COMP7970-Homework\\Lib\\site-packages\\sklearn\\svm\\_base.py:305: ConvergenceWarning: Solver terminated early (max_iter=250).  Consider pre-processing your data with StandardScaler or MinMaxScaler.\n",
      "  warnings.warn(\n"
     ]
    },
    {
     "name": "stdout",
     "output_type": "stream",
     "text": [
      "[Poly] max_iter: 250, C: 0.001, gamma: 0.001, degree: 4, class_weight: {1: 3, -1: 1} -> accuracy: 0.1230\n",
      "              precision    recall  f1-score   support\n",
      "\n",
      "          -1       0.00      0.00      0.00     44201\n",
      "           1       0.12      1.00      0.22      6199\n",
      "\n",
      "    accuracy                           0.12     50400\n",
      "   macro avg       0.06      0.50      0.11     50400\n",
      "weighted avg       0.02      0.12      0.03     50400\n",
      "\n"
     ]
    },
    {
     "name": "stderr",
     "output_type": "stream",
     "text": [
      "c:\\Users\\codyb\\.vscode\\Py\\COMP7970-Homework\\Lib\\site-packages\\sklearn\\svm\\_base.py:305: ConvergenceWarning: Solver terminated early (max_iter=250).  Consider pre-processing your data with StandardScaler or MinMaxScaler.\n",
      "  warnings.warn(\n"
     ]
    },
    {
     "name": "stdout",
     "output_type": "stream",
     "text": [
      "[Poly] max_iter: 250, C: 0.001, gamma: 0.001, degree: 4, class_weight: {1: 2, -1: 1} -> accuracy: 0.1230\n",
      "              precision    recall  f1-score   support\n",
      "\n",
      "          -1       0.00      0.00      0.00     44201\n",
      "           1       0.12      1.00      0.22      6199\n",
      "\n",
      "    accuracy                           0.12     50400\n",
      "   macro avg       0.06      0.50      0.11     50400\n",
      "weighted avg       0.02      0.12      0.03     50400\n",
      "\n"
     ]
    },
    {
     "name": "stderr",
     "output_type": "stream",
     "text": [
      "c:\\Users\\codyb\\.vscode\\Py\\COMP7970-Homework\\Lib\\site-packages\\sklearn\\svm\\_base.py:305: ConvergenceWarning: Solver terminated early (max_iter=250).  Consider pre-processing your data with StandardScaler or MinMaxScaler.\n",
      "  warnings.warn(\n"
     ]
    },
    {
     "name": "stdout",
     "output_type": "stream",
     "text": [
      "[Poly] max_iter: 250, C: 0.001, gamma: 0.01, degree: 2, class_weight: balanced -> accuracy: 0.1230\n",
      "              precision    recall  f1-score   support\n",
      "\n",
      "          -1       0.00      0.00      0.00     44201\n",
      "           1       0.12      1.00      0.22      6199\n",
      "\n",
      "    accuracy                           0.12     50400\n",
      "   macro avg       0.06      0.50      0.11     50400\n",
      "weighted avg       0.02      0.12      0.03     50400\n",
      "\n"
     ]
    },
    {
     "name": "stderr",
     "output_type": "stream",
     "text": [
      "c:\\Users\\codyb\\.vscode\\Py\\COMP7970-Homework\\Lib\\site-packages\\sklearn\\svm\\_base.py:305: ConvergenceWarning: Solver terminated early (max_iter=250).  Consider pre-processing your data with StandardScaler or MinMaxScaler.\n",
      "  warnings.warn(\n"
     ]
    },
    {
     "name": "stdout",
     "output_type": "stream",
     "text": [
      "[Poly] max_iter: 250, C: 0.001, gamma: 0.01, degree: 2, class_weight: {1: 3, -1: 1} -> accuracy: 0.1230\n",
      "              precision    recall  f1-score   support\n",
      "\n",
      "          -1       0.00      0.00      0.00     44201\n",
      "           1       0.12      1.00      0.22      6199\n",
      "\n",
      "    accuracy                           0.12     50400\n",
      "   macro avg       0.06      0.50      0.11     50400\n",
      "weighted avg       0.02      0.12      0.03     50400\n",
      "\n"
     ]
    },
    {
     "name": "stderr",
     "output_type": "stream",
     "text": [
      "c:\\Users\\codyb\\.vscode\\Py\\COMP7970-Homework\\Lib\\site-packages\\sklearn\\svm\\_base.py:305: ConvergenceWarning: Solver terminated early (max_iter=250).  Consider pre-processing your data with StandardScaler or MinMaxScaler.\n",
      "  warnings.warn(\n"
     ]
    },
    {
     "name": "stdout",
     "output_type": "stream",
     "text": [
      "[Poly] max_iter: 250, C: 0.001, gamma: 0.01, degree: 2, class_weight: {1: 2, -1: 1} -> accuracy: 0.1230\n",
      "              precision    recall  f1-score   support\n",
      "\n",
      "          -1       0.00      0.00      0.00     44201\n",
      "           1       0.12      1.00      0.22      6199\n",
      "\n",
      "    accuracy                           0.12     50400\n",
      "   macro avg       0.06      0.50      0.11     50400\n",
      "weighted avg       0.02      0.12      0.03     50400\n",
      "\n"
     ]
    },
    {
     "name": "stderr",
     "output_type": "stream",
     "text": [
      "c:\\Users\\codyb\\.vscode\\Py\\COMP7970-Homework\\Lib\\site-packages\\sklearn\\svm\\_base.py:305: ConvergenceWarning: Solver terminated early (max_iter=250).  Consider pre-processing your data with StandardScaler or MinMaxScaler.\n",
      "  warnings.warn(\n"
     ]
    },
    {
     "name": "stdout",
     "output_type": "stream",
     "text": [
      "[Poly] max_iter: 250, C: 0.001, gamma: 0.01, degree: 3, class_weight: balanced -> accuracy: 0.1230\n",
      "              precision    recall  f1-score   support\n",
      "\n",
      "          -1       0.00      0.00      0.00     44201\n",
      "           1       0.12      1.00      0.22      6199\n",
      "\n",
      "    accuracy                           0.12     50400\n",
      "   macro avg       0.06      0.50      0.11     50400\n",
      "weighted avg       0.02      0.12      0.03     50400\n",
      "\n"
     ]
    },
    {
     "name": "stderr",
     "output_type": "stream",
     "text": [
      "c:\\Users\\codyb\\.vscode\\Py\\COMP7970-Homework\\Lib\\site-packages\\sklearn\\svm\\_base.py:305: ConvergenceWarning: Solver terminated early (max_iter=250).  Consider pre-processing your data with StandardScaler or MinMaxScaler.\n",
      "  warnings.warn(\n"
     ]
    },
    {
     "name": "stdout",
     "output_type": "stream",
     "text": [
      "[Poly] max_iter: 250, C: 0.001, gamma: 0.01, degree: 3, class_weight: {1: 3, -1: 1} -> accuracy: 0.1230\n",
      "              precision    recall  f1-score   support\n",
      "\n",
      "          -1       0.00      0.00      0.00     44201\n",
      "           1       0.12      1.00      0.22      6199\n",
      "\n",
      "    accuracy                           0.12     50400\n",
      "   macro avg       0.06      0.50      0.11     50400\n",
      "weighted avg       0.02      0.12      0.03     50400\n",
      "\n"
     ]
    },
    {
     "name": "stderr",
     "output_type": "stream",
     "text": [
      "c:\\Users\\codyb\\.vscode\\Py\\COMP7970-Homework\\Lib\\site-packages\\sklearn\\svm\\_base.py:305: ConvergenceWarning: Solver terminated early (max_iter=250).  Consider pre-processing your data with StandardScaler or MinMaxScaler.\n",
      "  warnings.warn(\n"
     ]
    },
    {
     "name": "stdout",
     "output_type": "stream",
     "text": [
      "[Poly] max_iter: 250, C: 0.001, gamma: 0.01, degree: 3, class_weight: {1: 2, -1: 1} -> accuracy: 0.1230\n",
      "              precision    recall  f1-score   support\n",
      "\n",
      "          -1       0.00      0.00      0.00     44201\n",
      "           1       0.12      1.00      0.22      6199\n",
      "\n",
      "    accuracy                           0.12     50400\n",
      "   macro avg       0.06      0.50      0.11     50400\n",
      "weighted avg       0.02      0.12      0.03     50400\n",
      "\n"
     ]
    },
    {
     "name": "stderr",
     "output_type": "stream",
     "text": [
      "c:\\Users\\codyb\\.vscode\\Py\\COMP7970-Homework\\Lib\\site-packages\\sklearn\\svm\\_base.py:305: ConvergenceWarning: Solver terminated early (max_iter=250).  Consider pre-processing your data with StandardScaler or MinMaxScaler.\n",
      "  warnings.warn(\n"
     ]
    },
    {
     "name": "stdout",
     "output_type": "stream",
     "text": [
      "[Poly] max_iter: 250, C: 0.001, gamma: 0.01, degree: 4, class_weight: balanced -> accuracy: 0.1230\n",
      "              precision    recall  f1-score   support\n",
      "\n",
      "          -1       0.00      0.00      0.00     44201\n",
      "           1       0.12      1.00      0.22      6199\n",
      "\n",
      "    accuracy                           0.12     50400\n",
      "   macro avg       0.06      0.50      0.11     50400\n",
      "weighted avg       0.02      0.12      0.03     50400\n",
      "\n"
     ]
    },
    {
     "name": "stderr",
     "output_type": "stream",
     "text": [
      "c:\\Users\\codyb\\.vscode\\Py\\COMP7970-Homework\\Lib\\site-packages\\sklearn\\svm\\_base.py:305: ConvergenceWarning: Solver terminated early (max_iter=250).  Consider pre-processing your data with StandardScaler or MinMaxScaler.\n",
      "  warnings.warn(\n"
     ]
    },
    {
     "name": "stdout",
     "output_type": "stream",
     "text": [
      "[Poly] max_iter: 250, C: 0.001, gamma: 0.01, degree: 4, class_weight: {1: 3, -1: 1} -> accuracy: 0.1230\n",
      "              precision    recall  f1-score   support\n",
      "\n",
      "          -1       0.00      0.00      0.00     44201\n",
      "           1       0.12      1.00      0.22      6199\n",
      "\n",
      "    accuracy                           0.12     50400\n",
      "   macro avg       0.06      0.50      0.11     50400\n",
      "weighted avg       0.02      0.12      0.03     50400\n",
      "\n"
     ]
    },
    {
     "name": "stderr",
     "output_type": "stream",
     "text": [
      "c:\\Users\\codyb\\.vscode\\Py\\COMP7970-Homework\\Lib\\site-packages\\sklearn\\svm\\_base.py:305: ConvergenceWarning: Solver terminated early (max_iter=250).  Consider pre-processing your data with StandardScaler or MinMaxScaler.\n",
      "  warnings.warn(\n"
     ]
    },
    {
     "name": "stdout",
     "output_type": "stream",
     "text": [
      "[Poly] max_iter: 250, C: 0.001, gamma: 0.01, degree: 4, class_weight: {1: 2, -1: 1} -> accuracy: 0.1230\n",
      "              precision    recall  f1-score   support\n",
      "\n",
      "          -1       0.00      0.00      0.00     44201\n",
      "           1       0.12      1.00      0.22      6199\n",
      "\n",
      "    accuracy                           0.12     50400\n",
      "   macro avg       0.06      0.50      0.11     50400\n",
      "weighted avg       0.02      0.12      0.03     50400\n",
      "\n"
     ]
    },
    {
     "name": "stderr",
     "output_type": "stream",
     "text": [
      "c:\\Users\\codyb\\.vscode\\Py\\COMP7970-Homework\\Lib\\site-packages\\sklearn\\svm\\_base.py:305: ConvergenceWarning: Solver terminated early (max_iter=250).  Consider pre-processing your data with StandardScaler or MinMaxScaler.\n",
      "  warnings.warn(\n"
     ]
    },
    {
     "name": "stdout",
     "output_type": "stream",
     "text": [
      "[Poly] max_iter: 250, C: 0.001, gamma: 0.1, degree: 2, class_weight: balanced -> accuracy: 0.1232\n",
      "              precision    recall  f1-score   support\n",
      "\n",
      "          -1       1.00      0.00      0.00     44201\n",
      "           1       0.12      1.00      0.22      6199\n",
      "\n",
      "    accuracy                           0.12     50400\n",
      "   macro avg       0.56      0.50      0.11     50400\n",
      "weighted avg       0.89      0.12      0.03     50400\n",
      "\n"
     ]
    },
    {
     "name": "stderr",
     "output_type": "stream",
     "text": [
      "c:\\Users\\codyb\\.vscode\\Py\\COMP7970-Homework\\Lib\\site-packages\\sklearn\\svm\\_base.py:305: ConvergenceWarning: Solver terminated early (max_iter=250).  Consider pre-processing your data with StandardScaler or MinMaxScaler.\n",
      "  warnings.warn(\n"
     ]
    },
    {
     "name": "stdout",
     "output_type": "stream",
     "text": [
      "[Poly] max_iter: 250, C: 0.001, gamma: 0.1, degree: 2, class_weight: {1: 3, -1: 1} -> accuracy: 0.1262\n",
      "              precision    recall  f1-score   support\n",
      "\n",
      "          -1       0.96      0.00      0.01     44201\n",
      "           1       0.12      1.00      0.22      6199\n",
      "\n",
      "    accuracy                           0.13     50400\n",
      "   macro avg       0.54      0.50      0.11     50400\n",
      "weighted avg       0.86      0.13      0.03     50400\n",
      "\n"
     ]
    },
    {
     "name": "stderr",
     "output_type": "stream",
     "text": [
      "c:\\Users\\codyb\\.vscode\\Py\\COMP7970-Homework\\Lib\\site-packages\\sklearn\\svm\\_base.py:305: ConvergenceWarning: Solver terminated early (max_iter=250).  Consider pre-processing your data with StandardScaler or MinMaxScaler.\n",
      "  warnings.warn(\n"
     ]
    },
    {
     "name": "stdout",
     "output_type": "stream",
     "text": [
      "[Poly] max_iter: 250, C: 0.001, gamma: 0.1, degree: 2, class_weight: {1: 2, -1: 1} -> accuracy: 0.1270\n",
      "              precision    recall  f1-score   support\n",
      "\n",
      "          -1       0.94      0.00      0.01     44201\n",
      "           1       0.12      1.00      0.22      6199\n",
      "\n",
      "    accuracy                           0.13     50400\n",
      "   macro avg       0.53      0.50      0.11     50400\n",
      "weighted avg       0.84      0.13      0.04     50400\n",
      "\n"
     ]
    },
    {
     "name": "stderr",
     "output_type": "stream",
     "text": [
      "c:\\Users\\codyb\\.vscode\\Py\\COMP7970-Homework\\Lib\\site-packages\\sklearn\\svm\\_base.py:305: ConvergenceWarning: Solver terminated early (max_iter=250).  Consider pre-processing your data with StandardScaler or MinMaxScaler.\n",
      "  warnings.warn(\n"
     ]
    },
    {
     "name": "stdout",
     "output_type": "stream",
     "text": [
      "[Poly] max_iter: 250, C: 0.001, gamma: 0.1, degree: 3, class_weight: balanced -> accuracy: 0.1302\n",
      "              precision    recall  f1-score   support\n",
      "\n",
      "          -1       0.96      0.01      0.02     44201\n",
      "           1       0.12      1.00      0.22      6199\n",
      "\n",
      "    accuracy                           0.13     50400\n",
      "   macro avg       0.54      0.50      0.12     50400\n",
      "weighted avg       0.86      0.13      0.04     50400\n",
      "\n"
     ]
    },
    {
     "name": "stderr",
     "output_type": "stream",
     "text": [
      "c:\\Users\\codyb\\.vscode\\Py\\COMP7970-Homework\\Lib\\site-packages\\sklearn\\svm\\_base.py:305: ConvergenceWarning: Solver terminated early (max_iter=250).  Consider pre-processing your data with StandardScaler or MinMaxScaler.\n",
      "  warnings.warn(\n"
     ]
    },
    {
     "name": "stdout",
     "output_type": "stream",
     "text": [
      "[Poly] max_iter: 250, C: 0.001, gamma: 0.1, degree: 3, class_weight: {1: 3, -1: 1} -> accuracy: 0.1290\n",
      "              precision    recall  f1-score   support\n",
      "\n",
      "          -1       0.95      0.01      0.01     44201\n",
      "           1       0.12      1.00      0.22      6199\n",
      "\n",
      "    accuracy                           0.13     50400\n",
      "   macro avg       0.54      0.50      0.12     50400\n",
      "weighted avg       0.85      0.13      0.04     50400\n",
      "\n"
     ]
    },
    {
     "name": "stderr",
     "output_type": "stream",
     "text": [
      "c:\\Users\\codyb\\.vscode\\Py\\COMP7970-Homework\\Lib\\site-packages\\sklearn\\svm\\_base.py:305: ConvergenceWarning: Solver terminated early (max_iter=250).  Consider pre-processing your data with StandardScaler or MinMaxScaler.\n",
      "  warnings.warn(\n"
     ]
    },
    {
     "name": "stdout",
     "output_type": "stream",
     "text": [
      "[Poly] max_iter: 250, C: 0.001, gamma: 0.1, degree: 3, class_weight: {1: 2, -1: 1} -> accuracy: 0.1318\n",
      "              precision    recall  f1-score   support\n",
      "\n",
      "          -1       0.96      0.01      0.02     44201\n",
      "           1       0.12      1.00      0.22      6199\n",
      "\n",
      "    accuracy                           0.13     50400\n",
      "   macro avg       0.54      0.50      0.12     50400\n",
      "weighted avg       0.86      0.13      0.05     50400\n",
      "\n"
     ]
    },
    {
     "name": "stderr",
     "output_type": "stream",
     "text": [
      "c:\\Users\\codyb\\.vscode\\Py\\COMP7970-Homework\\Lib\\site-packages\\sklearn\\svm\\_base.py:305: ConvergenceWarning: Solver terminated early (max_iter=250).  Consider pre-processing your data with StandardScaler or MinMaxScaler.\n",
      "  warnings.warn(\n"
     ]
    },
    {
     "name": "stdout",
     "output_type": "stream",
     "text": [
      "[Poly] max_iter: 250, C: 0.001, gamma: 0.1, degree: 4, class_weight: balanced -> accuracy: 0.1291\n",
      "              precision    recall  f1-score   support\n",
      "\n",
      "          -1       0.96      0.01      0.01     44201\n",
      "           1       0.12      1.00      0.22      6199\n",
      "\n",
      "    accuracy                           0.13     50400\n",
      "   macro avg       0.54      0.50      0.12     50400\n",
      "weighted avg       0.86      0.13      0.04     50400\n",
      "\n"
     ]
    },
    {
     "name": "stderr",
     "output_type": "stream",
     "text": [
      "c:\\Users\\codyb\\.vscode\\Py\\COMP7970-Homework\\Lib\\site-packages\\sklearn\\svm\\_base.py:305: ConvergenceWarning: Solver terminated early (max_iter=250).  Consider pre-processing your data with StandardScaler or MinMaxScaler.\n",
      "  warnings.warn(\n"
     ]
    },
    {
     "name": "stdout",
     "output_type": "stream",
     "text": [
      "[Poly] max_iter: 250, C: 0.001, gamma: 0.1, degree: 4, class_weight: {1: 3, -1: 1} -> accuracy: 0.1353\n",
      "              precision    recall  f1-score   support\n",
      "\n",
      "          -1       0.92      0.02      0.03     44201\n",
      "           1       0.12      0.99      0.22      6199\n",
      "\n",
      "    accuracy                           0.14     50400\n",
      "   macro avg       0.52      0.50      0.13     50400\n",
      "weighted avg       0.82      0.14      0.05     50400\n",
      "\n"
     ]
    },
    {
     "name": "stderr",
     "output_type": "stream",
     "text": [
      "c:\\Users\\codyb\\.vscode\\Py\\COMP7970-Homework\\Lib\\site-packages\\sklearn\\svm\\_base.py:305: ConvergenceWarning: Solver terminated early (max_iter=250).  Consider pre-processing your data with StandardScaler or MinMaxScaler.\n",
      "  warnings.warn(\n"
     ]
    },
    {
     "name": "stdout",
     "output_type": "stream",
     "text": [
      "[Poly] max_iter: 250, C: 0.001, gamma: 0.1, degree: 4, class_weight: {1: 2, -1: 1} -> accuracy: 0.1278\n",
      "              precision    recall  f1-score   support\n",
      "\n",
      "          -1       0.92      0.01      0.01     44201\n",
      "           1       0.12      1.00      0.22      6199\n",
      "\n",
      "    accuracy                           0.13     50400\n",
      "   macro avg       0.52      0.50      0.12     50400\n",
      "weighted avg       0.82      0.13      0.04     50400\n",
      "\n"
     ]
    },
    {
     "name": "stderr",
     "output_type": "stream",
     "text": [
      "c:\\Users\\codyb\\.vscode\\Py\\COMP7970-Homework\\Lib\\site-packages\\sklearn\\svm\\_base.py:305: ConvergenceWarning: Solver terminated early (max_iter=250).  Consider pre-processing your data with StandardScaler or MinMaxScaler.\n",
      "  warnings.warn(\n"
     ]
    },
    {
     "name": "stdout",
     "output_type": "stream",
     "text": [
      "[Poly] max_iter: 250, C: 0.001, gamma: 1, degree: 2, class_weight: balanced -> accuracy: 0.8748\n",
      "              precision    recall  f1-score   support\n",
      "\n",
      "          -1       0.88      1.00      0.93     44201\n",
      "           1       0.19      0.01      0.01      6199\n",
      "\n",
      "    accuracy                           0.87     50400\n",
      "   macro avg       0.53      0.50      0.47     50400\n",
      "weighted avg       0.79      0.87      0.82     50400\n",
      "\n"
     ]
    },
    {
     "name": "stderr",
     "output_type": "stream",
     "text": [
      "c:\\Users\\codyb\\.vscode\\Py\\COMP7970-Homework\\Lib\\site-packages\\sklearn\\svm\\_base.py:305: ConvergenceWarning: Solver terminated early (max_iter=250).  Consider pre-processing your data with StandardScaler or MinMaxScaler.\n",
      "  warnings.warn(\n"
     ]
    },
    {
     "name": "stdout",
     "output_type": "stream",
     "text": [
      "[Poly] max_iter: 250, C: 0.001, gamma: 1, degree: 2, class_weight: {1: 3, -1: 1} -> accuracy: 0.8724\n",
      "              precision    recall  f1-score   support\n",
      "\n",
      "          -1       0.88      0.99      0.93     44201\n",
      "           1       0.18      0.01      0.02      6199\n",
      "\n",
      "    accuracy                           0.87     50400\n",
      "   macro avg       0.53      0.50      0.48     50400\n",
      "weighted avg       0.79      0.87      0.82     50400\n",
      "\n"
     ]
    },
    {
     "name": "stderr",
     "output_type": "stream",
     "text": [
      "c:\\Users\\codyb\\.vscode\\Py\\COMP7970-Homework\\Lib\\site-packages\\sklearn\\svm\\_base.py:305: ConvergenceWarning: Solver terminated early (max_iter=250).  Consider pre-processing your data with StandardScaler or MinMaxScaler.\n",
      "  warnings.warn(\n"
     ]
    },
    {
     "name": "stdout",
     "output_type": "stream",
     "text": [
      "[Poly] max_iter: 250, C: 0.001, gamma: 1, degree: 2, class_weight: {1: 2, -1: 1} -> accuracy: 0.8699\n",
      "              precision    recall  f1-score   support\n",
      "\n",
      "          -1       0.88      0.99      0.93     44201\n",
      "           1       0.17      0.01      0.03      6199\n",
      "\n",
      "    accuracy                           0.87     50400\n",
      "   macro avg       0.52      0.50      0.48     50400\n",
      "weighted avg       0.79      0.87      0.82     50400\n",
      "\n"
     ]
    },
    {
     "name": "stderr",
     "output_type": "stream",
     "text": [
      "c:\\Users\\codyb\\.vscode\\Py\\COMP7970-Homework\\Lib\\site-packages\\sklearn\\svm\\_base.py:305: ConvergenceWarning: Solver terminated early (max_iter=250).  Consider pre-processing your data with StandardScaler or MinMaxScaler.\n",
      "  warnings.warn(\n"
     ]
    },
    {
     "name": "stdout",
     "output_type": "stream",
     "text": [
      "[Poly] max_iter: 250, C: 0.001, gamma: 1, degree: 3, class_weight: balanced -> accuracy: 0.1316\n",
      "              precision    recall  f1-score   support\n",
      "\n",
      "          -1       0.95      0.01      0.02     44201\n",
      "           1       0.12      1.00      0.22      6199\n",
      "\n",
      "    accuracy                           0.13     50400\n",
      "   macro avg       0.54      0.50      0.12     50400\n",
      "weighted avg       0.85      0.13      0.05     50400\n",
      "\n"
     ]
    },
    {
     "name": "stderr",
     "output_type": "stream",
     "text": [
      "c:\\Users\\codyb\\.vscode\\Py\\COMP7970-Homework\\Lib\\site-packages\\sklearn\\svm\\_base.py:305: ConvergenceWarning: Solver terminated early (max_iter=250).  Consider pre-processing your data with StandardScaler or MinMaxScaler.\n",
      "  warnings.warn(\n"
     ]
    },
    {
     "name": "stdout",
     "output_type": "stream",
     "text": [
      "[Poly] max_iter: 250, C: 0.001, gamma: 1, degree: 3, class_weight: {1: 3, -1: 1} -> accuracy: 0.1278\n",
      "              precision    recall  f1-score   support\n",
      "\n",
      "          -1       0.97      0.01      0.01     44201\n",
      "           1       0.12      1.00      0.22      6199\n",
      "\n",
      "    accuracy                           0.13     50400\n",
      "   macro avg       0.54      0.50      0.12     50400\n",
      "weighted avg       0.86      0.13      0.04     50400\n",
      "\n"
     ]
    },
    {
     "name": "stderr",
     "output_type": "stream",
     "text": [
      "c:\\Users\\codyb\\.vscode\\Py\\COMP7970-Homework\\Lib\\site-packages\\sklearn\\svm\\_base.py:305: ConvergenceWarning: Solver terminated early (max_iter=250).  Consider pre-processing your data with StandardScaler or MinMaxScaler.\n",
      "  warnings.warn(\n"
     ]
    },
    {
     "name": "stdout",
     "output_type": "stream",
     "text": [
      "[Poly] max_iter: 250, C: 0.001, gamma: 1, degree: 3, class_weight: {1: 2, -1: 1} -> accuracy: 0.1292\n",
      "              precision    recall  f1-score   support\n",
      "\n",
      "          -1       0.94      0.01      0.02     44201\n",
      "           1       0.12      1.00      0.22      6199\n",
      "\n",
      "    accuracy                           0.13     50400\n",
      "   macro avg       0.53      0.50      0.12     50400\n",
      "weighted avg       0.84      0.13      0.04     50400\n",
      "\n"
     ]
    },
    {
     "name": "stderr",
     "output_type": "stream",
     "text": [
      "c:\\Users\\codyb\\.vscode\\Py\\COMP7970-Homework\\Lib\\site-packages\\sklearn\\svm\\_base.py:305: ConvergenceWarning: Solver terminated early (max_iter=250).  Consider pre-processing your data with StandardScaler or MinMaxScaler.\n",
      "  warnings.warn(\n"
     ]
    },
    {
     "name": "stdout",
     "output_type": "stream",
     "text": [
      "[Poly] max_iter: 250, C: 0.001, gamma: 1, degree: 4, class_weight: balanced -> accuracy: 0.1295\n",
      "              precision    recall  f1-score   support\n",
      "\n",
      "          -1       0.96      0.01      0.02     44201\n",
      "           1       0.12      1.00      0.22      6199\n",
      "\n",
      "    accuracy                           0.13     50400\n",
      "   macro avg       0.54      0.50      0.12     50400\n",
      "weighted avg       0.86      0.13      0.04     50400\n",
      "\n"
     ]
    },
    {
     "name": "stderr",
     "output_type": "stream",
     "text": [
      "c:\\Users\\codyb\\.vscode\\Py\\COMP7970-Homework\\Lib\\site-packages\\sklearn\\svm\\_base.py:305: ConvergenceWarning: Solver terminated early (max_iter=250).  Consider pre-processing your data with StandardScaler or MinMaxScaler.\n",
      "  warnings.warn(\n"
     ]
    },
    {
     "name": "stdout",
     "output_type": "stream",
     "text": [
      "[Poly] max_iter: 250, C: 0.001, gamma: 1, degree: 4, class_weight: {1: 3, -1: 1} -> accuracy: 0.8750\n",
      "              precision    recall  f1-score   support\n",
      "\n",
      "          -1       0.88      1.00      0.93     44201\n",
      "           1       0.23      0.01      0.01      6199\n",
      "\n",
      "    accuracy                           0.88     50400\n",
      "   macro avg       0.55      0.50      0.47     50400\n",
      "weighted avg       0.80      0.88      0.82     50400\n",
      "\n"
     ]
    },
    {
     "name": "stderr",
     "output_type": "stream",
     "text": [
      "c:\\Users\\codyb\\.vscode\\Py\\COMP7970-Homework\\Lib\\site-packages\\sklearn\\svm\\_base.py:305: ConvergenceWarning: Solver terminated early (max_iter=250).  Consider pre-processing your data with StandardScaler or MinMaxScaler.\n",
      "  warnings.warn(\n"
     ]
    },
    {
     "name": "stdout",
     "output_type": "stream",
     "text": [
      "[Poly] max_iter: 250, C: 0.001, gamma: 1, degree: 4, class_weight: {1: 2, -1: 1} -> accuracy: 0.1278\n",
      "              precision    recall  f1-score   support\n",
      "\n",
      "          -1       0.92      0.01      0.01     44201\n",
      "           1       0.12      1.00      0.22      6199\n",
      "\n",
      "    accuracy                           0.13     50400\n",
      "   macro avg       0.52      0.50      0.12     50400\n",
      "weighted avg       0.82      0.13      0.04     50400\n",
      "\n"
     ]
    },
    {
     "name": "stderr",
     "output_type": "stream",
     "text": [
      "c:\\Users\\codyb\\.vscode\\Py\\COMP7970-Homework\\Lib\\site-packages\\sklearn\\svm\\_base.py:305: ConvergenceWarning: Solver terminated early (max_iter=250).  Consider pre-processing your data with StandardScaler or MinMaxScaler.\n",
      "  warnings.warn(\n"
     ]
    },
    {
     "name": "stdout",
     "output_type": "stream",
     "text": [
      "[Poly] max_iter: 250, C: 0.001, gamma: 5, degree: 2, class_weight: balanced -> accuracy: 0.3121\n",
      "              precision    recall  f1-score   support\n",
      "\n",
      "          -1       0.89      0.25      0.39     44201\n",
      "           1       0.13      0.77      0.22      6199\n",
      "\n",
      "    accuracy                           0.31     50400\n",
      "   macro avg       0.51      0.51      0.30     50400\n",
      "weighted avg       0.79      0.31      0.37     50400\n",
      "\n"
     ]
    },
    {
     "name": "stderr",
     "output_type": "stream",
     "text": [
      "c:\\Users\\codyb\\.vscode\\Py\\COMP7970-Homework\\Lib\\site-packages\\sklearn\\svm\\_base.py:305: ConvergenceWarning: Solver terminated early (max_iter=250).  Consider pre-processing your data with StandardScaler or MinMaxScaler.\n",
      "  warnings.warn(\n"
     ]
    },
    {
     "name": "stdout",
     "output_type": "stream",
     "text": [
      "[Poly] max_iter: 250, C: 0.001, gamma: 5, degree: 2, class_weight: {1: 3, -1: 1} -> accuracy: 0.4497\n",
      "              precision    recall  f1-score   support\n",
      "\n",
      "          -1       0.88      0.43      0.58     44201\n",
      "           1       0.12      0.58      0.21      6199\n",
      "\n",
      "    accuracy                           0.45     50400\n",
      "   macro avg       0.50      0.50      0.39     50400\n",
      "weighted avg       0.79      0.45      0.53     50400\n",
      "\n"
     ]
    },
    {
     "name": "stderr",
     "output_type": "stream",
     "text": [
      "c:\\Users\\codyb\\.vscode\\Py\\COMP7970-Homework\\Lib\\site-packages\\sklearn\\svm\\_base.py:305: ConvergenceWarning: Solver terminated early (max_iter=250).  Consider pre-processing your data with StandardScaler or MinMaxScaler.\n",
      "  warnings.warn(\n"
     ]
    },
    {
     "name": "stdout",
     "output_type": "stream",
     "text": [
      "[Poly] max_iter: 250, C: 0.001, gamma: 5, degree: 2, class_weight: {1: 2, -1: 1} -> accuracy: 0.1455\n",
      "              precision    recall  f1-score   support\n",
      "\n",
      "          -1       0.88      0.03      0.06     44201\n",
      "           1       0.12      0.97      0.22      6199\n",
      "\n",
      "    accuracy                           0.15     50400\n",
      "   macro avg       0.50      0.50      0.14     50400\n",
      "weighted avg       0.79      0.15      0.08     50400\n",
      "\n"
     ]
    },
    {
     "name": "stderr",
     "output_type": "stream",
     "text": [
      "c:\\Users\\codyb\\.vscode\\Py\\COMP7970-Homework\\Lib\\site-packages\\sklearn\\svm\\_base.py:305: ConvergenceWarning: Solver terminated early (max_iter=250).  Consider pre-processing your data with StandardScaler or MinMaxScaler.\n",
      "  warnings.warn(\n"
     ]
    },
    {
     "name": "stdout",
     "output_type": "stream",
     "text": [
      "[Poly] max_iter: 250, C: 0.001, gamma: 5, degree: 3, class_weight: balanced -> accuracy: 0.1316\n",
      "              precision    recall  f1-score   support\n",
      "\n",
      "          -1       0.95      0.01      0.02     44201\n",
      "           1       0.12      1.00      0.22      6199\n",
      "\n",
      "    accuracy                           0.13     50400\n",
      "   macro avg       0.54      0.50      0.12     50400\n",
      "weighted avg       0.85      0.13      0.05     50400\n",
      "\n"
     ]
    },
    {
     "name": "stderr",
     "output_type": "stream",
     "text": [
      "c:\\Users\\codyb\\.vscode\\Py\\COMP7970-Homework\\Lib\\site-packages\\sklearn\\svm\\_base.py:305: ConvergenceWarning: Solver terminated early (max_iter=250).  Consider pre-processing your data with StandardScaler or MinMaxScaler.\n",
      "  warnings.warn(\n"
     ]
    },
    {
     "name": "stdout",
     "output_type": "stream",
     "text": [
      "[Poly] max_iter: 250, C: 0.001, gamma: 5, degree: 3, class_weight: {1: 3, -1: 1} -> accuracy: 0.1278\n",
      "              precision    recall  f1-score   support\n",
      "\n",
      "          -1       0.97      0.01      0.01     44201\n",
      "           1       0.12      1.00      0.22      6199\n",
      "\n",
      "    accuracy                           0.13     50400\n",
      "   macro avg       0.54      0.50      0.12     50400\n",
      "weighted avg       0.86      0.13      0.04     50400\n",
      "\n"
     ]
    },
    {
     "name": "stderr",
     "output_type": "stream",
     "text": [
      "c:\\Users\\codyb\\.vscode\\Py\\COMP7970-Homework\\Lib\\site-packages\\sklearn\\svm\\_base.py:305: ConvergenceWarning: Solver terminated early (max_iter=250).  Consider pre-processing your data with StandardScaler or MinMaxScaler.\n",
      "  warnings.warn(\n"
     ]
    },
    {
     "name": "stdout",
     "output_type": "stream",
     "text": [
      "[Poly] max_iter: 250, C: 0.001, gamma: 5, degree: 3, class_weight: {1: 2, -1: 1} -> accuracy: 0.1288\n",
      "              precision    recall  f1-score   support\n",
      "\n",
      "          -1       0.97      0.01      0.01     44201\n",
      "           1       0.12      1.00      0.22      6199\n",
      "\n",
      "    accuracy                           0.13     50400\n",
      "   macro avg       0.55      0.50      0.12     50400\n",
      "weighted avg       0.86      0.13      0.04     50400\n",
      "\n"
     ]
    },
    {
     "name": "stderr",
     "output_type": "stream",
     "text": [
      "c:\\Users\\codyb\\.vscode\\Py\\COMP7970-Homework\\Lib\\site-packages\\sklearn\\svm\\_base.py:305: ConvergenceWarning: Solver terminated early (max_iter=250).  Consider pre-processing your data with StandardScaler or MinMaxScaler.\n",
      "  warnings.warn(\n"
     ]
    },
    {
     "name": "stdout",
     "output_type": "stream",
     "text": [
      "[Poly] max_iter: 250, C: 0.001, gamma: 5, degree: 4, class_weight: balanced -> accuracy: 0.8770\n",
      "              precision    recall  f1-score   support\n",
      "\n",
      "          -1       0.88      1.00      0.93     44201\n",
      "           1       0.43      0.00      0.00      6199\n",
      "\n",
      "    accuracy                           0.88     50400\n",
      "   macro avg       0.65      0.50      0.47     50400\n",
      "weighted avg       0.82      0.88      0.82     50400\n",
      "\n"
     ]
    },
    {
     "name": "stderr",
     "output_type": "stream",
     "text": [
      "c:\\Users\\codyb\\.vscode\\Py\\COMP7970-Homework\\Lib\\site-packages\\sklearn\\svm\\_base.py:305: ConvergenceWarning: Solver terminated early (max_iter=250).  Consider pre-processing your data with StandardScaler or MinMaxScaler.\n",
      "  warnings.warn(\n"
     ]
    },
    {
     "name": "stdout",
     "output_type": "stream",
     "text": [
      "[Poly] max_iter: 250, C: 0.001, gamma: 5, degree: 4, class_weight: {1: 3, -1: 1} -> accuracy: 0.8770\n",
      "              precision    recall  f1-score   support\n",
      "\n",
      "          -1       0.88      1.00      0.93     44201\n",
      "           1       0.43      0.00      0.00      6199\n",
      "\n",
      "    accuracy                           0.88     50400\n",
      "   macro avg       0.65      0.50      0.47     50400\n",
      "weighted avg       0.82      0.88      0.82     50400\n",
      "\n"
     ]
    },
    {
     "name": "stderr",
     "output_type": "stream",
     "text": [
      "c:\\Users\\codyb\\.vscode\\Py\\COMP7970-Homework\\Lib\\site-packages\\sklearn\\svm\\_base.py:305: ConvergenceWarning: Solver terminated early (max_iter=250).  Consider pre-processing your data with StandardScaler or MinMaxScaler.\n",
      "  warnings.warn(\n"
     ]
    },
    {
     "name": "stdout",
     "output_type": "stream",
     "text": [
      "[Poly] max_iter: 250, C: 0.001, gamma: 5, degree: 4, class_weight: {1: 2, -1: 1} -> accuracy: 0.8770\n",
      "              precision    recall  f1-score   support\n",
      "\n",
      "          -1       0.88      1.00      0.93     44201\n",
      "           1       0.43      0.00      0.00      6199\n",
      "\n",
      "    accuracy                           0.88     50400\n",
      "   macro avg       0.65      0.50      0.47     50400\n",
      "weighted avg       0.82      0.88      0.82     50400\n",
      "\n"
     ]
    },
    {
     "name": "stderr",
     "output_type": "stream",
     "text": [
      "c:\\Users\\codyb\\.vscode\\Py\\COMP7970-Homework\\Lib\\site-packages\\sklearn\\svm\\_base.py:305: ConvergenceWarning: Solver terminated early (max_iter=250).  Consider pre-processing your data with StandardScaler or MinMaxScaler.\n",
      "  warnings.warn(\n"
     ]
    },
    {
     "name": "stdout",
     "output_type": "stream",
     "text": [
      "[Poly] max_iter: 250, C: 0.001, gamma: 10, degree: 2, class_weight: balanced -> accuracy: 0.5211\n",
      "              precision    recall  f1-score   support\n",
      "\n",
      "          -1       0.88      0.53      0.66     44201\n",
      "           1       0.13      0.49      0.20      6199\n",
      "\n",
      "    accuracy                           0.52     50400\n",
      "   macro avg       0.50      0.51      0.43     50400\n",
      "weighted avg       0.79      0.52      0.60     50400\n",
      "\n"
     ]
    },
    {
     "name": "stderr",
     "output_type": "stream",
     "text": [
      "c:\\Users\\codyb\\.vscode\\Py\\COMP7970-Homework\\Lib\\site-packages\\sklearn\\svm\\_base.py:305: ConvergenceWarning: Solver terminated early (max_iter=250).  Consider pre-processing your data with StandardScaler or MinMaxScaler.\n",
      "  warnings.warn(\n"
     ]
    },
    {
     "name": "stdout",
     "output_type": "stream",
     "text": [
      "[Poly] max_iter: 250, C: 0.001, gamma: 10, degree: 2, class_weight: {1: 3, -1: 1} -> accuracy: 0.4497\n",
      "              precision    recall  f1-score   support\n",
      "\n",
      "          -1       0.88      0.43      0.58     44201\n",
      "           1       0.12      0.58      0.21      6199\n",
      "\n",
      "    accuracy                           0.45     50400\n",
      "   macro avg       0.50      0.50      0.39     50400\n",
      "weighted avg       0.79      0.45      0.53     50400\n",
      "\n"
     ]
    },
    {
     "name": "stderr",
     "output_type": "stream",
     "text": [
      "c:\\Users\\codyb\\.vscode\\Py\\COMP7970-Homework\\Lib\\site-packages\\sklearn\\svm\\_base.py:305: ConvergenceWarning: Solver terminated early (max_iter=250).  Consider pre-processing your data with StandardScaler or MinMaxScaler.\n",
      "  warnings.warn(\n"
     ]
    },
    {
     "name": "stdout",
     "output_type": "stream",
     "text": [
      "[Poly] max_iter: 250, C: 0.001, gamma: 10, degree: 2, class_weight: {1: 2, -1: 1} -> accuracy: 0.1455\n",
      "              precision    recall  f1-score   support\n",
      "\n",
      "          -1       0.88      0.03      0.06     44201\n",
      "           1       0.12      0.97      0.22      6199\n",
      "\n",
      "    accuracy                           0.15     50400\n",
      "   macro avg       0.50      0.50      0.14     50400\n",
      "weighted avg       0.79      0.15      0.08     50400\n",
      "\n"
     ]
    },
    {
     "name": "stderr",
     "output_type": "stream",
     "text": [
      "c:\\Users\\codyb\\.vscode\\Py\\COMP7970-Homework\\Lib\\site-packages\\sklearn\\svm\\_base.py:305: ConvergenceWarning: Solver terminated early (max_iter=250).  Consider pre-processing your data with StandardScaler or MinMaxScaler.\n",
      "  warnings.warn(\n"
     ]
    },
    {
     "name": "stdout",
     "output_type": "stream",
     "text": [
      "[Poly] max_iter: 250, C: 0.001, gamma: 10, degree: 3, class_weight: balanced -> accuracy: 0.1270\n",
      "              precision    recall  f1-score   support\n",
      "\n",
      "          -1       0.96      0.00      0.01     44201\n",
      "           1       0.12      1.00      0.22      6199\n",
      "\n",
      "    accuracy                           0.13     50400\n",
      "   macro avg       0.54      0.50      0.11     50400\n",
      "weighted avg       0.86      0.13      0.04     50400\n",
      "\n"
     ]
    },
    {
     "name": "stderr",
     "output_type": "stream",
     "text": [
      "c:\\Users\\codyb\\.vscode\\Py\\COMP7970-Homework\\Lib\\site-packages\\sklearn\\svm\\_base.py:305: ConvergenceWarning: Solver terminated early (max_iter=250).  Consider pre-processing your data with StandardScaler or MinMaxScaler.\n",
      "  warnings.warn(\n"
     ]
    },
    {
     "name": "stdout",
     "output_type": "stream",
     "text": [
      "[Poly] max_iter: 250, C: 0.001, gamma: 10, degree: 3, class_weight: {1: 3, -1: 1} -> accuracy: 0.1260\n",
      "              precision    recall  f1-score   support\n",
      "\n",
      "          -1       0.98      0.00      0.01     44201\n",
      "           1       0.12      1.00      0.22      6199\n",
      "\n",
      "    accuracy                           0.13     50400\n",
      "   macro avg       0.55      0.50      0.11     50400\n",
      "weighted avg       0.88      0.13      0.03     50400\n",
      "\n"
     ]
    },
    {
     "name": "stderr",
     "output_type": "stream",
     "text": [
      "c:\\Users\\codyb\\.vscode\\Py\\COMP7970-Homework\\Lib\\site-packages\\sklearn\\svm\\_base.py:305: ConvergenceWarning: Solver terminated early (max_iter=250).  Consider pre-processing your data with StandardScaler or MinMaxScaler.\n",
      "  warnings.warn(\n"
     ]
    },
    {
     "name": "stdout",
     "output_type": "stream",
     "text": [
      "[Poly] max_iter: 250, C: 0.001, gamma: 10, degree: 3, class_weight: {1: 2, -1: 1} -> accuracy: 0.1270\n",
      "              precision    recall  f1-score   support\n",
      "\n",
      "          -1       0.94      0.00      0.01     44201\n",
      "           1       0.12      1.00      0.22      6199\n",
      "\n",
      "    accuracy                           0.13     50400\n",
      "   macro avg       0.53      0.50      0.11     50400\n",
      "weighted avg       0.84      0.13      0.04     50400\n",
      "\n"
     ]
    },
    {
     "name": "stderr",
     "output_type": "stream",
     "text": [
      "c:\\Users\\codyb\\.vscode\\Py\\COMP7970-Homework\\Lib\\site-packages\\sklearn\\svm\\_base.py:305: ConvergenceWarning: Solver terminated early (max_iter=250).  Consider pre-processing your data with StandardScaler or MinMaxScaler.\n",
      "  warnings.warn(\n"
     ]
    },
    {
     "name": "stdout",
     "output_type": "stream",
     "text": [
      "[Poly] max_iter: 250, C: 0.001, gamma: 10, degree: 4, class_weight: balanced -> accuracy: 0.8770\n",
      "              precision    recall  f1-score   support\n",
      "\n",
      "          -1       0.88      1.00      0.93     44201\n",
      "           1       0.43      0.00      0.00      6199\n",
      "\n",
      "    accuracy                           0.88     50400\n",
      "   macro avg       0.65      0.50      0.47     50400\n",
      "weighted avg       0.82      0.88      0.82     50400\n",
      "\n"
     ]
    },
    {
     "name": "stderr",
     "output_type": "stream",
     "text": [
      "c:\\Users\\codyb\\.vscode\\Py\\COMP7970-Homework\\Lib\\site-packages\\sklearn\\svm\\_base.py:305: ConvergenceWarning: Solver terminated early (max_iter=250).  Consider pre-processing your data with StandardScaler or MinMaxScaler.\n",
      "  warnings.warn(\n"
     ]
    },
    {
     "name": "stdout",
     "output_type": "stream",
     "text": [
      "[Poly] max_iter: 250, C: 0.001, gamma: 10, degree: 4, class_weight: {1: 3, -1: 1} -> accuracy: 0.8770\n",
      "              precision    recall  f1-score   support\n",
      "\n",
      "          -1       0.88      1.00      0.93     44201\n",
      "           1       0.43      0.00      0.00      6199\n",
      "\n",
      "    accuracy                           0.88     50400\n",
      "   macro avg       0.65      0.50      0.47     50400\n",
      "weighted avg       0.82      0.88      0.82     50400\n",
      "\n"
     ]
    },
    {
     "name": "stderr",
     "output_type": "stream",
     "text": [
      "c:\\Users\\codyb\\.vscode\\Py\\COMP7970-Homework\\Lib\\site-packages\\sklearn\\svm\\_base.py:305: ConvergenceWarning: Solver terminated early (max_iter=250).  Consider pre-processing your data with StandardScaler or MinMaxScaler.\n",
      "  warnings.warn(\n"
     ]
    },
    {
     "name": "stdout",
     "output_type": "stream",
     "text": [
      "[Poly] max_iter: 250, C: 0.001, gamma: 10, degree: 4, class_weight: {1: 2, -1: 1} -> accuracy: 0.8770\n",
      "              precision    recall  f1-score   support\n",
      "\n",
      "          -1       0.88      1.00      0.93     44201\n",
      "           1       0.43      0.00      0.00      6199\n",
      "\n",
      "    accuracy                           0.88     50400\n",
      "   macro avg       0.65      0.50      0.47     50400\n",
      "weighted avg       0.82      0.88      0.82     50400\n",
      "\n"
     ]
    },
    {
     "name": "stderr",
     "output_type": "stream",
     "text": [
      "c:\\Users\\codyb\\.vscode\\Py\\COMP7970-Homework\\Lib\\site-packages\\sklearn\\svm\\_base.py:305: ConvergenceWarning: Solver terminated early (max_iter=250).  Consider pre-processing your data with StandardScaler or MinMaxScaler.\n",
      "  warnings.warn(\n"
     ]
    },
    {
     "name": "stdout",
     "output_type": "stream",
     "text": [
      "[Poly] max_iter: 250, C: 0.001, gamma: 100, degree: 2, class_weight: balanced -> accuracy: 0.5211\n",
      "              precision    recall  f1-score   support\n",
      "\n",
      "          -1       0.88      0.53      0.66     44201\n",
      "           1       0.13      0.49      0.20      6199\n",
      "\n",
      "    accuracy                           0.52     50400\n",
      "   macro avg       0.50      0.51      0.43     50400\n",
      "weighted avg       0.79      0.52      0.60     50400\n",
      "\n"
     ]
    },
    {
     "name": "stderr",
     "output_type": "stream",
     "text": [
      "c:\\Users\\codyb\\.vscode\\Py\\COMP7970-Homework\\Lib\\site-packages\\sklearn\\svm\\_base.py:305: ConvergenceWarning: Solver terminated early (max_iter=250).  Consider pre-processing your data with StandardScaler or MinMaxScaler.\n",
      "  warnings.warn(\n"
     ]
    },
    {
     "name": "stdout",
     "output_type": "stream",
     "text": [
      "[Poly] max_iter: 250, C: 0.001, gamma: 100, degree: 2, class_weight: {1: 3, -1: 1} -> accuracy: 0.4496\n",
      "              precision    recall  f1-score   support\n",
      "\n",
      "          -1       0.88      0.43      0.58     44201\n",
      "           1       0.12      0.58      0.21      6199\n",
      "\n",
      "    accuracy                           0.45     50400\n",
      "   macro avg       0.50      0.50      0.39     50400\n",
      "weighted avg       0.79      0.45      0.53     50400\n",
      "\n"
     ]
    },
    {
     "name": "stderr",
     "output_type": "stream",
     "text": [
      "c:\\Users\\codyb\\.vscode\\Py\\COMP7970-Homework\\Lib\\site-packages\\sklearn\\svm\\_base.py:305: ConvergenceWarning: Solver terminated early (max_iter=250).  Consider pre-processing your data with StandardScaler or MinMaxScaler.\n",
      "  warnings.warn(\n"
     ]
    },
    {
     "name": "stdout",
     "output_type": "stream",
     "text": [
      "[Poly] max_iter: 250, C: 0.001, gamma: 100, degree: 2, class_weight: {1: 2, -1: 1} -> accuracy: 0.1455\n",
      "              precision    recall  f1-score   support\n",
      "\n",
      "          -1       0.88      0.03      0.06     44201\n",
      "           1       0.12      0.97      0.22      6199\n",
      "\n",
      "    accuracy                           0.15     50400\n",
      "   macro avg       0.50      0.50      0.14     50400\n",
      "weighted avg       0.79      0.15      0.08     50400\n",
      "\n"
     ]
    },
    {
     "name": "stderr",
     "output_type": "stream",
     "text": [
      "c:\\Users\\codyb\\.vscode\\Py\\COMP7970-Homework\\Lib\\site-packages\\sklearn\\svm\\_base.py:305: ConvergenceWarning: Solver terminated early (max_iter=250).  Consider pre-processing your data with StandardScaler or MinMaxScaler.\n",
      "  warnings.warn(\n"
     ]
    },
    {
     "name": "stdout",
     "output_type": "stream",
     "text": [
      "[Poly] max_iter: 250, C: 0.001, gamma: 100, degree: 3, class_weight: balanced -> accuracy: 0.8766\n",
      "              precision    recall  f1-score   support\n",
      "\n",
      "          -1       0.88      1.00      0.93     44201\n",
      "           1       0.24      0.00      0.00      6199\n",
      "\n",
      "    accuracy                           0.88     50400\n",
      "   macro avg       0.56      0.50      0.47     50400\n",
      "weighted avg       0.80      0.88      0.82     50400\n",
      "\n"
     ]
    },
    {
     "name": "stderr",
     "output_type": "stream",
     "text": [
      "c:\\Users\\codyb\\.vscode\\Py\\COMP7970-Homework\\Lib\\site-packages\\sklearn\\svm\\_base.py:305: ConvergenceWarning: Solver terminated early (max_iter=250).  Consider pre-processing your data with StandardScaler or MinMaxScaler.\n",
      "  warnings.warn(\n"
     ]
    },
    {
     "name": "stdout",
     "output_type": "stream",
     "text": [
      "[Poly] max_iter: 250, C: 0.001, gamma: 100, degree: 3, class_weight: {1: 3, -1: 1} -> accuracy: 0.8766\n",
      "              precision    recall  f1-score   support\n",
      "\n",
      "          -1       0.88      1.00      0.93     44201\n",
      "           1       0.24      0.00      0.00      6199\n",
      "\n",
      "    accuracy                           0.88     50400\n",
      "   macro avg       0.56      0.50      0.47     50400\n",
      "weighted avg       0.80      0.88      0.82     50400\n",
      "\n"
     ]
    },
    {
     "name": "stderr",
     "output_type": "stream",
     "text": [
      "c:\\Users\\codyb\\.vscode\\Py\\COMP7970-Homework\\Lib\\site-packages\\sklearn\\svm\\_base.py:305: ConvergenceWarning: Solver terminated early (max_iter=250).  Consider pre-processing your data with StandardScaler or MinMaxScaler.\n",
      "  warnings.warn(\n"
     ]
    },
    {
     "name": "stdout",
     "output_type": "stream",
     "text": [
      "[Poly] max_iter: 250, C: 0.001, gamma: 100, degree: 3, class_weight: {1: 2, -1: 1} -> accuracy: 0.8761\n",
      "              precision    recall  f1-score   support\n",
      "\n",
      "          -1       0.88      1.00      0.93     44201\n",
      "           1       0.16      0.00      0.00      6199\n",
      "\n",
      "    accuracy                           0.88     50400\n",
      "   macro avg       0.52      0.50      0.47     50400\n",
      "weighted avg       0.79      0.88      0.82     50400\n",
      "\n"
     ]
    },
    {
     "name": "stderr",
     "output_type": "stream",
     "text": [
      "c:\\Users\\codyb\\.vscode\\Py\\COMP7970-Homework\\Lib\\site-packages\\sklearn\\svm\\_base.py:305: ConvergenceWarning: Solver terminated early (max_iter=250).  Consider pre-processing your data with StandardScaler or MinMaxScaler.\n",
      "  warnings.warn(\n"
     ]
    },
    {
     "name": "stdout",
     "output_type": "stream",
     "text": [
      "[Poly] max_iter: 250, C: 0.001, gamma: 100, degree: 4, class_weight: balanced -> accuracy: 0.8770\n",
      "              precision    recall  f1-score   support\n",
      "\n",
      "          -1       0.88      1.00      0.93     44201\n",
      "           1       0.43      0.00      0.00      6199\n",
      "\n",
      "    accuracy                           0.88     50400\n",
      "   macro avg       0.65      0.50      0.47     50400\n",
      "weighted avg       0.82      0.88      0.82     50400\n",
      "\n"
     ]
    },
    {
     "name": "stderr",
     "output_type": "stream",
     "text": [
      "c:\\Users\\codyb\\.vscode\\Py\\COMP7970-Homework\\Lib\\site-packages\\sklearn\\svm\\_base.py:305: ConvergenceWarning: Solver terminated early (max_iter=250).  Consider pre-processing your data with StandardScaler or MinMaxScaler.\n",
      "  warnings.warn(\n"
     ]
    },
    {
     "name": "stdout",
     "output_type": "stream",
     "text": [
      "[Poly] max_iter: 250, C: 0.001, gamma: 100, degree: 4, class_weight: {1: 3, -1: 1} -> accuracy: 0.8770\n",
      "              precision    recall  f1-score   support\n",
      "\n",
      "          -1       0.88      1.00      0.93     44201\n",
      "           1       0.43      0.00      0.00      6199\n",
      "\n",
      "    accuracy                           0.88     50400\n",
      "   macro avg       0.65      0.50      0.47     50400\n",
      "weighted avg       0.82      0.88      0.82     50400\n",
      "\n"
     ]
    },
    {
     "name": "stderr",
     "output_type": "stream",
     "text": [
      "c:\\Users\\codyb\\.vscode\\Py\\COMP7970-Homework\\Lib\\site-packages\\sklearn\\svm\\_base.py:305: ConvergenceWarning: Solver terminated early (max_iter=250).  Consider pre-processing your data with StandardScaler or MinMaxScaler.\n",
      "  warnings.warn(\n"
     ]
    },
    {
     "name": "stdout",
     "output_type": "stream",
     "text": [
      "[Poly] max_iter: 250, C: 0.001, gamma: 100, degree: 4, class_weight: {1: 2, -1: 1} -> accuracy: 0.8770\n",
      "              precision    recall  f1-score   support\n",
      "\n",
      "          -1       0.88      1.00      0.93     44201\n",
      "           1       0.43      0.00      0.00      6199\n",
      "\n",
      "    accuracy                           0.88     50400\n",
      "   macro avg       0.65      0.50      0.47     50400\n",
      "weighted avg       0.82      0.88      0.82     50400\n",
      "\n"
     ]
    },
    {
     "name": "stderr",
     "output_type": "stream",
     "text": [
      "c:\\Users\\codyb\\.vscode\\Py\\COMP7970-Homework\\Lib\\site-packages\\sklearn\\svm\\_base.py:305: ConvergenceWarning: Solver terminated early (max_iter=250).  Consider pre-processing your data with StandardScaler or MinMaxScaler.\n",
      "  warnings.warn(\n"
     ]
    },
    {
     "name": "stdout",
     "output_type": "stream",
     "text": [
      "[Poly] max_iter: 250, C: 0.01, gamma: 0.001, degree: 2, class_weight: balanced -> accuracy: 0.1230\n",
      "              precision    recall  f1-score   support\n",
      "\n",
      "          -1       0.00      0.00      0.00     44201\n",
      "           1       0.12      1.00      0.22      6199\n",
      "\n",
      "    accuracy                           0.12     50400\n",
      "   macro avg       0.06      0.50      0.11     50400\n",
      "weighted avg       0.02      0.12      0.03     50400\n",
      "\n"
     ]
    },
    {
     "name": "stderr",
     "output_type": "stream",
     "text": [
      "c:\\Users\\codyb\\.vscode\\Py\\COMP7970-Homework\\Lib\\site-packages\\sklearn\\svm\\_base.py:305: ConvergenceWarning: Solver terminated early (max_iter=250).  Consider pre-processing your data with StandardScaler or MinMaxScaler.\n",
      "  warnings.warn(\n"
     ]
    },
    {
     "name": "stdout",
     "output_type": "stream",
     "text": [
      "[Poly] max_iter: 250, C: 0.01, gamma: 0.001, degree: 2, class_weight: {1: 3, -1: 1} -> accuracy: 0.1230\n",
      "              precision    recall  f1-score   support\n",
      "\n",
      "          -1       0.00      0.00      0.00     44201\n",
      "           1       0.12      1.00      0.22      6199\n",
      "\n",
      "    accuracy                           0.12     50400\n",
      "   macro avg       0.06      0.50      0.11     50400\n",
      "weighted avg       0.02      0.12      0.03     50400\n",
      "\n"
     ]
    },
    {
     "name": "stderr",
     "output_type": "stream",
     "text": [
      "c:\\Users\\codyb\\.vscode\\Py\\COMP7970-Homework\\Lib\\site-packages\\sklearn\\svm\\_base.py:305: ConvergenceWarning: Solver terminated early (max_iter=250).  Consider pre-processing your data with StandardScaler or MinMaxScaler.\n",
      "  warnings.warn(\n"
     ]
    },
    {
     "name": "stdout",
     "output_type": "stream",
     "text": [
      "[Poly] max_iter: 250, C: 0.01, gamma: 0.001, degree: 2, class_weight: {1: 2, -1: 1} -> accuracy: 0.1230\n",
      "              precision    recall  f1-score   support\n",
      "\n",
      "          -1       0.00      0.00      0.00     44201\n",
      "           1       0.12      1.00      0.22      6199\n",
      "\n",
      "    accuracy                           0.12     50400\n",
      "   macro avg       0.06      0.50      0.11     50400\n",
      "weighted avg       0.02      0.12      0.03     50400\n",
      "\n"
     ]
    },
    {
     "name": "stderr",
     "output_type": "stream",
     "text": [
      "c:\\Users\\codyb\\.vscode\\Py\\COMP7970-Homework\\Lib\\site-packages\\sklearn\\svm\\_base.py:305: ConvergenceWarning: Solver terminated early (max_iter=250).  Consider pre-processing your data with StandardScaler or MinMaxScaler.\n",
      "  warnings.warn(\n"
     ]
    },
    {
     "name": "stdout",
     "output_type": "stream",
     "text": [
      "[Poly] max_iter: 250, C: 0.01, gamma: 0.001, degree: 3, class_weight: balanced -> accuracy: 0.1230\n",
      "              precision    recall  f1-score   support\n",
      "\n",
      "          -1       0.00      0.00      0.00     44201\n",
      "           1       0.12      1.00      0.22      6199\n",
      "\n",
      "    accuracy                           0.12     50400\n",
      "   macro avg       0.06      0.50      0.11     50400\n",
      "weighted avg       0.02      0.12      0.03     50400\n",
      "\n"
     ]
    },
    {
     "name": "stderr",
     "output_type": "stream",
     "text": [
      "c:\\Users\\codyb\\.vscode\\Py\\COMP7970-Homework\\Lib\\site-packages\\sklearn\\svm\\_base.py:305: ConvergenceWarning: Solver terminated early (max_iter=250).  Consider pre-processing your data with StandardScaler or MinMaxScaler.\n",
      "  warnings.warn(\n"
     ]
    },
    {
     "name": "stdout",
     "output_type": "stream",
     "text": [
      "[Poly] max_iter: 250, C: 0.01, gamma: 0.001, degree: 3, class_weight: {1: 3, -1: 1} -> accuracy: 0.8770\n",
      "              precision    recall  f1-score   support\n",
      "\n",
      "          -1       0.88      1.00      0.93     44201\n",
      "           1       0.00      0.00      0.00      6199\n",
      "\n",
      "    accuracy                           0.88     50400\n",
      "   macro avg       0.44      0.50      0.47     50400\n",
      "weighted avg       0.77      0.88      0.82     50400\n",
      "\n"
     ]
    },
    {
     "name": "stderr",
     "output_type": "stream",
     "text": [
      "c:\\Users\\codyb\\.vscode\\Py\\COMP7970-Homework\\Lib\\site-packages\\sklearn\\svm\\_base.py:305: ConvergenceWarning: Solver terminated early (max_iter=250).  Consider pre-processing your data with StandardScaler or MinMaxScaler.\n",
      "  warnings.warn(\n"
     ]
    },
    {
     "name": "stdout",
     "output_type": "stream",
     "text": [
      "[Poly] max_iter: 250, C: 0.01, gamma: 0.001, degree: 3, class_weight: {1: 2, -1: 1} -> accuracy: 0.1230\n",
      "              precision    recall  f1-score   support\n",
      "\n",
      "          -1       0.00      0.00      0.00     44201\n",
      "           1       0.12      1.00      0.22      6199\n",
      "\n",
      "    accuracy                           0.12     50400\n",
      "   macro avg       0.06      0.50      0.11     50400\n",
      "weighted avg       0.02      0.12      0.03     50400\n",
      "\n"
     ]
    },
    {
     "name": "stderr",
     "output_type": "stream",
     "text": [
      "c:\\Users\\codyb\\.vscode\\Py\\COMP7970-Homework\\Lib\\site-packages\\sklearn\\svm\\_base.py:305: ConvergenceWarning: Solver terminated early (max_iter=250).  Consider pre-processing your data with StandardScaler or MinMaxScaler.\n",
      "  warnings.warn(\n"
     ]
    },
    {
     "name": "stdout",
     "output_type": "stream",
     "text": [
      "[Poly] max_iter: 250, C: 0.01, gamma: 0.001, degree: 4, class_weight: balanced -> accuracy: 0.1230\n",
      "              precision    recall  f1-score   support\n",
      "\n",
      "          -1       0.00      0.00      0.00     44201\n",
      "           1       0.12      1.00      0.22      6199\n",
      "\n",
      "    accuracy                           0.12     50400\n",
      "   macro avg       0.06      0.50      0.11     50400\n",
      "weighted avg       0.02      0.12      0.03     50400\n",
      "\n"
     ]
    },
    {
     "name": "stderr",
     "output_type": "stream",
     "text": [
      "c:\\Users\\codyb\\.vscode\\Py\\COMP7970-Homework\\Lib\\site-packages\\sklearn\\svm\\_base.py:305: ConvergenceWarning: Solver terminated early (max_iter=250).  Consider pre-processing your data with StandardScaler or MinMaxScaler.\n",
      "  warnings.warn(\n"
     ]
    },
    {
     "name": "stdout",
     "output_type": "stream",
     "text": [
      "[Poly] max_iter: 250, C: 0.01, gamma: 0.001, degree: 4, class_weight: {1: 3, -1: 1} -> accuracy: 0.8770\n",
      "              precision    recall  f1-score   support\n",
      "\n",
      "          -1       0.88      1.00      0.93     44201\n",
      "           1       0.00      0.00      0.00      6199\n",
      "\n",
      "    accuracy                           0.88     50400\n",
      "   macro avg       0.44      0.50      0.47     50400\n",
      "weighted avg       0.77      0.88      0.82     50400\n",
      "\n"
     ]
    },
    {
     "name": "stderr",
     "output_type": "stream",
     "text": [
      "c:\\Users\\codyb\\.vscode\\Py\\COMP7970-Homework\\Lib\\site-packages\\sklearn\\svm\\_base.py:305: ConvergenceWarning: Solver terminated early (max_iter=250).  Consider pre-processing your data with StandardScaler or MinMaxScaler.\n",
      "  warnings.warn(\n"
     ]
    },
    {
     "name": "stdout",
     "output_type": "stream",
     "text": [
      "[Poly] max_iter: 250, C: 0.01, gamma: 0.001, degree: 4, class_weight: {1: 2, -1: 1} -> accuracy: 0.1230\n",
      "              precision    recall  f1-score   support\n",
      "\n",
      "          -1       0.00      0.00      0.00     44201\n",
      "           1       0.12      1.00      0.22      6199\n",
      "\n",
      "    accuracy                           0.12     50400\n",
      "   macro avg       0.06      0.50      0.11     50400\n",
      "weighted avg       0.02      0.12      0.03     50400\n",
      "\n"
     ]
    },
    {
     "name": "stderr",
     "output_type": "stream",
     "text": [
      "c:\\Users\\codyb\\.vscode\\Py\\COMP7970-Homework\\Lib\\site-packages\\sklearn\\svm\\_base.py:305: ConvergenceWarning: Solver terminated early (max_iter=250).  Consider pre-processing your data with StandardScaler or MinMaxScaler.\n",
      "  warnings.warn(\n"
     ]
    },
    {
     "name": "stdout",
     "output_type": "stream",
     "text": [
      "[Poly] max_iter: 250, C: 0.01, gamma: 0.01, degree: 2, class_weight: balanced -> accuracy: 0.1230\n",
      "              precision    recall  f1-score   support\n",
      "\n",
      "          -1       0.00      0.00      0.00     44201\n",
      "           1       0.12      1.00      0.22      6199\n",
      "\n",
      "    accuracy                           0.12     50400\n",
      "   macro avg       0.06      0.50      0.11     50400\n",
      "weighted avg       0.02      0.12      0.03     50400\n",
      "\n"
     ]
    },
    {
     "name": "stderr",
     "output_type": "stream",
     "text": [
      "c:\\Users\\codyb\\.vscode\\Py\\COMP7970-Homework\\Lib\\site-packages\\sklearn\\svm\\_base.py:305: ConvergenceWarning: Solver terminated early (max_iter=250).  Consider pre-processing your data with StandardScaler or MinMaxScaler.\n",
      "  warnings.warn(\n"
     ]
    },
    {
     "name": "stdout",
     "output_type": "stream",
     "text": [
      "[Poly] max_iter: 250, C: 0.01, gamma: 0.01, degree: 2, class_weight: {1: 3, -1: 1} -> accuracy: 0.1230\n",
      "              precision    recall  f1-score   support\n",
      "\n",
      "          -1       0.00      0.00      0.00     44201\n",
      "           1       0.12      1.00      0.22      6199\n",
      "\n",
      "    accuracy                           0.12     50400\n",
      "   macro avg       0.06      0.50      0.11     50400\n",
      "weighted avg       0.02      0.12      0.03     50400\n",
      "\n"
     ]
    },
    {
     "name": "stderr",
     "output_type": "stream",
     "text": [
      "c:\\Users\\codyb\\.vscode\\Py\\COMP7970-Homework\\Lib\\site-packages\\sklearn\\svm\\_base.py:305: ConvergenceWarning: Solver terminated early (max_iter=250).  Consider pre-processing your data with StandardScaler or MinMaxScaler.\n",
      "  warnings.warn(\n"
     ]
    },
    {
     "name": "stdout",
     "output_type": "stream",
     "text": [
      "[Poly] max_iter: 250, C: 0.01, gamma: 0.01, degree: 2, class_weight: {1: 2, -1: 1} -> accuracy: 0.1230\n",
      "              precision    recall  f1-score   support\n",
      "\n",
      "          -1       0.00      0.00      0.00     44201\n",
      "           1       0.12      1.00      0.22      6199\n",
      "\n",
      "    accuracy                           0.12     50400\n",
      "   macro avg       0.06      0.50      0.11     50400\n",
      "weighted avg       0.02      0.12      0.03     50400\n",
      "\n"
     ]
    },
    {
     "name": "stderr",
     "output_type": "stream",
     "text": [
      "c:\\Users\\codyb\\.vscode\\Py\\COMP7970-Homework\\Lib\\site-packages\\sklearn\\svm\\_base.py:305: ConvergenceWarning: Solver terminated early (max_iter=250).  Consider pre-processing your data with StandardScaler or MinMaxScaler.\n",
      "  warnings.warn(\n"
     ]
    },
    {
     "name": "stdout",
     "output_type": "stream",
     "text": [
      "[Poly] max_iter: 250, C: 0.01, gamma: 0.01, degree: 3, class_weight: balanced -> accuracy: 0.1232\n",
      "              precision    recall  f1-score   support\n",
      "\n",
      "          -1       1.00      0.00      0.00     44201\n",
      "           1       0.12      1.00      0.22      6199\n",
      "\n",
      "    accuracy                           0.12     50400\n",
      "   macro avg       0.56      0.50      0.11     50400\n",
      "weighted avg       0.89      0.12      0.03     50400\n",
      "\n"
     ]
    },
    {
     "name": "stderr",
     "output_type": "stream",
     "text": [
      "c:\\Users\\codyb\\.vscode\\Py\\COMP7970-Homework\\Lib\\site-packages\\sklearn\\svm\\_base.py:305: ConvergenceWarning: Solver terminated early (max_iter=250).  Consider pre-processing your data with StandardScaler or MinMaxScaler.\n",
      "  warnings.warn(\n"
     ]
    },
    {
     "name": "stdout",
     "output_type": "stream",
     "text": [
      "[Poly] max_iter: 250, C: 0.01, gamma: 0.01, degree: 3, class_weight: {1: 3, -1: 1} -> accuracy: 0.1274\n",
      "              precision    recall  f1-score   support\n",
      "\n",
      "          -1       0.98      0.01      0.01     44201\n",
      "           1       0.12      1.00      0.22      6199\n",
      "\n",
      "    accuracy                           0.13     50400\n",
      "   macro avg       0.55      0.50      0.12     50400\n",
      "weighted avg       0.88      0.13      0.04     50400\n",
      "\n"
     ]
    },
    {
     "name": "stderr",
     "output_type": "stream",
     "text": [
      "c:\\Users\\codyb\\.vscode\\Py\\COMP7970-Homework\\Lib\\site-packages\\sklearn\\svm\\_base.py:305: ConvergenceWarning: Solver terminated early (max_iter=250).  Consider pre-processing your data with StandardScaler or MinMaxScaler.\n",
      "  warnings.warn(\n"
     ]
    },
    {
     "name": "stdout",
     "output_type": "stream",
     "text": [
      "[Poly] max_iter: 250, C: 0.01, gamma: 0.01, degree: 3, class_weight: {1: 2, -1: 1} -> accuracy: 0.1240\n",
      "              precision    recall  f1-score   support\n",
      "\n",
      "          -1       0.98      0.00      0.00     44201\n",
      "           1       0.12      1.00      0.22      6199\n",
      "\n",
      "    accuracy                           0.12     50400\n",
      "   macro avg       0.55      0.50      0.11     50400\n",
      "weighted avg       0.87      0.12      0.03     50400\n",
      "\n"
     ]
    },
    {
     "name": "stderr",
     "output_type": "stream",
     "text": [
      "c:\\Users\\codyb\\.vscode\\Py\\COMP7970-Homework\\Lib\\site-packages\\sklearn\\svm\\_base.py:305: ConvergenceWarning: Solver terminated early (max_iter=250).  Consider pre-processing your data with StandardScaler or MinMaxScaler.\n",
      "  warnings.warn(\n"
     ]
    },
    {
     "name": "stdout",
     "output_type": "stream",
     "text": [
      "[Poly] max_iter: 250, C: 0.01, gamma: 0.01, degree: 4, class_weight: balanced -> accuracy: 0.1255\n",
      "              precision    recall  f1-score   support\n",
      "\n",
      "          -1       0.97      0.00      0.01     44201\n",
      "           1       0.12      1.00      0.22      6199\n",
      "\n",
      "    accuracy                           0.13     50400\n",
      "   macro avg       0.55      0.50      0.11     50400\n",
      "weighted avg       0.87      0.13      0.03     50400\n",
      "\n"
     ]
    },
    {
     "name": "stderr",
     "output_type": "stream",
     "text": [
      "c:\\Users\\codyb\\.vscode\\Py\\COMP7970-Homework\\Lib\\site-packages\\sklearn\\svm\\_base.py:305: ConvergenceWarning: Solver terminated early (max_iter=250).  Consider pre-processing your data with StandardScaler or MinMaxScaler.\n",
      "  warnings.warn(\n"
     ]
    },
    {
     "name": "stdout",
     "output_type": "stream",
     "text": [
      "[Poly] max_iter: 250, C: 0.01, gamma: 0.01, degree: 4, class_weight: {1: 3, -1: 1} -> accuracy: 0.1261\n",
      "              precision    recall  f1-score   support\n",
      "\n",
      "          -1       0.95      0.00      0.01     44201\n",
      "           1       0.12      1.00      0.22      6199\n",
      "\n",
      "    accuracy                           0.13     50400\n",
      "   macro avg       0.54      0.50      0.11     50400\n",
      "weighted avg       0.85      0.13      0.03     50400\n",
      "\n"
     ]
    },
    {
     "name": "stderr",
     "output_type": "stream",
     "text": [
      "c:\\Users\\codyb\\.vscode\\Py\\COMP7970-Homework\\Lib\\site-packages\\sklearn\\svm\\_base.py:305: ConvergenceWarning: Solver terminated early (max_iter=250).  Consider pre-processing your data with StandardScaler or MinMaxScaler.\n",
      "  warnings.warn(\n"
     ]
    },
    {
     "name": "stdout",
     "output_type": "stream",
     "text": [
      "[Poly] max_iter: 250, C: 0.01, gamma: 0.01, degree: 4, class_weight: {1: 2, -1: 1} -> accuracy: 0.1260\n",
      "              precision    recall  f1-score   support\n",
      "\n",
      "          -1       0.95      0.00      0.01     44201\n",
      "           1       0.12      1.00      0.22      6199\n",
      "\n",
      "    accuracy                           0.13     50400\n",
      "   macro avg       0.54      0.50      0.11     50400\n",
      "weighted avg       0.85      0.13      0.03     50400\n",
      "\n"
     ]
    },
    {
     "name": "stderr",
     "output_type": "stream",
     "text": [
      "c:\\Users\\codyb\\.vscode\\Py\\COMP7970-Homework\\Lib\\site-packages\\sklearn\\svm\\_base.py:305: ConvergenceWarning: Solver terminated early (max_iter=250).  Consider pre-processing your data with StandardScaler or MinMaxScaler.\n",
      "  warnings.warn(\n"
     ]
    },
    {
     "name": "stdout",
     "output_type": "stream",
     "text": [
      "[Poly] max_iter: 250, C: 0.01, gamma: 0.1, degree: 2, class_weight: balanced -> accuracy: 0.8713\n",
      "              precision    recall  f1-score   support\n",
      "\n",
      "          -1       0.88      0.99      0.93     44201\n",
      "           1       0.18      0.01      0.02      6199\n",
      "\n",
      "    accuracy                           0.87     50400\n",
      "   macro avg       0.53      0.50      0.48     50400\n",
      "weighted avg       0.79      0.87      0.82     50400\n",
      "\n"
     ]
    },
    {
     "name": "stderr",
     "output_type": "stream",
     "text": [
      "c:\\Users\\codyb\\.vscode\\Py\\COMP7970-Homework\\Lib\\site-packages\\sklearn\\svm\\_base.py:305: ConvergenceWarning: Solver terminated early (max_iter=250).  Consider pre-processing your data with StandardScaler or MinMaxScaler.\n",
      "  warnings.warn(\n"
     ]
    },
    {
     "name": "stdout",
     "output_type": "stream",
     "text": [
      "[Poly] max_iter: 250, C: 0.01, gamma: 0.1, degree: 2, class_weight: {1: 3, -1: 1} -> accuracy: 0.1304\n",
      "              precision    recall  f1-score   support\n",
      "\n",
      "          -1       0.92      0.01      0.02     44201\n",
      "           1       0.12      0.99      0.22      6199\n",
      "\n",
      "    accuracy                           0.13     50400\n",
      "   macro avg       0.52      0.50      0.12     50400\n",
      "weighted avg       0.82      0.13      0.04     50400\n",
      "\n"
     ]
    },
    {
     "name": "stderr",
     "output_type": "stream",
     "text": [
      "c:\\Users\\codyb\\.vscode\\Py\\COMP7970-Homework\\Lib\\site-packages\\sklearn\\svm\\_base.py:305: ConvergenceWarning: Solver terminated early (max_iter=250).  Consider pre-processing your data with StandardScaler or MinMaxScaler.\n",
      "  warnings.warn(\n"
     ]
    },
    {
     "name": "stdout",
     "output_type": "stream",
     "text": [
      "[Poly] max_iter: 250, C: 0.01, gamma: 0.1, degree: 2, class_weight: {1: 2, -1: 1} -> accuracy: 0.8769\n",
      "              precision    recall  f1-score   support\n",
      "\n",
      "          -1       0.88      1.00      0.93     44201\n",
      "           1       0.47      0.01      0.01      6199\n",
      "\n",
      "    accuracy                           0.88     50400\n",
      "   macro avg       0.67      0.50      0.47     50400\n",
      "weighted avg       0.83      0.88      0.82     50400\n",
      "\n"
     ]
    },
    {
     "name": "stderr",
     "output_type": "stream",
     "text": [
      "c:\\Users\\codyb\\.vscode\\Py\\COMP7970-Homework\\Lib\\site-packages\\sklearn\\svm\\_base.py:305: ConvergenceWarning: Solver terminated early (max_iter=250).  Consider pre-processing your data with StandardScaler or MinMaxScaler.\n",
      "  warnings.warn(\n"
     ]
    },
    {
     "name": "stdout",
     "output_type": "stream",
     "text": [
      "[Poly] max_iter: 250, C: 0.01, gamma: 0.1, degree: 3, class_weight: balanced -> accuracy: 0.1456\n",
      "              precision    recall  f1-score   support\n",
      "\n",
      "          -1       0.90      0.03      0.06     44201\n",
      "           1       0.12      0.98      0.22      6199\n",
      "\n",
      "    accuracy                           0.15     50400\n",
      "   macro avg       0.51      0.50      0.14     50400\n",
      "weighted avg       0.80      0.15      0.08     50400\n",
      "\n"
     ]
    },
    {
     "name": "stderr",
     "output_type": "stream",
     "text": [
      "c:\\Users\\codyb\\.vscode\\Py\\COMP7970-Homework\\Lib\\site-packages\\sklearn\\svm\\_base.py:305: ConvergenceWarning: Solver terminated early (max_iter=250).  Consider pre-processing your data with StandardScaler or MinMaxScaler.\n",
      "  warnings.warn(\n"
     ]
    },
    {
     "name": "stdout",
     "output_type": "stream",
     "text": [
      "[Poly] max_iter: 250, C: 0.01, gamma: 0.1, degree: 3, class_weight: {1: 3, -1: 1} -> accuracy: 0.1270\n",
      "              precision    recall  f1-score   support\n",
      "\n",
      "          -1       0.96      0.00      0.01     44201\n",
      "           1       0.12      1.00      0.22      6199\n",
      "\n",
      "    accuracy                           0.13     50400\n",
      "   macro avg       0.54      0.50      0.11     50400\n",
      "weighted avg       0.86      0.13      0.04     50400\n",
      "\n"
     ]
    },
    {
     "name": "stderr",
     "output_type": "stream",
     "text": [
      "c:\\Users\\codyb\\.vscode\\Py\\COMP7970-Homework\\Lib\\site-packages\\sklearn\\svm\\_base.py:305: ConvergenceWarning: Solver terminated early (max_iter=250).  Consider pre-processing your data with StandardScaler or MinMaxScaler.\n",
      "  warnings.warn(\n"
     ]
    },
    {
     "name": "stdout",
     "output_type": "stream",
     "text": [
      "[Poly] max_iter: 250, C: 0.01, gamma: 0.1, degree: 3, class_weight: {1: 2, -1: 1} -> accuracy: 0.8749\n",
      "              precision    recall  f1-score   support\n",
      "\n",
      "          -1       0.88      1.00      0.93     44201\n",
      "           1       0.23      0.01      0.01      6199\n",
      "\n",
      "    accuracy                           0.87     50400\n",
      "   macro avg       0.55      0.50      0.47     50400\n",
      "weighted avg       0.80      0.87      0.82     50400\n",
      "\n"
     ]
    },
    {
     "name": "stderr",
     "output_type": "stream",
     "text": [
      "c:\\Users\\codyb\\.vscode\\Py\\COMP7970-Homework\\Lib\\site-packages\\sklearn\\svm\\_base.py:305: ConvergenceWarning: Solver terminated early (max_iter=250).  Consider pre-processing your data with StandardScaler or MinMaxScaler.\n",
      "  warnings.warn(\n"
     ]
    },
    {
     "name": "stdout",
     "output_type": "stream",
     "text": [
      "[Poly] max_iter: 250, C: 0.01, gamma: 0.1, degree: 4, class_weight: balanced -> accuracy: 0.1291\n",
      "              precision    recall  f1-score   support\n",
      "\n",
      "          -1       0.96      0.01      0.01     44201\n",
      "           1       0.12      1.00      0.22      6199\n",
      "\n",
      "    accuracy                           0.13     50400\n",
      "   macro avg       0.54      0.50      0.12     50400\n",
      "weighted avg       0.86      0.13      0.04     50400\n",
      "\n"
     ]
    },
    {
     "name": "stderr",
     "output_type": "stream",
     "text": [
      "c:\\Users\\codyb\\.vscode\\Py\\COMP7970-Homework\\Lib\\site-packages\\sklearn\\svm\\_base.py:305: ConvergenceWarning: Solver terminated early (max_iter=250).  Consider pre-processing your data with StandardScaler or MinMaxScaler.\n",
      "  warnings.warn(\n"
     ]
    },
    {
     "name": "stdout",
     "output_type": "stream",
     "text": [
      "[Poly] max_iter: 250, C: 0.01, gamma: 0.1, degree: 4, class_weight: {1: 3, -1: 1} -> accuracy: 0.8721\n",
      "              precision    recall  f1-score   support\n",
      "\n",
      "          -1       0.88      0.99      0.93     44201\n",
      "           1       0.17      0.01      0.02      6199\n",
      "\n",
      "    accuracy                           0.87     50400\n",
      "   macro avg       0.52      0.50      0.48     50400\n",
      "weighted avg       0.79      0.87      0.82     50400\n",
      "\n"
     ]
    },
    {
     "name": "stderr",
     "output_type": "stream",
     "text": [
      "c:\\Users\\codyb\\.vscode\\Py\\COMP7970-Homework\\Lib\\site-packages\\sklearn\\svm\\_base.py:305: ConvergenceWarning: Solver terminated early (max_iter=250).  Consider pre-processing your data with StandardScaler or MinMaxScaler.\n",
      "  warnings.warn(\n"
     ]
    },
    {
     "name": "stdout",
     "output_type": "stream",
     "text": [
      "[Poly] max_iter: 250, C: 0.01, gamma: 0.1, degree: 4, class_weight: {1: 2, -1: 1} -> accuracy: 0.1278\n",
      "              precision    recall  f1-score   support\n",
      "\n",
      "          -1       0.92      0.01      0.01     44201\n",
      "           1       0.12      1.00      0.22      6199\n",
      "\n",
      "    accuracy                           0.13     50400\n",
      "   macro avg       0.52      0.50      0.12     50400\n",
      "weighted avg       0.82      0.13      0.04     50400\n",
      "\n"
     ]
    },
    {
     "name": "stderr",
     "output_type": "stream",
     "text": [
      "c:\\Users\\codyb\\.vscode\\Py\\COMP7970-Homework\\Lib\\site-packages\\sklearn\\svm\\_base.py:305: ConvergenceWarning: Solver terminated early (max_iter=250).  Consider pre-processing your data with StandardScaler or MinMaxScaler.\n",
      "  warnings.warn(\n"
     ]
    },
    {
     "name": "stdout",
     "output_type": "stream",
     "text": [
      "[Poly] max_iter: 250, C: 0.01, gamma: 1, degree: 2, class_weight: balanced -> accuracy: 0.8630\n",
      "              precision    recall  f1-score   support\n",
      "\n",
      "          -1       0.88      0.98      0.93     44201\n",
      "           1       0.16      0.03      0.05      6199\n",
      "\n",
      "    accuracy                           0.86     50400\n",
      "   macro avg       0.52      0.50      0.49     50400\n",
      "weighted avg       0.79      0.86      0.82     50400\n",
      "\n"
     ]
    },
    {
     "name": "stderr",
     "output_type": "stream",
     "text": [
      "c:\\Users\\codyb\\.vscode\\Py\\COMP7970-Homework\\Lib\\site-packages\\sklearn\\svm\\_base.py:305: ConvergenceWarning: Solver terminated early (max_iter=250).  Consider pre-processing your data with StandardScaler or MinMaxScaler.\n",
      "  warnings.warn(\n"
     ]
    },
    {
     "name": "stdout",
     "output_type": "stream",
     "text": [
      "[Poly] max_iter: 250, C: 0.01, gamma: 1, degree: 2, class_weight: {1: 3, -1: 1} -> accuracy: 0.1556\n",
      "              precision    recall  f1-score   support\n",
      "\n",
      "          -1       0.89      0.04      0.08     44201\n",
      "           1       0.12      0.96      0.22      6199\n",
      "\n",
      "    accuracy                           0.16     50400\n",
      "   macro avg       0.51      0.50      0.15     50400\n",
      "weighted avg       0.80      0.16      0.10     50400\n",
      "\n"
     ]
    },
    {
     "name": "stderr",
     "output_type": "stream",
     "text": [
      "c:\\Users\\codyb\\.vscode\\Py\\COMP7970-Homework\\Lib\\site-packages\\sklearn\\svm\\_base.py:305: ConvergenceWarning: Solver terminated early (max_iter=250).  Consider pre-processing your data with StandardScaler or MinMaxScaler.\n",
      "  warnings.warn(\n"
     ]
    },
    {
     "name": "stdout",
     "output_type": "stream",
     "text": [
      "[Poly] max_iter: 250, C: 0.01, gamma: 1, degree: 2, class_weight: {1: 2, -1: 1} -> accuracy: 0.3868\n",
      "              precision    recall  f1-score   support\n",
      "\n",
      "          -1       0.88      0.35      0.50     44201\n",
      "           1       0.13      0.67      0.21      6199\n",
      "\n",
      "    accuracy                           0.39     50400\n",
      "   macro avg       0.50      0.51      0.35     50400\n",
      "weighted avg       0.79      0.39      0.46     50400\n",
      "\n"
     ]
    },
    {
     "name": "stderr",
     "output_type": "stream",
     "text": [
      "c:\\Users\\codyb\\.vscode\\Py\\COMP7970-Homework\\Lib\\site-packages\\sklearn\\svm\\_base.py:305: ConvergenceWarning: Solver terminated early (max_iter=250).  Consider pre-processing your data with StandardScaler or MinMaxScaler.\n",
      "  warnings.warn(\n"
     ]
    },
    {
     "name": "stdout",
     "output_type": "stream",
     "text": [
      "[Poly] max_iter: 250, C: 0.01, gamma: 1, degree: 3, class_weight: balanced -> accuracy: 0.1316\n",
      "              precision    recall  f1-score   support\n",
      "\n",
      "          -1       0.95      0.01      0.02     44201\n",
      "           1       0.12      1.00      0.22      6199\n",
      "\n",
      "    accuracy                           0.13     50400\n",
      "   macro avg       0.54      0.50      0.12     50400\n",
      "weighted avg       0.85      0.13      0.05     50400\n",
      "\n"
     ]
    },
    {
     "name": "stderr",
     "output_type": "stream",
     "text": [
      "c:\\Users\\codyb\\.vscode\\Py\\COMP7970-Homework\\Lib\\site-packages\\sklearn\\svm\\_base.py:305: ConvergenceWarning: Solver terminated early (max_iter=250).  Consider pre-processing your data with StandardScaler or MinMaxScaler.\n",
      "  warnings.warn(\n"
     ]
    },
    {
     "name": "stdout",
     "output_type": "stream",
     "text": [
      "[Poly] max_iter: 250, C: 0.01, gamma: 1, degree: 3, class_weight: {1: 3, -1: 1} -> accuracy: 0.1270\n",
      "              precision    recall  f1-score   support\n",
      "\n",
      "          -1       0.96      0.00      0.01     44201\n",
      "           1       0.12      1.00      0.22      6199\n",
      "\n",
      "    accuracy                           0.13     50400\n",
      "   macro avg       0.54      0.50      0.11     50400\n",
      "weighted avg       0.86      0.13      0.04     50400\n",
      "\n"
     ]
    },
    {
     "name": "stderr",
     "output_type": "stream",
     "text": [
      "c:\\Users\\codyb\\.vscode\\Py\\COMP7970-Homework\\Lib\\site-packages\\sklearn\\svm\\_base.py:305: ConvergenceWarning: Solver terminated early (max_iter=250).  Consider pre-processing your data with StandardScaler or MinMaxScaler.\n",
      "  warnings.warn(\n"
     ]
    },
    {
     "name": "stdout",
     "output_type": "stream",
     "text": [
      "[Poly] max_iter: 250, C: 0.01, gamma: 1, degree: 3, class_weight: {1: 2, -1: 1} -> accuracy: 0.1292\n",
      "              precision    recall  f1-score   support\n",
      "\n",
      "          -1       0.94      0.01      0.02     44201\n",
      "           1       0.12      1.00      0.22      6199\n",
      "\n",
      "    accuracy                           0.13     50400\n",
      "   macro avg       0.53      0.50      0.12     50400\n",
      "weighted avg       0.84      0.13      0.04     50400\n",
      "\n"
     ]
    },
    {
     "name": "stderr",
     "output_type": "stream",
     "text": [
      "c:\\Users\\codyb\\.vscode\\Py\\COMP7970-Homework\\Lib\\site-packages\\sklearn\\svm\\_base.py:305: ConvergenceWarning: Solver terminated early (max_iter=250).  Consider pre-processing your data with StandardScaler or MinMaxScaler.\n",
      "  warnings.warn(\n"
     ]
    },
    {
     "name": "stdout",
     "output_type": "stream",
     "text": [
      "[Poly] max_iter: 250, C: 0.01, gamma: 1, degree: 4, class_weight: balanced -> accuracy: 0.8739\n",
      "              precision    recall  f1-score   support\n",
      "\n",
      "          -1       0.88      1.00      0.93     44201\n",
      "           1       0.18      0.01      0.01      6199\n",
      "\n",
      "    accuracy                           0.87     50400\n",
      "   macro avg       0.53      0.50      0.47     50400\n",
      "weighted avg       0.79      0.87      0.82     50400\n",
      "\n"
     ]
    },
    {
     "name": "stderr",
     "output_type": "stream",
     "text": [
      "c:\\Users\\codyb\\.vscode\\Py\\COMP7970-Homework\\Lib\\site-packages\\sklearn\\svm\\_base.py:305: ConvergenceWarning: Solver terminated early (max_iter=250).  Consider pre-processing your data with StandardScaler or MinMaxScaler.\n",
      "  warnings.warn(\n"
     ]
    },
    {
     "name": "stdout",
     "output_type": "stream",
     "text": [
      "[Poly] max_iter: 250, C: 0.01, gamma: 1, degree: 4, class_weight: {1: 3, -1: 1} -> accuracy: 0.1287\n",
      "              precision    recall  f1-score   support\n",
      "\n",
      "          -1       0.95      0.01      0.01     44201\n",
      "           1       0.12      1.00      0.22      6199\n",
      "\n",
      "    accuracy                           0.13     50400\n",
      "   macro avg       0.54      0.50      0.12     50400\n",
      "weighted avg       0.85      0.13      0.04     50400\n",
      "\n"
     ]
    },
    {
     "name": "stderr",
     "output_type": "stream",
     "text": [
      "c:\\Users\\codyb\\.vscode\\Py\\COMP7970-Homework\\Lib\\site-packages\\sklearn\\svm\\_base.py:305: ConvergenceWarning: Solver terminated early (max_iter=250).  Consider pre-processing your data with StandardScaler or MinMaxScaler.\n",
      "  warnings.warn(\n"
     ]
    },
    {
     "name": "stdout",
     "output_type": "stream",
     "text": [
      "[Poly] max_iter: 250, C: 0.01, gamma: 1, degree: 4, class_weight: {1: 2, -1: 1} -> accuracy: 0.8762\n",
      "              precision    recall  f1-score   support\n",
      "\n",
      "          -1       0.88      1.00      0.93     44201\n",
      "           1       0.21      0.00      0.00      6199\n",
      "\n",
      "    accuracy                           0.88     50400\n",
      "   macro avg       0.54      0.50      0.47     50400\n",
      "weighted avg       0.79      0.88      0.82     50400\n",
      "\n"
     ]
    },
    {
     "name": "stderr",
     "output_type": "stream",
     "text": [
      "c:\\Users\\codyb\\.vscode\\Py\\COMP7970-Homework\\Lib\\site-packages\\sklearn\\svm\\_base.py:305: ConvergenceWarning: Solver terminated early (max_iter=250).  Consider pre-processing your data with StandardScaler or MinMaxScaler.\n",
      "  warnings.warn(\n"
     ]
    },
    {
     "name": "stdout",
     "output_type": "stream",
     "text": [
      "[Poly] max_iter: 250, C: 0.01, gamma: 5, degree: 2, class_weight: balanced -> accuracy: 0.5211\n",
      "              precision    recall  f1-score   support\n",
      "\n",
      "          -1       0.88      0.53      0.66     44201\n",
      "           1       0.13      0.49      0.20      6199\n",
      "\n",
      "    accuracy                           0.52     50400\n",
      "   macro avg       0.50      0.51      0.43     50400\n",
      "weighted avg       0.79      0.52      0.60     50400\n",
      "\n"
     ]
    },
    {
     "name": "stderr",
     "output_type": "stream",
     "text": [
      "c:\\Users\\codyb\\.vscode\\Py\\COMP7970-Homework\\Lib\\site-packages\\sklearn\\svm\\_base.py:305: ConvergenceWarning: Solver terminated early (max_iter=250).  Consider pre-processing your data with StandardScaler or MinMaxScaler.\n",
      "  warnings.warn(\n"
     ]
    },
    {
     "name": "stdout",
     "output_type": "stream",
     "text": [
      "[Poly] max_iter: 250, C: 0.01, gamma: 5, degree: 2, class_weight: {1: 3, -1: 1} -> accuracy: 0.3962\n",
      "              precision    recall  f1-score   support\n",
      "\n",
      "          -1       0.88      0.36      0.51     44201\n",
      "           1       0.12      0.65      0.21      6199\n",
      "\n",
      "    accuracy                           0.40     50400\n",
      "   macro avg       0.50      0.50      0.36     50400\n",
      "weighted avg       0.79      0.40      0.47     50400\n",
      "\n"
     ]
    },
    {
     "name": "stderr",
     "output_type": "stream",
     "text": [
      "c:\\Users\\codyb\\.vscode\\Py\\COMP7970-Homework\\Lib\\site-packages\\sklearn\\svm\\_base.py:305: ConvergenceWarning: Solver terminated early (max_iter=250).  Consider pre-processing your data with StandardScaler or MinMaxScaler.\n",
      "  warnings.warn(\n"
     ]
    },
    {
     "name": "stdout",
     "output_type": "stream",
     "text": [
      "[Poly] max_iter: 250, C: 0.01, gamma: 5, degree: 2, class_weight: {1: 2, -1: 1} -> accuracy: 0.1455\n",
      "              precision    recall  f1-score   support\n",
      "\n",
      "          -1       0.88      0.03      0.06     44201\n",
      "           1       0.12      0.97      0.22      6199\n",
      "\n",
      "    accuracy                           0.15     50400\n",
      "   macro avg       0.50      0.50      0.14     50400\n",
      "weighted avg       0.79      0.15      0.08     50400\n",
      "\n"
     ]
    },
    {
     "name": "stderr",
     "output_type": "stream",
     "text": [
      "c:\\Users\\codyb\\.vscode\\Py\\COMP7970-Homework\\Lib\\site-packages\\sklearn\\svm\\_base.py:305: ConvergenceWarning: Solver terminated early (max_iter=250).  Consider pre-processing your data with StandardScaler or MinMaxScaler.\n",
      "  warnings.warn(\n"
     ]
    },
    {
     "name": "stdout",
     "output_type": "stream",
     "text": [
      "[Poly] max_iter: 250, C: 0.01, gamma: 5, degree: 3, class_weight: balanced -> accuracy: 0.1266\n",
      "              precision    recall  f1-score   support\n",
      "\n",
      "          -1       0.96      0.00      0.01     44201\n",
      "           1       0.12      1.00      0.22      6199\n",
      "\n",
      "    accuracy                           0.13     50400\n",
      "   macro avg       0.54      0.50      0.11     50400\n",
      "weighted avg       0.86      0.13      0.03     50400\n",
      "\n"
     ]
    },
    {
     "name": "stderr",
     "output_type": "stream",
     "text": [
      "c:\\Users\\codyb\\.vscode\\Py\\COMP7970-Homework\\Lib\\site-packages\\sklearn\\svm\\_base.py:305: ConvergenceWarning: Solver terminated early (max_iter=250).  Consider pre-processing your data with StandardScaler or MinMaxScaler.\n",
      "  warnings.warn(\n"
     ]
    },
    {
     "name": "stdout",
     "output_type": "stream",
     "text": [
      "[Poly] max_iter: 250, C: 0.01, gamma: 5, degree: 3, class_weight: {1: 3, -1: 1} -> accuracy: 0.8762\n",
      "              precision    recall  f1-score   support\n",
      "\n",
      "          -1       0.88      1.00      0.93     44201\n",
      "           1       0.24      0.00      0.01      6199\n",
      "\n",
      "    accuracy                           0.88     50400\n",
      "   macro avg       0.56      0.50      0.47     50400\n",
      "weighted avg       0.80      0.88      0.82     50400\n",
      "\n"
     ]
    },
    {
     "name": "stderr",
     "output_type": "stream",
     "text": [
      "c:\\Users\\codyb\\.vscode\\Py\\COMP7970-Homework\\Lib\\site-packages\\sklearn\\svm\\_base.py:305: ConvergenceWarning: Solver terminated early (max_iter=250).  Consider pre-processing your data with StandardScaler or MinMaxScaler.\n",
      "  warnings.warn(\n"
     ]
    },
    {
     "name": "stdout",
     "output_type": "stream",
     "text": [
      "[Poly] max_iter: 250, C: 0.01, gamma: 5, degree: 3, class_weight: {1: 2, -1: 1} -> accuracy: 0.8762\n",
      "              precision    recall  f1-score   support\n",
      "\n",
      "          -1       0.88      1.00      0.93     44201\n",
      "           1       0.26      0.00      0.01      6199\n",
      "\n",
      "    accuracy                           0.88     50400\n",
      "   macro avg       0.57      0.50      0.47     50400\n",
      "weighted avg       0.80      0.88      0.82     50400\n",
      "\n"
     ]
    },
    {
     "name": "stderr",
     "output_type": "stream",
     "text": [
      "c:\\Users\\codyb\\.vscode\\Py\\COMP7970-Homework\\Lib\\site-packages\\sklearn\\svm\\_base.py:305: ConvergenceWarning: Solver terminated early (max_iter=250).  Consider pre-processing your data with StandardScaler or MinMaxScaler.\n",
      "  warnings.warn(\n"
     ]
    },
    {
     "name": "stdout",
     "output_type": "stream",
     "text": [
      "[Poly] max_iter: 250, C: 0.01, gamma: 5, degree: 4, class_weight: balanced -> accuracy: 0.8770\n",
      "              precision    recall  f1-score   support\n",
      "\n",
      "          -1       0.88      1.00      0.93     44201\n",
      "           1       0.43      0.00      0.00      6199\n",
      "\n",
      "    accuracy                           0.88     50400\n",
      "   macro avg       0.65      0.50      0.47     50400\n",
      "weighted avg       0.82      0.88      0.82     50400\n",
      "\n"
     ]
    },
    {
     "name": "stderr",
     "output_type": "stream",
     "text": [
      "c:\\Users\\codyb\\.vscode\\Py\\COMP7970-Homework\\Lib\\site-packages\\sklearn\\svm\\_base.py:305: ConvergenceWarning: Solver terminated early (max_iter=250).  Consider pre-processing your data with StandardScaler or MinMaxScaler.\n",
      "  warnings.warn(\n"
     ]
    },
    {
     "name": "stdout",
     "output_type": "stream",
     "text": [
      "[Poly] max_iter: 250, C: 0.01, gamma: 5, degree: 4, class_weight: {1: 3, -1: 1} -> accuracy: 0.8770\n",
      "              precision    recall  f1-score   support\n",
      "\n",
      "          -1       0.88      1.00      0.93     44201\n",
      "           1       0.43      0.00      0.00      6199\n",
      "\n",
      "    accuracy                           0.88     50400\n",
      "   macro avg       0.65      0.50      0.47     50400\n",
      "weighted avg       0.82      0.88      0.82     50400\n",
      "\n"
     ]
    },
    {
     "name": "stderr",
     "output_type": "stream",
     "text": [
      "c:\\Users\\codyb\\.vscode\\Py\\COMP7970-Homework\\Lib\\site-packages\\sklearn\\svm\\_base.py:305: ConvergenceWarning: Solver terminated early (max_iter=250).  Consider pre-processing your data with StandardScaler or MinMaxScaler.\n",
      "  warnings.warn(\n"
     ]
    },
    {
     "name": "stdout",
     "output_type": "stream",
     "text": [
      "[Poly] max_iter: 250, C: 0.01, gamma: 5, degree: 4, class_weight: {1: 2, -1: 1} -> accuracy: 0.8770\n",
      "              precision    recall  f1-score   support\n",
      "\n",
      "          -1       0.88      1.00      0.93     44201\n",
      "           1       0.43      0.00      0.00      6199\n",
      "\n",
      "    accuracy                           0.88     50400\n",
      "   macro avg       0.65      0.50      0.47     50400\n",
      "weighted avg       0.82      0.88      0.82     50400\n",
      "\n"
     ]
    },
    {
     "name": "stderr",
     "output_type": "stream",
     "text": [
      "c:\\Users\\codyb\\.vscode\\Py\\COMP7970-Homework\\Lib\\site-packages\\sklearn\\svm\\_base.py:305: ConvergenceWarning: Solver terminated early (max_iter=250).  Consider pre-processing your data with StandardScaler or MinMaxScaler.\n",
      "  warnings.warn(\n"
     ]
    },
    {
     "name": "stdout",
     "output_type": "stream",
     "text": [
      "[Poly] max_iter: 250, C: 0.01, gamma: 10, degree: 2, class_weight: balanced -> accuracy: 0.5211\n",
      "              precision    recall  f1-score   support\n",
      "\n",
      "          -1       0.88      0.53      0.66     44201\n",
      "           1       0.13      0.49      0.20      6199\n",
      "\n",
      "    accuracy                           0.52     50400\n",
      "   macro avg       0.50      0.51      0.43     50400\n",
      "weighted avg       0.79      0.52      0.60     50400\n",
      "\n"
     ]
    },
    {
     "name": "stderr",
     "output_type": "stream",
     "text": [
      "c:\\Users\\codyb\\.vscode\\Py\\COMP7970-Homework\\Lib\\site-packages\\sklearn\\svm\\_base.py:305: ConvergenceWarning: Solver terminated early (max_iter=250).  Consider pre-processing your data with StandardScaler or MinMaxScaler.\n",
      "  warnings.warn(\n"
     ]
    },
    {
     "name": "stdout",
     "output_type": "stream",
     "text": [
      "[Poly] max_iter: 250, C: 0.01, gamma: 10, degree: 2, class_weight: {1: 3, -1: 1} -> accuracy: 0.3962\n",
      "              precision    recall  f1-score   support\n",
      "\n",
      "          -1       0.88      0.36      0.51     44201\n",
      "           1       0.12      0.65      0.21      6199\n",
      "\n",
      "    accuracy                           0.40     50400\n",
      "   macro avg       0.50      0.50      0.36     50400\n",
      "weighted avg       0.79      0.40      0.47     50400\n",
      "\n"
     ]
    },
    {
     "name": "stderr",
     "output_type": "stream",
     "text": [
      "c:\\Users\\codyb\\.vscode\\Py\\COMP7970-Homework\\Lib\\site-packages\\sklearn\\svm\\_base.py:305: ConvergenceWarning: Solver terminated early (max_iter=250).  Consider pre-processing your data with StandardScaler or MinMaxScaler.\n",
      "  warnings.warn(\n"
     ]
    },
    {
     "name": "stdout",
     "output_type": "stream",
     "text": [
      "[Poly] max_iter: 250, C: 0.01, gamma: 10, degree: 2, class_weight: {1: 2, -1: 1} -> accuracy: 0.1455\n",
      "              precision    recall  f1-score   support\n",
      "\n",
      "          -1       0.88      0.03      0.06     44201\n",
      "           1       0.12      0.97      0.22      6199\n",
      "\n",
      "    accuracy                           0.15     50400\n",
      "   macro avg       0.50      0.50      0.14     50400\n",
      "weighted avg       0.79      0.15      0.08     50400\n",
      "\n"
     ]
    },
    {
     "name": "stderr",
     "output_type": "stream",
     "text": [
      "c:\\Users\\codyb\\.vscode\\Py\\COMP7970-Homework\\Lib\\site-packages\\sklearn\\svm\\_base.py:305: ConvergenceWarning: Solver terminated early (max_iter=250).  Consider pre-processing your data with StandardScaler or MinMaxScaler.\n",
      "  warnings.warn(\n"
     ]
    },
    {
     "name": "stdout",
     "output_type": "stream",
     "text": [
      "[Poly] max_iter: 250, C: 0.01, gamma: 10, degree: 3, class_weight: balanced -> accuracy: 0.8770\n",
      "              precision    recall  f1-score   support\n",
      "\n",
      "          -1       0.88      1.00      0.93     44201\n",
      "           1       0.43      0.00      0.00      6199\n",
      "\n",
      "    accuracy                           0.88     50400\n",
      "   macro avg       0.65      0.50      0.47     50400\n",
      "weighted avg       0.82      0.88      0.82     50400\n",
      "\n"
     ]
    },
    {
     "name": "stderr",
     "output_type": "stream",
     "text": [
      "c:\\Users\\codyb\\.vscode\\Py\\COMP7970-Homework\\Lib\\site-packages\\sklearn\\svm\\_base.py:305: ConvergenceWarning: Solver terminated early (max_iter=250).  Consider pre-processing your data with StandardScaler or MinMaxScaler.\n",
      "  warnings.warn(\n"
     ]
    },
    {
     "name": "stdout",
     "output_type": "stream",
     "text": [
      "[Poly] max_iter: 250, C: 0.01, gamma: 10, degree: 3, class_weight: {1: 3, -1: 1} -> accuracy: 0.8770\n",
      "              precision    recall  f1-score   support\n",
      "\n",
      "          -1       0.88      1.00      0.93     44201\n",
      "           1       0.43      0.00      0.00      6199\n",
      "\n",
      "    accuracy                           0.88     50400\n",
      "   macro avg       0.65      0.50      0.47     50400\n",
      "weighted avg       0.82      0.88      0.82     50400\n",
      "\n"
     ]
    },
    {
     "name": "stderr",
     "output_type": "stream",
     "text": [
      "c:\\Users\\codyb\\.vscode\\Py\\COMP7970-Homework\\Lib\\site-packages\\sklearn\\svm\\_base.py:305: ConvergenceWarning: Solver terminated early (max_iter=250).  Consider pre-processing your data with StandardScaler or MinMaxScaler.\n",
      "  warnings.warn(\n"
     ]
    },
    {
     "name": "stdout",
     "output_type": "stream",
     "text": [
      "[Poly] max_iter: 250, C: 0.01, gamma: 10, degree: 3, class_weight: {1: 2, -1: 1} -> accuracy: 0.8770\n",
      "              precision    recall  f1-score   support\n",
      "\n",
      "          -1       0.88      1.00      0.93     44201\n",
      "           1       0.43      0.00      0.00      6199\n",
      "\n",
      "    accuracy                           0.88     50400\n",
      "   macro avg       0.65      0.50      0.47     50400\n",
      "weighted avg       0.82      0.88      0.82     50400\n",
      "\n"
     ]
    },
    {
     "name": "stderr",
     "output_type": "stream",
     "text": [
      "c:\\Users\\codyb\\.vscode\\Py\\COMP7970-Homework\\Lib\\site-packages\\sklearn\\svm\\_base.py:305: ConvergenceWarning: Solver terminated early (max_iter=250).  Consider pre-processing your data with StandardScaler or MinMaxScaler.\n",
      "  warnings.warn(\n"
     ]
    },
    {
     "name": "stdout",
     "output_type": "stream",
     "text": [
      "[Poly] max_iter: 250, C: 0.01, gamma: 10, degree: 4, class_weight: balanced -> accuracy: 0.8770\n",
      "              precision    recall  f1-score   support\n",
      "\n",
      "          -1       0.88      1.00      0.93     44201\n",
      "           1       0.43      0.00      0.00      6199\n",
      "\n",
      "    accuracy                           0.88     50400\n",
      "   macro avg       0.65      0.50      0.47     50400\n",
      "weighted avg       0.82      0.88      0.82     50400\n",
      "\n"
     ]
    },
    {
     "name": "stderr",
     "output_type": "stream",
     "text": [
      "c:\\Users\\codyb\\.vscode\\Py\\COMP7970-Homework\\Lib\\site-packages\\sklearn\\svm\\_base.py:305: ConvergenceWarning: Solver terminated early (max_iter=250).  Consider pre-processing your data with StandardScaler or MinMaxScaler.\n",
      "  warnings.warn(\n"
     ]
    },
    {
     "name": "stdout",
     "output_type": "stream",
     "text": [
      "[Poly] max_iter: 250, C: 0.01, gamma: 10, degree: 4, class_weight: {1: 3, -1: 1} -> accuracy: 0.8770\n",
      "              precision    recall  f1-score   support\n",
      "\n",
      "          -1       0.88      1.00      0.93     44201\n",
      "           1       0.43      0.00      0.00      6199\n",
      "\n",
      "    accuracy                           0.88     50400\n",
      "   macro avg       0.65      0.50      0.47     50400\n",
      "weighted avg       0.82      0.88      0.82     50400\n",
      "\n"
     ]
    },
    {
     "name": "stderr",
     "output_type": "stream",
     "text": [
      "c:\\Users\\codyb\\.vscode\\Py\\COMP7970-Homework\\Lib\\site-packages\\sklearn\\svm\\_base.py:305: ConvergenceWarning: Solver terminated early (max_iter=250).  Consider pre-processing your data with StandardScaler or MinMaxScaler.\n",
      "  warnings.warn(\n"
     ]
    },
    {
     "name": "stdout",
     "output_type": "stream",
     "text": [
      "[Poly] max_iter: 250, C: 0.01, gamma: 10, degree: 4, class_weight: {1: 2, -1: 1} -> accuracy: 0.8770\n",
      "              precision    recall  f1-score   support\n",
      "\n",
      "          -1       0.88      1.00      0.93     44201\n",
      "           1       0.43      0.00      0.00      6199\n",
      "\n",
      "    accuracy                           0.88     50400\n",
      "   macro avg       0.65      0.50      0.47     50400\n",
      "weighted avg       0.82      0.88      0.82     50400\n",
      "\n"
     ]
    },
    {
     "name": "stderr",
     "output_type": "stream",
     "text": [
      "c:\\Users\\codyb\\.vscode\\Py\\COMP7970-Homework\\Lib\\site-packages\\sklearn\\svm\\_base.py:305: ConvergenceWarning: Solver terminated early (max_iter=250).  Consider pre-processing your data with StandardScaler or MinMaxScaler.\n",
      "  warnings.warn(\n"
     ]
    },
    {
     "name": "stdout",
     "output_type": "stream",
     "text": [
      "[Poly] max_iter: 250, C: 0.01, gamma: 100, degree: 2, class_weight: balanced -> accuracy: 0.5211\n",
      "              precision    recall  f1-score   support\n",
      "\n",
      "          -1       0.88      0.53      0.66     44201\n",
      "           1       0.13      0.49      0.20      6199\n",
      "\n",
      "    accuracy                           0.52     50400\n",
      "   macro avg       0.50      0.51      0.43     50400\n",
      "weighted avg       0.79      0.52      0.60     50400\n",
      "\n"
     ]
    },
    {
     "name": "stderr",
     "output_type": "stream",
     "text": [
      "c:\\Users\\codyb\\.vscode\\Py\\COMP7970-Homework\\Lib\\site-packages\\sklearn\\svm\\_base.py:305: ConvergenceWarning: Solver terminated early (max_iter=250).  Consider pre-processing your data with StandardScaler or MinMaxScaler.\n",
      "  warnings.warn(\n"
     ]
    },
    {
     "name": "stdout",
     "output_type": "stream",
     "text": [
      "[Poly] max_iter: 250, C: 0.01, gamma: 100, degree: 2, class_weight: {1: 3, -1: 1} -> accuracy: 0.3961\n",
      "              precision    recall  f1-score   support\n",
      "\n",
      "          -1       0.88      0.36      0.51     44201\n",
      "           1       0.12      0.65      0.21      6199\n",
      "\n",
      "    accuracy                           0.40     50400\n",
      "   macro avg       0.50      0.50      0.36     50400\n",
      "weighted avg       0.79      0.40      0.47     50400\n",
      "\n"
     ]
    },
    {
     "name": "stderr",
     "output_type": "stream",
     "text": [
      "c:\\Users\\codyb\\.vscode\\Py\\COMP7970-Homework\\Lib\\site-packages\\sklearn\\svm\\_base.py:305: ConvergenceWarning: Solver terminated early (max_iter=250).  Consider pre-processing your data with StandardScaler or MinMaxScaler.\n",
      "  warnings.warn(\n"
     ]
    },
    {
     "name": "stdout",
     "output_type": "stream",
     "text": [
      "[Poly] max_iter: 250, C: 0.01, gamma: 100, degree: 2, class_weight: {1: 2, -1: 1} -> accuracy: 0.1455\n",
      "              precision    recall  f1-score   support\n",
      "\n",
      "          -1       0.88      0.03      0.06     44201\n",
      "           1       0.12      0.97      0.22      6199\n",
      "\n",
      "    accuracy                           0.15     50400\n",
      "   macro avg       0.50      0.50      0.14     50400\n",
      "weighted avg       0.79      0.15      0.08     50400\n",
      "\n"
     ]
    },
    {
     "name": "stderr",
     "output_type": "stream",
     "text": [
      "c:\\Users\\codyb\\.vscode\\Py\\COMP7970-Homework\\Lib\\site-packages\\sklearn\\svm\\_base.py:305: ConvergenceWarning: Solver terminated early (max_iter=250).  Consider pre-processing your data with StandardScaler or MinMaxScaler.\n",
      "  warnings.warn(\n"
     ]
    },
    {
     "name": "stdout",
     "output_type": "stream",
     "text": [
      "[Poly] max_iter: 250, C: 0.01, gamma: 100, degree: 3, class_weight: balanced -> accuracy: 0.8766\n",
      "              precision    recall  f1-score   support\n",
      "\n",
      "          -1       0.88      1.00      0.93     44201\n",
      "           1       0.24      0.00      0.00      6199\n",
      "\n",
      "    accuracy                           0.88     50400\n",
      "   macro avg       0.56      0.50      0.47     50400\n",
      "weighted avg       0.80      0.88      0.82     50400\n",
      "\n"
     ]
    },
    {
     "name": "stderr",
     "output_type": "stream",
     "text": [
      "c:\\Users\\codyb\\.vscode\\Py\\COMP7970-Homework\\Lib\\site-packages\\sklearn\\svm\\_base.py:305: ConvergenceWarning: Solver terminated early (max_iter=250).  Consider pre-processing your data with StandardScaler or MinMaxScaler.\n",
      "  warnings.warn(\n"
     ]
    },
    {
     "name": "stdout",
     "output_type": "stream",
     "text": [
      "[Poly] max_iter: 250, C: 0.01, gamma: 100, degree: 3, class_weight: {1: 3, -1: 1} -> accuracy: 0.8766\n",
      "              precision    recall  f1-score   support\n",
      "\n",
      "          -1       0.88      1.00      0.93     44201\n",
      "           1       0.24      0.00      0.00      6199\n",
      "\n",
      "    accuracy                           0.88     50400\n",
      "   macro avg       0.56      0.50      0.47     50400\n",
      "weighted avg       0.80      0.88      0.82     50400\n",
      "\n"
     ]
    },
    {
     "name": "stderr",
     "output_type": "stream",
     "text": [
      "c:\\Users\\codyb\\.vscode\\Py\\COMP7970-Homework\\Lib\\site-packages\\sklearn\\svm\\_base.py:305: ConvergenceWarning: Solver terminated early (max_iter=250).  Consider pre-processing your data with StandardScaler or MinMaxScaler.\n",
      "  warnings.warn(\n"
     ]
    },
    {
     "name": "stdout",
     "output_type": "stream",
     "text": [
      "[Poly] max_iter: 250, C: 0.01, gamma: 100, degree: 3, class_weight: {1: 2, -1: 1} -> accuracy: 0.8761\n",
      "              precision    recall  f1-score   support\n",
      "\n",
      "          -1       0.88      1.00      0.93     44201\n",
      "           1       0.16      0.00      0.00      6199\n",
      "\n",
      "    accuracy                           0.88     50400\n",
      "   macro avg       0.52      0.50      0.47     50400\n",
      "weighted avg       0.79      0.88      0.82     50400\n",
      "\n"
     ]
    },
    {
     "name": "stderr",
     "output_type": "stream",
     "text": [
      "c:\\Users\\codyb\\.vscode\\Py\\COMP7970-Homework\\Lib\\site-packages\\sklearn\\svm\\_base.py:305: ConvergenceWarning: Solver terminated early (max_iter=250).  Consider pre-processing your data with StandardScaler or MinMaxScaler.\n",
      "  warnings.warn(\n"
     ]
    },
    {
     "name": "stdout",
     "output_type": "stream",
     "text": [
      "[Poly] max_iter: 250, C: 0.01, gamma: 100, degree: 4, class_weight: balanced -> accuracy: 0.8770\n",
      "              precision    recall  f1-score   support\n",
      "\n",
      "          -1       0.88      1.00      0.93     44201\n",
      "           1       0.43      0.00      0.00      6199\n",
      "\n",
      "    accuracy                           0.88     50400\n",
      "   macro avg       0.65      0.50      0.47     50400\n",
      "weighted avg       0.82      0.88      0.82     50400\n",
      "\n"
     ]
    },
    {
     "name": "stderr",
     "output_type": "stream",
     "text": [
      "c:\\Users\\codyb\\.vscode\\Py\\COMP7970-Homework\\Lib\\site-packages\\sklearn\\svm\\_base.py:305: ConvergenceWarning: Solver terminated early (max_iter=250).  Consider pre-processing your data with StandardScaler or MinMaxScaler.\n",
      "  warnings.warn(\n"
     ]
    },
    {
     "name": "stdout",
     "output_type": "stream",
     "text": [
      "[Poly] max_iter: 250, C: 0.01, gamma: 100, degree: 4, class_weight: {1: 3, -1: 1} -> accuracy: 0.8770\n",
      "              precision    recall  f1-score   support\n",
      "\n",
      "          -1       0.88      1.00      0.93     44201\n",
      "           1       0.43      0.00      0.00      6199\n",
      "\n",
      "    accuracy                           0.88     50400\n",
      "   macro avg       0.65      0.50      0.47     50400\n",
      "weighted avg       0.82      0.88      0.82     50400\n",
      "\n"
     ]
    },
    {
     "name": "stderr",
     "output_type": "stream",
     "text": [
      "c:\\Users\\codyb\\.vscode\\Py\\COMP7970-Homework\\Lib\\site-packages\\sklearn\\svm\\_base.py:305: ConvergenceWarning: Solver terminated early (max_iter=250).  Consider pre-processing your data with StandardScaler or MinMaxScaler.\n",
      "  warnings.warn(\n"
     ]
    },
    {
     "name": "stdout",
     "output_type": "stream",
     "text": [
      "[Poly] max_iter: 250, C: 0.01, gamma: 100, degree: 4, class_weight: {1: 2, -1: 1} -> accuracy: 0.8770\n",
      "              precision    recall  f1-score   support\n",
      "\n",
      "          -1       0.88      1.00      0.93     44201\n",
      "           1       0.43      0.00      0.00      6199\n",
      "\n",
      "    accuracy                           0.88     50400\n",
      "   macro avg       0.65      0.50      0.47     50400\n",
      "weighted avg       0.82      0.88      0.82     50400\n",
      "\n"
     ]
    },
    {
     "name": "stderr",
     "output_type": "stream",
     "text": [
      "c:\\Users\\codyb\\.vscode\\Py\\COMP7970-Homework\\Lib\\site-packages\\sklearn\\svm\\_base.py:305: ConvergenceWarning: Solver terminated early (max_iter=250).  Consider pre-processing your data with StandardScaler or MinMaxScaler.\n",
      "  warnings.warn(\n"
     ]
    },
    {
     "name": "stdout",
     "output_type": "stream",
     "text": [
      "[Poly] max_iter: 250, C: 0.1, gamma: 0.001, degree: 2, class_weight: balanced -> accuracy: 0.1230\n",
      "              precision    recall  f1-score   support\n",
      "\n",
      "          -1       0.00      0.00      0.00     44201\n",
      "           1       0.12      1.00      0.22      6199\n",
      "\n",
      "    accuracy                           0.12     50400\n",
      "   macro avg       0.06      0.50      0.11     50400\n",
      "weighted avg       0.02      0.12      0.03     50400\n",
      "\n"
     ]
    },
    {
     "name": "stderr",
     "output_type": "stream",
     "text": [
      "c:\\Users\\codyb\\.vscode\\Py\\COMP7970-Homework\\Lib\\site-packages\\sklearn\\svm\\_base.py:305: ConvergenceWarning: Solver terminated early (max_iter=250).  Consider pre-processing your data with StandardScaler or MinMaxScaler.\n",
      "  warnings.warn(\n"
     ]
    },
    {
     "name": "stdout",
     "output_type": "stream",
     "text": [
      "[Poly] max_iter: 250, C: 0.1, gamma: 0.001, degree: 2, class_weight: {1: 3, -1: 1} -> accuracy: 0.1230\n",
      "              precision    recall  f1-score   support\n",
      "\n",
      "          -1       0.00      0.00      0.00     44201\n",
      "           1       0.12      1.00      0.22      6199\n",
      "\n",
      "    accuracy                           0.12     50400\n",
      "   macro avg       0.06      0.50      0.11     50400\n",
      "weighted avg       0.02      0.12      0.03     50400\n",
      "\n"
     ]
    },
    {
     "name": "stderr",
     "output_type": "stream",
     "text": [
      "c:\\Users\\codyb\\.vscode\\Py\\COMP7970-Homework\\Lib\\site-packages\\sklearn\\svm\\_base.py:305: ConvergenceWarning: Solver terminated early (max_iter=250).  Consider pre-processing your data with StandardScaler or MinMaxScaler.\n",
      "  warnings.warn(\n"
     ]
    },
    {
     "name": "stdout",
     "output_type": "stream",
     "text": [
      "[Poly] max_iter: 250, C: 0.1, gamma: 0.001, degree: 2, class_weight: {1: 2, -1: 1} -> accuracy: 0.1230\n",
      "              precision    recall  f1-score   support\n",
      "\n",
      "          -1       0.00      0.00      0.00     44201\n",
      "           1       0.12      1.00      0.22      6199\n",
      "\n",
      "    accuracy                           0.12     50400\n",
      "   macro avg       0.06      0.50      0.11     50400\n",
      "weighted avg       0.02      0.12      0.03     50400\n",
      "\n"
     ]
    },
    {
     "name": "stderr",
     "output_type": "stream",
     "text": [
      "c:\\Users\\codyb\\.vscode\\Py\\COMP7970-Homework\\Lib\\site-packages\\sklearn\\svm\\_base.py:305: ConvergenceWarning: Solver terminated early (max_iter=250).  Consider pre-processing your data with StandardScaler or MinMaxScaler.\n",
      "  warnings.warn(\n"
     ]
    },
    {
     "name": "stdout",
     "output_type": "stream",
     "text": [
      "[Poly] max_iter: 250, C: 0.1, gamma: 0.001, degree: 3, class_weight: balanced -> accuracy: 0.1230\n",
      "              precision    recall  f1-score   support\n",
      "\n",
      "          -1       0.00      0.00      0.00     44201\n",
      "           1       0.12      1.00      0.22      6199\n",
      "\n",
      "    accuracy                           0.12     50400\n",
      "   macro avg       0.06      0.50      0.11     50400\n",
      "weighted avg       0.02      0.12      0.03     50400\n",
      "\n"
     ]
    },
    {
     "name": "stderr",
     "output_type": "stream",
     "text": [
      "c:\\Users\\codyb\\.vscode\\Py\\COMP7970-Homework\\Lib\\site-packages\\sklearn\\svm\\_base.py:305: ConvergenceWarning: Solver terminated early (max_iter=250).  Consider pre-processing your data with StandardScaler or MinMaxScaler.\n",
      "  warnings.warn(\n"
     ]
    },
    {
     "name": "stdout",
     "output_type": "stream",
     "text": [
      "[Poly] max_iter: 250, C: 0.1, gamma: 0.001, degree: 3, class_weight: {1: 3, -1: 1} -> accuracy: 0.1230\n",
      "              precision    recall  f1-score   support\n",
      "\n",
      "          -1       0.00      0.00      0.00     44201\n",
      "           1       0.12      1.00      0.22      6199\n",
      "\n",
      "    accuracy                           0.12     50400\n",
      "   macro avg       0.06      0.50      0.11     50400\n",
      "weighted avg       0.02      0.12      0.03     50400\n",
      "\n"
     ]
    },
    {
     "name": "stderr",
     "output_type": "stream",
     "text": [
      "c:\\Users\\codyb\\.vscode\\Py\\COMP7970-Homework\\Lib\\site-packages\\sklearn\\svm\\_base.py:305: ConvergenceWarning: Solver terminated early (max_iter=250).  Consider pre-processing your data with StandardScaler or MinMaxScaler.\n",
      "  warnings.warn(\n"
     ]
    },
    {
     "name": "stdout",
     "output_type": "stream",
     "text": [
      "[Poly] max_iter: 250, C: 0.1, gamma: 0.001, degree: 3, class_weight: {1: 2, -1: 1} -> accuracy: 0.1230\n",
      "              precision    recall  f1-score   support\n",
      "\n",
      "          -1       0.00      0.00      0.00     44201\n",
      "           1       0.12      1.00      0.22      6199\n",
      "\n",
      "    accuracy                           0.12     50400\n",
      "   macro avg       0.06      0.50      0.11     50400\n",
      "weighted avg       0.02      0.12      0.03     50400\n",
      "\n"
     ]
    },
    {
     "name": "stderr",
     "output_type": "stream",
     "text": [
      "c:\\Users\\codyb\\.vscode\\Py\\COMP7970-Homework\\Lib\\site-packages\\sklearn\\svm\\_base.py:305: ConvergenceWarning: Solver terminated early (max_iter=250).  Consider pre-processing your data with StandardScaler or MinMaxScaler.\n",
      "  warnings.warn(\n"
     ]
    },
    {
     "name": "stdout",
     "output_type": "stream",
     "text": [
      "[Poly] max_iter: 250, C: 0.1, gamma: 0.001, degree: 4, class_weight: balanced -> accuracy: 0.1230\n",
      "              precision    recall  f1-score   support\n",
      "\n",
      "          -1       0.00      0.00      0.00     44201\n",
      "           1       0.12      1.00      0.22      6199\n",
      "\n",
      "    accuracy                           0.12     50400\n",
      "   macro avg       0.06      0.50      0.11     50400\n",
      "weighted avg       0.02      0.12      0.03     50400\n",
      "\n"
     ]
    },
    {
     "name": "stderr",
     "output_type": "stream",
     "text": [
      "c:\\Users\\codyb\\.vscode\\Py\\COMP7970-Homework\\Lib\\site-packages\\sklearn\\svm\\_base.py:305: ConvergenceWarning: Solver terminated early (max_iter=250).  Consider pre-processing your data with StandardScaler or MinMaxScaler.\n",
      "  warnings.warn(\n"
     ]
    },
    {
     "name": "stdout",
     "output_type": "stream",
     "text": [
      "[Poly] max_iter: 250, C: 0.1, gamma: 0.001, degree: 4, class_weight: {1: 3, -1: 1} -> accuracy: 0.1230\n",
      "              precision    recall  f1-score   support\n",
      "\n",
      "          -1       0.00      0.00      0.00     44201\n",
      "           1       0.12      1.00      0.22      6199\n",
      "\n",
      "    accuracy                           0.12     50400\n",
      "   macro avg       0.06      0.50      0.11     50400\n",
      "weighted avg       0.02      0.12      0.03     50400\n",
      "\n"
     ]
    },
    {
     "name": "stderr",
     "output_type": "stream",
     "text": [
      "c:\\Users\\codyb\\.vscode\\Py\\COMP7970-Homework\\Lib\\site-packages\\sklearn\\svm\\_base.py:305: ConvergenceWarning: Solver terminated early (max_iter=250).  Consider pre-processing your data with StandardScaler or MinMaxScaler.\n",
      "  warnings.warn(\n"
     ]
    },
    {
     "name": "stdout",
     "output_type": "stream",
     "text": [
      "[Poly] max_iter: 250, C: 0.1, gamma: 0.001, degree: 4, class_weight: {1: 2, -1: 1} -> accuracy: 0.1230\n",
      "              precision    recall  f1-score   support\n",
      "\n",
      "          -1       0.00      0.00      0.00     44201\n",
      "           1       0.12      1.00      0.22      6199\n",
      "\n",
      "    accuracy                           0.12     50400\n",
      "   macro avg       0.06      0.50      0.11     50400\n",
      "weighted avg       0.02      0.12      0.03     50400\n",
      "\n"
     ]
    },
    {
     "name": "stderr",
     "output_type": "stream",
     "text": [
      "c:\\Users\\codyb\\.vscode\\Py\\COMP7970-Homework\\Lib\\site-packages\\sklearn\\svm\\_base.py:305: ConvergenceWarning: Solver terminated early (max_iter=250).  Consider pre-processing your data with StandardScaler or MinMaxScaler.\n",
      "  warnings.warn(\n"
     ]
    },
    {
     "name": "stdout",
     "output_type": "stream",
     "text": [
      "[Poly] max_iter: 250, C: 0.1, gamma: 0.01, degree: 2, class_weight: balanced -> accuracy: 0.1232\n",
      "              precision    recall  f1-score   support\n",
      "\n",
      "          -1       1.00      0.00      0.00     44201\n",
      "           1       0.12      1.00      0.22      6199\n",
      "\n",
      "    accuracy                           0.12     50400\n",
      "   macro avg       0.56      0.50      0.11     50400\n",
      "weighted avg       0.89      0.12      0.03     50400\n",
      "\n"
     ]
    },
    {
     "name": "stderr",
     "output_type": "stream",
     "text": [
      "c:\\Users\\codyb\\.vscode\\Py\\COMP7970-Homework\\Lib\\site-packages\\sklearn\\svm\\_base.py:305: ConvergenceWarning: Solver terminated early (max_iter=250).  Consider pre-processing your data with StandardScaler or MinMaxScaler.\n",
      "  warnings.warn(\n"
     ]
    },
    {
     "name": "stdout",
     "output_type": "stream",
     "text": [
      "[Poly] max_iter: 250, C: 0.1, gamma: 0.01, degree: 2, class_weight: {1: 3, -1: 1} -> accuracy: 0.1262\n",
      "              precision    recall  f1-score   support\n",
      "\n",
      "          -1       0.96      0.00      0.01     44201\n",
      "           1       0.12      1.00      0.22      6199\n",
      "\n",
      "    accuracy                           0.13     50400\n",
      "   macro avg       0.54      0.50      0.11     50400\n",
      "weighted avg       0.86      0.13      0.03     50400\n",
      "\n"
     ]
    },
    {
     "name": "stderr",
     "output_type": "stream",
     "text": [
      "c:\\Users\\codyb\\.vscode\\Py\\COMP7970-Homework\\Lib\\site-packages\\sklearn\\svm\\_base.py:305: ConvergenceWarning: Solver terminated early (max_iter=250).  Consider pre-processing your data with StandardScaler or MinMaxScaler.\n",
      "  warnings.warn(\n"
     ]
    },
    {
     "name": "stdout",
     "output_type": "stream",
     "text": [
      "[Poly] max_iter: 250, C: 0.1, gamma: 0.01, degree: 2, class_weight: {1: 2, -1: 1} -> accuracy: 0.1270\n",
      "              precision    recall  f1-score   support\n",
      "\n",
      "          -1       0.94      0.00      0.01     44201\n",
      "           1       0.12      1.00      0.22      6199\n",
      "\n",
      "    accuracy                           0.13     50400\n",
      "   macro avg       0.53      0.50      0.11     50400\n",
      "weighted avg       0.84      0.13      0.04     50400\n",
      "\n"
     ]
    },
    {
     "name": "stderr",
     "output_type": "stream",
     "text": [
      "c:\\Users\\codyb\\.vscode\\Py\\COMP7970-Homework\\Lib\\site-packages\\sklearn\\svm\\_base.py:305: ConvergenceWarning: Solver terminated early (max_iter=250).  Consider pre-processing your data with StandardScaler or MinMaxScaler.\n",
      "  warnings.warn(\n"
     ]
    },
    {
     "name": "stdout",
     "output_type": "stream",
     "text": [
      "[Poly] max_iter: 250, C: 0.1, gamma: 0.01, degree: 3, class_weight: balanced -> accuracy: 0.1259\n",
      "              precision    recall  f1-score   support\n",
      "\n",
      "          -1       0.98      0.00      0.01     44201\n",
      "           1       0.12      1.00      0.22      6199\n",
      "\n",
      "    accuracy                           0.13     50400\n",
      "   macro avg       0.55      0.50      0.11     50400\n",
      "weighted avg       0.87      0.13      0.03     50400\n",
      "\n"
     ]
    },
    {
     "name": "stderr",
     "output_type": "stream",
     "text": [
      "c:\\Users\\codyb\\.vscode\\Py\\COMP7970-Homework\\Lib\\site-packages\\sklearn\\svm\\_base.py:305: ConvergenceWarning: Solver terminated early (max_iter=250).  Consider pre-processing your data with StandardScaler or MinMaxScaler.\n",
      "  warnings.warn(\n"
     ]
    },
    {
     "name": "stdout",
     "output_type": "stream",
     "text": [
      "[Poly] max_iter: 250, C: 0.1, gamma: 0.01, degree: 3, class_weight: {1: 3, -1: 1} -> accuracy: 0.1292\n",
      "              precision    recall  f1-score   support\n",
      "\n",
      "          -1       0.98      0.01      0.01     44201\n",
      "           1       0.12      1.00      0.22      6199\n",
      "\n",
      "    accuracy                           0.13     50400\n",
      "   macro avg       0.55      0.50      0.12     50400\n",
      "weighted avg       0.87      0.13      0.04     50400\n",
      "\n"
     ]
    },
    {
     "name": "stderr",
     "output_type": "stream",
     "text": [
      "c:\\Users\\codyb\\.vscode\\Py\\COMP7970-Homework\\Lib\\site-packages\\sklearn\\svm\\_base.py:305: ConvergenceWarning: Solver terminated early (max_iter=250).  Consider pre-processing your data with StandardScaler or MinMaxScaler.\n",
      "  warnings.warn(\n"
     ]
    },
    {
     "name": "stdout",
     "output_type": "stream",
     "text": [
      "[Poly] max_iter: 250, C: 0.1, gamma: 0.01, degree: 3, class_weight: {1: 2, -1: 1} -> accuracy: 0.1263\n",
      "              precision    recall  f1-score   support\n",
      "\n",
      "          -1       0.96      0.00      0.01     44201\n",
      "           1       0.12      1.00      0.22      6199\n",
      "\n",
      "    accuracy                           0.13     50400\n",
      "   macro avg       0.54      0.50      0.11     50400\n",
      "weighted avg       0.86      0.13      0.03     50400\n",
      "\n"
     ]
    },
    {
     "name": "stderr",
     "output_type": "stream",
     "text": [
      "c:\\Users\\codyb\\.vscode\\Py\\COMP7970-Homework\\Lib\\site-packages\\sklearn\\svm\\_base.py:305: ConvergenceWarning: Solver terminated early (max_iter=250).  Consider pre-processing your data with StandardScaler or MinMaxScaler.\n",
      "  warnings.warn(\n"
     ]
    },
    {
     "name": "stdout",
     "output_type": "stream",
     "text": [
      "[Poly] max_iter: 250, C: 0.1, gamma: 0.01, degree: 4, class_weight: balanced -> accuracy: 0.1279\n",
      "              precision    recall  f1-score   support\n",
      "\n",
      "          -1       0.97      0.01      0.01     44201\n",
      "           1       0.12      1.00      0.22      6199\n",
      "\n",
      "    accuracy                           0.13     50400\n",
      "   macro avg       0.55      0.50      0.12     50400\n",
      "weighted avg       0.87      0.13      0.04     50400\n",
      "\n"
     ]
    },
    {
     "name": "stderr",
     "output_type": "stream",
     "text": [
      "c:\\Users\\codyb\\.vscode\\Py\\COMP7970-Homework\\Lib\\site-packages\\sklearn\\svm\\_base.py:305: ConvergenceWarning: Solver terminated early (max_iter=250).  Consider pre-processing your data with StandardScaler or MinMaxScaler.\n",
      "  warnings.warn(\n"
     ]
    },
    {
     "name": "stdout",
     "output_type": "stream",
     "text": [
      "[Poly] max_iter: 250, C: 0.1, gamma: 0.01, degree: 4, class_weight: {1: 3, -1: 1} -> accuracy: 0.1279\n",
      "              precision    recall  f1-score   support\n",
      "\n",
      "          -1       0.97      0.01      0.01     44201\n",
      "           1       0.12      1.00      0.22      6199\n",
      "\n",
      "    accuracy                           0.13     50400\n",
      "   macro avg       0.55      0.50      0.12     50400\n",
      "weighted avg       0.87      0.13      0.04     50400\n",
      "\n"
     ]
    },
    {
     "name": "stderr",
     "output_type": "stream",
     "text": [
      "c:\\Users\\codyb\\.vscode\\Py\\COMP7970-Homework\\Lib\\site-packages\\sklearn\\svm\\_base.py:305: ConvergenceWarning: Solver terminated early (max_iter=250).  Consider pre-processing your data with StandardScaler or MinMaxScaler.\n",
      "  warnings.warn(\n"
     ]
    },
    {
     "name": "stdout",
     "output_type": "stream",
     "text": [
      "[Poly] max_iter: 250, C: 0.1, gamma: 0.01, degree: 4, class_weight: {1: 2, -1: 1} -> accuracy: 0.1269\n",
      "              precision    recall  f1-score   support\n",
      "\n",
      "          -1       0.95      0.00      0.01     44201\n",
      "           1       0.12      1.00      0.22      6199\n",
      "\n",
      "    accuracy                           0.13     50400\n",
      "   macro avg       0.54      0.50      0.11     50400\n",
      "weighted avg       0.85      0.13      0.04     50400\n",
      "\n"
     ]
    },
    {
     "name": "stderr",
     "output_type": "stream",
     "text": [
      "c:\\Users\\codyb\\.vscode\\Py\\COMP7970-Homework\\Lib\\site-packages\\sklearn\\svm\\_base.py:305: ConvergenceWarning: Solver terminated early (max_iter=250).  Consider pre-processing your data with StandardScaler or MinMaxScaler.\n",
      "  warnings.warn(\n"
     ]
    },
    {
     "name": "stdout",
     "output_type": "stream",
     "text": [
      "[Poly] max_iter: 250, C: 0.1, gamma: 0.1, degree: 2, class_weight: balanced -> accuracy: 0.8748\n",
      "              precision    recall  f1-score   support\n",
      "\n",
      "          -1       0.88      1.00      0.93     44201\n",
      "           1       0.19      0.01      0.01      6199\n",
      "\n",
      "    accuracy                           0.87     50400\n",
      "   macro avg       0.53      0.50      0.47     50400\n",
      "weighted avg       0.79      0.87      0.82     50400\n",
      "\n"
     ]
    },
    {
     "name": "stderr",
     "output_type": "stream",
     "text": [
      "c:\\Users\\codyb\\.vscode\\Py\\COMP7970-Homework\\Lib\\site-packages\\sklearn\\svm\\_base.py:305: ConvergenceWarning: Solver terminated early (max_iter=250).  Consider pre-processing your data with StandardScaler or MinMaxScaler.\n",
      "  warnings.warn(\n"
     ]
    },
    {
     "name": "stdout",
     "output_type": "stream",
     "text": [
      "[Poly] max_iter: 250, C: 0.1, gamma: 0.1, degree: 2, class_weight: {1: 3, -1: 1} -> accuracy: 0.8724\n",
      "              precision    recall  f1-score   support\n",
      "\n",
      "          -1       0.88      0.99      0.93     44201\n",
      "           1       0.18      0.01      0.02      6199\n",
      "\n",
      "    accuracy                           0.87     50400\n",
      "   macro avg       0.53      0.50      0.48     50400\n",
      "weighted avg       0.79      0.87      0.82     50400\n",
      "\n"
     ]
    },
    {
     "name": "stderr",
     "output_type": "stream",
     "text": [
      "c:\\Users\\codyb\\.vscode\\Py\\COMP7970-Homework\\Lib\\site-packages\\sklearn\\svm\\_base.py:305: ConvergenceWarning: Solver terminated early (max_iter=250).  Consider pre-processing your data with StandardScaler or MinMaxScaler.\n",
      "  warnings.warn(\n"
     ]
    },
    {
     "name": "stdout",
     "output_type": "stream",
     "text": [
      "[Poly] max_iter: 250, C: 0.1, gamma: 0.1, degree: 2, class_weight: {1: 2, -1: 1} -> accuracy: 0.8699\n",
      "              precision    recall  f1-score   support\n",
      "\n",
      "          -1       0.88      0.99      0.93     44201\n",
      "           1       0.17      0.01      0.03      6199\n",
      "\n",
      "    accuracy                           0.87     50400\n",
      "   macro avg       0.52      0.50      0.48     50400\n",
      "weighted avg       0.79      0.87      0.82     50400\n",
      "\n"
     ]
    },
    {
     "name": "stderr",
     "output_type": "stream",
     "text": [
      "c:\\Users\\codyb\\.vscode\\Py\\COMP7970-Homework\\Lib\\site-packages\\sklearn\\svm\\_base.py:305: ConvergenceWarning: Solver terminated early (max_iter=250).  Consider pre-processing your data with StandardScaler or MinMaxScaler.\n",
      "  warnings.warn(\n"
     ]
    },
    {
     "name": "stdout",
     "output_type": "stream",
     "text": [
      "[Poly] max_iter: 250, C: 0.1, gamma: 0.1, degree: 3, class_weight: balanced -> accuracy: 0.1316\n",
      "              precision    recall  f1-score   support\n",
      "\n",
      "          -1       0.95      0.01      0.02     44201\n",
      "           1       0.12      1.00      0.22      6199\n",
      "\n",
      "    accuracy                           0.13     50400\n",
      "   macro avg       0.54      0.50      0.12     50400\n",
      "weighted avg       0.85      0.13      0.05     50400\n",
      "\n"
     ]
    },
    {
     "name": "stderr",
     "output_type": "stream",
     "text": [
      "c:\\Users\\codyb\\.vscode\\Py\\COMP7970-Homework\\Lib\\site-packages\\sklearn\\svm\\_base.py:305: ConvergenceWarning: Solver terminated early (max_iter=250).  Consider pre-processing your data with StandardScaler or MinMaxScaler.\n",
      "  warnings.warn(\n"
     ]
    },
    {
     "name": "stdout",
     "output_type": "stream",
     "text": [
      "[Poly] max_iter: 250, C: 0.1, gamma: 0.1, degree: 3, class_weight: {1: 3, -1: 1} -> accuracy: 0.1278\n",
      "              precision    recall  f1-score   support\n",
      "\n",
      "          -1       0.97      0.01      0.01     44201\n",
      "           1       0.12      1.00      0.22      6199\n",
      "\n",
      "    accuracy                           0.13     50400\n",
      "   macro avg       0.54      0.50      0.12     50400\n",
      "weighted avg       0.86      0.13      0.04     50400\n",
      "\n"
     ]
    },
    {
     "name": "stderr",
     "output_type": "stream",
     "text": [
      "c:\\Users\\codyb\\.vscode\\Py\\COMP7970-Homework\\Lib\\site-packages\\sklearn\\svm\\_base.py:305: ConvergenceWarning: Solver terminated early (max_iter=250).  Consider pre-processing your data with StandardScaler or MinMaxScaler.\n",
      "  warnings.warn(\n"
     ]
    },
    {
     "name": "stdout",
     "output_type": "stream",
     "text": [
      "[Poly] max_iter: 250, C: 0.1, gamma: 0.1, degree: 3, class_weight: {1: 2, -1: 1} -> accuracy: 0.1288\n",
      "              precision    recall  f1-score   support\n",
      "\n",
      "          -1       0.97      0.01      0.01     44201\n",
      "           1       0.12      1.00      0.22      6199\n",
      "\n",
      "    accuracy                           0.13     50400\n",
      "   macro avg       0.55      0.50      0.12     50400\n",
      "weighted avg       0.86      0.13      0.04     50400\n",
      "\n"
     ]
    },
    {
     "name": "stderr",
     "output_type": "stream",
     "text": [
      "c:\\Users\\codyb\\.vscode\\Py\\COMP7970-Homework\\Lib\\site-packages\\sklearn\\svm\\_base.py:305: ConvergenceWarning: Solver terminated early (max_iter=250).  Consider pre-processing your data with StandardScaler or MinMaxScaler.\n",
      "  warnings.warn(\n"
     ]
    },
    {
     "name": "stdout",
     "output_type": "stream",
     "text": [
      "[Poly] max_iter: 250, C: 0.1, gamma: 0.1, degree: 4, class_weight: balanced -> accuracy: 0.1291\n",
      "              precision    recall  f1-score   support\n",
      "\n",
      "          -1       0.96      0.01      0.01     44201\n",
      "           1       0.12      1.00      0.22      6199\n",
      "\n",
      "    accuracy                           0.13     50400\n",
      "   macro avg       0.54      0.50      0.12     50400\n",
      "weighted avg       0.86      0.13      0.04     50400\n",
      "\n"
     ]
    },
    {
     "name": "stderr",
     "output_type": "stream",
     "text": [
      "c:\\Users\\codyb\\.vscode\\Py\\COMP7970-Homework\\Lib\\site-packages\\sklearn\\svm\\_base.py:305: ConvergenceWarning: Solver terminated early (max_iter=250).  Consider pre-processing your data with StandardScaler or MinMaxScaler.\n",
      "  warnings.warn(\n"
     ]
    },
    {
     "name": "stdout",
     "output_type": "stream",
     "text": [
      "[Poly] max_iter: 250, C: 0.1, gamma: 0.1, degree: 4, class_weight: {1: 3, -1: 1} -> accuracy: 0.1353\n",
      "              precision    recall  f1-score   support\n",
      "\n",
      "          -1       0.92      0.02      0.03     44201\n",
      "           1       0.12      0.99      0.22      6199\n",
      "\n",
      "    accuracy                           0.14     50400\n",
      "   macro avg       0.52      0.50      0.13     50400\n",
      "weighted avg       0.82      0.14      0.05     50400\n",
      "\n"
     ]
    },
    {
     "name": "stderr",
     "output_type": "stream",
     "text": [
      "c:\\Users\\codyb\\.vscode\\Py\\COMP7970-Homework\\Lib\\site-packages\\sklearn\\svm\\_base.py:305: ConvergenceWarning: Solver terminated early (max_iter=250).  Consider pre-processing your data with StandardScaler or MinMaxScaler.\n",
      "  warnings.warn(\n"
     ]
    },
    {
     "name": "stdout",
     "output_type": "stream",
     "text": [
      "[Poly] max_iter: 250, C: 0.1, gamma: 0.1, degree: 4, class_weight: {1: 2, -1: 1} -> accuracy: 0.1278\n",
      "              precision    recall  f1-score   support\n",
      "\n",
      "          -1       0.92      0.01      0.01     44201\n",
      "           1       0.12      1.00      0.22      6199\n",
      "\n",
      "    accuracy                           0.13     50400\n",
      "   macro avg       0.52      0.50      0.12     50400\n",
      "weighted avg       0.82      0.13      0.04     50400\n",
      "\n"
     ]
    },
    {
     "name": "stderr",
     "output_type": "stream",
     "text": [
      "c:\\Users\\codyb\\.vscode\\Py\\COMP7970-Homework\\Lib\\site-packages\\sklearn\\svm\\_base.py:305: ConvergenceWarning: Solver terminated early (max_iter=250).  Consider pre-processing your data with StandardScaler or MinMaxScaler.\n",
      "  warnings.warn(\n"
     ]
    },
    {
     "name": "stdout",
     "output_type": "stream",
     "text": [
      "[Poly] max_iter: 250, C: 0.1, gamma: 1, degree: 2, class_weight: balanced -> accuracy: 0.5211\n",
      "              precision    recall  f1-score   support\n",
      "\n",
      "          -1       0.88      0.53      0.66     44201\n",
      "           1       0.13      0.49      0.20      6199\n",
      "\n",
      "    accuracy                           0.52     50400\n",
      "   macro avg       0.50      0.51      0.43     50400\n",
      "weighted avg       0.79      0.52      0.60     50400\n",
      "\n"
     ]
    },
    {
     "name": "stderr",
     "output_type": "stream",
     "text": [
      "c:\\Users\\codyb\\.vscode\\Py\\COMP7970-Homework\\Lib\\site-packages\\sklearn\\svm\\_base.py:305: ConvergenceWarning: Solver terminated early (max_iter=250).  Consider pre-processing your data with StandardScaler or MinMaxScaler.\n",
      "  warnings.warn(\n"
     ]
    },
    {
     "name": "stdout",
     "output_type": "stream",
     "text": [
      "[Poly] max_iter: 250, C: 0.1, gamma: 1, degree: 2, class_weight: {1: 3, -1: 1} -> accuracy: 0.4497\n",
      "              precision    recall  f1-score   support\n",
      "\n",
      "          -1       0.88      0.43      0.58     44201\n",
      "           1       0.12      0.58      0.21      6199\n",
      "\n",
      "    accuracy                           0.45     50400\n",
      "   macro avg       0.50      0.50      0.39     50400\n",
      "weighted avg       0.79      0.45      0.53     50400\n",
      "\n"
     ]
    },
    {
     "name": "stderr",
     "output_type": "stream",
     "text": [
      "c:\\Users\\codyb\\.vscode\\Py\\COMP7970-Homework\\Lib\\site-packages\\sklearn\\svm\\_base.py:305: ConvergenceWarning: Solver terminated early (max_iter=250).  Consider pre-processing your data with StandardScaler or MinMaxScaler.\n",
      "  warnings.warn(\n"
     ]
    },
    {
     "name": "stdout",
     "output_type": "stream",
     "text": [
      "[Poly] max_iter: 250, C: 0.1, gamma: 1, degree: 2, class_weight: {1: 2, -1: 1} -> accuracy: 0.1455\n",
      "              precision    recall  f1-score   support\n",
      "\n",
      "          -1       0.88      0.03      0.06     44201\n",
      "           1       0.12      0.97      0.22      6199\n",
      "\n",
      "    accuracy                           0.15     50400\n",
      "   macro avg       0.50      0.50      0.14     50400\n",
      "weighted avg       0.79      0.15      0.08     50400\n",
      "\n"
     ]
    },
    {
     "name": "stderr",
     "output_type": "stream",
     "text": [
      "c:\\Users\\codyb\\.vscode\\Py\\COMP7970-Homework\\Lib\\site-packages\\sklearn\\svm\\_base.py:305: ConvergenceWarning: Solver terminated early (max_iter=250).  Consider pre-processing your data with StandardScaler or MinMaxScaler.\n",
      "  warnings.warn(\n"
     ]
    },
    {
     "name": "stdout",
     "output_type": "stream",
     "text": [
      "[Poly] max_iter: 250, C: 0.1, gamma: 1, degree: 3, class_weight: balanced -> accuracy: 0.1316\n",
      "              precision    recall  f1-score   support\n",
      "\n",
      "          -1       0.95      0.01      0.02     44201\n",
      "           1       0.12      1.00      0.22      6199\n",
      "\n",
      "    accuracy                           0.13     50400\n",
      "   macro avg       0.54      0.50      0.12     50400\n",
      "weighted avg       0.85      0.13      0.05     50400\n",
      "\n"
     ]
    },
    {
     "name": "stderr",
     "output_type": "stream",
     "text": [
      "c:\\Users\\codyb\\.vscode\\Py\\COMP7970-Homework\\Lib\\site-packages\\sklearn\\svm\\_base.py:305: ConvergenceWarning: Solver terminated early (max_iter=250).  Consider pre-processing your data with StandardScaler or MinMaxScaler.\n",
      "  warnings.warn(\n"
     ]
    },
    {
     "name": "stdout",
     "output_type": "stream",
     "text": [
      "[Poly] max_iter: 250, C: 0.1, gamma: 1, degree: 3, class_weight: {1: 3, -1: 1} -> accuracy: 0.1278\n",
      "              precision    recall  f1-score   support\n",
      "\n",
      "          -1       0.97      0.01      0.01     44201\n",
      "           1       0.12      1.00      0.22      6199\n",
      "\n",
      "    accuracy                           0.13     50400\n",
      "   macro avg       0.54      0.50      0.12     50400\n",
      "weighted avg       0.86      0.13      0.04     50400\n",
      "\n"
     ]
    },
    {
     "name": "stderr",
     "output_type": "stream",
     "text": [
      "c:\\Users\\codyb\\.vscode\\Py\\COMP7970-Homework\\Lib\\site-packages\\sklearn\\svm\\_base.py:305: ConvergenceWarning: Solver terminated early (max_iter=250).  Consider pre-processing your data with StandardScaler or MinMaxScaler.\n",
      "  warnings.warn(\n"
     ]
    },
    {
     "name": "stdout",
     "output_type": "stream",
     "text": [
      "[Poly] max_iter: 250, C: 0.1, gamma: 1, degree: 3, class_weight: {1: 2, -1: 1} -> accuracy: 0.1292\n",
      "              precision    recall  f1-score   support\n",
      "\n",
      "          -1       0.94      0.01      0.02     44201\n",
      "           1       0.12      1.00      0.22      6199\n",
      "\n",
      "    accuracy                           0.13     50400\n",
      "   macro avg       0.53      0.50      0.12     50400\n",
      "weighted avg       0.84      0.13      0.04     50400\n",
      "\n"
     ]
    },
    {
     "name": "stderr",
     "output_type": "stream",
     "text": [
      "c:\\Users\\codyb\\.vscode\\Py\\COMP7970-Homework\\Lib\\site-packages\\sklearn\\svm\\_base.py:305: ConvergenceWarning: Solver terminated early (max_iter=250).  Consider pre-processing your data with StandardScaler or MinMaxScaler.\n",
      "  warnings.warn(\n"
     ]
    },
    {
     "name": "stdout",
     "output_type": "stream",
     "text": [
      "[Poly] max_iter: 250, C: 0.1, gamma: 1, degree: 4, class_weight: balanced -> accuracy: 0.1291\n",
      "              precision    recall  f1-score   support\n",
      "\n",
      "          -1       0.91      0.01      0.02     44201\n",
      "           1       0.12      0.99      0.22      6199\n",
      "\n",
      "    accuracy                           0.13     50400\n",
      "   macro avg       0.52      0.50      0.12     50400\n",
      "weighted avg       0.81      0.13      0.04     50400\n",
      "\n"
     ]
    },
    {
     "name": "stderr",
     "output_type": "stream",
     "text": [
      "c:\\Users\\codyb\\.vscode\\Py\\COMP7970-Homework\\Lib\\site-packages\\sklearn\\svm\\_base.py:305: ConvergenceWarning: Solver terminated early (max_iter=250).  Consider pre-processing your data with StandardScaler or MinMaxScaler.\n",
      "  warnings.warn(\n"
     ]
    },
    {
     "name": "stdout",
     "output_type": "stream",
     "text": [
      "[Poly] max_iter: 250, C: 0.1, gamma: 1, degree: 4, class_weight: {1: 3, -1: 1} -> accuracy: 0.1291\n",
      "              precision    recall  f1-score   support\n",
      "\n",
      "          -1       0.91      0.01      0.02     44201\n",
      "           1       0.12      0.99      0.22      6199\n",
      "\n",
      "    accuracy                           0.13     50400\n",
      "   macro avg       0.52      0.50      0.12     50400\n",
      "weighted avg       0.81      0.13      0.04     50400\n",
      "\n"
     ]
    },
    {
     "name": "stderr",
     "output_type": "stream",
     "text": [
      "c:\\Users\\codyb\\.vscode\\Py\\COMP7970-Homework\\Lib\\site-packages\\sklearn\\svm\\_base.py:305: ConvergenceWarning: Solver terminated early (max_iter=250).  Consider pre-processing your data with StandardScaler or MinMaxScaler.\n",
      "  warnings.warn(\n"
     ]
    },
    {
     "name": "stdout",
     "output_type": "stream",
     "text": [
      "[Poly] max_iter: 250, C: 0.1, gamma: 1, degree: 4, class_weight: {1: 2, -1: 1} -> accuracy: 0.8762\n",
      "              precision    recall  f1-score   support\n",
      "\n",
      "          -1       0.88      1.00      0.93     44201\n",
      "           1       0.21      0.00      0.00      6199\n",
      "\n",
      "    accuracy                           0.88     50400\n",
      "   macro avg       0.54      0.50      0.47     50400\n",
      "weighted avg       0.79      0.88      0.82     50400\n",
      "\n"
     ]
    },
    {
     "name": "stderr",
     "output_type": "stream",
     "text": [
      "c:\\Users\\codyb\\.vscode\\Py\\COMP7970-Homework\\Lib\\site-packages\\sklearn\\svm\\_base.py:305: ConvergenceWarning: Solver terminated early (max_iter=250).  Consider pre-processing your data with StandardScaler or MinMaxScaler.\n",
      "  warnings.warn(\n"
     ]
    },
    {
     "name": "stdout",
     "output_type": "stream",
     "text": [
      "[Poly] max_iter: 250, C: 0.1, gamma: 5, degree: 2, class_weight: balanced -> accuracy: 0.5211\n",
      "              precision    recall  f1-score   support\n",
      "\n",
      "          -1       0.88      0.53      0.66     44201\n",
      "           1       0.13      0.49      0.20      6199\n",
      "\n",
      "    accuracy                           0.52     50400\n",
      "   macro avg       0.50      0.51      0.43     50400\n",
      "weighted avg       0.79      0.52      0.60     50400\n",
      "\n"
     ]
    },
    {
     "name": "stderr",
     "output_type": "stream",
     "text": [
      "c:\\Users\\codyb\\.vscode\\Py\\COMP7970-Homework\\Lib\\site-packages\\sklearn\\svm\\_base.py:305: ConvergenceWarning: Solver terminated early (max_iter=250).  Consider pre-processing your data with StandardScaler or MinMaxScaler.\n",
      "  warnings.warn(\n"
     ]
    },
    {
     "name": "stdout",
     "output_type": "stream",
     "text": [
      "[Poly] max_iter: 250, C: 0.1, gamma: 5, degree: 2, class_weight: {1: 3, -1: 1} -> accuracy: 0.4497\n",
      "              precision    recall  f1-score   support\n",
      "\n",
      "          -1       0.88      0.43      0.58     44201\n",
      "           1       0.12      0.58      0.21      6199\n",
      "\n",
      "    accuracy                           0.45     50400\n",
      "   macro avg       0.50      0.50      0.39     50400\n",
      "weighted avg       0.79      0.45      0.53     50400\n",
      "\n"
     ]
    },
    {
     "name": "stderr",
     "output_type": "stream",
     "text": [
      "c:\\Users\\codyb\\.vscode\\Py\\COMP7970-Homework\\Lib\\site-packages\\sklearn\\svm\\_base.py:305: ConvergenceWarning: Solver terminated early (max_iter=250).  Consider pre-processing your data with StandardScaler or MinMaxScaler.\n",
      "  warnings.warn(\n"
     ]
    },
    {
     "name": "stdout",
     "output_type": "stream",
     "text": [
      "[Poly] max_iter: 250, C: 0.1, gamma: 5, degree: 2, class_weight: {1: 2, -1: 1} -> accuracy: 0.1455\n",
      "              precision    recall  f1-score   support\n",
      "\n",
      "          -1       0.88      0.03      0.06     44201\n",
      "           1       0.12      0.97      0.22      6199\n",
      "\n",
      "    accuracy                           0.15     50400\n",
      "   macro avg       0.50      0.50      0.14     50400\n",
      "weighted avg       0.79      0.15      0.08     50400\n",
      "\n"
     ]
    },
    {
     "name": "stderr",
     "output_type": "stream",
     "text": [
      "c:\\Users\\codyb\\.vscode\\Py\\COMP7970-Homework\\Lib\\site-packages\\sklearn\\svm\\_base.py:305: ConvergenceWarning: Solver terminated early (max_iter=250).  Consider pre-processing your data with StandardScaler or MinMaxScaler.\n",
      "  warnings.warn(\n"
     ]
    },
    {
     "name": "stdout",
     "output_type": "stream",
     "text": [
      "[Poly] max_iter: 250, C: 0.1, gamma: 5, degree: 3, class_weight: balanced -> accuracy: 0.8770\n",
      "              precision    recall  f1-score   support\n",
      "\n",
      "          -1       0.88      1.00      0.93     44201\n",
      "           1       0.43      0.00      0.00      6199\n",
      "\n",
      "    accuracy                           0.88     50400\n",
      "   macro avg       0.65      0.50      0.47     50400\n",
      "weighted avg       0.82      0.88      0.82     50400\n",
      "\n"
     ]
    },
    {
     "name": "stderr",
     "output_type": "stream",
     "text": [
      "c:\\Users\\codyb\\.vscode\\Py\\COMP7970-Homework\\Lib\\site-packages\\sklearn\\svm\\_base.py:305: ConvergenceWarning: Solver terminated early (max_iter=250).  Consider pre-processing your data with StandardScaler or MinMaxScaler.\n",
      "  warnings.warn(\n"
     ]
    },
    {
     "name": "stdout",
     "output_type": "stream",
     "text": [
      "[Poly] max_iter: 250, C: 0.1, gamma: 5, degree: 3, class_weight: {1: 3, -1: 1} -> accuracy: 0.8770\n",
      "              precision    recall  f1-score   support\n",
      "\n",
      "          -1       0.88      1.00      0.93     44201\n",
      "           1       0.43      0.00      0.00      6199\n",
      "\n",
      "    accuracy                           0.88     50400\n",
      "   macro avg       0.65      0.50      0.47     50400\n",
      "weighted avg       0.82      0.88      0.82     50400\n",
      "\n"
     ]
    },
    {
     "name": "stderr",
     "output_type": "stream",
     "text": [
      "c:\\Users\\codyb\\.vscode\\Py\\COMP7970-Homework\\Lib\\site-packages\\sklearn\\svm\\_base.py:305: ConvergenceWarning: Solver terminated early (max_iter=250).  Consider pre-processing your data with StandardScaler or MinMaxScaler.\n",
      "  warnings.warn(\n"
     ]
    },
    {
     "name": "stdout",
     "output_type": "stream",
     "text": [
      "[Poly] max_iter: 250, C: 0.1, gamma: 5, degree: 3, class_weight: {1: 2, -1: 1} -> accuracy: 0.8770\n",
      "              precision    recall  f1-score   support\n",
      "\n",
      "          -1       0.88      1.00      0.93     44201\n",
      "           1       0.43      0.00      0.00      6199\n",
      "\n",
      "    accuracy                           0.88     50400\n",
      "   macro avg       0.65      0.50      0.47     50400\n",
      "weighted avg       0.82      0.88      0.82     50400\n",
      "\n"
     ]
    },
    {
     "name": "stderr",
     "output_type": "stream",
     "text": [
      "c:\\Users\\codyb\\.vscode\\Py\\COMP7970-Homework\\Lib\\site-packages\\sklearn\\svm\\_base.py:305: ConvergenceWarning: Solver terminated early (max_iter=250).  Consider pre-processing your data with StandardScaler or MinMaxScaler.\n",
      "  warnings.warn(\n"
     ]
    },
    {
     "name": "stdout",
     "output_type": "stream",
     "text": [
      "[Poly] max_iter: 250, C: 0.1, gamma: 5, degree: 4, class_weight: balanced -> accuracy: 0.8770\n",
      "              precision    recall  f1-score   support\n",
      "\n",
      "          -1       0.88      1.00      0.93     44201\n",
      "           1       0.43      0.00      0.00      6199\n",
      "\n",
      "    accuracy                           0.88     50400\n",
      "   macro avg       0.65      0.50      0.47     50400\n",
      "weighted avg       0.82      0.88      0.82     50400\n",
      "\n"
     ]
    },
    {
     "name": "stderr",
     "output_type": "stream",
     "text": [
      "c:\\Users\\codyb\\.vscode\\Py\\COMP7970-Homework\\Lib\\site-packages\\sklearn\\svm\\_base.py:305: ConvergenceWarning: Solver terminated early (max_iter=250).  Consider pre-processing your data with StandardScaler or MinMaxScaler.\n",
      "  warnings.warn(\n"
     ]
    },
    {
     "name": "stdout",
     "output_type": "stream",
     "text": [
      "[Poly] max_iter: 250, C: 0.1, gamma: 5, degree: 4, class_weight: {1: 3, -1: 1} -> accuracy: 0.8770\n",
      "              precision    recall  f1-score   support\n",
      "\n",
      "          -1       0.88      1.00      0.93     44201\n",
      "           1       0.43      0.00      0.00      6199\n",
      "\n",
      "    accuracy                           0.88     50400\n",
      "   macro avg       0.65      0.50      0.47     50400\n",
      "weighted avg       0.82      0.88      0.82     50400\n",
      "\n"
     ]
    },
    {
     "name": "stderr",
     "output_type": "stream",
     "text": [
      "c:\\Users\\codyb\\.vscode\\Py\\COMP7970-Homework\\Lib\\site-packages\\sklearn\\svm\\_base.py:305: ConvergenceWarning: Solver terminated early (max_iter=250).  Consider pre-processing your data with StandardScaler or MinMaxScaler.\n",
      "  warnings.warn(\n"
     ]
    },
    {
     "name": "stdout",
     "output_type": "stream",
     "text": [
      "[Poly] max_iter: 250, C: 0.1, gamma: 5, degree: 4, class_weight: {1: 2, -1: 1} -> accuracy: 0.8770\n",
      "              precision    recall  f1-score   support\n",
      "\n",
      "          -1       0.88      1.00      0.93     44201\n",
      "           1       0.43      0.00      0.00      6199\n",
      "\n",
      "    accuracy                           0.88     50400\n",
      "   macro avg       0.65      0.50      0.47     50400\n",
      "weighted avg       0.82      0.88      0.82     50400\n",
      "\n"
     ]
    },
    {
     "name": "stderr",
     "output_type": "stream",
     "text": [
      "c:\\Users\\codyb\\.vscode\\Py\\COMP7970-Homework\\Lib\\site-packages\\sklearn\\svm\\_base.py:305: ConvergenceWarning: Solver terminated early (max_iter=250).  Consider pre-processing your data with StandardScaler or MinMaxScaler.\n",
      "  warnings.warn(\n"
     ]
    },
    {
     "name": "stdout",
     "output_type": "stream",
     "text": [
      "[Poly] max_iter: 250, C: 0.1, gamma: 10, degree: 2, class_weight: balanced -> accuracy: 0.5211\n",
      "              precision    recall  f1-score   support\n",
      "\n",
      "          -1       0.88      0.53      0.66     44201\n",
      "           1       0.13      0.49      0.20      6199\n",
      "\n",
      "    accuracy                           0.52     50400\n",
      "   macro avg       0.50      0.51      0.43     50400\n",
      "weighted avg       0.79      0.52      0.60     50400\n",
      "\n"
     ]
    },
    {
     "name": "stderr",
     "output_type": "stream",
     "text": [
      "c:\\Users\\codyb\\.vscode\\Py\\COMP7970-Homework\\Lib\\site-packages\\sklearn\\svm\\_base.py:305: ConvergenceWarning: Solver terminated early (max_iter=250).  Consider pre-processing your data with StandardScaler or MinMaxScaler.\n",
      "  warnings.warn(\n"
     ]
    },
    {
     "name": "stdout",
     "output_type": "stream",
     "text": [
      "[Poly] max_iter: 250, C: 0.1, gamma: 10, degree: 2, class_weight: {1: 3, -1: 1} -> accuracy: 0.4497\n",
      "              precision    recall  f1-score   support\n",
      "\n",
      "          -1       0.88      0.43      0.58     44201\n",
      "           1       0.12      0.58      0.21      6199\n",
      "\n",
      "    accuracy                           0.45     50400\n",
      "   macro avg       0.50      0.50      0.39     50400\n",
      "weighted avg       0.79      0.45      0.53     50400\n",
      "\n"
     ]
    },
    {
     "name": "stderr",
     "output_type": "stream",
     "text": [
      "c:\\Users\\codyb\\.vscode\\Py\\COMP7970-Homework\\Lib\\site-packages\\sklearn\\svm\\_base.py:305: ConvergenceWarning: Solver terminated early (max_iter=250).  Consider pre-processing your data with StandardScaler or MinMaxScaler.\n",
      "  warnings.warn(\n"
     ]
    },
    {
     "name": "stdout",
     "output_type": "stream",
     "text": [
      "[Poly] max_iter: 250, C: 0.1, gamma: 10, degree: 2, class_weight: {1: 2, -1: 1} -> accuracy: 0.1455\n",
      "              precision    recall  f1-score   support\n",
      "\n",
      "          -1       0.88      0.03      0.06     44201\n",
      "           1       0.12      0.97      0.22      6199\n",
      "\n",
      "    accuracy                           0.15     50400\n",
      "   macro avg       0.50      0.50      0.14     50400\n",
      "weighted avg       0.79      0.15      0.08     50400\n",
      "\n"
     ]
    },
    {
     "name": "stderr",
     "output_type": "stream",
     "text": [
      "c:\\Users\\codyb\\.vscode\\Py\\COMP7970-Homework\\Lib\\site-packages\\sklearn\\svm\\_base.py:305: ConvergenceWarning: Solver terminated early (max_iter=250).  Consider pre-processing your data with StandardScaler or MinMaxScaler.\n",
      "  warnings.warn(\n"
     ]
    },
    {
     "name": "stdout",
     "output_type": "stream",
     "text": [
      "[Poly] max_iter: 250, C: 0.1, gamma: 10, degree: 3, class_weight: balanced -> accuracy: 0.8770\n",
      "              precision    recall  f1-score   support\n",
      "\n",
      "          -1       0.88      1.00      0.93     44201\n",
      "           1       0.43      0.00      0.00      6199\n",
      "\n",
      "    accuracy                           0.88     50400\n",
      "   macro avg       0.65      0.50      0.47     50400\n",
      "weighted avg       0.82      0.88      0.82     50400\n",
      "\n"
     ]
    },
    {
     "name": "stderr",
     "output_type": "stream",
     "text": [
      "c:\\Users\\codyb\\.vscode\\Py\\COMP7970-Homework\\Lib\\site-packages\\sklearn\\svm\\_base.py:305: ConvergenceWarning: Solver terminated early (max_iter=250).  Consider pre-processing your data with StandardScaler or MinMaxScaler.\n",
      "  warnings.warn(\n"
     ]
    },
    {
     "name": "stdout",
     "output_type": "stream",
     "text": [
      "[Poly] max_iter: 250, C: 0.1, gamma: 10, degree: 3, class_weight: {1: 3, -1: 1} -> accuracy: 0.8770\n",
      "              precision    recall  f1-score   support\n",
      "\n",
      "          -1       0.88      1.00      0.93     44201\n",
      "           1       0.43      0.00      0.00      6199\n",
      "\n",
      "    accuracy                           0.88     50400\n",
      "   macro avg       0.65      0.50      0.47     50400\n",
      "weighted avg       0.82      0.88      0.82     50400\n",
      "\n"
     ]
    },
    {
     "name": "stderr",
     "output_type": "stream",
     "text": [
      "c:\\Users\\codyb\\.vscode\\Py\\COMP7970-Homework\\Lib\\site-packages\\sklearn\\svm\\_base.py:305: ConvergenceWarning: Solver terminated early (max_iter=250).  Consider pre-processing your data with StandardScaler or MinMaxScaler.\n",
      "  warnings.warn(\n"
     ]
    },
    {
     "name": "stdout",
     "output_type": "stream",
     "text": [
      "[Poly] max_iter: 250, C: 0.1, gamma: 10, degree: 3, class_weight: {1: 2, -1: 1} -> accuracy: 0.8770\n",
      "              precision    recall  f1-score   support\n",
      "\n",
      "          -1       0.88      1.00      0.93     44201\n",
      "           1       0.43      0.00      0.00      6199\n",
      "\n",
      "    accuracy                           0.88     50400\n",
      "   macro avg       0.65      0.50      0.47     50400\n",
      "weighted avg       0.82      0.88      0.82     50400\n",
      "\n"
     ]
    },
    {
     "name": "stderr",
     "output_type": "stream",
     "text": [
      "c:\\Users\\codyb\\.vscode\\Py\\COMP7970-Homework\\Lib\\site-packages\\sklearn\\svm\\_base.py:305: ConvergenceWarning: Solver terminated early (max_iter=250).  Consider pre-processing your data with StandardScaler or MinMaxScaler.\n",
      "  warnings.warn(\n"
     ]
    },
    {
     "name": "stdout",
     "output_type": "stream",
     "text": [
      "[Poly] max_iter: 250, C: 0.1, gamma: 10, degree: 4, class_weight: balanced -> accuracy: 0.8770\n",
      "              precision    recall  f1-score   support\n",
      "\n",
      "          -1       0.88      1.00      0.93     44201\n",
      "           1       0.43      0.00      0.00      6199\n",
      "\n",
      "    accuracy                           0.88     50400\n",
      "   macro avg       0.65      0.50      0.47     50400\n",
      "weighted avg       0.82      0.88      0.82     50400\n",
      "\n"
     ]
    },
    {
     "name": "stderr",
     "output_type": "stream",
     "text": [
      "c:\\Users\\codyb\\.vscode\\Py\\COMP7970-Homework\\Lib\\site-packages\\sklearn\\svm\\_base.py:305: ConvergenceWarning: Solver terminated early (max_iter=250).  Consider pre-processing your data with StandardScaler or MinMaxScaler.\n",
      "  warnings.warn(\n"
     ]
    },
    {
     "name": "stdout",
     "output_type": "stream",
     "text": [
      "[Poly] max_iter: 250, C: 0.1, gamma: 10, degree: 4, class_weight: {1: 3, -1: 1} -> accuracy: 0.8770\n",
      "              precision    recall  f1-score   support\n",
      "\n",
      "          -1       0.88      1.00      0.93     44201\n",
      "           1       0.43      0.00      0.00      6199\n",
      "\n",
      "    accuracy                           0.88     50400\n",
      "   macro avg       0.65      0.50      0.47     50400\n",
      "weighted avg       0.82      0.88      0.82     50400\n",
      "\n"
     ]
    },
    {
     "name": "stderr",
     "output_type": "stream",
     "text": [
      "c:\\Users\\codyb\\.vscode\\Py\\COMP7970-Homework\\Lib\\site-packages\\sklearn\\svm\\_base.py:305: ConvergenceWarning: Solver terminated early (max_iter=250).  Consider pre-processing your data with StandardScaler or MinMaxScaler.\n",
      "  warnings.warn(\n"
     ]
    },
    {
     "name": "stdout",
     "output_type": "stream",
     "text": [
      "[Poly] max_iter: 250, C: 0.1, gamma: 10, degree: 4, class_weight: {1: 2, -1: 1} -> accuracy: 0.8770\n",
      "              precision    recall  f1-score   support\n",
      "\n",
      "          -1       0.88      1.00      0.93     44201\n",
      "           1       0.43      0.00      0.00      6199\n",
      "\n",
      "    accuracy                           0.88     50400\n",
      "   macro avg       0.65      0.50      0.47     50400\n",
      "weighted avg       0.82      0.88      0.82     50400\n",
      "\n"
     ]
    },
    {
     "name": "stderr",
     "output_type": "stream",
     "text": [
      "c:\\Users\\codyb\\.vscode\\Py\\COMP7970-Homework\\Lib\\site-packages\\sklearn\\svm\\_base.py:305: ConvergenceWarning: Solver terminated early (max_iter=250).  Consider pre-processing your data with StandardScaler or MinMaxScaler.\n",
      "  warnings.warn(\n"
     ]
    },
    {
     "name": "stdout",
     "output_type": "stream",
     "text": [
      "[Poly] max_iter: 250, C: 0.1, gamma: 100, degree: 2, class_weight: balanced -> accuracy: 0.4092\n",
      "              precision    recall  f1-score   support\n",
      "\n",
      "          -1       0.88      0.38      0.53     44201\n",
      "           1       0.13      0.64      0.21      6199\n",
      "\n",
      "    accuracy                           0.41     50400\n",
      "   macro avg       0.50      0.51      0.37     50400\n",
      "weighted avg       0.79      0.41      0.49     50400\n",
      "\n"
     ]
    },
    {
     "name": "stderr",
     "output_type": "stream",
     "text": [
      "c:\\Users\\codyb\\.vscode\\Py\\COMP7970-Homework\\Lib\\site-packages\\sklearn\\svm\\_base.py:305: ConvergenceWarning: Solver terminated early (max_iter=250).  Consider pre-processing your data with StandardScaler or MinMaxScaler.\n",
      "  warnings.warn(\n"
     ]
    },
    {
     "name": "stdout",
     "output_type": "stream",
     "text": [
      "[Poly] max_iter: 250, C: 0.1, gamma: 100, degree: 2, class_weight: {1: 3, -1: 1} -> accuracy: 0.1976\n",
      "              precision    recall  f1-score   support\n",
      "\n",
      "          -1       0.88      0.10      0.18     44201\n",
      "           1       0.12      0.91      0.22      6199\n",
      "\n",
      "    accuracy                           0.20     50400\n",
      "   macro avg       0.50      0.50      0.20     50400\n",
      "weighted avg       0.79      0.20      0.18     50400\n",
      "\n"
     ]
    },
    {
     "name": "stderr",
     "output_type": "stream",
     "text": [
      "c:\\Users\\codyb\\.vscode\\Py\\COMP7970-Homework\\Lib\\site-packages\\sklearn\\svm\\_base.py:305: ConvergenceWarning: Solver terminated early (max_iter=250).  Consider pre-processing your data with StandardScaler or MinMaxScaler.\n",
      "  warnings.warn(\n"
     ]
    },
    {
     "name": "stdout",
     "output_type": "stream",
     "text": [
      "[Poly] max_iter: 250, C: 0.1, gamma: 100, degree: 2, class_weight: {1: 2, -1: 1} -> accuracy: 0.8735\n",
      "              precision    recall  f1-score   support\n",
      "\n",
      "          -1       0.88      1.00      0.93     44201\n",
      "           1       0.13      0.01      0.01      6199\n",
      "\n",
      "    accuracy                           0.87     50400\n",
      "   macro avg       0.50      0.50      0.47     50400\n",
      "weighted avg       0.79      0.87      0.82     50400\n",
      "\n"
     ]
    },
    {
     "name": "stderr",
     "output_type": "stream",
     "text": [
      "c:\\Users\\codyb\\.vscode\\Py\\COMP7970-Homework\\Lib\\site-packages\\sklearn\\svm\\_base.py:305: ConvergenceWarning: Solver terminated early (max_iter=250).  Consider pre-processing your data with StandardScaler or MinMaxScaler.\n",
      "  warnings.warn(\n"
     ]
    },
    {
     "name": "stdout",
     "output_type": "stream",
     "text": [
      "[Poly] max_iter: 250, C: 0.1, gamma: 100, degree: 3, class_weight: balanced -> accuracy: 0.8766\n",
      "              precision    recall  f1-score   support\n",
      "\n",
      "          -1       0.88      1.00      0.93     44201\n",
      "           1       0.24      0.00      0.00      6199\n",
      "\n",
      "    accuracy                           0.88     50400\n",
      "   macro avg       0.56      0.50      0.47     50400\n",
      "weighted avg       0.80      0.88      0.82     50400\n",
      "\n"
     ]
    },
    {
     "name": "stderr",
     "output_type": "stream",
     "text": [
      "c:\\Users\\codyb\\.vscode\\Py\\COMP7970-Homework\\Lib\\site-packages\\sklearn\\svm\\_base.py:305: ConvergenceWarning: Solver terminated early (max_iter=250).  Consider pre-processing your data with StandardScaler or MinMaxScaler.\n",
      "  warnings.warn(\n"
     ]
    },
    {
     "name": "stdout",
     "output_type": "stream",
     "text": [
      "[Poly] max_iter: 250, C: 0.1, gamma: 100, degree: 3, class_weight: {1: 3, -1: 1} -> accuracy: 0.8766\n",
      "              precision    recall  f1-score   support\n",
      "\n",
      "          -1       0.88      1.00      0.93     44201\n",
      "           1       0.24      0.00      0.00      6199\n",
      "\n",
      "    accuracy                           0.88     50400\n",
      "   macro avg       0.56      0.50      0.47     50400\n",
      "weighted avg       0.80      0.88      0.82     50400\n",
      "\n"
     ]
    },
    {
     "name": "stderr",
     "output_type": "stream",
     "text": [
      "c:\\Users\\codyb\\.vscode\\Py\\COMP7970-Homework\\Lib\\site-packages\\sklearn\\svm\\_base.py:305: ConvergenceWarning: Solver terminated early (max_iter=250).  Consider pre-processing your data with StandardScaler or MinMaxScaler.\n",
      "  warnings.warn(\n"
     ]
    },
    {
     "name": "stdout",
     "output_type": "stream",
     "text": [
      "[Poly] max_iter: 250, C: 0.1, gamma: 100, degree: 3, class_weight: {1: 2, -1: 1} -> accuracy: 0.8761\n",
      "              precision    recall  f1-score   support\n",
      "\n",
      "          -1       0.88      1.00      0.93     44201\n",
      "           1       0.16      0.00      0.00      6199\n",
      "\n",
      "    accuracy                           0.88     50400\n",
      "   macro avg       0.52      0.50      0.47     50400\n",
      "weighted avg       0.79      0.88      0.82     50400\n",
      "\n"
     ]
    },
    {
     "name": "stderr",
     "output_type": "stream",
     "text": [
      "c:\\Users\\codyb\\.vscode\\Py\\COMP7970-Homework\\Lib\\site-packages\\sklearn\\svm\\_base.py:305: ConvergenceWarning: Solver terminated early (max_iter=250).  Consider pre-processing your data with StandardScaler or MinMaxScaler.\n",
      "  warnings.warn(\n"
     ]
    },
    {
     "name": "stdout",
     "output_type": "stream",
     "text": [
      "[Poly] max_iter: 250, C: 0.1, gamma: 100, degree: 4, class_weight: balanced -> accuracy: 0.8770\n",
      "              precision    recall  f1-score   support\n",
      "\n",
      "          -1       0.88      1.00      0.93     44201\n",
      "           1       0.43      0.00      0.00      6199\n",
      "\n",
      "    accuracy                           0.88     50400\n",
      "   macro avg       0.65      0.50      0.47     50400\n",
      "weighted avg       0.82      0.88      0.82     50400\n",
      "\n"
     ]
    },
    {
     "name": "stderr",
     "output_type": "stream",
     "text": [
      "c:\\Users\\codyb\\.vscode\\Py\\COMP7970-Homework\\Lib\\site-packages\\sklearn\\svm\\_base.py:305: ConvergenceWarning: Solver terminated early (max_iter=250).  Consider pre-processing your data with StandardScaler or MinMaxScaler.\n",
      "  warnings.warn(\n"
     ]
    },
    {
     "name": "stdout",
     "output_type": "stream",
     "text": [
      "[Poly] max_iter: 250, C: 0.1, gamma: 100, degree: 4, class_weight: {1: 3, -1: 1} -> accuracy: 0.8770\n",
      "              precision    recall  f1-score   support\n",
      "\n",
      "          -1       0.88      1.00      0.93     44201\n",
      "           1       0.43      0.00      0.00      6199\n",
      "\n",
      "    accuracy                           0.88     50400\n",
      "   macro avg       0.65      0.50      0.47     50400\n",
      "weighted avg       0.82      0.88      0.82     50400\n",
      "\n"
     ]
    },
    {
     "name": "stderr",
     "output_type": "stream",
     "text": [
      "c:\\Users\\codyb\\.vscode\\Py\\COMP7970-Homework\\Lib\\site-packages\\sklearn\\svm\\_base.py:305: ConvergenceWarning: Solver terminated early (max_iter=250).  Consider pre-processing your data with StandardScaler or MinMaxScaler.\n",
      "  warnings.warn(\n"
     ]
    },
    {
     "name": "stdout",
     "output_type": "stream",
     "text": [
      "[Poly] max_iter: 250, C: 0.1, gamma: 100, degree: 4, class_weight: {1: 2, -1: 1} -> accuracy: 0.8770\n",
      "              precision    recall  f1-score   support\n",
      "\n",
      "          -1       0.88      1.00      0.93     44201\n",
      "           1       0.43      0.00      0.00      6199\n",
      "\n",
      "    accuracy                           0.88     50400\n",
      "   macro avg       0.65      0.50      0.47     50400\n",
      "weighted avg       0.82      0.88      0.82     50400\n",
      "\n"
     ]
    },
    {
     "name": "stderr",
     "output_type": "stream",
     "text": [
      "c:\\Users\\codyb\\.vscode\\Py\\COMP7970-Homework\\Lib\\site-packages\\sklearn\\svm\\_base.py:305: ConvergenceWarning: Solver terminated early (max_iter=250).  Consider pre-processing your data with StandardScaler or MinMaxScaler.\n",
      "  warnings.warn(\n"
     ]
    },
    {
     "name": "stdout",
     "output_type": "stream",
     "text": [
      "[Poly] max_iter: 250, C: 1, gamma: 0.001, degree: 2, class_weight: balanced -> accuracy: 0.1230\n",
      "              precision    recall  f1-score   support\n",
      "\n",
      "          -1       0.00      0.00      0.00     44201\n",
      "           1       0.12      1.00      0.22      6199\n",
      "\n",
      "    accuracy                           0.12     50400\n",
      "   macro avg       0.06      0.50      0.11     50400\n",
      "weighted avg       0.02      0.12      0.03     50400\n",
      "\n"
     ]
    },
    {
     "name": "stderr",
     "output_type": "stream",
     "text": [
      "c:\\Users\\codyb\\.vscode\\Py\\COMP7970-Homework\\Lib\\site-packages\\sklearn\\svm\\_base.py:305: ConvergenceWarning: Solver terminated early (max_iter=250).  Consider pre-processing your data with StandardScaler or MinMaxScaler.\n",
      "  warnings.warn(\n"
     ]
    },
    {
     "name": "stdout",
     "output_type": "stream",
     "text": [
      "[Poly] max_iter: 250, C: 1, gamma: 0.001, degree: 2, class_weight: {1: 3, -1: 1} -> accuracy: 0.1230\n",
      "              precision    recall  f1-score   support\n",
      "\n",
      "          -1       0.00      0.00      0.00     44201\n",
      "           1       0.12      1.00      0.22      6199\n",
      "\n",
      "    accuracy                           0.12     50400\n",
      "   macro avg       0.06      0.50      0.11     50400\n",
      "weighted avg       0.02      0.12      0.03     50400\n",
      "\n"
     ]
    },
    {
     "name": "stderr",
     "output_type": "stream",
     "text": [
      "c:\\Users\\codyb\\.vscode\\Py\\COMP7970-Homework\\Lib\\site-packages\\sklearn\\svm\\_base.py:305: ConvergenceWarning: Solver terminated early (max_iter=250).  Consider pre-processing your data with StandardScaler or MinMaxScaler.\n",
      "  warnings.warn(\n"
     ]
    },
    {
     "name": "stdout",
     "output_type": "stream",
     "text": [
      "[Poly] max_iter: 250, C: 1, gamma: 0.001, degree: 2, class_weight: {1: 2, -1: 1} -> accuracy: 0.1230\n",
      "              precision    recall  f1-score   support\n",
      "\n",
      "          -1       0.00      0.00      0.00     44201\n",
      "           1       0.12      1.00      0.22      6199\n",
      "\n",
      "    accuracy                           0.12     50400\n",
      "   macro avg       0.06      0.50      0.11     50400\n",
      "weighted avg       0.02      0.12      0.03     50400\n",
      "\n"
     ]
    },
    {
     "name": "stderr",
     "output_type": "stream",
     "text": [
      "c:\\Users\\codyb\\.vscode\\Py\\COMP7970-Homework\\Lib\\site-packages\\sklearn\\svm\\_base.py:305: ConvergenceWarning: Solver terminated early (max_iter=250).  Consider pre-processing your data with StandardScaler or MinMaxScaler.\n",
      "  warnings.warn(\n"
     ]
    },
    {
     "name": "stdout",
     "output_type": "stream",
     "text": [
      "[Poly] max_iter: 250, C: 1, gamma: 0.001, degree: 3, class_weight: balanced -> accuracy: 0.1230\n",
      "              precision    recall  f1-score   support\n",
      "\n",
      "          -1       0.00      0.00      0.00     44201\n",
      "           1       0.12      1.00      0.22      6199\n",
      "\n",
      "    accuracy                           0.12     50400\n",
      "   macro avg       0.06      0.50      0.11     50400\n",
      "weighted avg       0.02      0.12      0.03     50400\n",
      "\n"
     ]
    },
    {
     "name": "stderr",
     "output_type": "stream",
     "text": [
      "c:\\Users\\codyb\\.vscode\\Py\\COMP7970-Homework\\Lib\\site-packages\\sklearn\\svm\\_base.py:305: ConvergenceWarning: Solver terminated early (max_iter=250).  Consider pre-processing your data with StandardScaler or MinMaxScaler.\n",
      "  warnings.warn(\n"
     ]
    },
    {
     "name": "stdout",
     "output_type": "stream",
     "text": [
      "[Poly] max_iter: 250, C: 1, gamma: 0.001, degree: 3, class_weight: {1: 3, -1: 1} -> accuracy: 0.1230\n",
      "              precision    recall  f1-score   support\n",
      "\n",
      "          -1       0.00      0.00      0.00     44201\n",
      "           1       0.12      1.00      0.22      6199\n",
      "\n",
      "    accuracy                           0.12     50400\n",
      "   macro avg       0.06      0.50      0.11     50400\n",
      "weighted avg       0.02      0.12      0.03     50400\n",
      "\n"
     ]
    },
    {
     "name": "stderr",
     "output_type": "stream",
     "text": [
      "c:\\Users\\codyb\\.vscode\\Py\\COMP7970-Homework\\Lib\\site-packages\\sklearn\\svm\\_base.py:305: ConvergenceWarning: Solver terminated early (max_iter=250).  Consider pre-processing your data with StandardScaler or MinMaxScaler.\n",
      "  warnings.warn(\n"
     ]
    },
    {
     "name": "stdout",
     "output_type": "stream",
     "text": [
      "[Poly] max_iter: 250, C: 1, gamma: 0.001, degree: 3, class_weight: {1: 2, -1: 1} -> accuracy: 0.1230\n",
      "              precision    recall  f1-score   support\n",
      "\n",
      "          -1       0.00      0.00      0.00     44201\n",
      "           1       0.12      1.00      0.22      6199\n",
      "\n",
      "    accuracy                           0.12     50400\n",
      "   macro avg       0.06      0.50      0.11     50400\n",
      "weighted avg       0.02      0.12      0.03     50400\n",
      "\n"
     ]
    },
    {
     "name": "stderr",
     "output_type": "stream",
     "text": [
      "c:\\Users\\codyb\\.vscode\\Py\\COMP7970-Homework\\Lib\\site-packages\\sklearn\\svm\\_base.py:305: ConvergenceWarning: Solver terminated early (max_iter=250).  Consider pre-processing your data with StandardScaler or MinMaxScaler.\n",
      "  warnings.warn(\n"
     ]
    },
    {
     "name": "stdout",
     "output_type": "stream",
     "text": [
      "[Poly] max_iter: 250, C: 1, gamma: 0.001, degree: 4, class_weight: balanced -> accuracy: 0.1230\n",
      "              precision    recall  f1-score   support\n",
      "\n",
      "          -1       0.00      0.00      0.00     44201\n",
      "           1       0.12      1.00      0.22      6199\n",
      "\n",
      "    accuracy                           0.12     50400\n",
      "   macro avg       0.06      0.50      0.11     50400\n",
      "weighted avg       0.02      0.12      0.03     50400\n",
      "\n"
     ]
    },
    {
     "name": "stderr",
     "output_type": "stream",
     "text": [
      "c:\\Users\\codyb\\.vscode\\Py\\COMP7970-Homework\\Lib\\site-packages\\sklearn\\svm\\_base.py:305: ConvergenceWarning: Solver terminated early (max_iter=250).  Consider pre-processing your data with StandardScaler or MinMaxScaler.\n",
      "  warnings.warn(\n"
     ]
    },
    {
     "name": "stdout",
     "output_type": "stream",
     "text": [
      "[Poly] max_iter: 250, C: 1, gamma: 0.001, degree: 4, class_weight: {1: 3, -1: 1} -> accuracy: 0.1230\n",
      "              precision    recall  f1-score   support\n",
      "\n",
      "          -1       0.00      0.00      0.00     44201\n",
      "           1       0.12      1.00      0.22      6199\n",
      "\n",
      "    accuracy                           0.12     50400\n",
      "   macro avg       0.06      0.50      0.11     50400\n",
      "weighted avg       0.02      0.12      0.03     50400\n",
      "\n"
     ]
    },
    {
     "name": "stderr",
     "output_type": "stream",
     "text": [
      "c:\\Users\\codyb\\.vscode\\Py\\COMP7970-Homework\\Lib\\site-packages\\sklearn\\svm\\_base.py:305: ConvergenceWarning: Solver terminated early (max_iter=250).  Consider pre-processing your data with StandardScaler or MinMaxScaler.\n",
      "  warnings.warn(\n"
     ]
    },
    {
     "name": "stdout",
     "output_type": "stream",
     "text": [
      "[Poly] max_iter: 250, C: 1, gamma: 0.001, degree: 4, class_weight: {1: 2, -1: 1} -> accuracy: 0.1230\n",
      "              precision    recall  f1-score   support\n",
      "\n",
      "          -1       0.00      0.00      0.00     44201\n",
      "           1       0.12      1.00      0.22      6199\n",
      "\n",
      "    accuracy                           0.12     50400\n",
      "   macro avg       0.06      0.50      0.11     50400\n",
      "weighted avg       0.02      0.12      0.03     50400\n",
      "\n"
     ]
    },
    {
     "name": "stderr",
     "output_type": "stream",
     "text": [
      "c:\\Users\\codyb\\.vscode\\Py\\COMP7970-Homework\\Lib\\site-packages\\sklearn\\svm\\_base.py:305: ConvergenceWarning: Solver terminated early (max_iter=250).  Consider pre-processing your data with StandardScaler or MinMaxScaler.\n",
      "  warnings.warn(\n"
     ]
    },
    {
     "name": "stdout",
     "output_type": "stream",
     "text": [
      "[Poly] max_iter: 250, C: 1, gamma: 0.01, degree: 2, class_weight: balanced -> accuracy: 0.8713\n",
      "              precision    recall  f1-score   support\n",
      "\n",
      "          -1       0.88      0.99      0.93     44201\n",
      "           1       0.18      0.01      0.02      6199\n",
      "\n",
      "    accuracy                           0.87     50400\n",
      "   macro avg       0.53      0.50      0.48     50400\n",
      "weighted avg       0.79      0.87      0.82     50400\n",
      "\n"
     ]
    },
    {
     "name": "stderr",
     "output_type": "stream",
     "text": [
      "c:\\Users\\codyb\\.vscode\\Py\\COMP7970-Homework\\Lib\\site-packages\\sklearn\\svm\\_base.py:305: ConvergenceWarning: Solver terminated early (max_iter=250).  Consider pre-processing your data with StandardScaler or MinMaxScaler.\n",
      "  warnings.warn(\n"
     ]
    },
    {
     "name": "stdout",
     "output_type": "stream",
     "text": [
      "[Poly] max_iter: 250, C: 1, gamma: 0.01, degree: 2, class_weight: {1: 3, -1: 1} -> accuracy: 0.1289\n",
      "              precision    recall  f1-score   support\n",
      "\n",
      "          -1       0.93      0.01      0.01     44201\n",
      "           1       0.12      1.00      0.22      6199\n",
      "\n",
      "    accuracy                           0.13     50400\n",
      "   macro avg       0.53      0.50      0.12     50400\n",
      "weighted avg       0.83      0.13      0.04     50400\n",
      "\n"
     ]
    },
    {
     "name": "stderr",
     "output_type": "stream",
     "text": [
      "c:\\Users\\codyb\\.vscode\\Py\\COMP7970-Homework\\Lib\\site-packages\\sklearn\\svm\\_base.py:305: ConvergenceWarning: Solver terminated early (max_iter=250).  Consider pre-processing your data with StandardScaler or MinMaxScaler.\n",
      "  warnings.warn(\n"
     ]
    },
    {
     "name": "stdout",
     "output_type": "stream",
     "text": [
      "[Poly] max_iter: 250, C: 1, gamma: 0.01, degree: 2, class_weight: {1: 2, -1: 1} -> accuracy: 0.8769\n",
      "              precision    recall  f1-score   support\n",
      "\n",
      "          -1       0.88      1.00      0.93     44201\n",
      "           1       0.47      0.01      0.01      6199\n",
      "\n",
      "    accuracy                           0.88     50400\n",
      "   macro avg       0.67      0.50      0.47     50400\n",
      "weighted avg       0.83      0.88      0.82     50400\n",
      "\n"
     ]
    },
    {
     "name": "stderr",
     "output_type": "stream",
     "text": [
      "c:\\Users\\codyb\\.vscode\\Py\\COMP7970-Homework\\Lib\\site-packages\\sklearn\\svm\\_base.py:305: ConvergenceWarning: Solver terminated early (max_iter=250).  Consider pre-processing your data with StandardScaler or MinMaxScaler.\n",
      "  warnings.warn(\n"
     ]
    },
    {
     "name": "stdout",
     "output_type": "stream",
     "text": [
      "[Poly] max_iter: 250, C: 1, gamma: 0.01, degree: 3, class_weight: balanced -> accuracy: 0.8047\n",
      "              precision    recall  f1-score   support\n",
      "\n",
      "          -1       0.88      0.90      0.89     44201\n",
      "           1       0.12      0.10      0.11      6199\n",
      "\n",
      "    accuracy                           0.80     50400\n",
      "   macro avg       0.50      0.50      0.50     50400\n",
      "weighted avg       0.78      0.80      0.79     50400\n",
      "\n"
     ]
    },
    {
     "name": "stderr",
     "output_type": "stream",
     "text": [
      "c:\\Users\\codyb\\.vscode\\Py\\COMP7970-Homework\\Lib\\site-packages\\sklearn\\svm\\_base.py:305: ConvergenceWarning: Solver terminated early (max_iter=250).  Consider pre-processing your data with StandardScaler or MinMaxScaler.\n",
      "  warnings.warn(\n"
     ]
    },
    {
     "name": "stdout",
     "output_type": "stream",
     "text": [
      "[Poly] max_iter: 250, C: 1, gamma: 0.01, degree: 3, class_weight: {1: 3, -1: 1} -> accuracy: 0.1284\n",
      "              precision    recall  f1-score   support\n",
      "\n",
      "          -1       0.94      0.01      0.01     44201\n",
      "           1       0.12      1.00      0.22      6199\n",
      "\n",
      "    accuracy                           0.13     50400\n",
      "   macro avg       0.53      0.50      0.12     50400\n",
      "weighted avg       0.84      0.13      0.04     50400\n",
      "\n"
     ]
    },
    {
     "name": "stderr",
     "output_type": "stream",
     "text": [
      "c:\\Users\\codyb\\.vscode\\Py\\COMP7970-Homework\\Lib\\site-packages\\sklearn\\svm\\_base.py:305: ConvergenceWarning: Solver terminated early (max_iter=250).  Consider pre-processing your data with StandardScaler or MinMaxScaler.\n",
      "  warnings.warn(\n"
     ]
    },
    {
     "name": "stdout",
     "output_type": "stream",
     "text": [
      "[Poly] max_iter: 250, C: 1, gamma: 0.01, degree: 3, class_weight: {1: 2, -1: 1} -> accuracy: 0.1273\n",
      "              precision    recall  f1-score   support\n",
      "\n",
      "          -1       0.95      0.01      0.01     44201\n",
      "           1       0.12      1.00      0.22      6199\n",
      "\n",
      "    accuracy                           0.13     50400\n",
      "   macro avg       0.54      0.50      0.11     50400\n",
      "weighted avg       0.85      0.13      0.04     50400\n",
      "\n"
     ]
    },
    {
     "name": "stderr",
     "output_type": "stream",
     "text": [
      "c:\\Users\\codyb\\.vscode\\Py\\COMP7970-Homework\\Lib\\site-packages\\sklearn\\svm\\_base.py:305: ConvergenceWarning: Solver terminated early (max_iter=250).  Consider pre-processing your data with StandardScaler or MinMaxScaler.\n",
      "  warnings.warn(\n"
     ]
    },
    {
     "name": "stdout",
     "output_type": "stream",
     "text": [
      "[Poly] max_iter: 250, C: 1, gamma: 0.01, degree: 4, class_weight: balanced -> accuracy: 0.1289\n",
      "              precision    recall  f1-score   support\n",
      "\n",
      "          -1       0.96      0.01      0.01     44201\n",
      "           1       0.12      1.00      0.22      6199\n",
      "\n",
      "    accuracy                           0.13     50400\n",
      "   macro avg       0.54      0.50      0.12     50400\n",
      "weighted avg       0.85      0.13      0.04     50400\n",
      "\n"
     ]
    },
    {
     "name": "stderr",
     "output_type": "stream",
     "text": [
      "c:\\Users\\codyb\\.vscode\\Py\\COMP7970-Homework\\Lib\\site-packages\\sklearn\\svm\\_base.py:305: ConvergenceWarning: Solver terminated early (max_iter=250).  Consider pre-processing your data with StandardScaler or MinMaxScaler.\n",
      "  warnings.warn(\n"
     ]
    },
    {
     "name": "stdout",
     "output_type": "stream",
     "text": [
      "[Poly] max_iter: 250, C: 1, gamma: 0.01, degree: 4, class_weight: {1: 3, -1: 1} -> accuracy: 0.8709\n",
      "              precision    recall  f1-score   support\n",
      "\n",
      "          -1       0.88      0.99      0.93     44201\n",
      "           1       0.15      0.01      0.02      6199\n",
      "\n",
      "    accuracy                           0.87     50400\n",
      "   macro avg       0.51      0.50      0.48     50400\n",
      "weighted avg       0.79      0.87      0.82     50400\n",
      "\n"
     ]
    },
    {
     "name": "stderr",
     "output_type": "stream",
     "text": [
      "c:\\Users\\codyb\\.vscode\\Py\\COMP7970-Homework\\Lib\\site-packages\\sklearn\\svm\\_base.py:305: ConvergenceWarning: Solver terminated early (max_iter=250).  Consider pre-processing your data with StandardScaler or MinMaxScaler.\n",
      "  warnings.warn(\n"
     ]
    },
    {
     "name": "stdout",
     "output_type": "stream",
     "text": [
      "[Poly] max_iter: 250, C: 1, gamma: 0.01, degree: 4, class_weight: {1: 2, -1: 1} -> accuracy: 0.1279\n",
      "              precision    recall  f1-score   support\n",
      "\n",
      "          -1       0.94      0.01      0.01     44201\n",
      "           1       0.12      1.00      0.22      6199\n",
      "\n",
      "    accuracy                           0.13     50400\n",
      "   macro avg       0.53      0.50      0.12     50400\n",
      "weighted avg       0.84      0.13      0.04     50400\n",
      "\n"
     ]
    },
    {
     "name": "stderr",
     "output_type": "stream",
     "text": [
      "c:\\Users\\codyb\\.vscode\\Py\\COMP7970-Homework\\Lib\\site-packages\\sklearn\\svm\\_base.py:305: ConvergenceWarning: Solver terminated early (max_iter=250).  Consider pre-processing your data with StandardScaler or MinMaxScaler.\n",
      "  warnings.warn(\n"
     ]
    },
    {
     "name": "stdout",
     "output_type": "stream",
     "text": [
      "[Poly] max_iter: 250, C: 1, gamma: 0.1, degree: 2, class_weight: balanced -> accuracy: 0.8630\n",
      "              precision    recall  f1-score   support\n",
      "\n",
      "          -1       0.88      0.98      0.93     44201\n",
      "           1       0.16      0.03      0.05      6199\n",
      "\n",
      "    accuracy                           0.86     50400\n",
      "   macro avg       0.52      0.50      0.49     50400\n",
      "weighted avg       0.79      0.86      0.82     50400\n",
      "\n"
     ]
    },
    {
     "name": "stderr",
     "output_type": "stream",
     "text": [
      "c:\\Users\\codyb\\.vscode\\Py\\COMP7970-Homework\\Lib\\site-packages\\sklearn\\svm\\_base.py:305: ConvergenceWarning: Solver terminated early (max_iter=250).  Consider pre-processing your data with StandardScaler or MinMaxScaler.\n",
      "  warnings.warn(\n"
     ]
    },
    {
     "name": "stdout",
     "output_type": "stream",
     "text": [
      "[Poly] max_iter: 250, C: 1, gamma: 0.1, degree: 2, class_weight: {1: 3, -1: 1} -> accuracy: 0.1557\n",
      "              precision    recall  f1-score   support\n",
      "\n",
      "          -1       0.89      0.04      0.08     44201\n",
      "           1       0.12      0.96      0.22      6199\n",
      "\n",
      "    accuracy                           0.16     50400\n",
      "   macro avg       0.51      0.50      0.15     50400\n",
      "weighted avg       0.80      0.16      0.10     50400\n",
      "\n"
     ]
    },
    {
     "name": "stderr",
     "output_type": "stream",
     "text": [
      "c:\\Users\\codyb\\.vscode\\Py\\COMP7970-Homework\\Lib\\site-packages\\sklearn\\svm\\_base.py:305: ConvergenceWarning: Solver terminated early (max_iter=250).  Consider pre-processing your data with StandardScaler or MinMaxScaler.\n",
      "  warnings.warn(\n"
     ]
    },
    {
     "name": "stdout",
     "output_type": "stream",
     "text": [
      "[Poly] max_iter: 250, C: 1, gamma: 0.1, degree: 2, class_weight: {1: 2, -1: 1} -> accuracy: 0.3869\n",
      "              precision    recall  f1-score   support\n",
      "\n",
      "          -1       0.88      0.35      0.50     44201\n",
      "           1       0.13      0.67      0.21      6199\n",
      "\n",
      "    accuracy                           0.39     50400\n",
      "   macro avg       0.50      0.51      0.35     50400\n",
      "weighted avg       0.79      0.39      0.46     50400\n",
      "\n"
     ]
    },
    {
     "name": "stderr",
     "output_type": "stream",
     "text": [
      "c:\\Users\\codyb\\.vscode\\Py\\COMP7970-Homework\\Lib\\site-packages\\sklearn\\svm\\_base.py:305: ConvergenceWarning: Solver terminated early (max_iter=250).  Consider pre-processing your data with StandardScaler or MinMaxScaler.\n",
      "  warnings.warn(\n"
     ]
    },
    {
     "name": "stdout",
     "output_type": "stream",
     "text": [
      "[Poly] max_iter: 250, C: 1, gamma: 0.1, degree: 3, class_weight: balanced -> accuracy: 0.1316\n",
      "              precision    recall  f1-score   support\n",
      "\n",
      "          -1       0.95      0.01      0.02     44201\n",
      "           1       0.12      1.00      0.22      6199\n",
      "\n",
      "    accuracy                           0.13     50400\n",
      "   macro avg       0.54      0.50      0.12     50400\n",
      "weighted avg       0.85      0.13      0.05     50400\n",
      "\n"
     ]
    },
    {
     "name": "stderr",
     "output_type": "stream",
     "text": [
      "c:\\Users\\codyb\\.vscode\\Py\\COMP7970-Homework\\Lib\\site-packages\\sklearn\\svm\\_base.py:305: ConvergenceWarning: Solver terminated early (max_iter=250).  Consider pre-processing your data with StandardScaler or MinMaxScaler.\n",
      "  warnings.warn(\n"
     ]
    },
    {
     "name": "stdout",
     "output_type": "stream",
     "text": [
      "[Poly] max_iter: 250, C: 1, gamma: 0.1, degree: 3, class_weight: {1: 3, -1: 1} -> accuracy: 0.1278\n",
      "              precision    recall  f1-score   support\n",
      "\n",
      "          -1       0.97      0.01      0.01     44201\n",
      "           1       0.12      1.00      0.22      6199\n",
      "\n",
      "    accuracy                           0.13     50400\n",
      "   macro avg       0.54      0.50      0.12     50400\n",
      "weighted avg       0.86      0.13      0.04     50400\n",
      "\n"
     ]
    },
    {
     "name": "stderr",
     "output_type": "stream",
     "text": [
      "c:\\Users\\codyb\\.vscode\\Py\\COMP7970-Homework\\Lib\\site-packages\\sklearn\\svm\\_base.py:305: ConvergenceWarning: Solver terminated early (max_iter=250).  Consider pre-processing your data with StandardScaler or MinMaxScaler.\n",
      "  warnings.warn(\n"
     ]
    },
    {
     "name": "stdout",
     "output_type": "stream",
     "text": [
      "[Poly] max_iter: 250, C: 1, gamma: 0.1, degree: 3, class_weight: {1: 2, -1: 1} -> accuracy: 0.1288\n",
      "              precision    recall  f1-score   support\n",
      "\n",
      "          -1       0.97      0.01      0.01     44201\n",
      "           1       0.12      1.00      0.22      6199\n",
      "\n",
      "    accuracy                           0.13     50400\n",
      "   macro avg       0.55      0.50      0.12     50400\n",
      "weighted avg       0.86      0.13      0.04     50400\n",
      "\n"
     ]
    },
    {
     "name": "stderr",
     "output_type": "stream",
     "text": [
      "c:\\Users\\codyb\\.vscode\\Py\\COMP7970-Homework\\Lib\\site-packages\\sklearn\\svm\\_base.py:305: ConvergenceWarning: Solver terminated early (max_iter=250).  Consider pre-processing your data with StandardScaler or MinMaxScaler.\n",
      "  warnings.warn(\n"
     ]
    },
    {
     "name": "stdout",
     "output_type": "stream",
     "text": [
      "[Poly] max_iter: 250, C: 1, gamma: 0.1, degree: 4, class_weight: balanced -> accuracy: 0.1291\n",
      "              precision    recall  f1-score   support\n",
      "\n",
      "          -1       0.96      0.01      0.01     44201\n",
      "           1       0.12      1.00      0.22      6199\n",
      "\n",
      "    accuracy                           0.13     50400\n",
      "   macro avg       0.54      0.50      0.12     50400\n",
      "weighted avg       0.86      0.13      0.04     50400\n",
      "\n"
     ]
    },
    {
     "name": "stderr",
     "output_type": "stream",
     "text": [
      "c:\\Users\\codyb\\.vscode\\Py\\COMP7970-Homework\\Lib\\site-packages\\sklearn\\svm\\_base.py:305: ConvergenceWarning: Solver terminated early (max_iter=250).  Consider pre-processing your data with StandardScaler or MinMaxScaler.\n",
      "  warnings.warn(\n"
     ]
    },
    {
     "name": "stdout",
     "output_type": "stream",
     "text": [
      "[Poly] max_iter: 250, C: 1, gamma: 0.1, degree: 4, class_weight: {1: 3, -1: 1} -> accuracy: 0.1353\n",
      "              precision    recall  f1-score   support\n",
      "\n",
      "          -1       0.92      0.02      0.03     44201\n",
      "           1       0.12      0.99      0.22      6199\n",
      "\n",
      "    accuracy                           0.14     50400\n",
      "   macro avg       0.52      0.50      0.13     50400\n",
      "weighted avg       0.82      0.14      0.05     50400\n",
      "\n"
     ]
    },
    {
     "name": "stderr",
     "output_type": "stream",
     "text": [
      "c:\\Users\\codyb\\.vscode\\Py\\COMP7970-Homework\\Lib\\site-packages\\sklearn\\svm\\_base.py:305: ConvergenceWarning: Solver terminated early (max_iter=250).  Consider pre-processing your data with StandardScaler or MinMaxScaler.\n",
      "  warnings.warn(\n"
     ]
    },
    {
     "name": "stdout",
     "output_type": "stream",
     "text": [
      "[Poly] max_iter: 250, C: 1, gamma: 0.1, degree: 4, class_weight: {1: 2, -1: 1} -> accuracy: 0.1278\n",
      "              precision    recall  f1-score   support\n",
      "\n",
      "          -1       0.92      0.01      0.01     44201\n",
      "           1       0.12      1.00      0.22      6199\n",
      "\n",
      "    accuracy                           0.13     50400\n",
      "   macro avg       0.52      0.50      0.12     50400\n",
      "weighted avg       0.82      0.13      0.04     50400\n",
      "\n"
     ]
    },
    {
     "name": "stderr",
     "output_type": "stream",
     "text": [
      "c:\\Users\\codyb\\.vscode\\Py\\COMP7970-Homework\\Lib\\site-packages\\sklearn\\svm\\_base.py:305: ConvergenceWarning: Solver terminated early (max_iter=250).  Consider pre-processing your data with StandardScaler or MinMaxScaler.\n",
      "  warnings.warn(\n"
     ]
    },
    {
     "name": "stdout",
     "output_type": "stream",
     "text": [
      "[Poly] max_iter: 250, C: 1, gamma: 1, degree: 2, class_weight: balanced -> accuracy: 0.5211\n",
      "              precision    recall  f1-score   support\n",
      "\n",
      "          -1       0.88      0.53      0.66     44201\n",
      "           1       0.13      0.49      0.20      6199\n",
      "\n",
      "    accuracy                           0.52     50400\n",
      "   macro avg       0.50      0.51      0.43     50400\n",
      "weighted avg       0.79      0.52      0.60     50400\n",
      "\n"
     ]
    },
    {
     "name": "stderr",
     "output_type": "stream",
     "text": [
      "c:\\Users\\codyb\\.vscode\\Py\\COMP7970-Homework\\Lib\\site-packages\\sklearn\\svm\\_base.py:305: ConvergenceWarning: Solver terminated early (max_iter=250).  Consider pre-processing your data with StandardScaler or MinMaxScaler.\n",
      "  warnings.warn(\n"
     ]
    },
    {
     "name": "stdout",
     "output_type": "stream",
     "text": [
      "[Poly] max_iter: 250, C: 1, gamma: 1, degree: 2, class_weight: {1: 3, -1: 1} -> accuracy: 0.4497\n",
      "              precision    recall  f1-score   support\n",
      "\n",
      "          -1       0.88      0.43      0.58     44201\n",
      "           1       0.12      0.58      0.21      6199\n",
      "\n",
      "    accuracy                           0.45     50400\n",
      "   macro avg       0.50      0.50      0.39     50400\n",
      "weighted avg       0.79      0.45      0.53     50400\n",
      "\n"
     ]
    },
    {
     "name": "stderr",
     "output_type": "stream",
     "text": [
      "c:\\Users\\codyb\\.vscode\\Py\\COMP7970-Homework\\Lib\\site-packages\\sklearn\\svm\\_base.py:305: ConvergenceWarning: Solver terminated early (max_iter=250).  Consider pre-processing your data with StandardScaler or MinMaxScaler.\n",
      "  warnings.warn(\n"
     ]
    },
    {
     "name": "stdout",
     "output_type": "stream",
     "text": [
      "[Poly] max_iter: 250, C: 1, gamma: 1, degree: 2, class_weight: {1: 2, -1: 1} -> accuracy: 0.1455\n",
      "              precision    recall  f1-score   support\n",
      "\n",
      "          -1       0.88      0.03      0.06     44201\n",
      "           1       0.12      0.97      0.22      6199\n",
      "\n",
      "    accuracy                           0.15     50400\n",
      "   macro avg       0.50      0.50      0.14     50400\n",
      "weighted avg       0.79      0.15      0.08     50400\n",
      "\n"
     ]
    },
    {
     "name": "stderr",
     "output_type": "stream",
     "text": [
      "c:\\Users\\codyb\\.vscode\\Py\\COMP7970-Homework\\Lib\\site-packages\\sklearn\\svm\\_base.py:305: ConvergenceWarning: Solver terminated early (max_iter=250).  Consider pre-processing your data with StandardScaler or MinMaxScaler.\n",
      "  warnings.warn(\n"
     ]
    },
    {
     "name": "stdout",
     "output_type": "stream",
     "text": [
      "[Poly] max_iter: 250, C: 1, gamma: 1, degree: 3, class_weight: balanced -> accuracy: 0.1270\n",
      "              precision    recall  f1-score   support\n",
      "\n",
      "          -1       0.96      0.00      0.01     44201\n",
      "           1       0.12      1.00      0.22      6199\n",
      "\n",
      "    accuracy                           0.13     50400\n",
      "   macro avg       0.54      0.50      0.11     50400\n",
      "weighted avg       0.86      0.13      0.04     50400\n",
      "\n"
     ]
    },
    {
     "name": "stderr",
     "output_type": "stream",
     "text": [
      "c:\\Users\\codyb\\.vscode\\Py\\COMP7970-Homework\\Lib\\site-packages\\sklearn\\svm\\_base.py:305: ConvergenceWarning: Solver terminated early (max_iter=250).  Consider pre-processing your data with StandardScaler or MinMaxScaler.\n",
      "  warnings.warn(\n"
     ]
    },
    {
     "name": "stdout",
     "output_type": "stream",
     "text": [
      "[Poly] max_iter: 250, C: 1, gamma: 1, degree: 3, class_weight: {1: 3, -1: 1} -> accuracy: 0.8762\n",
      "              precision    recall  f1-score   support\n",
      "\n",
      "          -1       0.88      1.00      0.93     44201\n",
      "           1       0.27      0.00      0.01      6199\n",
      "\n",
      "    accuracy                           0.88     50400\n",
      "   macro avg       0.57      0.50      0.47     50400\n",
      "weighted avg       0.80      0.88      0.82     50400\n",
      "\n"
     ]
    },
    {
     "name": "stderr",
     "output_type": "stream",
     "text": [
      "c:\\Users\\codyb\\.vscode\\Py\\COMP7970-Homework\\Lib\\site-packages\\sklearn\\svm\\_base.py:305: ConvergenceWarning: Solver terminated early (max_iter=250).  Consider pre-processing your data with StandardScaler or MinMaxScaler.\n",
      "  warnings.warn(\n"
     ]
    },
    {
     "name": "stdout",
     "output_type": "stream",
     "text": [
      "[Poly] max_iter: 250, C: 1, gamma: 1, degree: 3, class_weight: {1: 2, -1: 1} -> accuracy: 0.1260\n",
      "              precision    recall  f1-score   support\n",
      "\n",
      "          -1       0.96      0.00      0.01     44201\n",
      "           1       0.12      1.00      0.22      6199\n",
      "\n",
      "    accuracy                           0.13     50400\n",
      "   macro avg       0.54      0.50      0.11     50400\n",
      "weighted avg       0.86      0.13      0.03     50400\n",
      "\n"
     ]
    },
    {
     "name": "stderr",
     "output_type": "stream",
     "text": [
      "c:\\Users\\codyb\\.vscode\\Py\\COMP7970-Homework\\Lib\\site-packages\\sklearn\\svm\\_base.py:305: ConvergenceWarning: Solver terminated early (max_iter=250).  Consider pre-processing your data with StandardScaler or MinMaxScaler.\n",
      "  warnings.warn(\n"
     ]
    },
    {
     "name": "stdout",
     "output_type": "stream",
     "text": [
      "[Poly] max_iter: 250, C: 1, gamma: 1, degree: 4, class_weight: balanced -> accuracy: 0.1291\n",
      "              precision    recall  f1-score   support\n",
      "\n",
      "          -1       0.91      0.01      0.02     44201\n",
      "           1       0.12      0.99      0.22      6199\n",
      "\n",
      "    accuracy                           0.13     50400\n",
      "   macro avg       0.52      0.50      0.12     50400\n",
      "weighted avg       0.81      0.13      0.04     50400\n",
      "\n"
     ]
    },
    {
     "name": "stderr",
     "output_type": "stream",
     "text": [
      "c:\\Users\\codyb\\.vscode\\Py\\COMP7970-Homework\\Lib\\site-packages\\sklearn\\svm\\_base.py:305: ConvergenceWarning: Solver terminated early (max_iter=250).  Consider pre-processing your data with StandardScaler or MinMaxScaler.\n",
      "  warnings.warn(\n"
     ]
    },
    {
     "name": "stdout",
     "output_type": "stream",
     "text": [
      "[Poly] max_iter: 250, C: 1, gamma: 1, degree: 4, class_weight: {1: 3, -1: 1} -> accuracy: 0.1291\n",
      "              precision    recall  f1-score   support\n",
      "\n",
      "          -1       0.91      0.01      0.02     44201\n",
      "           1       0.12      0.99      0.22      6199\n",
      "\n",
      "    accuracy                           0.13     50400\n",
      "   macro avg       0.52      0.50      0.12     50400\n",
      "weighted avg       0.81      0.13      0.04     50400\n",
      "\n"
     ]
    },
    {
     "name": "stderr",
     "output_type": "stream",
     "text": [
      "c:\\Users\\codyb\\.vscode\\Py\\COMP7970-Homework\\Lib\\site-packages\\sklearn\\svm\\_base.py:305: ConvergenceWarning: Solver terminated early (max_iter=250).  Consider pre-processing your data with StandardScaler or MinMaxScaler.\n",
      "  warnings.warn(\n"
     ]
    },
    {
     "name": "stdout",
     "output_type": "stream",
     "text": [
      "[Poly] max_iter: 250, C: 1, gamma: 1, degree: 4, class_weight: {1: 2, -1: 1} -> accuracy: 0.8762\n",
      "              precision    recall  f1-score   support\n",
      "\n",
      "          -1       0.88      1.00      0.93     44201\n",
      "           1       0.21      0.00      0.00      6199\n",
      "\n",
      "    accuracy                           0.88     50400\n",
      "   macro avg       0.54      0.50      0.47     50400\n",
      "weighted avg       0.79      0.88      0.82     50400\n",
      "\n"
     ]
    },
    {
     "name": "stderr",
     "output_type": "stream",
     "text": [
      "c:\\Users\\codyb\\.vscode\\Py\\COMP7970-Homework\\Lib\\site-packages\\sklearn\\svm\\_base.py:305: ConvergenceWarning: Solver terminated early (max_iter=250).  Consider pre-processing your data with StandardScaler or MinMaxScaler.\n",
      "  warnings.warn(\n"
     ]
    },
    {
     "name": "stdout",
     "output_type": "stream",
     "text": [
      "[Poly] max_iter: 250, C: 1, gamma: 5, degree: 2, class_weight: balanced -> accuracy: 0.5211\n",
      "              precision    recall  f1-score   support\n",
      "\n",
      "          -1       0.88      0.53      0.66     44201\n",
      "           1       0.13      0.49      0.20      6199\n",
      "\n",
      "    accuracy                           0.52     50400\n",
      "   macro avg       0.50      0.51      0.43     50400\n",
      "weighted avg       0.79      0.52      0.60     50400\n",
      "\n"
     ]
    },
    {
     "name": "stderr",
     "output_type": "stream",
     "text": [
      "c:\\Users\\codyb\\.vscode\\Py\\COMP7970-Homework\\Lib\\site-packages\\sklearn\\svm\\_base.py:305: ConvergenceWarning: Solver terminated early (max_iter=250).  Consider pre-processing your data with StandardScaler or MinMaxScaler.\n",
      "  warnings.warn(\n"
     ]
    },
    {
     "name": "stdout",
     "output_type": "stream",
     "text": [
      "[Poly] max_iter: 250, C: 1, gamma: 5, degree: 2, class_weight: {1: 3, -1: 1} -> accuracy: 0.4497\n",
      "              precision    recall  f1-score   support\n",
      "\n",
      "          -1       0.88      0.43      0.58     44201\n",
      "           1       0.12      0.58      0.21      6199\n",
      "\n",
      "    accuracy                           0.45     50400\n",
      "   macro avg       0.50      0.50      0.39     50400\n",
      "weighted avg       0.79      0.45      0.53     50400\n",
      "\n"
     ]
    },
    {
     "name": "stderr",
     "output_type": "stream",
     "text": [
      "c:\\Users\\codyb\\.vscode\\Py\\COMP7970-Homework\\Lib\\site-packages\\sklearn\\svm\\_base.py:305: ConvergenceWarning: Solver terminated early (max_iter=250).  Consider pre-processing your data with StandardScaler or MinMaxScaler.\n",
      "  warnings.warn(\n"
     ]
    },
    {
     "name": "stdout",
     "output_type": "stream",
     "text": [
      "[Poly] max_iter: 250, C: 1, gamma: 5, degree: 2, class_weight: {1: 2, -1: 1} -> accuracy: 0.1455\n",
      "              precision    recall  f1-score   support\n",
      "\n",
      "          -1       0.88      0.03      0.06     44201\n",
      "           1       0.12      0.97      0.22      6199\n",
      "\n",
      "    accuracy                           0.15     50400\n",
      "   macro avg       0.50      0.50      0.14     50400\n",
      "weighted avg       0.79      0.15      0.08     50400\n",
      "\n"
     ]
    },
    {
     "name": "stderr",
     "output_type": "stream",
     "text": [
      "c:\\Users\\codyb\\.vscode\\Py\\COMP7970-Homework\\Lib\\site-packages\\sklearn\\svm\\_base.py:305: ConvergenceWarning: Solver terminated early (max_iter=250).  Consider pre-processing your data with StandardScaler or MinMaxScaler.\n",
      "  warnings.warn(\n"
     ]
    },
    {
     "name": "stdout",
     "output_type": "stream",
     "text": [
      "[Poly] max_iter: 250, C: 1, gamma: 5, degree: 3, class_weight: balanced -> accuracy: 0.8770\n",
      "              precision    recall  f1-score   support\n",
      "\n",
      "          -1       0.88      1.00      0.93     44201\n",
      "           1       0.43      0.00      0.00      6199\n",
      "\n",
      "    accuracy                           0.88     50400\n",
      "   macro avg       0.65      0.50      0.47     50400\n",
      "weighted avg       0.82      0.88      0.82     50400\n",
      "\n"
     ]
    },
    {
     "name": "stderr",
     "output_type": "stream",
     "text": [
      "c:\\Users\\codyb\\.vscode\\Py\\COMP7970-Homework\\Lib\\site-packages\\sklearn\\svm\\_base.py:305: ConvergenceWarning: Solver terminated early (max_iter=250).  Consider pre-processing your data with StandardScaler or MinMaxScaler.\n",
      "  warnings.warn(\n"
     ]
    },
    {
     "name": "stdout",
     "output_type": "stream",
     "text": [
      "[Poly] max_iter: 250, C: 1, gamma: 5, degree: 3, class_weight: {1: 3, -1: 1} -> accuracy: 0.8770\n",
      "              precision    recall  f1-score   support\n",
      "\n",
      "          -1       0.88      1.00      0.93     44201\n",
      "           1       0.43      0.00      0.00      6199\n",
      "\n",
      "    accuracy                           0.88     50400\n",
      "   macro avg       0.65      0.50      0.47     50400\n",
      "weighted avg       0.82      0.88      0.82     50400\n",
      "\n"
     ]
    },
    {
     "name": "stderr",
     "output_type": "stream",
     "text": [
      "c:\\Users\\codyb\\.vscode\\Py\\COMP7970-Homework\\Lib\\site-packages\\sklearn\\svm\\_base.py:305: ConvergenceWarning: Solver terminated early (max_iter=250).  Consider pre-processing your data with StandardScaler or MinMaxScaler.\n",
      "  warnings.warn(\n"
     ]
    },
    {
     "name": "stdout",
     "output_type": "stream",
     "text": [
      "[Poly] max_iter: 250, C: 1, gamma: 5, degree: 3, class_weight: {1: 2, -1: 1} -> accuracy: 0.8770\n",
      "              precision    recall  f1-score   support\n",
      "\n",
      "          -1       0.88      1.00      0.93     44201\n",
      "           1       0.43      0.00      0.00      6199\n",
      "\n",
      "    accuracy                           0.88     50400\n",
      "   macro avg       0.65      0.50      0.47     50400\n",
      "weighted avg       0.82      0.88      0.82     50400\n",
      "\n"
     ]
    },
    {
     "name": "stderr",
     "output_type": "stream",
     "text": [
      "c:\\Users\\codyb\\.vscode\\Py\\COMP7970-Homework\\Lib\\site-packages\\sklearn\\svm\\_base.py:305: ConvergenceWarning: Solver terminated early (max_iter=250).  Consider pre-processing your data with StandardScaler or MinMaxScaler.\n",
      "  warnings.warn(\n"
     ]
    },
    {
     "name": "stdout",
     "output_type": "stream",
     "text": [
      "[Poly] max_iter: 250, C: 1, gamma: 5, degree: 4, class_weight: balanced -> accuracy: 0.8770\n",
      "              precision    recall  f1-score   support\n",
      "\n",
      "          -1       0.88      1.00      0.93     44201\n",
      "           1       0.43      0.00      0.00      6199\n",
      "\n",
      "    accuracy                           0.88     50400\n",
      "   macro avg       0.65      0.50      0.47     50400\n",
      "weighted avg       0.82      0.88      0.82     50400\n",
      "\n"
     ]
    },
    {
     "name": "stderr",
     "output_type": "stream",
     "text": [
      "c:\\Users\\codyb\\.vscode\\Py\\COMP7970-Homework\\Lib\\site-packages\\sklearn\\svm\\_base.py:305: ConvergenceWarning: Solver terminated early (max_iter=250).  Consider pre-processing your data with StandardScaler or MinMaxScaler.\n",
      "  warnings.warn(\n"
     ]
    },
    {
     "name": "stdout",
     "output_type": "stream",
     "text": [
      "[Poly] max_iter: 250, C: 1, gamma: 5, degree: 4, class_weight: {1: 3, -1: 1} -> accuracy: 0.8770\n",
      "              precision    recall  f1-score   support\n",
      "\n",
      "          -1       0.88      1.00      0.93     44201\n",
      "           1       0.43      0.00      0.00      6199\n",
      "\n",
      "    accuracy                           0.88     50400\n",
      "   macro avg       0.65      0.50      0.47     50400\n",
      "weighted avg       0.82      0.88      0.82     50400\n",
      "\n"
     ]
    },
    {
     "name": "stderr",
     "output_type": "stream",
     "text": [
      "c:\\Users\\codyb\\.vscode\\Py\\COMP7970-Homework\\Lib\\site-packages\\sklearn\\svm\\_base.py:305: ConvergenceWarning: Solver terminated early (max_iter=250).  Consider pre-processing your data with StandardScaler or MinMaxScaler.\n",
      "  warnings.warn(\n"
     ]
    },
    {
     "name": "stdout",
     "output_type": "stream",
     "text": [
      "[Poly] max_iter: 250, C: 1, gamma: 5, degree: 4, class_weight: {1: 2, -1: 1} -> accuracy: 0.8770\n",
      "              precision    recall  f1-score   support\n",
      "\n",
      "          -1       0.88      1.00      0.93     44201\n",
      "           1       0.43      0.00      0.00      6199\n",
      "\n",
      "    accuracy                           0.88     50400\n",
      "   macro avg       0.65      0.50      0.47     50400\n",
      "weighted avg       0.82      0.88      0.82     50400\n",
      "\n"
     ]
    },
    {
     "name": "stderr",
     "output_type": "stream",
     "text": [
      "c:\\Users\\codyb\\.vscode\\Py\\COMP7970-Homework\\Lib\\site-packages\\sklearn\\svm\\_base.py:305: ConvergenceWarning: Solver terminated early (max_iter=250).  Consider pre-processing your data with StandardScaler or MinMaxScaler.\n",
      "  warnings.warn(\n"
     ]
    },
    {
     "name": "stdout",
     "output_type": "stream",
     "text": [
      "[Poly] max_iter: 250, C: 1, gamma: 10, degree: 2, class_weight: balanced -> accuracy: 0.5211\n",
      "              precision    recall  f1-score   support\n",
      "\n",
      "          -1       0.88      0.53      0.66     44201\n",
      "           1       0.13      0.49      0.20      6199\n",
      "\n",
      "    accuracy                           0.52     50400\n",
      "   macro avg       0.50      0.51      0.43     50400\n",
      "weighted avg       0.79      0.52      0.60     50400\n",
      "\n"
     ]
    },
    {
     "name": "stderr",
     "output_type": "stream",
     "text": [
      "c:\\Users\\codyb\\.vscode\\Py\\COMP7970-Homework\\Lib\\site-packages\\sklearn\\svm\\_base.py:305: ConvergenceWarning: Solver terminated early (max_iter=250).  Consider pre-processing your data with StandardScaler or MinMaxScaler.\n",
      "  warnings.warn(\n"
     ]
    },
    {
     "name": "stdout",
     "output_type": "stream",
     "text": [
      "[Poly] max_iter: 250, C: 1, gamma: 10, degree: 2, class_weight: {1: 3, -1: 1} -> accuracy: 0.4497\n",
      "              precision    recall  f1-score   support\n",
      "\n",
      "          -1       0.88      0.43      0.58     44201\n",
      "           1       0.12      0.58      0.21      6199\n",
      "\n",
      "    accuracy                           0.45     50400\n",
      "   macro avg       0.50      0.50      0.39     50400\n",
      "weighted avg       0.79      0.45      0.53     50400\n",
      "\n"
     ]
    },
    {
     "name": "stderr",
     "output_type": "stream",
     "text": [
      "c:\\Users\\codyb\\.vscode\\Py\\COMP7970-Homework\\Lib\\site-packages\\sklearn\\svm\\_base.py:305: ConvergenceWarning: Solver terminated early (max_iter=250).  Consider pre-processing your data with StandardScaler or MinMaxScaler.\n",
      "  warnings.warn(\n"
     ]
    },
    {
     "name": "stdout",
     "output_type": "stream",
     "text": [
      "[Poly] max_iter: 250, C: 1, gamma: 10, degree: 2, class_weight: {1: 2, -1: 1} -> accuracy: 0.1455\n",
      "              precision    recall  f1-score   support\n",
      "\n",
      "          -1       0.88      0.03      0.06     44201\n",
      "           1       0.12      0.97      0.22      6199\n",
      "\n",
      "    accuracy                           0.15     50400\n",
      "   macro avg       0.50      0.50      0.14     50400\n",
      "weighted avg       0.79      0.15      0.08     50400\n",
      "\n"
     ]
    },
    {
     "name": "stderr",
     "output_type": "stream",
     "text": [
      "c:\\Users\\codyb\\.vscode\\Py\\COMP7970-Homework\\Lib\\site-packages\\sklearn\\svm\\_base.py:305: ConvergenceWarning: Solver terminated early (max_iter=250).  Consider pre-processing your data with StandardScaler or MinMaxScaler.\n",
      "  warnings.warn(\n"
     ]
    },
    {
     "name": "stdout",
     "output_type": "stream",
     "text": [
      "[Poly] max_iter: 250, C: 1, gamma: 10, degree: 3, class_weight: balanced -> accuracy: 0.8770\n",
      "              precision    recall  f1-score   support\n",
      "\n",
      "          -1       0.88      1.00      0.93     44201\n",
      "           1       0.43      0.00      0.00      6199\n",
      "\n",
      "    accuracy                           0.88     50400\n",
      "   macro avg       0.65      0.50      0.47     50400\n",
      "weighted avg       0.82      0.88      0.82     50400\n",
      "\n"
     ]
    },
    {
     "name": "stderr",
     "output_type": "stream",
     "text": [
      "c:\\Users\\codyb\\.vscode\\Py\\COMP7970-Homework\\Lib\\site-packages\\sklearn\\svm\\_base.py:305: ConvergenceWarning: Solver terminated early (max_iter=250).  Consider pre-processing your data with StandardScaler or MinMaxScaler.\n",
      "  warnings.warn(\n"
     ]
    },
    {
     "name": "stdout",
     "output_type": "stream",
     "text": [
      "[Poly] max_iter: 250, C: 1, gamma: 10, degree: 3, class_weight: {1: 3, -1: 1} -> accuracy: 0.8770\n",
      "              precision    recall  f1-score   support\n",
      "\n",
      "          -1       0.88      1.00      0.93     44201\n",
      "           1       0.43      0.00      0.00      6199\n",
      "\n",
      "    accuracy                           0.88     50400\n",
      "   macro avg       0.65      0.50      0.47     50400\n",
      "weighted avg       0.82      0.88      0.82     50400\n",
      "\n"
     ]
    },
    {
     "name": "stderr",
     "output_type": "stream",
     "text": [
      "c:\\Users\\codyb\\.vscode\\Py\\COMP7970-Homework\\Lib\\site-packages\\sklearn\\svm\\_base.py:305: ConvergenceWarning: Solver terminated early (max_iter=250).  Consider pre-processing your data with StandardScaler or MinMaxScaler.\n",
      "  warnings.warn(\n"
     ]
    },
    {
     "name": "stdout",
     "output_type": "stream",
     "text": [
      "[Poly] max_iter: 250, C: 1, gamma: 10, degree: 3, class_weight: {1: 2, -1: 1} -> accuracy: 0.8770\n",
      "              precision    recall  f1-score   support\n",
      "\n",
      "          -1       0.88      1.00      0.93     44201\n",
      "           1       0.43      0.00      0.00      6199\n",
      "\n",
      "    accuracy                           0.88     50400\n",
      "   macro avg       0.65      0.50      0.47     50400\n",
      "weighted avg       0.82      0.88      0.82     50400\n",
      "\n"
     ]
    },
    {
     "name": "stderr",
     "output_type": "stream",
     "text": [
      "c:\\Users\\codyb\\.vscode\\Py\\COMP7970-Homework\\Lib\\site-packages\\sklearn\\svm\\_base.py:305: ConvergenceWarning: Solver terminated early (max_iter=250).  Consider pre-processing your data with StandardScaler or MinMaxScaler.\n",
      "  warnings.warn(\n"
     ]
    },
    {
     "name": "stdout",
     "output_type": "stream",
     "text": [
      "[Poly] max_iter: 250, C: 1, gamma: 10, degree: 4, class_weight: balanced -> accuracy: 0.8770\n",
      "              precision    recall  f1-score   support\n",
      "\n",
      "          -1       0.88      1.00      0.93     44201\n",
      "           1       0.43      0.00      0.00      6199\n",
      "\n",
      "    accuracy                           0.88     50400\n",
      "   macro avg       0.65      0.50      0.47     50400\n",
      "weighted avg       0.82      0.88      0.82     50400\n",
      "\n"
     ]
    },
    {
     "name": "stderr",
     "output_type": "stream",
     "text": [
      "c:\\Users\\codyb\\.vscode\\Py\\COMP7970-Homework\\Lib\\site-packages\\sklearn\\svm\\_base.py:305: ConvergenceWarning: Solver terminated early (max_iter=250).  Consider pre-processing your data with StandardScaler or MinMaxScaler.\n",
      "  warnings.warn(\n"
     ]
    },
    {
     "name": "stdout",
     "output_type": "stream",
     "text": [
      "[Poly] max_iter: 250, C: 1, gamma: 10, degree: 4, class_weight: {1: 3, -1: 1} -> accuracy: 0.8770\n",
      "              precision    recall  f1-score   support\n",
      "\n",
      "          -1       0.88      1.00      0.93     44201\n",
      "           1       0.43      0.00      0.00      6199\n",
      "\n",
      "    accuracy                           0.88     50400\n",
      "   macro avg       0.65      0.50      0.47     50400\n",
      "weighted avg       0.82      0.88      0.82     50400\n",
      "\n"
     ]
    },
    {
     "name": "stderr",
     "output_type": "stream",
     "text": [
      "c:\\Users\\codyb\\.vscode\\Py\\COMP7970-Homework\\Lib\\site-packages\\sklearn\\svm\\_base.py:305: ConvergenceWarning: Solver terminated early (max_iter=250).  Consider pre-processing your data with StandardScaler or MinMaxScaler.\n",
      "  warnings.warn(\n"
     ]
    },
    {
     "name": "stdout",
     "output_type": "stream",
     "text": [
      "[Poly] max_iter: 250, C: 1, gamma: 10, degree: 4, class_weight: {1: 2, -1: 1} -> accuracy: 0.8770\n",
      "              precision    recall  f1-score   support\n",
      "\n",
      "          -1       0.88      1.00      0.93     44201\n",
      "           1       0.43      0.00      0.00      6199\n",
      "\n",
      "    accuracy                           0.88     50400\n",
      "   macro avg       0.65      0.50      0.47     50400\n",
      "weighted avg       0.82      0.88      0.82     50400\n",
      "\n"
     ]
    },
    {
     "name": "stderr",
     "output_type": "stream",
     "text": [
      "c:\\Users\\codyb\\.vscode\\Py\\COMP7970-Homework\\Lib\\site-packages\\sklearn\\svm\\_base.py:305: ConvergenceWarning: Solver terminated early (max_iter=250).  Consider pre-processing your data with StandardScaler or MinMaxScaler.\n",
      "  warnings.warn(\n"
     ]
    },
    {
     "name": "stdout",
     "output_type": "stream",
     "text": [
      "[Poly] max_iter: 250, C: 1, gamma: 100, degree: 2, class_weight: balanced -> accuracy: 0.1621\n",
      "              precision    recall  f1-score   support\n",
      "\n",
      "          -1       0.87      0.05      0.10     44201\n",
      "           1       0.12      0.95      0.22      6199\n",
      "\n",
      "    accuracy                           0.16     50400\n",
      "   macro avg       0.50      0.50      0.16     50400\n",
      "weighted avg       0.78      0.16      0.11     50400\n",
      "\n"
     ]
    },
    {
     "name": "stderr",
     "output_type": "stream",
     "text": [
      "c:\\Users\\codyb\\.vscode\\Py\\COMP7970-Homework\\Lib\\site-packages\\sklearn\\svm\\_base.py:305: ConvergenceWarning: Solver terminated early (max_iter=250).  Consider pre-processing your data with StandardScaler or MinMaxScaler.\n",
      "  warnings.warn(\n"
     ]
    },
    {
     "name": "stdout",
     "output_type": "stream",
     "text": [
      "[Poly] max_iter: 250, C: 1, gamma: 100, degree: 2, class_weight: {1: 3, -1: 1} -> accuracy: 0.1621\n",
      "              precision    recall  f1-score   support\n",
      "\n",
      "          -1       0.87      0.05      0.10     44201\n",
      "           1       0.12      0.95      0.22      6199\n",
      "\n",
      "    accuracy                           0.16     50400\n",
      "   macro avg       0.50      0.50      0.16     50400\n",
      "weighted avg       0.78      0.16      0.11     50400\n",
      "\n"
     ]
    },
    {
     "name": "stderr",
     "output_type": "stream",
     "text": [
      "c:\\Users\\codyb\\.vscode\\Py\\COMP7970-Homework\\Lib\\site-packages\\sklearn\\svm\\_base.py:305: ConvergenceWarning: Solver terminated early (max_iter=250).  Consider pre-processing your data with StandardScaler or MinMaxScaler.\n",
      "  warnings.warn(\n"
     ]
    },
    {
     "name": "stdout",
     "output_type": "stream",
     "text": [
      "[Poly] max_iter: 250, C: 1, gamma: 100, degree: 2, class_weight: {1: 2, -1: 1} -> accuracy: 0.8765\n",
      "              precision    recall  f1-score   support\n",
      "\n",
      "          -1       0.88      1.00      0.93     44201\n",
      "           1       0.15      0.00      0.00      6199\n",
      "\n",
      "    accuracy                           0.88     50400\n",
      "   macro avg       0.52      0.50      0.47     50400\n",
      "weighted avg       0.79      0.88      0.82     50400\n",
      "\n"
     ]
    },
    {
     "name": "stderr",
     "output_type": "stream",
     "text": [
      "c:\\Users\\codyb\\.vscode\\Py\\COMP7970-Homework\\Lib\\site-packages\\sklearn\\svm\\_base.py:305: ConvergenceWarning: Solver terminated early (max_iter=250).  Consider pre-processing your data with StandardScaler or MinMaxScaler.\n",
      "  warnings.warn(\n"
     ]
    },
    {
     "name": "stdout",
     "output_type": "stream",
     "text": [
      "[Poly] max_iter: 250, C: 1, gamma: 100, degree: 3, class_weight: balanced -> accuracy: 0.8766\n",
      "              precision    recall  f1-score   support\n",
      "\n",
      "          -1       0.88      1.00      0.93     44201\n",
      "           1       0.14      0.00      0.00      6199\n",
      "\n",
      "    accuracy                           0.88     50400\n",
      "   macro avg       0.51      0.50      0.47     50400\n",
      "weighted avg       0.79      0.88      0.82     50400\n",
      "\n"
     ]
    },
    {
     "name": "stderr",
     "output_type": "stream",
     "text": [
      "c:\\Users\\codyb\\.vscode\\Py\\COMP7970-Homework\\Lib\\site-packages\\sklearn\\svm\\_base.py:305: ConvergenceWarning: Solver terminated early (max_iter=250).  Consider pre-processing your data with StandardScaler or MinMaxScaler.\n",
      "  warnings.warn(\n"
     ]
    },
    {
     "name": "stdout",
     "output_type": "stream",
     "text": [
      "[Poly] max_iter: 250, C: 1, gamma: 100, degree: 3, class_weight: {1: 3, -1: 1} -> accuracy: 0.8765\n",
      "              precision    recall  f1-score   support\n",
      "\n",
      "          -1       0.88      1.00      0.93     44201\n",
      "           1       0.14      0.00      0.00      6199\n",
      "\n",
      "    accuracy                           0.88     50400\n",
      "   macro avg       0.51      0.50      0.47     50400\n",
      "weighted avg       0.79      0.88      0.82     50400\n",
      "\n"
     ]
    },
    {
     "name": "stderr",
     "output_type": "stream",
     "text": [
      "c:\\Users\\codyb\\.vscode\\Py\\COMP7970-Homework\\Lib\\site-packages\\sklearn\\svm\\_base.py:305: ConvergenceWarning: Solver terminated early (max_iter=250).  Consider pre-processing your data with StandardScaler or MinMaxScaler.\n",
      "  warnings.warn(\n"
     ]
    },
    {
     "name": "stdout",
     "output_type": "stream",
     "text": [
      "[Poly] max_iter: 250, C: 1, gamma: 100, degree: 3, class_weight: {1: 2, -1: 1} -> accuracy: 0.8761\n",
      "              precision    recall  f1-score   support\n",
      "\n",
      "          -1       0.88      1.00      0.93     44201\n",
      "           1       0.15      0.00      0.00      6199\n",
      "\n",
      "    accuracy                           0.88     50400\n",
      "   macro avg       0.51      0.50      0.47     50400\n",
      "weighted avg       0.79      0.88      0.82     50400\n",
      "\n"
     ]
    },
    {
     "name": "stderr",
     "output_type": "stream",
     "text": [
      "c:\\Users\\codyb\\.vscode\\Py\\COMP7970-Homework\\Lib\\site-packages\\sklearn\\svm\\_base.py:305: ConvergenceWarning: Solver terminated early (max_iter=250).  Consider pre-processing your data with StandardScaler or MinMaxScaler.\n",
      "  warnings.warn(\n"
     ]
    },
    {
     "name": "stdout",
     "output_type": "stream",
     "text": [
      "[Poly] max_iter: 250, C: 1, gamma: 100, degree: 4, class_weight: balanced -> accuracy: 0.8770\n",
      "              precision    recall  f1-score   support\n",
      "\n",
      "          -1       0.88      1.00      0.93     44201\n",
      "           1       0.43      0.00      0.00      6199\n",
      "\n",
      "    accuracy                           0.88     50400\n",
      "   macro avg       0.65      0.50      0.47     50400\n",
      "weighted avg       0.82      0.88      0.82     50400\n",
      "\n"
     ]
    },
    {
     "name": "stderr",
     "output_type": "stream",
     "text": [
      "c:\\Users\\codyb\\.vscode\\Py\\COMP7970-Homework\\Lib\\site-packages\\sklearn\\svm\\_base.py:305: ConvergenceWarning: Solver terminated early (max_iter=250).  Consider pre-processing your data with StandardScaler or MinMaxScaler.\n",
      "  warnings.warn(\n"
     ]
    },
    {
     "name": "stdout",
     "output_type": "stream",
     "text": [
      "[Poly] max_iter: 250, C: 1, gamma: 100, degree: 4, class_weight: {1: 3, -1: 1} -> accuracy: 0.8770\n",
      "              precision    recall  f1-score   support\n",
      "\n",
      "          -1       0.88      1.00      0.93     44201\n",
      "           1       0.43      0.00      0.00      6199\n",
      "\n",
      "    accuracy                           0.88     50400\n",
      "   macro avg       0.65      0.50      0.47     50400\n",
      "weighted avg       0.82      0.88      0.82     50400\n",
      "\n"
     ]
    },
    {
     "name": "stderr",
     "output_type": "stream",
     "text": [
      "c:\\Users\\codyb\\.vscode\\Py\\COMP7970-Homework\\Lib\\site-packages\\sklearn\\svm\\_base.py:305: ConvergenceWarning: Solver terminated early (max_iter=250).  Consider pre-processing your data with StandardScaler or MinMaxScaler.\n",
      "  warnings.warn(\n"
     ]
    },
    {
     "name": "stdout",
     "output_type": "stream",
     "text": [
      "[Poly] max_iter: 250, C: 1, gamma: 100, degree: 4, class_weight: {1: 2, -1: 1} -> accuracy: 0.8770\n",
      "              precision    recall  f1-score   support\n",
      "\n",
      "          -1       0.88      1.00      0.93     44201\n",
      "           1       0.43      0.00      0.00      6199\n",
      "\n",
      "    accuracy                           0.88     50400\n",
      "   macro avg       0.65      0.50      0.47     50400\n",
      "weighted avg       0.82      0.88      0.82     50400\n",
      "\n"
     ]
    },
    {
     "name": "stderr",
     "output_type": "stream",
     "text": [
      "c:\\Users\\codyb\\.vscode\\Py\\COMP7970-Homework\\Lib\\site-packages\\sklearn\\svm\\_base.py:305: ConvergenceWarning: Solver terminated early (max_iter=250).  Consider pre-processing your data with StandardScaler or MinMaxScaler.\n",
      "  warnings.warn(\n"
     ]
    },
    {
     "name": "stdout",
     "output_type": "stream",
     "text": [
      "[Poly] max_iter: 250, C: 10, gamma: 0.001, degree: 2, class_weight: balanced -> accuracy: 0.1232\n",
      "              precision    recall  f1-score   support\n",
      "\n",
      "          -1       1.00      0.00      0.00     44201\n",
      "           1       0.12      1.00      0.22      6199\n",
      "\n",
      "    accuracy                           0.12     50400\n",
      "   macro avg       0.56      0.50      0.11     50400\n",
      "weighted avg       0.89      0.12      0.03     50400\n",
      "\n"
     ]
    },
    {
     "name": "stderr",
     "output_type": "stream",
     "text": [
      "c:\\Users\\codyb\\.vscode\\Py\\COMP7970-Homework\\Lib\\site-packages\\sklearn\\svm\\_base.py:305: ConvergenceWarning: Solver terminated early (max_iter=250).  Consider pre-processing your data with StandardScaler or MinMaxScaler.\n",
      "  warnings.warn(\n"
     ]
    },
    {
     "name": "stdout",
     "output_type": "stream",
     "text": [
      "[Poly] max_iter: 250, C: 10, gamma: 0.001, degree: 2, class_weight: {1: 3, -1: 1} -> accuracy: 0.1262\n",
      "              precision    recall  f1-score   support\n",
      "\n",
      "          -1       0.96      0.00      0.01     44201\n",
      "           1       0.12      1.00      0.22      6199\n",
      "\n",
      "    accuracy                           0.13     50400\n",
      "   macro avg       0.54      0.50      0.11     50400\n",
      "weighted avg       0.86      0.13      0.03     50400\n",
      "\n"
     ]
    },
    {
     "name": "stderr",
     "output_type": "stream",
     "text": [
      "c:\\Users\\codyb\\.vscode\\Py\\COMP7970-Homework\\Lib\\site-packages\\sklearn\\svm\\_base.py:305: ConvergenceWarning: Solver terminated early (max_iter=250).  Consider pre-processing your data with StandardScaler or MinMaxScaler.\n",
      "  warnings.warn(\n"
     ]
    },
    {
     "name": "stdout",
     "output_type": "stream",
     "text": [
      "[Poly] max_iter: 250, C: 10, gamma: 0.001, degree: 2, class_weight: {1: 2, -1: 1} -> accuracy: 0.1270\n",
      "              precision    recall  f1-score   support\n",
      "\n",
      "          -1       0.94      0.00      0.01     44201\n",
      "           1       0.12      1.00      0.22      6199\n",
      "\n",
      "    accuracy                           0.13     50400\n",
      "   macro avg       0.53      0.50      0.11     50400\n",
      "weighted avg       0.84      0.13      0.04     50400\n",
      "\n"
     ]
    },
    {
     "name": "stderr",
     "output_type": "stream",
     "text": [
      "c:\\Users\\codyb\\.vscode\\Py\\COMP7970-Homework\\Lib\\site-packages\\sklearn\\svm\\_base.py:305: ConvergenceWarning: Solver terminated early (max_iter=250).  Consider pre-processing your data with StandardScaler or MinMaxScaler.\n",
      "  warnings.warn(\n"
     ]
    },
    {
     "name": "stdout",
     "output_type": "stream",
     "text": [
      "[Poly] max_iter: 250, C: 10, gamma: 0.001, degree: 3, class_weight: balanced -> accuracy: 0.1232\n",
      "              precision    recall  f1-score   support\n",
      "\n",
      "          -1       1.00      0.00      0.00     44201\n",
      "           1       0.12      1.00      0.22      6199\n",
      "\n",
      "    accuracy                           0.12     50400\n",
      "   macro avg       0.56      0.50      0.11     50400\n",
      "weighted avg       0.89      0.12      0.03     50400\n",
      "\n"
     ]
    },
    {
     "name": "stderr",
     "output_type": "stream",
     "text": [
      "c:\\Users\\codyb\\.vscode\\Py\\COMP7970-Homework\\Lib\\site-packages\\sklearn\\svm\\_base.py:305: ConvergenceWarning: Solver terminated early (max_iter=250).  Consider pre-processing your data with StandardScaler or MinMaxScaler.\n",
      "  warnings.warn(\n"
     ]
    },
    {
     "name": "stdout",
     "output_type": "stream",
     "text": [
      "[Poly] max_iter: 250, C: 10, gamma: 0.001, degree: 3, class_weight: {1: 3, -1: 1} -> accuracy: 0.1242\n",
      "              precision    recall  f1-score   support\n",
      "\n",
      "          -1       0.97      0.00      0.00     44201\n",
      "           1       0.12      1.00      0.22      6199\n",
      "\n",
      "    accuracy                           0.12     50400\n",
      "   macro avg       0.55      0.50      0.11     50400\n",
      "weighted avg       0.87      0.12      0.03     50400\n",
      "\n"
     ]
    },
    {
     "name": "stderr",
     "output_type": "stream",
     "text": [
      "c:\\Users\\codyb\\.vscode\\Py\\COMP7970-Homework\\Lib\\site-packages\\sklearn\\svm\\_base.py:305: ConvergenceWarning: Solver terminated early (max_iter=250).  Consider pre-processing your data with StandardScaler or MinMaxScaler.\n",
      "  warnings.warn(\n"
     ]
    },
    {
     "name": "stdout",
     "output_type": "stream",
     "text": [
      "[Poly] max_iter: 250, C: 10, gamma: 0.001, degree: 3, class_weight: {1: 2, -1: 1} -> accuracy: 0.1240\n",
      "              precision    recall  f1-score   support\n",
      "\n",
      "          -1       0.98      0.00      0.00     44201\n",
      "           1       0.12      1.00      0.22      6199\n",
      "\n",
      "    accuracy                           0.12     50400\n",
      "   macro avg       0.55      0.50      0.11     50400\n",
      "weighted avg       0.87      0.12      0.03     50400\n",
      "\n"
     ]
    },
    {
     "name": "stderr",
     "output_type": "stream",
     "text": [
      "c:\\Users\\codyb\\.vscode\\Py\\COMP7970-Homework\\Lib\\site-packages\\sklearn\\svm\\_base.py:305: ConvergenceWarning: Solver terminated early (max_iter=250).  Consider pre-processing your data with StandardScaler or MinMaxScaler.\n",
      "  warnings.warn(\n"
     ]
    },
    {
     "name": "stdout",
     "output_type": "stream",
     "text": [
      "[Poly] max_iter: 250, C: 10, gamma: 0.001, degree: 4, class_weight: balanced -> accuracy: 0.1230\n",
      "              precision    recall  f1-score   support\n",
      "\n",
      "          -1       0.00      0.00      0.00     44201\n",
      "           1       0.12      1.00      0.22      6199\n",
      "\n",
      "    accuracy                           0.12     50400\n",
      "   macro avg       0.06      0.50      0.11     50400\n",
      "weighted avg       0.02      0.12      0.03     50400\n",
      "\n"
     ]
    },
    {
     "name": "stderr",
     "output_type": "stream",
     "text": [
      "c:\\Users\\codyb\\.vscode\\Py\\COMP7970-Homework\\Lib\\site-packages\\sklearn\\svm\\_base.py:305: ConvergenceWarning: Solver terminated early (max_iter=250).  Consider pre-processing your data with StandardScaler or MinMaxScaler.\n",
      "  warnings.warn(\n"
     ]
    },
    {
     "name": "stdout",
     "output_type": "stream",
     "text": [
      "[Poly] max_iter: 250, C: 10, gamma: 0.001, degree: 4, class_weight: {1: 3, -1: 1} -> accuracy: 0.1230\n",
      "              precision    recall  f1-score   support\n",
      "\n",
      "          -1       0.00      0.00      0.00     44201\n",
      "           1       0.12      1.00      0.22      6199\n",
      "\n",
      "    accuracy                           0.12     50400\n",
      "   macro avg       0.06      0.50      0.11     50400\n",
      "weighted avg       0.02      0.12      0.03     50400\n",
      "\n"
     ]
    },
    {
     "name": "stderr",
     "output_type": "stream",
     "text": [
      "c:\\Users\\codyb\\.vscode\\Py\\COMP7970-Homework\\Lib\\site-packages\\sklearn\\svm\\_base.py:305: ConvergenceWarning: Solver terminated early (max_iter=250).  Consider pre-processing your data with StandardScaler or MinMaxScaler.\n",
      "  warnings.warn(\n"
     ]
    },
    {
     "name": "stdout",
     "output_type": "stream",
     "text": [
      "[Poly] max_iter: 250, C: 10, gamma: 0.001, degree: 4, class_weight: {1: 2, -1: 1} -> accuracy: 0.1230\n",
      "              precision    recall  f1-score   support\n",
      "\n",
      "          -1       0.00      0.00      0.00     44201\n",
      "           1       0.12      1.00      0.22      6199\n",
      "\n",
      "    accuracy                           0.12     50400\n",
      "   macro avg       0.06      0.50      0.11     50400\n",
      "weighted avg       0.02      0.12      0.03     50400\n",
      "\n"
     ]
    },
    {
     "name": "stderr",
     "output_type": "stream",
     "text": [
      "c:\\Users\\codyb\\.vscode\\Py\\COMP7970-Homework\\Lib\\site-packages\\sklearn\\svm\\_base.py:305: ConvergenceWarning: Solver terminated early (max_iter=250).  Consider pre-processing your data with StandardScaler or MinMaxScaler.\n",
      "  warnings.warn(\n"
     ]
    },
    {
     "name": "stdout",
     "output_type": "stream",
     "text": [
      "[Poly] max_iter: 250, C: 10, gamma: 0.01, degree: 2, class_weight: balanced -> accuracy: 0.8748\n",
      "              precision    recall  f1-score   support\n",
      "\n",
      "          -1       0.88      1.00      0.93     44201\n",
      "           1       0.19      0.01      0.01      6199\n",
      "\n",
      "    accuracy                           0.87     50400\n",
      "   macro avg       0.53      0.50      0.47     50400\n",
      "weighted avg       0.79      0.87      0.82     50400\n",
      "\n"
     ]
    },
    {
     "name": "stderr",
     "output_type": "stream",
     "text": [
      "c:\\Users\\codyb\\.vscode\\Py\\COMP7970-Homework\\Lib\\site-packages\\sklearn\\svm\\_base.py:305: ConvergenceWarning: Solver terminated early (max_iter=250).  Consider pre-processing your data with StandardScaler or MinMaxScaler.\n",
      "  warnings.warn(\n"
     ]
    },
    {
     "name": "stdout",
     "output_type": "stream",
     "text": [
      "[Poly] max_iter: 250, C: 10, gamma: 0.01, degree: 2, class_weight: {1: 3, -1: 1} -> accuracy: 0.8718\n",
      "              precision    recall  f1-score   support\n",
      "\n",
      "          -1       0.88      0.99      0.93     44201\n",
      "           1       0.19      0.01      0.02      6199\n",
      "\n",
      "    accuracy                           0.87     50400\n",
      "   macro avg       0.53      0.50      0.48     50400\n",
      "weighted avg       0.79      0.87      0.82     50400\n",
      "\n"
     ]
    },
    {
     "name": "stderr",
     "output_type": "stream",
     "text": [
      "c:\\Users\\codyb\\.vscode\\Py\\COMP7970-Homework\\Lib\\site-packages\\sklearn\\svm\\_base.py:305: ConvergenceWarning: Solver terminated early (max_iter=250).  Consider pre-processing your data with StandardScaler or MinMaxScaler.\n",
      "  warnings.warn(\n"
     ]
    },
    {
     "name": "stdout",
     "output_type": "stream",
     "text": [
      "[Poly] max_iter: 250, C: 10, gamma: 0.01, degree: 2, class_weight: {1: 2, -1: 1} -> accuracy: 0.8699\n",
      "              precision    recall  f1-score   support\n",
      "\n",
      "          -1       0.88      0.99      0.93     44201\n",
      "           1       0.17      0.01      0.03      6199\n",
      "\n",
      "    accuracy                           0.87     50400\n",
      "   macro avg       0.52      0.50      0.48     50400\n",
      "weighted avg       0.79      0.87      0.82     50400\n",
      "\n"
     ]
    },
    {
     "name": "stderr",
     "output_type": "stream",
     "text": [
      "c:\\Users\\codyb\\.vscode\\Py\\COMP7970-Homework\\Lib\\site-packages\\sklearn\\svm\\_base.py:305: ConvergenceWarning: Solver terminated early (max_iter=250).  Consider pre-processing your data with StandardScaler or MinMaxScaler.\n",
      "  warnings.warn(\n"
     ]
    },
    {
     "name": "stdout",
     "output_type": "stream",
     "text": [
      "[Poly] max_iter: 250, C: 10, gamma: 0.01, degree: 3, class_weight: balanced -> accuracy: 0.1456\n",
      "              precision    recall  f1-score   support\n",
      "\n",
      "          -1       0.90      0.03      0.06     44201\n",
      "           1       0.12      0.98      0.22      6199\n",
      "\n",
      "    accuracy                           0.15     50400\n",
      "   macro avg       0.51      0.50      0.14     50400\n",
      "weighted avg       0.80      0.15      0.08     50400\n",
      "\n"
     ]
    },
    {
     "name": "stderr",
     "output_type": "stream",
     "text": [
      "c:\\Users\\codyb\\.vscode\\Py\\COMP7970-Homework\\Lib\\site-packages\\sklearn\\svm\\_base.py:305: ConvergenceWarning: Solver terminated early (max_iter=250).  Consider pre-processing your data with StandardScaler or MinMaxScaler.\n",
      "  warnings.warn(\n"
     ]
    },
    {
     "name": "stdout",
     "output_type": "stream",
     "text": [
      "[Poly] max_iter: 250, C: 10, gamma: 0.01, degree: 3, class_weight: {1: 3, -1: 1} -> accuracy: 0.1278\n",
      "              precision    recall  f1-score   support\n",
      "\n",
      "          -1       0.97      0.01      0.01     44201\n",
      "           1       0.12      1.00      0.22      6199\n",
      "\n",
      "    accuracy                           0.13     50400\n",
      "   macro avg       0.54      0.50      0.12     50400\n",
      "weighted avg       0.86      0.13      0.04     50400\n",
      "\n"
     ]
    },
    {
     "name": "stderr",
     "output_type": "stream",
     "text": [
      "c:\\Users\\codyb\\.vscode\\Py\\COMP7970-Homework\\Lib\\site-packages\\sklearn\\svm\\_base.py:305: ConvergenceWarning: Solver terminated early (max_iter=250).  Consider pre-processing your data with StandardScaler or MinMaxScaler.\n",
      "  warnings.warn(\n"
     ]
    },
    {
     "name": "stdout",
     "output_type": "stream",
     "text": [
      "[Poly] max_iter: 250, C: 10, gamma: 0.01, degree: 3, class_weight: {1: 2, -1: 1} -> accuracy: 0.1294\n",
      "              precision    recall  f1-score   support\n",
      "\n",
      "          -1       0.95      0.01      0.02     44201\n",
      "           1       0.12      1.00      0.22      6199\n",
      "\n",
      "    accuracy                           0.13     50400\n",
      "   macro avg       0.54      0.50      0.12     50400\n",
      "weighted avg       0.85      0.13      0.04     50400\n",
      "\n"
     ]
    },
    {
     "name": "stderr",
     "output_type": "stream",
     "text": [
      "c:\\Users\\codyb\\.vscode\\Py\\COMP7970-Homework\\Lib\\site-packages\\sklearn\\svm\\_base.py:305: ConvergenceWarning: Solver terminated early (max_iter=250).  Consider pre-processing your data with StandardScaler or MinMaxScaler.\n",
      "  warnings.warn(\n"
     ]
    },
    {
     "name": "stdout",
     "output_type": "stream",
     "text": [
      "[Poly] max_iter: 250, C: 10, gamma: 0.01, degree: 4, class_weight: balanced -> accuracy: 0.1291\n",
      "              precision    recall  f1-score   support\n",
      "\n",
      "          -1       0.96      0.01      0.01     44201\n",
      "           1       0.12      1.00      0.22      6199\n",
      "\n",
      "    accuracy                           0.13     50400\n",
      "   macro avg       0.54      0.50      0.12     50400\n",
      "weighted avg       0.86      0.13      0.04     50400\n",
      "\n"
     ]
    },
    {
     "name": "stderr",
     "output_type": "stream",
     "text": [
      "c:\\Users\\codyb\\.vscode\\Py\\COMP7970-Homework\\Lib\\site-packages\\sklearn\\svm\\_base.py:305: ConvergenceWarning: Solver terminated early (max_iter=250).  Consider pre-processing your data with StandardScaler or MinMaxScaler.\n",
      "  warnings.warn(\n"
     ]
    },
    {
     "name": "stdout",
     "output_type": "stream",
     "text": [
      "[Poly] max_iter: 250, C: 10, gamma: 0.01, degree: 4, class_weight: {1: 3, -1: 1} -> accuracy: 0.1353\n",
      "              precision    recall  f1-score   support\n",
      "\n",
      "          -1       0.92      0.02      0.03     44201\n",
      "           1       0.12      0.99      0.22      6199\n",
      "\n",
      "    accuracy                           0.14     50400\n",
      "   macro avg       0.52      0.50      0.13     50400\n",
      "weighted avg       0.82      0.14      0.05     50400\n",
      "\n"
     ]
    },
    {
     "name": "stderr",
     "output_type": "stream",
     "text": [
      "c:\\Users\\codyb\\.vscode\\Py\\COMP7970-Homework\\Lib\\site-packages\\sklearn\\svm\\_base.py:305: ConvergenceWarning: Solver terminated early (max_iter=250).  Consider pre-processing your data with StandardScaler or MinMaxScaler.\n",
      "  warnings.warn(\n"
     ]
    },
    {
     "name": "stdout",
     "output_type": "stream",
     "text": [
      "[Poly] max_iter: 250, C: 10, gamma: 0.01, degree: 4, class_weight: {1: 2, -1: 1} -> accuracy: 0.1278\n",
      "              precision    recall  f1-score   support\n",
      "\n",
      "          -1       0.92      0.01      0.01     44201\n",
      "           1       0.12      1.00      0.22      6199\n",
      "\n",
      "    accuracy                           0.13     50400\n",
      "   macro avg       0.52      0.50      0.12     50400\n",
      "weighted avg       0.82      0.13      0.04     50400\n",
      "\n"
     ]
    },
    {
     "name": "stderr",
     "output_type": "stream",
     "text": [
      "c:\\Users\\codyb\\.vscode\\Py\\COMP7970-Homework\\Lib\\site-packages\\sklearn\\svm\\_base.py:305: ConvergenceWarning: Solver terminated early (max_iter=250).  Consider pre-processing your data with StandardScaler or MinMaxScaler.\n",
      "  warnings.warn(\n"
     ]
    },
    {
     "name": "stdout",
     "output_type": "stream",
     "text": [
      "[Poly] max_iter: 250, C: 10, gamma: 0.1, degree: 2, class_weight: balanced -> accuracy: 0.5211\n",
      "              precision    recall  f1-score   support\n",
      "\n",
      "          -1       0.88      0.53      0.66     44201\n",
      "           1       0.13      0.49      0.20      6199\n",
      "\n",
      "    accuracy                           0.52     50400\n",
      "   macro avg       0.50      0.51      0.43     50400\n",
      "weighted avg       0.79      0.52      0.60     50400\n",
      "\n"
     ]
    },
    {
     "name": "stderr",
     "output_type": "stream",
     "text": [
      "c:\\Users\\codyb\\.vscode\\Py\\COMP7970-Homework\\Lib\\site-packages\\sklearn\\svm\\_base.py:305: ConvergenceWarning: Solver terminated early (max_iter=250).  Consider pre-processing your data with StandardScaler or MinMaxScaler.\n",
      "  warnings.warn(\n"
     ]
    },
    {
     "name": "stdout",
     "output_type": "stream",
     "text": [
      "[Poly] max_iter: 250, C: 10, gamma: 0.1, degree: 2, class_weight: {1: 3, -1: 1} -> accuracy: 0.4497\n",
      "              precision    recall  f1-score   support\n",
      "\n",
      "          -1       0.88      0.43      0.58     44201\n",
      "           1       0.12      0.58      0.21      6199\n",
      "\n",
      "    accuracy                           0.45     50400\n",
      "   macro avg       0.50      0.50      0.39     50400\n",
      "weighted avg       0.79      0.45      0.53     50400\n",
      "\n"
     ]
    },
    {
     "name": "stderr",
     "output_type": "stream",
     "text": [
      "c:\\Users\\codyb\\.vscode\\Py\\COMP7970-Homework\\Lib\\site-packages\\sklearn\\svm\\_base.py:305: ConvergenceWarning: Solver terminated early (max_iter=250).  Consider pre-processing your data with StandardScaler or MinMaxScaler.\n",
      "  warnings.warn(\n"
     ]
    },
    {
     "name": "stdout",
     "output_type": "stream",
     "text": [
      "[Poly] max_iter: 250, C: 10, gamma: 0.1, degree: 2, class_weight: {1: 2, -1: 1} -> accuracy: 0.1455\n",
      "              precision    recall  f1-score   support\n",
      "\n",
      "          -1       0.88      0.03      0.06     44201\n",
      "           1       0.12      0.97      0.22      6199\n",
      "\n",
      "    accuracy                           0.15     50400\n",
      "   macro avg       0.50      0.50      0.14     50400\n",
      "weighted avg       0.79      0.15      0.08     50400\n",
      "\n"
     ]
    },
    {
     "name": "stderr",
     "output_type": "stream",
     "text": [
      "c:\\Users\\codyb\\.vscode\\Py\\COMP7970-Homework\\Lib\\site-packages\\sklearn\\svm\\_base.py:305: ConvergenceWarning: Solver terminated early (max_iter=250).  Consider pre-processing your data with StandardScaler or MinMaxScaler.\n",
      "  warnings.warn(\n"
     ]
    },
    {
     "name": "stdout",
     "output_type": "stream",
     "text": [
      "[Poly] max_iter: 250, C: 10, gamma: 0.1, degree: 3, class_weight: balanced -> accuracy: 0.1316\n",
      "              precision    recall  f1-score   support\n",
      "\n",
      "          -1       0.95      0.01      0.02     44201\n",
      "           1       0.12      1.00      0.22      6199\n",
      "\n",
      "    accuracy                           0.13     50400\n",
      "   macro avg       0.54      0.50      0.12     50400\n",
      "weighted avg       0.85      0.13      0.05     50400\n",
      "\n"
     ]
    },
    {
     "name": "stderr",
     "output_type": "stream",
     "text": [
      "c:\\Users\\codyb\\.vscode\\Py\\COMP7970-Homework\\Lib\\site-packages\\sklearn\\svm\\_base.py:305: ConvergenceWarning: Solver terminated early (max_iter=250).  Consider pre-processing your data with StandardScaler or MinMaxScaler.\n",
      "  warnings.warn(\n"
     ]
    },
    {
     "name": "stdout",
     "output_type": "stream",
     "text": [
      "[Poly] max_iter: 250, C: 10, gamma: 0.1, degree: 3, class_weight: {1: 3, -1: 1} -> accuracy: 0.1278\n",
      "              precision    recall  f1-score   support\n",
      "\n",
      "          -1       0.97      0.01      0.01     44201\n",
      "           1       0.12      1.00      0.22      6199\n",
      "\n",
      "    accuracy                           0.13     50400\n",
      "   macro avg       0.54      0.50      0.12     50400\n",
      "weighted avg       0.86      0.13      0.04     50400\n",
      "\n"
     ]
    },
    {
     "name": "stderr",
     "output_type": "stream",
     "text": [
      "c:\\Users\\codyb\\.vscode\\Py\\COMP7970-Homework\\Lib\\site-packages\\sklearn\\svm\\_base.py:305: ConvergenceWarning: Solver terminated early (max_iter=250).  Consider pre-processing your data with StandardScaler or MinMaxScaler.\n",
      "  warnings.warn(\n"
     ]
    },
    {
     "name": "stdout",
     "output_type": "stream",
     "text": [
      "[Poly] max_iter: 250, C: 10, gamma: 0.1, degree: 3, class_weight: {1: 2, -1: 1} -> accuracy: 0.1288\n",
      "              precision    recall  f1-score   support\n",
      "\n",
      "          -1       0.97      0.01      0.01     44201\n",
      "           1       0.12      1.00      0.22      6199\n",
      "\n",
      "    accuracy                           0.13     50400\n",
      "   macro avg       0.55      0.50      0.12     50400\n",
      "weighted avg       0.86      0.13      0.04     50400\n",
      "\n"
     ]
    },
    {
     "name": "stderr",
     "output_type": "stream",
     "text": [
      "c:\\Users\\codyb\\.vscode\\Py\\COMP7970-Homework\\Lib\\site-packages\\sklearn\\svm\\_base.py:305: ConvergenceWarning: Solver terminated early (max_iter=250).  Consider pre-processing your data with StandardScaler or MinMaxScaler.\n",
      "  warnings.warn(\n"
     ]
    },
    {
     "name": "stdout",
     "output_type": "stream",
     "text": [
      "[Poly] max_iter: 250, C: 10, gamma: 0.1, degree: 4, class_weight: balanced -> accuracy: 0.1291\n",
      "              precision    recall  f1-score   support\n",
      "\n",
      "          -1       0.96      0.01      0.01     44201\n",
      "           1       0.12      1.00      0.22      6199\n",
      "\n",
      "    accuracy                           0.13     50400\n",
      "   macro avg       0.54      0.50      0.12     50400\n",
      "weighted avg       0.86      0.13      0.04     50400\n",
      "\n"
     ]
    },
    {
     "name": "stderr",
     "output_type": "stream",
     "text": [
      "c:\\Users\\codyb\\.vscode\\Py\\COMP7970-Homework\\Lib\\site-packages\\sklearn\\svm\\_base.py:305: ConvergenceWarning: Solver terminated early (max_iter=250).  Consider pre-processing your data with StandardScaler or MinMaxScaler.\n",
      "  warnings.warn(\n"
     ]
    },
    {
     "name": "stdout",
     "output_type": "stream",
     "text": [
      "[Poly] max_iter: 250, C: 10, gamma: 0.1, degree: 4, class_weight: {1: 3, -1: 1} -> accuracy: 0.1353\n",
      "              precision    recall  f1-score   support\n",
      "\n",
      "          -1       0.92      0.02      0.03     44201\n",
      "           1       0.12      0.99      0.22      6199\n",
      "\n",
      "    accuracy                           0.14     50400\n",
      "   macro avg       0.52      0.50      0.13     50400\n",
      "weighted avg       0.82      0.14      0.05     50400\n",
      "\n"
     ]
    },
    {
     "name": "stderr",
     "output_type": "stream",
     "text": [
      "c:\\Users\\codyb\\.vscode\\Py\\COMP7970-Homework\\Lib\\site-packages\\sklearn\\svm\\_base.py:305: ConvergenceWarning: Solver terminated early (max_iter=250).  Consider pre-processing your data with StandardScaler or MinMaxScaler.\n",
      "  warnings.warn(\n"
     ]
    },
    {
     "name": "stdout",
     "output_type": "stream",
     "text": [
      "[Poly] max_iter: 250, C: 10, gamma: 0.1, degree: 4, class_weight: {1: 2, -1: 1} -> accuracy: 0.1278\n",
      "              precision    recall  f1-score   support\n",
      "\n",
      "          -1       0.92      0.01      0.01     44201\n",
      "           1       0.12      1.00      0.22      6199\n",
      "\n",
      "    accuracy                           0.13     50400\n",
      "   macro avg       0.52      0.50      0.12     50400\n",
      "weighted avg       0.82      0.13      0.04     50400\n",
      "\n"
     ]
    },
    {
     "name": "stderr",
     "output_type": "stream",
     "text": [
      "c:\\Users\\codyb\\.vscode\\Py\\COMP7970-Homework\\Lib\\site-packages\\sklearn\\svm\\_base.py:305: ConvergenceWarning: Solver terminated early (max_iter=250).  Consider pre-processing your data with StandardScaler or MinMaxScaler.\n",
      "  warnings.warn(\n"
     ]
    },
    {
     "name": "stdout",
     "output_type": "stream",
     "text": [
      "[Poly] max_iter: 250, C: 10, gamma: 1, degree: 2, class_weight: balanced -> accuracy: 0.5211\n",
      "              precision    recall  f1-score   support\n",
      "\n",
      "          -1       0.88      0.53      0.66     44201\n",
      "           1       0.13      0.49      0.20      6199\n",
      "\n",
      "    accuracy                           0.52     50400\n",
      "   macro avg       0.50      0.51      0.43     50400\n",
      "weighted avg       0.79      0.52      0.60     50400\n",
      "\n"
     ]
    },
    {
     "name": "stderr",
     "output_type": "stream",
     "text": [
      "c:\\Users\\codyb\\.vscode\\Py\\COMP7970-Homework\\Lib\\site-packages\\sklearn\\svm\\_base.py:305: ConvergenceWarning: Solver terminated early (max_iter=250).  Consider pre-processing your data with StandardScaler or MinMaxScaler.\n",
      "  warnings.warn(\n"
     ]
    },
    {
     "name": "stdout",
     "output_type": "stream",
     "text": [
      "[Poly] max_iter: 250, C: 10, gamma: 1, degree: 2, class_weight: {1: 3, -1: 1} -> accuracy: 0.4497\n",
      "              precision    recall  f1-score   support\n",
      "\n",
      "          -1       0.88      0.43      0.58     44201\n",
      "           1       0.12      0.58      0.21      6199\n",
      "\n",
      "    accuracy                           0.45     50400\n",
      "   macro avg       0.50      0.50      0.39     50400\n",
      "weighted avg       0.79      0.45      0.53     50400\n",
      "\n"
     ]
    },
    {
     "name": "stderr",
     "output_type": "stream",
     "text": [
      "c:\\Users\\codyb\\.vscode\\Py\\COMP7970-Homework\\Lib\\site-packages\\sklearn\\svm\\_base.py:305: ConvergenceWarning: Solver terminated early (max_iter=250).  Consider pre-processing your data with StandardScaler or MinMaxScaler.\n",
      "  warnings.warn(\n"
     ]
    },
    {
     "name": "stdout",
     "output_type": "stream",
     "text": [
      "[Poly] max_iter: 250, C: 10, gamma: 1, degree: 2, class_weight: {1: 2, -1: 1} -> accuracy: 0.1455\n",
      "              precision    recall  f1-score   support\n",
      "\n",
      "          -1       0.88      0.03      0.06     44201\n",
      "           1       0.12      0.97      0.22      6199\n",
      "\n",
      "    accuracy                           0.15     50400\n",
      "   macro avg       0.50      0.50      0.14     50400\n",
      "weighted avg       0.79      0.15      0.08     50400\n",
      "\n"
     ]
    },
    {
     "name": "stderr",
     "output_type": "stream",
     "text": [
      "c:\\Users\\codyb\\.vscode\\Py\\COMP7970-Homework\\Lib\\site-packages\\sklearn\\svm\\_base.py:305: ConvergenceWarning: Solver terminated early (max_iter=250).  Consider pre-processing your data with StandardScaler or MinMaxScaler.\n",
      "  warnings.warn(\n"
     ]
    },
    {
     "name": "stdout",
     "output_type": "stream",
     "text": [
      "[Poly] max_iter: 250, C: 10, gamma: 1, degree: 3, class_weight: balanced -> accuracy: 0.8766\n",
      "              precision    recall  f1-score   support\n",
      "\n",
      "          -1       0.88      1.00      0.93     44201\n",
      "           1       0.24      0.00      0.00      6199\n",
      "\n",
      "    accuracy                           0.88     50400\n",
      "   macro avg       0.56      0.50      0.47     50400\n",
      "weighted avg       0.80      0.88      0.82     50400\n",
      "\n"
     ]
    },
    {
     "name": "stderr",
     "output_type": "stream",
     "text": [
      "c:\\Users\\codyb\\.vscode\\Py\\COMP7970-Homework\\Lib\\site-packages\\sklearn\\svm\\_base.py:305: ConvergenceWarning: Solver terminated early (max_iter=250).  Consider pre-processing your data with StandardScaler or MinMaxScaler.\n",
      "  warnings.warn(\n"
     ]
    },
    {
     "name": "stdout",
     "output_type": "stream",
     "text": [
      "[Poly] max_iter: 250, C: 10, gamma: 1, degree: 3, class_weight: {1: 3, -1: 1} -> accuracy: 0.8766\n",
      "              precision    recall  f1-score   support\n",
      "\n",
      "          -1       0.88      1.00      0.93     44201\n",
      "           1       0.24      0.00      0.00      6199\n",
      "\n",
      "    accuracy                           0.88     50400\n",
      "   macro avg       0.56      0.50      0.47     50400\n",
      "weighted avg       0.80      0.88      0.82     50400\n",
      "\n"
     ]
    },
    {
     "name": "stderr",
     "output_type": "stream",
     "text": [
      "c:\\Users\\codyb\\.vscode\\Py\\COMP7970-Homework\\Lib\\site-packages\\sklearn\\svm\\_base.py:305: ConvergenceWarning: Solver terminated early (max_iter=250).  Consider pre-processing your data with StandardScaler or MinMaxScaler.\n",
      "  warnings.warn(\n"
     ]
    },
    {
     "name": "stdout",
     "output_type": "stream",
     "text": [
      "[Poly] max_iter: 250, C: 10, gamma: 1, degree: 3, class_weight: {1: 2, -1: 1} -> accuracy: 0.8761\n",
      "              precision    recall  f1-score   support\n",
      "\n",
      "          -1       0.88      1.00      0.93     44201\n",
      "           1       0.16      0.00      0.00      6199\n",
      "\n",
      "    accuracy                           0.88     50400\n",
      "   macro avg       0.52      0.50      0.47     50400\n",
      "weighted avg       0.79      0.88      0.82     50400\n",
      "\n"
     ]
    },
    {
     "name": "stderr",
     "output_type": "stream",
     "text": [
      "c:\\Users\\codyb\\.vscode\\Py\\COMP7970-Homework\\Lib\\site-packages\\sklearn\\svm\\_base.py:305: ConvergenceWarning: Solver terminated early (max_iter=250).  Consider pre-processing your data with StandardScaler or MinMaxScaler.\n",
      "  warnings.warn(\n"
     ]
    },
    {
     "name": "stdout",
     "output_type": "stream",
     "text": [
      "[Poly] max_iter: 250, C: 10, gamma: 1, degree: 4, class_weight: balanced -> accuracy: 0.1286\n",
      "              precision    recall  f1-score   support\n",
      "\n",
      "          -1       0.93      0.01      0.01     44201\n",
      "           1       0.12      1.00      0.22      6199\n",
      "\n",
      "    accuracy                           0.13     50400\n",
      "   macro avg       0.53      0.50      0.12     50400\n",
      "weighted avg       0.83      0.13      0.04     50400\n",
      "\n"
     ]
    },
    {
     "name": "stderr",
     "output_type": "stream",
     "text": [
      "c:\\Users\\codyb\\.vscode\\Py\\COMP7970-Homework\\Lib\\site-packages\\sklearn\\svm\\_base.py:305: ConvergenceWarning: Solver terminated early (max_iter=250).  Consider pre-processing your data with StandardScaler or MinMaxScaler.\n",
      "  warnings.warn(\n"
     ]
    },
    {
     "name": "stdout",
     "output_type": "stream",
     "text": [
      "[Poly] max_iter: 250, C: 10, gamma: 1, degree: 4, class_weight: {1: 3, -1: 1} -> accuracy: 0.1291\n",
      "              precision    recall  f1-score   support\n",
      "\n",
      "          -1       0.91      0.01      0.02     44201\n",
      "           1       0.12      0.99      0.22      6199\n",
      "\n",
      "    accuracy                           0.13     50400\n",
      "   macro avg       0.52      0.50      0.12     50400\n",
      "weighted avg       0.81      0.13      0.04     50400\n",
      "\n"
     ]
    },
    {
     "name": "stderr",
     "output_type": "stream",
     "text": [
      "c:\\Users\\codyb\\.vscode\\Py\\COMP7970-Homework\\Lib\\site-packages\\sklearn\\svm\\_base.py:305: ConvergenceWarning: Solver terminated early (max_iter=250).  Consider pre-processing your data with StandardScaler or MinMaxScaler.\n",
      "  warnings.warn(\n"
     ]
    },
    {
     "name": "stdout",
     "output_type": "stream",
     "text": [
      "[Poly] max_iter: 250, C: 10, gamma: 1, degree: 4, class_weight: {1: 2, -1: 1} -> accuracy: 0.8762\n",
      "              precision    recall  f1-score   support\n",
      "\n",
      "          -1       0.88      1.00      0.93     44201\n",
      "           1       0.21      0.00      0.00      6199\n",
      "\n",
      "    accuracy                           0.88     50400\n",
      "   macro avg       0.54      0.50      0.47     50400\n",
      "weighted avg       0.79      0.88      0.82     50400\n",
      "\n"
     ]
    },
    {
     "name": "stderr",
     "output_type": "stream",
     "text": [
      "c:\\Users\\codyb\\.vscode\\Py\\COMP7970-Homework\\Lib\\site-packages\\sklearn\\svm\\_base.py:305: ConvergenceWarning: Solver terminated early (max_iter=250).  Consider pre-processing your data with StandardScaler or MinMaxScaler.\n",
      "  warnings.warn(\n"
     ]
    },
    {
     "name": "stdout",
     "output_type": "stream",
     "text": [
      "[Poly] max_iter: 250, C: 10, gamma: 5, degree: 2, class_weight: balanced -> accuracy: 0.3368\n",
      "              precision    recall  f1-score   support\n",
      "\n",
      "          -1       0.88      0.28      0.43     44201\n",
      "           1       0.12      0.73      0.21      6199\n",
      "\n",
      "    accuracy                           0.34     50400\n",
      "   macro avg       0.50      0.51      0.32     50400\n",
      "weighted avg       0.79      0.34      0.40     50400\n",
      "\n"
     ]
    },
    {
     "name": "stderr",
     "output_type": "stream",
     "text": [
      "c:\\Users\\codyb\\.vscode\\Py\\COMP7970-Homework\\Lib\\site-packages\\sklearn\\svm\\_base.py:305: ConvergenceWarning: Solver terminated early (max_iter=250).  Consider pre-processing your data with StandardScaler or MinMaxScaler.\n",
      "  warnings.warn(\n"
     ]
    },
    {
     "name": "stdout",
     "output_type": "stream",
     "text": [
      "[Poly] max_iter: 250, C: 10, gamma: 5, degree: 2, class_weight: {1: 3, -1: 1} -> accuracy: 0.1546\n",
      "              precision    recall  f1-score   support\n",
      "\n",
      "          -1       0.87      0.04      0.08     44201\n",
      "           1       0.12      0.95      0.22      6199\n",
      "\n",
      "    accuracy                           0.15     50400\n",
      "   macro avg       0.50      0.50      0.15     50400\n",
      "weighted avg       0.78      0.15      0.10     50400\n",
      "\n"
     ]
    },
    {
     "name": "stderr",
     "output_type": "stream",
     "text": [
      "c:\\Users\\codyb\\.vscode\\Py\\COMP7970-Homework\\Lib\\site-packages\\sklearn\\svm\\_base.py:305: ConvergenceWarning: Solver terminated early (max_iter=250).  Consider pre-processing your data with StandardScaler or MinMaxScaler.\n",
      "  warnings.warn(\n"
     ]
    },
    {
     "name": "stdout",
     "output_type": "stream",
     "text": [
      "[Poly] max_iter: 250, C: 10, gamma: 5, degree: 2, class_weight: {1: 2, -1: 1} -> accuracy: 0.8739\n",
      "              precision    recall  f1-score   support\n",
      "\n",
      "          -1       0.88      1.00      0.93     44201\n",
      "           1       0.13      0.00      0.01      6199\n",
      "\n",
      "    accuracy                           0.87     50400\n",
      "   macro avg       0.50      0.50      0.47     50400\n",
      "weighted avg       0.78      0.87      0.82     50400\n",
      "\n"
     ]
    },
    {
     "name": "stderr",
     "output_type": "stream",
     "text": [
      "c:\\Users\\codyb\\.vscode\\Py\\COMP7970-Homework\\Lib\\site-packages\\sklearn\\svm\\_base.py:305: ConvergenceWarning: Solver terminated early (max_iter=250).  Consider pre-processing your data with StandardScaler or MinMaxScaler.\n",
      "  warnings.warn(\n"
     ]
    },
    {
     "name": "stdout",
     "output_type": "stream",
     "text": [
      "[Poly] max_iter: 250, C: 10, gamma: 5, degree: 3, class_weight: balanced -> accuracy: 0.8770\n",
      "              precision    recall  f1-score   support\n",
      "\n",
      "          -1       0.88      1.00      0.93     44201\n",
      "           1       0.43      0.00      0.00      6199\n",
      "\n",
      "    accuracy                           0.88     50400\n",
      "   macro avg       0.65      0.50      0.47     50400\n",
      "weighted avg       0.82      0.88      0.82     50400\n",
      "\n"
     ]
    },
    {
     "name": "stderr",
     "output_type": "stream",
     "text": [
      "c:\\Users\\codyb\\.vscode\\Py\\COMP7970-Homework\\Lib\\site-packages\\sklearn\\svm\\_base.py:305: ConvergenceWarning: Solver terminated early (max_iter=250).  Consider pre-processing your data with StandardScaler or MinMaxScaler.\n",
      "  warnings.warn(\n"
     ]
    },
    {
     "name": "stdout",
     "output_type": "stream",
     "text": [
      "[Poly] max_iter: 250, C: 10, gamma: 5, degree: 3, class_weight: {1: 3, -1: 1} -> accuracy: 0.8770\n",
      "              precision    recall  f1-score   support\n",
      "\n",
      "          -1       0.88      1.00      0.93     44201\n",
      "           1       0.43      0.00      0.00      6199\n",
      "\n",
      "    accuracy                           0.88     50400\n",
      "   macro avg       0.65      0.50      0.47     50400\n",
      "weighted avg       0.82      0.88      0.82     50400\n",
      "\n"
     ]
    },
    {
     "name": "stderr",
     "output_type": "stream",
     "text": [
      "c:\\Users\\codyb\\.vscode\\Py\\COMP7970-Homework\\Lib\\site-packages\\sklearn\\svm\\_base.py:305: ConvergenceWarning: Solver terminated early (max_iter=250).  Consider pre-processing your data with StandardScaler or MinMaxScaler.\n",
      "  warnings.warn(\n"
     ]
    },
    {
     "name": "stdout",
     "output_type": "stream",
     "text": [
      "[Poly] max_iter: 250, C: 10, gamma: 5, degree: 3, class_weight: {1: 2, -1: 1} -> accuracy: 0.8770\n",
      "              precision    recall  f1-score   support\n",
      "\n",
      "          -1       0.88      1.00      0.93     44201\n",
      "           1       0.43      0.00      0.00      6199\n",
      "\n",
      "    accuracy                           0.88     50400\n",
      "   macro avg       0.65      0.50      0.47     50400\n",
      "weighted avg       0.82      0.88      0.82     50400\n",
      "\n"
     ]
    },
    {
     "name": "stderr",
     "output_type": "stream",
     "text": [
      "c:\\Users\\codyb\\.vscode\\Py\\COMP7970-Homework\\Lib\\site-packages\\sklearn\\svm\\_base.py:305: ConvergenceWarning: Solver terminated early (max_iter=250).  Consider pre-processing your data with StandardScaler or MinMaxScaler.\n",
      "  warnings.warn(\n"
     ]
    },
    {
     "name": "stdout",
     "output_type": "stream",
     "text": [
      "[Poly] max_iter: 250, C: 10, gamma: 5, degree: 4, class_weight: balanced -> accuracy: 0.8770\n",
      "              precision    recall  f1-score   support\n",
      "\n",
      "          -1       0.88      1.00      0.93     44201\n",
      "           1       0.43      0.00      0.00      6199\n",
      "\n",
      "    accuracy                           0.88     50400\n",
      "   macro avg       0.65      0.50      0.47     50400\n",
      "weighted avg       0.82      0.88      0.82     50400\n",
      "\n"
     ]
    },
    {
     "name": "stderr",
     "output_type": "stream",
     "text": [
      "c:\\Users\\codyb\\.vscode\\Py\\COMP7970-Homework\\Lib\\site-packages\\sklearn\\svm\\_base.py:305: ConvergenceWarning: Solver terminated early (max_iter=250).  Consider pre-processing your data with StandardScaler or MinMaxScaler.\n",
      "  warnings.warn(\n"
     ]
    },
    {
     "name": "stdout",
     "output_type": "stream",
     "text": [
      "[Poly] max_iter: 250, C: 10, gamma: 5, degree: 4, class_weight: {1: 3, -1: 1} -> accuracy: 0.8770\n",
      "              precision    recall  f1-score   support\n",
      "\n",
      "          -1       0.88      1.00      0.93     44201\n",
      "           1       0.43      0.00      0.00      6199\n",
      "\n",
      "    accuracy                           0.88     50400\n",
      "   macro avg       0.65      0.50      0.47     50400\n",
      "weighted avg       0.82      0.88      0.82     50400\n",
      "\n"
     ]
    },
    {
     "name": "stderr",
     "output_type": "stream",
     "text": [
      "c:\\Users\\codyb\\.vscode\\Py\\COMP7970-Homework\\Lib\\site-packages\\sklearn\\svm\\_base.py:305: ConvergenceWarning: Solver terminated early (max_iter=250).  Consider pre-processing your data with StandardScaler or MinMaxScaler.\n",
      "  warnings.warn(\n"
     ]
    },
    {
     "name": "stdout",
     "output_type": "stream",
     "text": [
      "[Poly] max_iter: 250, C: 10, gamma: 5, degree: 4, class_weight: {1: 2, -1: 1} -> accuracy: 0.8770\n",
      "              precision    recall  f1-score   support\n",
      "\n",
      "          -1       0.88      1.00      0.93     44201\n",
      "           1       0.43      0.00      0.00      6199\n",
      "\n",
      "    accuracy                           0.88     50400\n",
      "   macro avg       0.65      0.50      0.47     50400\n",
      "weighted avg       0.82      0.88      0.82     50400\n",
      "\n"
     ]
    },
    {
     "name": "stderr",
     "output_type": "stream",
     "text": [
      "c:\\Users\\codyb\\.vscode\\Py\\COMP7970-Homework\\Lib\\site-packages\\sklearn\\svm\\_base.py:305: ConvergenceWarning: Solver terminated early (max_iter=250).  Consider pre-processing your data with StandardScaler or MinMaxScaler.\n",
      "  warnings.warn(\n"
     ]
    },
    {
     "name": "stdout",
     "output_type": "stream",
     "text": [
      "[Poly] max_iter: 250, C: 10, gamma: 10, degree: 2, class_weight: balanced -> accuracy: 0.8745\n",
      "              precision    recall  f1-score   support\n",
      "\n",
      "          -1       0.88      1.00      0.93     44201\n",
      "           1       0.10      0.00      0.01      6199\n",
      "\n",
      "    accuracy                           0.87     50400\n",
      "   macro avg       0.49      0.50      0.47     50400\n",
      "weighted avg       0.78      0.87      0.82     50400\n",
      "\n"
     ]
    },
    {
     "name": "stderr",
     "output_type": "stream",
     "text": [
      "c:\\Users\\codyb\\.vscode\\Py\\COMP7970-Homework\\Lib\\site-packages\\sklearn\\svm\\_base.py:305: ConvergenceWarning: Solver terminated early (max_iter=250).  Consider pre-processing your data with StandardScaler or MinMaxScaler.\n",
      "  warnings.warn(\n"
     ]
    },
    {
     "name": "stdout",
     "output_type": "stream",
     "text": [
      "[Poly] max_iter: 250, C: 10, gamma: 10, degree: 2, class_weight: {1: 3, -1: 1} -> accuracy: 0.8768\n",
      "              precision    recall  f1-score   support\n",
      "\n",
      "          -1       0.88      1.00      0.93     44201\n",
      "           1       0.32      0.00      0.00      6199\n",
      "\n",
      "    accuracy                           0.88     50400\n",
      "   macro avg       0.60      0.50      0.47     50400\n",
      "weighted avg       0.81      0.88      0.82     50400\n",
      "\n"
     ]
    },
    {
     "name": "stderr",
     "output_type": "stream",
     "text": [
      "c:\\Users\\codyb\\.vscode\\Py\\COMP7970-Homework\\Lib\\site-packages\\sklearn\\svm\\_base.py:305: ConvergenceWarning: Solver terminated early (max_iter=250).  Consider pre-processing your data with StandardScaler or MinMaxScaler.\n",
      "  warnings.warn(\n"
     ]
    },
    {
     "name": "stdout",
     "output_type": "stream",
     "text": [
      "[Poly] max_iter: 250, C: 10, gamma: 10, degree: 2, class_weight: {1: 2, -1: 1} -> accuracy: 0.8760\n",
      "              precision    recall  f1-score   support\n",
      "\n",
      "          -1       0.88      1.00      0.93     44201\n",
      "           1       0.23      0.00      0.01      6199\n",
      "\n",
      "    accuracy                           0.88     50400\n",
      "   macro avg       0.55      0.50      0.47     50400\n",
      "weighted avg       0.80      0.88      0.82     50400\n",
      "\n"
     ]
    },
    {
     "name": "stderr",
     "output_type": "stream",
     "text": [
      "c:\\Users\\codyb\\.vscode\\Py\\COMP7970-Homework\\Lib\\site-packages\\sklearn\\svm\\_base.py:305: ConvergenceWarning: Solver terminated early (max_iter=250).  Consider pre-processing your data with StandardScaler or MinMaxScaler.\n",
      "  warnings.warn(\n"
     ]
    },
    {
     "name": "stdout",
     "output_type": "stream",
     "text": [
      "[Poly] max_iter: 250, C: 10, gamma: 10, degree: 3, class_weight: balanced -> accuracy: 0.8770\n",
      "              precision    recall  f1-score   support\n",
      "\n",
      "          -1       0.88      1.00      0.93     44201\n",
      "           1       0.43      0.00      0.00      6199\n",
      "\n",
      "    accuracy                           0.88     50400\n",
      "   macro avg       0.65      0.50      0.47     50400\n",
      "weighted avg       0.82      0.88      0.82     50400\n",
      "\n"
     ]
    },
    {
     "name": "stderr",
     "output_type": "stream",
     "text": [
      "c:\\Users\\codyb\\.vscode\\Py\\COMP7970-Homework\\Lib\\site-packages\\sklearn\\svm\\_base.py:305: ConvergenceWarning: Solver terminated early (max_iter=250).  Consider pre-processing your data with StandardScaler or MinMaxScaler.\n",
      "  warnings.warn(\n"
     ]
    },
    {
     "name": "stdout",
     "output_type": "stream",
     "text": [
      "[Poly] max_iter: 250, C: 10, gamma: 10, degree: 3, class_weight: {1: 3, -1: 1} -> accuracy: 0.8770\n",
      "              precision    recall  f1-score   support\n",
      "\n",
      "          -1       0.88      1.00      0.93     44201\n",
      "           1       0.43      0.00      0.00      6199\n",
      "\n",
      "    accuracy                           0.88     50400\n",
      "   macro avg       0.65      0.50      0.47     50400\n",
      "weighted avg       0.82      0.88      0.82     50400\n",
      "\n"
     ]
    },
    {
     "name": "stderr",
     "output_type": "stream",
     "text": [
      "c:\\Users\\codyb\\.vscode\\Py\\COMP7970-Homework\\Lib\\site-packages\\sklearn\\svm\\_base.py:305: ConvergenceWarning: Solver terminated early (max_iter=250).  Consider pre-processing your data with StandardScaler or MinMaxScaler.\n",
      "  warnings.warn(\n"
     ]
    },
    {
     "name": "stdout",
     "output_type": "stream",
     "text": [
      "[Poly] max_iter: 250, C: 10, gamma: 10, degree: 3, class_weight: {1: 2, -1: 1} -> accuracy: 0.8770\n",
      "              precision    recall  f1-score   support\n",
      "\n",
      "          -1       0.88      1.00      0.93     44201\n",
      "           1       0.43      0.00      0.00      6199\n",
      "\n",
      "    accuracy                           0.88     50400\n",
      "   macro avg       0.65      0.50      0.47     50400\n",
      "weighted avg       0.82      0.88      0.82     50400\n",
      "\n"
     ]
    },
    {
     "name": "stderr",
     "output_type": "stream",
     "text": [
      "c:\\Users\\codyb\\.vscode\\Py\\COMP7970-Homework\\Lib\\site-packages\\sklearn\\svm\\_base.py:305: ConvergenceWarning: Solver terminated early (max_iter=250).  Consider pre-processing your data with StandardScaler or MinMaxScaler.\n",
      "  warnings.warn(\n"
     ]
    },
    {
     "name": "stdout",
     "output_type": "stream",
     "text": [
      "[Poly] max_iter: 250, C: 10, gamma: 10, degree: 4, class_weight: balanced -> accuracy: 0.8770\n",
      "              precision    recall  f1-score   support\n",
      "\n",
      "          -1       0.88      1.00      0.93     44201\n",
      "           1       0.43      0.00      0.00      6199\n",
      "\n",
      "    accuracy                           0.88     50400\n",
      "   macro avg       0.65      0.50      0.47     50400\n",
      "weighted avg       0.82      0.88      0.82     50400\n",
      "\n"
     ]
    },
    {
     "name": "stderr",
     "output_type": "stream",
     "text": [
      "c:\\Users\\codyb\\.vscode\\Py\\COMP7970-Homework\\Lib\\site-packages\\sklearn\\svm\\_base.py:305: ConvergenceWarning: Solver terminated early (max_iter=250).  Consider pre-processing your data with StandardScaler or MinMaxScaler.\n",
      "  warnings.warn(\n"
     ]
    },
    {
     "name": "stdout",
     "output_type": "stream",
     "text": [
      "[Poly] max_iter: 250, C: 10, gamma: 10, degree: 4, class_weight: {1: 3, -1: 1} -> accuracy: 0.8770\n",
      "              precision    recall  f1-score   support\n",
      "\n",
      "          -1       0.88      1.00      0.93     44201\n",
      "           1       0.43      0.00      0.00      6199\n",
      "\n",
      "    accuracy                           0.88     50400\n",
      "   macro avg       0.65      0.50      0.47     50400\n",
      "weighted avg       0.82      0.88      0.82     50400\n",
      "\n"
     ]
    },
    {
     "name": "stderr",
     "output_type": "stream",
     "text": [
      "c:\\Users\\codyb\\.vscode\\Py\\COMP7970-Homework\\Lib\\site-packages\\sklearn\\svm\\_base.py:305: ConvergenceWarning: Solver terminated early (max_iter=250).  Consider pre-processing your data with StandardScaler or MinMaxScaler.\n",
      "  warnings.warn(\n"
     ]
    },
    {
     "name": "stdout",
     "output_type": "stream",
     "text": [
      "[Poly] max_iter: 250, C: 10, gamma: 10, degree: 4, class_weight: {1: 2, -1: 1} -> accuracy: 0.8770\n",
      "              precision    recall  f1-score   support\n",
      "\n",
      "          -1       0.88      1.00      0.93     44201\n",
      "           1       0.43      0.00      0.00      6199\n",
      "\n",
      "    accuracy                           0.88     50400\n",
      "   macro avg       0.65      0.50      0.47     50400\n",
      "weighted avg       0.82      0.88      0.82     50400\n",
      "\n"
     ]
    },
    {
     "name": "stderr",
     "output_type": "stream",
     "text": [
      "c:\\Users\\codyb\\.vscode\\Py\\COMP7970-Homework\\Lib\\site-packages\\sklearn\\svm\\_base.py:305: ConvergenceWarning: Solver terminated early (max_iter=250).  Consider pre-processing your data with StandardScaler or MinMaxScaler.\n",
      "  warnings.warn(\n"
     ]
    },
    {
     "name": "stdout",
     "output_type": "stream",
     "text": [
      "[Poly] max_iter: 250, C: 10, gamma: 100, degree: 2, class_weight: balanced -> accuracy: 0.8761\n",
      "              precision    recall  f1-score   support\n",
      "\n",
      "          -1       0.88      1.00      0.93     44201\n",
      "           1       0.23      0.00      0.01      6199\n",
      "\n",
      "    accuracy                           0.88     50400\n",
      "   macro avg       0.55      0.50      0.47     50400\n",
      "weighted avg       0.80      0.88      0.82     50400\n",
      "\n"
     ]
    },
    {
     "name": "stderr",
     "output_type": "stream",
     "text": [
      "c:\\Users\\codyb\\.vscode\\Py\\COMP7970-Homework\\Lib\\site-packages\\sklearn\\svm\\_base.py:305: ConvergenceWarning: Solver terminated early (max_iter=250).  Consider pre-processing your data with StandardScaler or MinMaxScaler.\n",
      "  warnings.warn(\n"
     ]
    },
    {
     "name": "stdout",
     "output_type": "stream",
     "text": [
      "[Poly] max_iter: 250, C: 10, gamma: 100, degree: 2, class_weight: {1: 3, -1: 1} -> accuracy: 0.8766\n",
      "              precision    recall  f1-score   support\n",
      "\n",
      "          -1       0.88      1.00      0.93     44201\n",
      "           1       0.19      0.00      0.00      6199\n",
      "\n",
      "    accuracy                           0.88     50400\n",
      "   macro avg       0.54      0.50      0.47     50400\n",
      "weighted avg       0.79      0.88      0.82     50400\n",
      "\n"
     ]
    },
    {
     "name": "stderr",
     "output_type": "stream",
     "text": [
      "c:\\Users\\codyb\\.vscode\\Py\\COMP7970-Homework\\Lib\\site-packages\\sklearn\\svm\\_base.py:305: ConvergenceWarning: Solver terminated early (max_iter=250).  Consider pre-processing your data with StandardScaler or MinMaxScaler.\n",
      "  warnings.warn(\n"
     ]
    },
    {
     "name": "stdout",
     "output_type": "stream",
     "text": [
      "[Poly] max_iter: 250, C: 10, gamma: 100, degree: 2, class_weight: {1: 2, -1: 1} -> accuracy: 0.8765\n",
      "              precision    recall  f1-score   support\n",
      "\n",
      "          -1       0.88      1.00      0.93     44201\n",
      "           1       0.15      0.00      0.00      6199\n",
      "\n",
      "    accuracy                           0.88     50400\n",
      "   macro avg       0.52      0.50      0.47     50400\n",
      "weighted avg       0.79      0.88      0.82     50400\n",
      "\n"
     ]
    },
    {
     "name": "stderr",
     "output_type": "stream",
     "text": [
      "c:\\Users\\codyb\\.vscode\\Py\\COMP7970-Homework\\Lib\\site-packages\\sklearn\\svm\\_base.py:305: ConvergenceWarning: Solver terminated early (max_iter=250).  Consider pre-processing your data with StandardScaler or MinMaxScaler.\n",
      "  warnings.warn(\n"
     ]
    },
    {
     "name": "stdout",
     "output_type": "stream",
     "text": [
      "[Poly] max_iter: 250, C: 10, gamma: 100, degree: 3, class_weight: balanced -> accuracy: 0.8760\n",
      "              precision    recall  f1-score   support\n",
      "\n",
      "          -1       0.88      1.00      0.93     44201\n",
      "           1       0.15      0.00      0.00      6199\n",
      "\n",
      "    accuracy                           0.88     50400\n",
      "   macro avg       0.52      0.50      0.47     50400\n",
      "weighted avg       0.79      0.88      0.82     50400\n",
      "\n"
     ]
    },
    {
     "name": "stderr",
     "output_type": "stream",
     "text": [
      "c:\\Users\\codyb\\.vscode\\Py\\COMP7970-Homework\\Lib\\site-packages\\sklearn\\svm\\_base.py:305: ConvergenceWarning: Solver terminated early (max_iter=250).  Consider pre-processing your data with StandardScaler or MinMaxScaler.\n",
      "  warnings.warn(\n"
     ]
    },
    {
     "name": "stdout",
     "output_type": "stream",
     "text": [
      "[Poly] max_iter: 250, C: 10, gamma: 100, degree: 3, class_weight: {1: 3, -1: 1} -> accuracy: 0.8755\n",
      "              precision    recall  f1-score   support\n",
      "\n",
      "          -1       0.88      1.00      0.93     44201\n",
      "           1       0.13      0.00      0.00      6199\n",
      "\n",
      "    accuracy                           0.88     50400\n",
      "   macro avg       0.51      0.50      0.47     50400\n",
      "weighted avg       0.79      0.88      0.82     50400\n",
      "\n"
     ]
    },
    {
     "name": "stderr",
     "output_type": "stream",
     "text": [
      "c:\\Users\\codyb\\.vscode\\Py\\COMP7970-Homework\\Lib\\site-packages\\sklearn\\svm\\_base.py:305: ConvergenceWarning: Solver terminated early (max_iter=250).  Consider pre-processing your data with StandardScaler or MinMaxScaler.\n",
      "  warnings.warn(\n"
     ]
    },
    {
     "name": "stdout",
     "output_type": "stream",
     "text": [
      "[Poly] max_iter: 250, C: 10, gamma: 100, degree: 3, class_weight: {1: 2, -1: 1} -> accuracy: 0.8760\n",
      "              precision    recall  f1-score   support\n",
      "\n",
      "          -1       0.88      1.00      0.93     44201\n",
      "           1       0.10      0.00      0.00      6199\n",
      "\n",
      "    accuracy                           0.88     50400\n",
      "   macro avg       0.49      0.50      0.47     50400\n",
      "weighted avg       0.78      0.88      0.82     50400\n",
      "\n"
     ]
    },
    {
     "name": "stderr",
     "output_type": "stream",
     "text": [
      "c:\\Users\\codyb\\.vscode\\Py\\COMP7970-Homework\\Lib\\site-packages\\sklearn\\svm\\_base.py:305: ConvergenceWarning: Solver terminated early (max_iter=250).  Consider pre-processing your data with StandardScaler or MinMaxScaler.\n",
      "  warnings.warn(\n"
     ]
    },
    {
     "name": "stdout",
     "output_type": "stream",
     "text": [
      "[Poly] max_iter: 250, C: 10, gamma: 100, degree: 4, class_weight: balanced -> accuracy: 0.8770\n",
      "              precision    recall  f1-score   support\n",
      "\n",
      "          -1       0.88      1.00      0.93     44201\n",
      "           1       0.43      0.00      0.00      6199\n",
      "\n",
      "    accuracy                           0.88     50400\n",
      "   macro avg       0.65      0.50      0.47     50400\n",
      "weighted avg       0.82      0.88      0.82     50400\n",
      "\n"
     ]
    },
    {
     "name": "stderr",
     "output_type": "stream",
     "text": [
      "c:\\Users\\codyb\\.vscode\\Py\\COMP7970-Homework\\Lib\\site-packages\\sklearn\\svm\\_base.py:305: ConvergenceWarning: Solver terminated early (max_iter=250).  Consider pre-processing your data with StandardScaler or MinMaxScaler.\n",
      "  warnings.warn(\n"
     ]
    },
    {
     "name": "stdout",
     "output_type": "stream",
     "text": [
      "[Poly] max_iter: 250, C: 10, gamma: 100, degree: 4, class_weight: {1: 3, -1: 1} -> accuracy: 0.8770\n",
      "              precision    recall  f1-score   support\n",
      "\n",
      "          -1       0.88      1.00      0.93     44201\n",
      "           1       0.43      0.00      0.00      6199\n",
      "\n",
      "    accuracy                           0.88     50400\n",
      "   macro avg       0.65      0.50      0.47     50400\n",
      "weighted avg       0.82      0.88      0.82     50400\n",
      "\n"
     ]
    },
    {
     "name": "stderr",
     "output_type": "stream",
     "text": [
      "c:\\Users\\codyb\\.vscode\\Py\\COMP7970-Homework\\Lib\\site-packages\\sklearn\\svm\\_base.py:305: ConvergenceWarning: Solver terminated early (max_iter=250).  Consider pre-processing your data with StandardScaler or MinMaxScaler.\n",
      "  warnings.warn(\n"
     ]
    },
    {
     "name": "stdout",
     "output_type": "stream",
     "text": [
      "[Poly] max_iter: 250, C: 10, gamma: 100, degree: 4, class_weight: {1: 2, -1: 1} -> accuracy: 0.8770\n",
      "              precision    recall  f1-score   support\n",
      "\n",
      "          -1       0.88      1.00      0.93     44201\n",
      "           1       0.43      0.00      0.00      6199\n",
      "\n",
      "    accuracy                           0.88     50400\n",
      "   macro avg       0.65      0.50      0.47     50400\n",
      "weighted avg       0.82      0.88      0.82     50400\n",
      "\n"
     ]
    },
    {
     "name": "stderr",
     "output_type": "stream",
     "text": [
      "c:\\Users\\codyb\\.vscode\\Py\\COMP7970-Homework\\Lib\\site-packages\\sklearn\\svm\\_base.py:305: ConvergenceWarning: Solver terminated early (max_iter=250).  Consider pre-processing your data with StandardScaler or MinMaxScaler.\n",
      "  warnings.warn(\n"
     ]
    },
    {
     "name": "stdout",
     "output_type": "stream",
     "text": [
      "[Poly] max_iter: 250, C: 100, gamma: 0.001, degree: 2, class_weight: balanced -> accuracy: 0.8713\n",
      "              precision    recall  f1-score   support\n",
      "\n",
      "          -1       0.88      0.99      0.93     44201\n",
      "           1       0.18      0.01      0.02      6199\n",
      "\n",
      "    accuracy                           0.87     50400\n",
      "   macro avg       0.53      0.50      0.48     50400\n",
      "weighted avg       0.79      0.87      0.82     50400\n",
      "\n"
     ]
    },
    {
     "name": "stderr",
     "output_type": "stream",
     "text": [
      "c:\\Users\\codyb\\.vscode\\Py\\COMP7970-Homework\\Lib\\site-packages\\sklearn\\svm\\_base.py:305: ConvergenceWarning: Solver terminated early (max_iter=250).  Consider pre-processing your data with StandardScaler or MinMaxScaler.\n",
      "  warnings.warn(\n"
     ]
    },
    {
     "name": "stdout",
     "output_type": "stream",
     "text": [
      "[Poly] max_iter: 250, C: 100, gamma: 0.001, degree: 2, class_weight: {1: 3, -1: 1} -> accuracy: 0.1289\n",
      "              precision    recall  f1-score   support\n",
      "\n",
      "          -1       0.93      0.01      0.01     44201\n",
      "           1       0.12      1.00      0.22      6199\n",
      "\n",
      "    accuracy                           0.13     50400\n",
      "   macro avg       0.53      0.50      0.12     50400\n",
      "weighted avg       0.83      0.13      0.04     50400\n",
      "\n"
     ]
    },
    {
     "name": "stderr",
     "output_type": "stream",
     "text": [
      "c:\\Users\\codyb\\.vscode\\Py\\COMP7970-Homework\\Lib\\site-packages\\sklearn\\svm\\_base.py:305: ConvergenceWarning: Solver terminated early (max_iter=250).  Consider pre-processing your data with StandardScaler or MinMaxScaler.\n",
      "  warnings.warn(\n"
     ]
    },
    {
     "name": "stdout",
     "output_type": "stream",
     "text": [
      "[Poly] max_iter: 250, C: 100, gamma: 0.001, degree: 2, class_weight: {1: 2, -1: 1} -> accuracy: 0.8769\n",
      "              precision    recall  f1-score   support\n",
      "\n",
      "          -1       0.88      1.00      0.93     44201\n",
      "           1       0.47      0.01      0.01      6199\n",
      "\n",
      "    accuracy                           0.88     50400\n",
      "   macro avg       0.67      0.50      0.47     50400\n",
      "weighted avg       0.83      0.88      0.82     50400\n",
      "\n"
     ]
    },
    {
     "name": "stderr",
     "output_type": "stream",
     "text": [
      "c:\\Users\\codyb\\.vscode\\Py\\COMP7970-Homework\\Lib\\site-packages\\sklearn\\svm\\_base.py:305: ConvergenceWarning: Solver terminated early (max_iter=250).  Consider pre-processing your data with StandardScaler or MinMaxScaler.\n",
      "  warnings.warn(\n"
     ]
    },
    {
     "name": "stdout",
     "output_type": "stream",
     "text": [
      "[Poly] max_iter: 250, C: 100, gamma: 0.001, degree: 3, class_weight: balanced -> accuracy: 0.1259\n",
      "              precision    recall  f1-score   support\n",
      "\n",
      "          -1       0.98      0.00      0.01     44201\n",
      "           1       0.12      1.00      0.22      6199\n",
      "\n",
      "    accuracy                           0.13     50400\n",
      "   macro avg       0.55      0.50      0.11     50400\n",
      "weighted avg       0.87      0.13      0.03     50400\n",
      "\n"
     ]
    },
    {
     "name": "stderr",
     "output_type": "stream",
     "text": [
      "c:\\Users\\codyb\\.vscode\\Py\\COMP7970-Homework\\Lib\\site-packages\\sklearn\\svm\\_base.py:305: ConvergenceWarning: Solver terminated early (max_iter=250).  Consider pre-processing your data with StandardScaler or MinMaxScaler.\n",
      "  warnings.warn(\n"
     ]
    },
    {
     "name": "stdout",
     "output_type": "stream",
     "text": [
      "[Poly] max_iter: 250, C: 100, gamma: 0.001, degree: 3, class_weight: {1: 3, -1: 1} -> accuracy: 0.1292\n",
      "              precision    recall  f1-score   support\n",
      "\n",
      "          -1       0.98      0.01      0.01     44201\n",
      "           1       0.12      1.00      0.22      6199\n",
      "\n",
      "    accuracy                           0.13     50400\n",
      "   macro avg       0.55      0.50      0.12     50400\n",
      "weighted avg       0.87      0.13      0.04     50400\n",
      "\n"
     ]
    },
    {
     "name": "stderr",
     "output_type": "stream",
     "text": [
      "c:\\Users\\codyb\\.vscode\\Py\\COMP7970-Homework\\Lib\\site-packages\\sklearn\\svm\\_base.py:305: ConvergenceWarning: Solver terminated early (max_iter=250).  Consider pre-processing your data with StandardScaler or MinMaxScaler.\n",
      "  warnings.warn(\n"
     ]
    },
    {
     "name": "stdout",
     "output_type": "stream",
     "text": [
      "[Poly] max_iter: 250, C: 100, gamma: 0.001, degree: 3, class_weight: {1: 2, -1: 1} -> accuracy: 0.1263\n",
      "              precision    recall  f1-score   support\n",
      "\n",
      "          -1       0.96      0.00      0.01     44201\n",
      "           1       0.12      1.00      0.22      6199\n",
      "\n",
      "    accuracy                           0.13     50400\n",
      "   macro avg       0.54      0.50      0.11     50400\n",
      "weighted avg       0.86      0.13      0.03     50400\n",
      "\n"
     ]
    },
    {
     "name": "stderr",
     "output_type": "stream",
     "text": [
      "c:\\Users\\codyb\\.vscode\\Py\\COMP7970-Homework\\Lib\\site-packages\\sklearn\\svm\\_base.py:305: ConvergenceWarning: Solver terminated early (max_iter=250).  Consider pre-processing your data with StandardScaler or MinMaxScaler.\n",
      "  warnings.warn(\n"
     ]
    },
    {
     "name": "stdout",
     "output_type": "stream",
     "text": [
      "[Poly] max_iter: 250, C: 100, gamma: 0.001, degree: 4, class_weight: balanced -> accuracy: 0.1255\n",
      "              precision    recall  f1-score   support\n",
      "\n",
      "          -1       0.97      0.00      0.01     44201\n",
      "           1       0.12      1.00      0.22      6199\n",
      "\n",
      "    accuracy                           0.13     50400\n",
      "   macro avg       0.55      0.50      0.11     50400\n",
      "weighted avg       0.87      0.13      0.03     50400\n",
      "\n"
     ]
    },
    {
     "name": "stderr",
     "output_type": "stream",
     "text": [
      "c:\\Users\\codyb\\.vscode\\Py\\COMP7970-Homework\\Lib\\site-packages\\sklearn\\svm\\_base.py:305: ConvergenceWarning: Solver terminated early (max_iter=250).  Consider pre-processing your data with StandardScaler or MinMaxScaler.\n",
      "  warnings.warn(\n"
     ]
    },
    {
     "name": "stdout",
     "output_type": "stream",
     "text": [
      "[Poly] max_iter: 250, C: 100, gamma: 0.001, degree: 4, class_weight: {1: 3, -1: 1} -> accuracy: 0.1261\n",
      "              precision    recall  f1-score   support\n",
      "\n",
      "          -1       0.95      0.00      0.01     44201\n",
      "           1       0.12      1.00      0.22      6199\n",
      "\n",
      "    accuracy                           0.13     50400\n",
      "   macro avg       0.54      0.50      0.11     50400\n",
      "weighted avg       0.85      0.13      0.03     50400\n",
      "\n"
     ]
    },
    {
     "name": "stderr",
     "output_type": "stream",
     "text": [
      "c:\\Users\\codyb\\.vscode\\Py\\COMP7970-Homework\\Lib\\site-packages\\sklearn\\svm\\_base.py:305: ConvergenceWarning: Solver terminated early (max_iter=250).  Consider pre-processing your data with StandardScaler or MinMaxScaler.\n",
      "  warnings.warn(\n"
     ]
    },
    {
     "name": "stdout",
     "output_type": "stream",
     "text": [
      "[Poly] max_iter: 250, C: 100, gamma: 0.001, degree: 4, class_weight: {1: 2, -1: 1} -> accuracy: 0.1260\n",
      "              precision    recall  f1-score   support\n",
      "\n",
      "          -1       0.95      0.00      0.01     44201\n",
      "           1       0.12      1.00      0.22      6199\n",
      "\n",
      "    accuracy                           0.13     50400\n",
      "   macro avg       0.54      0.50      0.11     50400\n",
      "weighted avg       0.85      0.13      0.03     50400\n",
      "\n"
     ]
    },
    {
     "name": "stderr",
     "output_type": "stream",
     "text": [
      "c:\\Users\\codyb\\.vscode\\Py\\COMP7970-Homework\\Lib\\site-packages\\sklearn\\svm\\_base.py:305: ConvergenceWarning: Solver terminated early (max_iter=250).  Consider pre-processing your data with StandardScaler or MinMaxScaler.\n",
      "  warnings.warn(\n"
     ]
    },
    {
     "name": "stdout",
     "output_type": "stream",
     "text": [
      "[Poly] max_iter: 250, C: 100, gamma: 0.01, degree: 2, class_weight: balanced -> accuracy: 0.8632\n",
      "              precision    recall  f1-score   support\n",
      "\n",
      "          -1       0.88      0.98      0.93     44201\n",
      "           1       0.16      0.03      0.05      6199\n",
      "\n",
      "    accuracy                           0.86     50400\n",
      "   macro avg       0.52      0.50      0.49     50400\n",
      "weighted avg       0.79      0.86      0.82     50400\n",
      "\n"
     ]
    },
    {
     "name": "stderr",
     "output_type": "stream",
     "text": [
      "c:\\Users\\codyb\\.vscode\\Py\\COMP7970-Homework\\Lib\\site-packages\\sklearn\\svm\\_base.py:305: ConvergenceWarning: Solver terminated early (max_iter=250).  Consider pre-processing your data with StandardScaler or MinMaxScaler.\n",
      "  warnings.warn(\n"
     ]
    },
    {
     "name": "stdout",
     "output_type": "stream",
     "text": [
      "[Poly] max_iter: 250, C: 100, gamma: 0.01, degree: 2, class_weight: {1: 3, -1: 1} -> accuracy: 0.1558\n",
      "              precision    recall  f1-score   support\n",
      "\n",
      "          -1       0.89      0.04      0.08     44201\n",
      "           1       0.12      0.96      0.22      6199\n",
      "\n",
      "    accuracy                           0.16     50400\n",
      "   macro avg       0.51      0.50      0.15     50400\n",
      "weighted avg       0.80      0.16      0.10     50400\n",
      "\n"
     ]
    },
    {
     "name": "stderr",
     "output_type": "stream",
     "text": [
      "c:\\Users\\codyb\\.vscode\\Py\\COMP7970-Homework\\Lib\\site-packages\\sklearn\\svm\\_base.py:305: ConvergenceWarning: Solver terminated early (max_iter=250).  Consider pre-processing your data with StandardScaler or MinMaxScaler.\n",
      "  warnings.warn(\n"
     ]
    },
    {
     "name": "stdout",
     "output_type": "stream",
     "text": [
      "[Poly] max_iter: 250, C: 100, gamma: 0.01, degree: 2, class_weight: {1: 2, -1: 1} -> accuracy: 0.3869\n",
      "              precision    recall  f1-score   support\n",
      "\n",
      "          -1       0.88      0.35      0.50     44201\n",
      "           1       0.13      0.67      0.21      6199\n",
      "\n",
      "    accuracy                           0.39     50400\n",
      "   macro avg       0.50      0.51      0.35     50400\n",
      "weighted avg       0.79      0.39      0.46     50400\n",
      "\n"
     ]
    },
    {
     "name": "stderr",
     "output_type": "stream",
     "text": [
      "c:\\Users\\codyb\\.vscode\\Py\\COMP7970-Homework\\Lib\\site-packages\\sklearn\\svm\\_base.py:305: ConvergenceWarning: Solver terminated early (max_iter=250).  Consider pre-processing your data with StandardScaler or MinMaxScaler.\n",
      "  warnings.warn(\n"
     ]
    },
    {
     "name": "stdout",
     "output_type": "stream",
     "text": [
      "[Poly] max_iter: 250, C: 100, gamma: 0.01, degree: 3, class_weight: balanced -> accuracy: 0.1316\n",
      "              precision    recall  f1-score   support\n",
      "\n",
      "          -1       0.95      0.01      0.02     44201\n",
      "           1       0.12      1.00      0.22      6199\n",
      "\n",
      "    accuracy                           0.13     50400\n",
      "   macro avg       0.54      0.50      0.12     50400\n",
      "weighted avg       0.85      0.13      0.05     50400\n",
      "\n"
     ]
    },
    {
     "name": "stderr",
     "output_type": "stream",
     "text": [
      "c:\\Users\\codyb\\.vscode\\Py\\COMP7970-Homework\\Lib\\site-packages\\sklearn\\svm\\_base.py:305: ConvergenceWarning: Solver terminated early (max_iter=250).  Consider pre-processing your data with StandardScaler or MinMaxScaler.\n",
      "  warnings.warn(\n"
     ]
    },
    {
     "name": "stdout",
     "output_type": "stream",
     "text": [
      "[Poly] max_iter: 250, C: 100, gamma: 0.01, degree: 3, class_weight: {1: 3, -1: 1} -> accuracy: 0.1278\n",
      "              precision    recall  f1-score   support\n",
      "\n",
      "          -1       0.97      0.01      0.01     44201\n",
      "           1       0.12      1.00      0.22      6199\n",
      "\n",
      "    accuracy                           0.13     50400\n",
      "   macro avg       0.54      0.50      0.12     50400\n",
      "weighted avg       0.86      0.13      0.04     50400\n",
      "\n"
     ]
    },
    {
     "name": "stderr",
     "output_type": "stream",
     "text": [
      "c:\\Users\\codyb\\.vscode\\Py\\COMP7970-Homework\\Lib\\site-packages\\sklearn\\svm\\_base.py:305: ConvergenceWarning: Solver terminated early (max_iter=250).  Consider pre-processing your data with StandardScaler or MinMaxScaler.\n",
      "  warnings.warn(\n"
     ]
    },
    {
     "name": "stdout",
     "output_type": "stream",
     "text": [
      "[Poly] max_iter: 250, C: 100, gamma: 0.01, degree: 3, class_weight: {1: 2, -1: 1} -> accuracy: 0.1292\n",
      "              precision    recall  f1-score   support\n",
      "\n",
      "          -1       0.94      0.01      0.02     44201\n",
      "           1       0.12      1.00      0.22      6199\n",
      "\n",
      "    accuracy                           0.13     50400\n",
      "   macro avg       0.53      0.50      0.12     50400\n",
      "weighted avg       0.84      0.13      0.04     50400\n",
      "\n"
     ]
    },
    {
     "name": "stderr",
     "output_type": "stream",
     "text": [
      "c:\\Users\\codyb\\.vscode\\Py\\COMP7970-Homework\\Lib\\site-packages\\sklearn\\svm\\_base.py:305: ConvergenceWarning: Solver terminated early (max_iter=250).  Consider pre-processing your data with StandardScaler or MinMaxScaler.\n",
      "  warnings.warn(\n"
     ]
    },
    {
     "name": "stdout",
     "output_type": "stream",
     "text": [
      "[Poly] max_iter: 250, C: 100, gamma: 0.01, degree: 4, class_weight: balanced -> accuracy: 0.1291\n",
      "              precision    recall  f1-score   support\n",
      "\n",
      "          -1       0.96      0.01      0.01     44201\n",
      "           1       0.12      1.00      0.22      6199\n",
      "\n",
      "    accuracy                           0.13     50400\n",
      "   macro avg       0.54      0.50      0.12     50400\n",
      "weighted avg       0.86      0.13      0.04     50400\n",
      "\n"
     ]
    },
    {
     "name": "stderr",
     "output_type": "stream",
     "text": [
      "c:\\Users\\codyb\\.vscode\\Py\\COMP7970-Homework\\Lib\\site-packages\\sklearn\\svm\\_base.py:305: ConvergenceWarning: Solver terminated early (max_iter=250).  Consider pre-processing your data with StandardScaler or MinMaxScaler.\n",
      "  warnings.warn(\n"
     ]
    },
    {
     "name": "stdout",
     "output_type": "stream",
     "text": [
      "[Poly] max_iter: 250, C: 100, gamma: 0.01, degree: 4, class_weight: {1: 3, -1: 1} -> accuracy: 0.1353\n",
      "              precision    recall  f1-score   support\n",
      "\n",
      "          -1       0.92      0.02      0.03     44201\n",
      "           1       0.12      0.99      0.22      6199\n",
      "\n",
      "    accuracy                           0.14     50400\n",
      "   macro avg       0.52      0.50      0.13     50400\n",
      "weighted avg       0.82      0.14      0.05     50400\n",
      "\n"
     ]
    },
    {
     "name": "stderr",
     "output_type": "stream",
     "text": [
      "c:\\Users\\codyb\\.vscode\\Py\\COMP7970-Homework\\Lib\\site-packages\\sklearn\\svm\\_base.py:305: ConvergenceWarning: Solver terminated early (max_iter=250).  Consider pre-processing your data with StandardScaler or MinMaxScaler.\n",
      "  warnings.warn(\n"
     ]
    },
    {
     "name": "stdout",
     "output_type": "stream",
     "text": [
      "[Poly] max_iter: 250, C: 100, gamma: 0.01, degree: 4, class_weight: {1: 2, -1: 1} -> accuracy: 0.1278\n",
      "              precision    recall  f1-score   support\n",
      "\n",
      "          -1       0.92      0.01      0.01     44201\n",
      "           1       0.12      1.00      0.22      6199\n",
      "\n",
      "    accuracy                           0.13     50400\n",
      "   macro avg       0.52      0.50      0.12     50400\n",
      "weighted avg       0.82      0.13      0.04     50400\n",
      "\n"
     ]
    },
    {
     "name": "stderr",
     "output_type": "stream",
     "text": [
      "c:\\Users\\codyb\\.vscode\\Py\\COMP7970-Homework\\Lib\\site-packages\\sklearn\\svm\\_base.py:305: ConvergenceWarning: Solver terminated early (max_iter=250).  Consider pre-processing your data with StandardScaler or MinMaxScaler.\n",
      "  warnings.warn(\n"
     ]
    },
    {
     "name": "stdout",
     "output_type": "stream",
     "text": [
      "[Poly] max_iter: 250, C: 100, gamma: 0.1, degree: 2, class_weight: balanced -> accuracy: 0.5211\n",
      "              precision    recall  f1-score   support\n",
      "\n",
      "          -1       0.88      0.53      0.66     44201\n",
      "           1       0.13      0.49      0.20      6199\n",
      "\n",
      "    accuracy                           0.52     50400\n",
      "   macro avg       0.50      0.51      0.43     50400\n",
      "weighted avg       0.79      0.52      0.60     50400\n",
      "\n"
     ]
    },
    {
     "name": "stderr",
     "output_type": "stream",
     "text": [
      "c:\\Users\\codyb\\.vscode\\Py\\COMP7970-Homework\\Lib\\site-packages\\sklearn\\svm\\_base.py:305: ConvergenceWarning: Solver terminated early (max_iter=250).  Consider pre-processing your data with StandardScaler or MinMaxScaler.\n",
      "  warnings.warn(\n"
     ]
    },
    {
     "name": "stdout",
     "output_type": "stream",
     "text": [
      "[Poly] max_iter: 250, C: 100, gamma: 0.1, degree: 2, class_weight: {1: 3, -1: 1} -> accuracy: 0.4497\n",
      "              precision    recall  f1-score   support\n",
      "\n",
      "          -1       0.88      0.43      0.58     44201\n",
      "           1       0.12      0.58      0.21      6199\n",
      "\n",
      "    accuracy                           0.45     50400\n",
      "   macro avg       0.50      0.50      0.39     50400\n",
      "weighted avg       0.79      0.45      0.53     50400\n",
      "\n"
     ]
    },
    {
     "name": "stderr",
     "output_type": "stream",
     "text": [
      "c:\\Users\\codyb\\.vscode\\Py\\COMP7970-Homework\\Lib\\site-packages\\sklearn\\svm\\_base.py:305: ConvergenceWarning: Solver terminated early (max_iter=250).  Consider pre-processing your data with StandardScaler or MinMaxScaler.\n",
      "  warnings.warn(\n"
     ]
    },
    {
     "name": "stdout",
     "output_type": "stream",
     "text": [
      "[Poly] max_iter: 250, C: 100, gamma: 0.1, degree: 2, class_weight: {1: 2, -1: 1} -> accuracy: 0.1455\n",
      "              precision    recall  f1-score   support\n",
      "\n",
      "          -1       0.88      0.03      0.06     44201\n",
      "           1       0.12      0.97      0.22      6199\n",
      "\n",
      "    accuracy                           0.15     50400\n",
      "   macro avg       0.50      0.50      0.14     50400\n",
      "weighted avg       0.79      0.15      0.08     50400\n",
      "\n"
     ]
    },
    {
     "name": "stderr",
     "output_type": "stream",
     "text": [
      "c:\\Users\\codyb\\.vscode\\Py\\COMP7970-Homework\\Lib\\site-packages\\sklearn\\svm\\_base.py:305: ConvergenceWarning: Solver terminated early (max_iter=250).  Consider pre-processing your data with StandardScaler or MinMaxScaler.\n",
      "  warnings.warn(\n"
     ]
    },
    {
     "name": "stdout",
     "output_type": "stream",
     "text": [
      "[Poly] max_iter: 250, C: 100, gamma: 0.1, degree: 3, class_weight: balanced -> accuracy: 0.1316\n",
      "              precision    recall  f1-score   support\n",
      "\n",
      "          -1       0.95      0.01      0.02     44201\n",
      "           1       0.12      1.00      0.22      6199\n",
      "\n",
      "    accuracy                           0.13     50400\n",
      "   macro avg       0.54      0.50      0.12     50400\n",
      "weighted avg       0.85      0.13      0.05     50400\n",
      "\n"
     ]
    },
    {
     "name": "stderr",
     "output_type": "stream",
     "text": [
      "c:\\Users\\codyb\\.vscode\\Py\\COMP7970-Homework\\Lib\\site-packages\\sklearn\\svm\\_base.py:305: ConvergenceWarning: Solver terminated early (max_iter=250).  Consider pre-processing your data with StandardScaler or MinMaxScaler.\n",
      "  warnings.warn(\n"
     ]
    },
    {
     "name": "stdout",
     "output_type": "stream",
     "text": [
      "[Poly] max_iter: 250, C: 100, gamma: 0.1, degree: 3, class_weight: {1: 3, -1: 1} -> accuracy: 0.1278\n",
      "              precision    recall  f1-score   support\n",
      "\n",
      "          -1       0.97      0.01      0.01     44201\n",
      "           1       0.12      1.00      0.22      6199\n",
      "\n",
      "    accuracy                           0.13     50400\n",
      "   macro avg       0.54      0.50      0.12     50400\n",
      "weighted avg       0.86      0.13      0.04     50400\n",
      "\n"
     ]
    },
    {
     "name": "stderr",
     "output_type": "stream",
     "text": [
      "c:\\Users\\codyb\\.vscode\\Py\\COMP7970-Homework\\Lib\\site-packages\\sklearn\\svm\\_base.py:305: ConvergenceWarning: Solver terminated early (max_iter=250).  Consider pre-processing your data with StandardScaler or MinMaxScaler.\n",
      "  warnings.warn(\n"
     ]
    },
    {
     "name": "stdout",
     "output_type": "stream",
     "text": [
      "[Poly] max_iter: 250, C: 100, gamma: 0.1, degree: 3, class_weight: {1: 2, -1: 1} -> accuracy: 0.1288\n",
      "              precision    recall  f1-score   support\n",
      "\n",
      "          -1       0.97      0.01      0.01     44201\n",
      "           1       0.12      1.00      0.22      6199\n",
      "\n",
      "    accuracy                           0.13     50400\n",
      "   macro avg       0.55      0.50      0.12     50400\n",
      "weighted avg       0.86      0.13      0.04     50400\n",
      "\n"
     ]
    },
    {
     "name": "stderr",
     "output_type": "stream",
     "text": [
      "c:\\Users\\codyb\\.vscode\\Py\\COMP7970-Homework\\Lib\\site-packages\\sklearn\\svm\\_base.py:305: ConvergenceWarning: Solver terminated early (max_iter=250).  Consider pre-processing your data with StandardScaler or MinMaxScaler.\n",
      "  warnings.warn(\n"
     ]
    },
    {
     "name": "stdout",
     "output_type": "stream",
     "text": [
      "[Poly] max_iter: 250, C: 100, gamma: 0.1, degree: 4, class_weight: balanced -> accuracy: 0.1279\n",
      "              precision    recall  f1-score   support\n",
      "\n",
      "          -1       0.95      0.01      0.01     44201\n",
      "           1       0.12      1.00      0.22      6199\n",
      "\n",
      "    accuracy                           0.13     50400\n",
      "   macro avg       0.54      0.50      0.12     50400\n",
      "weighted avg       0.85      0.13      0.04     50400\n",
      "\n"
     ]
    },
    {
     "name": "stderr",
     "output_type": "stream",
     "text": [
      "c:\\Users\\codyb\\.vscode\\Py\\COMP7970-Homework\\Lib\\site-packages\\sklearn\\svm\\_base.py:305: ConvergenceWarning: Solver terminated early (max_iter=250).  Consider pre-processing your data with StandardScaler or MinMaxScaler.\n",
      "  warnings.warn(\n"
     ]
    },
    {
     "name": "stdout",
     "output_type": "stream",
     "text": [
      "[Poly] max_iter: 250, C: 100, gamma: 0.1, degree: 4, class_weight: {1: 3, -1: 1} -> accuracy: 0.1287\n",
      "              precision    recall  f1-score   support\n",
      "\n",
      "          -1       0.92      0.01      0.01     44201\n",
      "           1       0.12      1.00      0.22      6199\n",
      "\n",
      "    accuracy                           0.13     50400\n",
      "   macro avg       0.52      0.50      0.12     50400\n",
      "weighted avg       0.82      0.13      0.04     50400\n",
      "\n"
     ]
    },
    {
     "name": "stderr",
     "output_type": "stream",
     "text": [
      "c:\\Users\\codyb\\.vscode\\Py\\COMP7970-Homework\\Lib\\site-packages\\sklearn\\svm\\_base.py:305: ConvergenceWarning: Solver terminated early (max_iter=250).  Consider pre-processing your data with StandardScaler or MinMaxScaler.\n",
      "  warnings.warn(\n"
     ]
    },
    {
     "name": "stdout",
     "output_type": "stream",
     "text": [
      "[Poly] max_iter: 250, C: 100, gamma: 0.1, degree: 4, class_weight: {1: 2, -1: 1} -> accuracy: 0.1267\n",
      "              precision    recall  f1-score   support\n",
      "\n",
      "          -1       0.93      0.00      0.01     44201\n",
      "           1       0.12      1.00      0.22      6199\n",
      "\n",
      "    accuracy                           0.13     50400\n",
      "   macro avg       0.52      0.50      0.11     50400\n",
      "weighted avg       0.83      0.13      0.03     50400\n",
      "\n"
     ]
    },
    {
     "name": "stderr",
     "output_type": "stream",
     "text": [
      "c:\\Users\\codyb\\.vscode\\Py\\COMP7970-Homework\\Lib\\site-packages\\sklearn\\svm\\_base.py:305: ConvergenceWarning: Solver terminated early (max_iter=250).  Consider pre-processing your data with StandardScaler or MinMaxScaler.\n",
      "  warnings.warn(\n"
     ]
    },
    {
     "name": "stdout",
     "output_type": "stream",
     "text": [
      "[Poly] max_iter: 250, C: 100, gamma: 1, degree: 2, class_weight: balanced -> accuracy: 0.5211\n",
      "              precision    recall  f1-score   support\n",
      "\n",
      "          -1       0.88      0.53      0.66     44201\n",
      "           1       0.13      0.49      0.20      6199\n",
      "\n",
      "    accuracy                           0.52     50400\n",
      "   macro avg       0.50      0.51      0.43     50400\n",
      "weighted avg       0.79      0.52      0.60     50400\n",
      "\n"
     ]
    },
    {
     "name": "stderr",
     "output_type": "stream",
     "text": [
      "c:\\Users\\codyb\\.vscode\\Py\\COMP7970-Homework\\Lib\\site-packages\\sklearn\\svm\\_base.py:305: ConvergenceWarning: Solver terminated early (max_iter=250).  Consider pre-processing your data with StandardScaler or MinMaxScaler.\n",
      "  warnings.warn(\n"
     ]
    },
    {
     "name": "stdout",
     "output_type": "stream",
     "text": [
      "[Poly] max_iter: 250, C: 100, gamma: 1, degree: 2, class_weight: {1: 3, -1: 1} -> accuracy: 0.4497\n",
      "              precision    recall  f1-score   support\n",
      "\n",
      "          -1       0.88      0.43      0.58     44201\n",
      "           1       0.12      0.58      0.21      6199\n",
      "\n",
      "    accuracy                           0.45     50400\n",
      "   macro avg       0.50      0.50      0.39     50400\n",
      "weighted avg       0.79      0.45      0.53     50400\n",
      "\n"
     ]
    },
    {
     "name": "stderr",
     "output_type": "stream",
     "text": [
      "c:\\Users\\codyb\\.vscode\\Py\\COMP7970-Homework\\Lib\\site-packages\\sklearn\\svm\\_base.py:305: ConvergenceWarning: Solver terminated early (max_iter=250).  Consider pre-processing your data with StandardScaler or MinMaxScaler.\n",
      "  warnings.warn(\n"
     ]
    },
    {
     "name": "stdout",
     "output_type": "stream",
     "text": [
      "[Poly] max_iter: 250, C: 100, gamma: 1, degree: 2, class_weight: {1: 2, -1: 1} -> accuracy: 0.1455\n",
      "              precision    recall  f1-score   support\n",
      "\n",
      "          -1       0.88      0.03      0.06     44201\n",
      "           1       0.12      0.97      0.22      6199\n",
      "\n",
      "    accuracy                           0.15     50400\n",
      "   macro avg       0.50      0.50      0.14     50400\n",
      "weighted avg       0.79      0.15      0.08     50400\n",
      "\n"
     ]
    },
    {
     "name": "stderr",
     "output_type": "stream",
     "text": [
      "c:\\Users\\codyb\\.vscode\\Py\\COMP7970-Homework\\Lib\\site-packages\\sklearn\\svm\\_base.py:305: ConvergenceWarning: Solver terminated early (max_iter=250).  Consider pre-processing your data with StandardScaler or MinMaxScaler.\n",
      "  warnings.warn(\n"
     ]
    },
    {
     "name": "stdout",
     "output_type": "stream",
     "text": [
      "[Poly] max_iter: 250, C: 100, gamma: 1, degree: 3, class_weight: balanced -> accuracy: 0.8766\n",
      "              precision    recall  f1-score   support\n",
      "\n",
      "          -1       0.88      1.00      0.93     44201\n",
      "           1       0.24      0.00      0.00      6199\n",
      "\n",
      "    accuracy                           0.88     50400\n",
      "   macro avg       0.56      0.50      0.47     50400\n",
      "weighted avg       0.80      0.88      0.82     50400\n",
      "\n"
     ]
    },
    {
     "name": "stderr",
     "output_type": "stream",
     "text": [
      "c:\\Users\\codyb\\.vscode\\Py\\COMP7970-Homework\\Lib\\site-packages\\sklearn\\svm\\_base.py:305: ConvergenceWarning: Solver terminated early (max_iter=250).  Consider pre-processing your data with StandardScaler or MinMaxScaler.\n",
      "  warnings.warn(\n"
     ]
    },
    {
     "name": "stdout",
     "output_type": "stream",
     "text": [
      "[Poly] max_iter: 250, C: 100, gamma: 1, degree: 3, class_weight: {1: 3, -1: 1} -> accuracy: 0.8766\n",
      "              precision    recall  f1-score   support\n",
      "\n",
      "          -1       0.88      1.00      0.93     44201\n",
      "           1       0.24      0.00      0.00      6199\n",
      "\n",
      "    accuracy                           0.88     50400\n",
      "   macro avg       0.56      0.50      0.47     50400\n",
      "weighted avg       0.80      0.88      0.82     50400\n",
      "\n"
     ]
    },
    {
     "name": "stderr",
     "output_type": "stream",
     "text": [
      "c:\\Users\\codyb\\.vscode\\Py\\COMP7970-Homework\\Lib\\site-packages\\sklearn\\svm\\_base.py:305: ConvergenceWarning: Solver terminated early (max_iter=250).  Consider pre-processing your data with StandardScaler or MinMaxScaler.\n",
      "  warnings.warn(\n"
     ]
    },
    {
     "name": "stdout",
     "output_type": "stream",
     "text": [
      "[Poly] max_iter: 250, C: 100, gamma: 1, degree: 3, class_weight: {1: 2, -1: 1} -> accuracy: 0.8761\n",
      "              precision    recall  f1-score   support\n",
      "\n",
      "          -1       0.88      1.00      0.93     44201\n",
      "           1       0.16      0.00      0.00      6199\n",
      "\n",
      "    accuracy                           0.88     50400\n",
      "   macro avg       0.52      0.50      0.47     50400\n",
      "weighted avg       0.79      0.88      0.82     50400\n",
      "\n"
     ]
    },
    {
     "name": "stderr",
     "output_type": "stream",
     "text": [
      "c:\\Users\\codyb\\.vscode\\Py\\COMP7970-Homework\\Lib\\site-packages\\sklearn\\svm\\_base.py:305: ConvergenceWarning: Solver terminated early (max_iter=250).  Consider pre-processing your data with StandardScaler or MinMaxScaler.\n",
      "  warnings.warn(\n"
     ]
    },
    {
     "name": "stdout",
     "output_type": "stream",
     "text": [
      "[Poly] max_iter: 250, C: 100, gamma: 1, degree: 4, class_weight: balanced -> accuracy: 0.1291\n",
      "              precision    recall  f1-score   support\n",
      "\n",
      "          -1       0.91      0.01      0.02     44201\n",
      "           1       0.12      0.99      0.22      6199\n",
      "\n",
      "    accuracy                           0.13     50400\n",
      "   macro avg       0.52      0.50      0.12     50400\n",
      "weighted avg       0.81      0.13      0.04     50400\n",
      "\n"
     ]
    },
    {
     "name": "stderr",
     "output_type": "stream",
     "text": [
      "c:\\Users\\codyb\\.vscode\\Py\\COMP7970-Homework\\Lib\\site-packages\\sklearn\\svm\\_base.py:305: ConvergenceWarning: Solver terminated early (max_iter=250).  Consider pre-processing your data with StandardScaler or MinMaxScaler.\n",
      "  warnings.warn(\n"
     ]
    },
    {
     "name": "stdout",
     "output_type": "stream",
     "text": [
      "[Poly] max_iter: 250, C: 100, gamma: 1, degree: 4, class_weight: {1: 3, -1: 1} -> accuracy: 0.1291\n",
      "              precision    recall  f1-score   support\n",
      "\n",
      "          -1       0.91      0.01      0.02     44201\n",
      "           1       0.12      0.99      0.22      6199\n",
      "\n",
      "    accuracy                           0.13     50400\n",
      "   macro avg       0.52      0.50      0.12     50400\n",
      "weighted avg       0.81      0.13      0.04     50400\n",
      "\n"
     ]
    },
    {
     "name": "stderr",
     "output_type": "stream",
     "text": [
      "c:\\Users\\codyb\\.vscode\\Py\\COMP7970-Homework\\Lib\\site-packages\\sklearn\\svm\\_base.py:305: ConvergenceWarning: Solver terminated early (max_iter=250).  Consider pre-processing your data with StandardScaler or MinMaxScaler.\n",
      "  warnings.warn(\n"
     ]
    },
    {
     "name": "stdout",
     "output_type": "stream",
     "text": [
      "[Poly] max_iter: 250, C: 100, gamma: 1, degree: 4, class_weight: {1: 2, -1: 1} -> accuracy: 0.8762\n",
      "              precision    recall  f1-score   support\n",
      "\n",
      "          -1       0.88      1.00      0.93     44201\n",
      "           1       0.21      0.00      0.00      6199\n",
      "\n",
      "    accuracy                           0.88     50400\n",
      "   macro avg       0.54      0.50      0.47     50400\n",
      "weighted avg       0.79      0.88      0.82     50400\n",
      "\n"
     ]
    },
    {
     "name": "stderr",
     "output_type": "stream",
     "text": [
      "c:\\Users\\codyb\\.vscode\\Py\\COMP7970-Homework\\Lib\\site-packages\\sklearn\\svm\\_base.py:305: ConvergenceWarning: Solver terminated early (max_iter=250).  Consider pre-processing your data with StandardScaler or MinMaxScaler.\n",
      "  warnings.warn(\n"
     ]
    },
    {
     "name": "stdout",
     "output_type": "stream",
     "text": [
      "[Poly] max_iter: 250, C: 100, gamma: 5, degree: 2, class_weight: balanced -> accuracy: 0.8766\n",
      "              precision    recall  f1-score   support\n",
      "\n",
      "          -1       0.88      1.00      0.93     44201\n",
      "           1       0.13      0.00      0.00      6199\n",
      "\n",
      "    accuracy                           0.88     50400\n",
      "   macro avg       0.51      0.50      0.47     50400\n",
      "weighted avg       0.79      0.88      0.82     50400\n",
      "\n"
     ]
    },
    {
     "name": "stderr",
     "output_type": "stream",
     "text": [
      "c:\\Users\\codyb\\.vscode\\Py\\COMP7970-Homework\\Lib\\site-packages\\sklearn\\svm\\_base.py:305: ConvergenceWarning: Solver terminated early (max_iter=250).  Consider pre-processing your data with StandardScaler or MinMaxScaler.\n",
      "  warnings.warn(\n"
     ]
    },
    {
     "name": "stdout",
     "output_type": "stream",
     "text": [
      "[Poly] max_iter: 250, C: 100, gamma: 5, degree: 2, class_weight: {1: 3, -1: 1} -> accuracy: 0.8770\n",
      "              precision    recall  f1-score   support\n",
      "\n",
      "          -1       0.88      1.00      0.93     44201\n",
      "           1       0.43      0.00      0.00      6199\n",
      "\n",
      "    accuracy                           0.88     50400\n",
      "   macro avg       0.65      0.50      0.47     50400\n",
      "weighted avg       0.82      0.88      0.82     50400\n",
      "\n"
     ]
    },
    {
     "name": "stderr",
     "output_type": "stream",
     "text": [
      "c:\\Users\\codyb\\.vscode\\Py\\COMP7970-Homework\\Lib\\site-packages\\sklearn\\svm\\_base.py:305: ConvergenceWarning: Solver terminated early (max_iter=250).  Consider pre-processing your data with StandardScaler or MinMaxScaler.\n",
      "  warnings.warn(\n"
     ]
    },
    {
     "name": "stdout",
     "output_type": "stream",
     "text": [
      "[Poly] max_iter: 250, C: 100, gamma: 5, degree: 2, class_weight: {1: 2, -1: 1} -> accuracy: 0.8770\n",
      "              precision    recall  f1-score   support\n",
      "\n",
      "          -1       0.88      1.00      0.93     44201\n",
      "           1       0.43      0.00      0.00      6199\n",
      "\n",
      "    accuracy                           0.88     50400\n",
      "   macro avg       0.65      0.50      0.47     50400\n",
      "weighted avg       0.82      0.88      0.82     50400\n",
      "\n"
     ]
    },
    {
     "name": "stderr",
     "output_type": "stream",
     "text": [
      "c:\\Users\\codyb\\.vscode\\Py\\COMP7970-Homework\\Lib\\site-packages\\sklearn\\svm\\_base.py:305: ConvergenceWarning: Solver terminated early (max_iter=250).  Consider pre-processing your data with StandardScaler or MinMaxScaler.\n",
      "  warnings.warn(\n"
     ]
    },
    {
     "name": "stdout",
     "output_type": "stream",
     "text": [
      "[Poly] max_iter: 250, C: 100, gamma: 5, degree: 3, class_weight: balanced -> accuracy: 0.8770\n",
      "              precision    recall  f1-score   support\n",
      "\n",
      "          -1       0.88      1.00      0.93     44201\n",
      "           1       0.43      0.00      0.00      6199\n",
      "\n",
      "    accuracy                           0.88     50400\n",
      "   macro avg       0.65      0.50      0.47     50400\n",
      "weighted avg       0.82      0.88      0.82     50400\n",
      "\n"
     ]
    },
    {
     "name": "stderr",
     "output_type": "stream",
     "text": [
      "c:\\Users\\codyb\\.vscode\\Py\\COMP7970-Homework\\Lib\\site-packages\\sklearn\\svm\\_base.py:305: ConvergenceWarning: Solver terminated early (max_iter=250).  Consider pre-processing your data with StandardScaler or MinMaxScaler.\n",
      "  warnings.warn(\n"
     ]
    },
    {
     "name": "stdout",
     "output_type": "stream",
     "text": [
      "[Poly] max_iter: 250, C: 100, gamma: 5, degree: 3, class_weight: {1: 3, -1: 1} -> accuracy: 0.8770\n",
      "              precision    recall  f1-score   support\n",
      "\n",
      "          -1       0.88      1.00      0.93     44201\n",
      "           1       0.43      0.00      0.00      6199\n",
      "\n",
      "    accuracy                           0.88     50400\n",
      "   macro avg       0.65      0.50      0.47     50400\n",
      "weighted avg       0.82      0.88      0.82     50400\n",
      "\n"
     ]
    },
    {
     "name": "stderr",
     "output_type": "stream",
     "text": [
      "c:\\Users\\codyb\\.vscode\\Py\\COMP7970-Homework\\Lib\\site-packages\\sklearn\\svm\\_base.py:305: ConvergenceWarning: Solver terminated early (max_iter=250).  Consider pre-processing your data with StandardScaler or MinMaxScaler.\n",
      "  warnings.warn(\n"
     ]
    },
    {
     "name": "stdout",
     "output_type": "stream",
     "text": [
      "[Poly] max_iter: 250, C: 100, gamma: 5, degree: 3, class_weight: {1: 2, -1: 1} -> accuracy: 0.8770\n",
      "              precision    recall  f1-score   support\n",
      "\n",
      "          -1       0.88      1.00      0.93     44201\n",
      "           1       0.43      0.00      0.00      6199\n",
      "\n",
      "    accuracy                           0.88     50400\n",
      "   macro avg       0.65      0.50      0.47     50400\n",
      "weighted avg       0.82      0.88      0.82     50400\n",
      "\n"
     ]
    },
    {
     "name": "stderr",
     "output_type": "stream",
     "text": [
      "c:\\Users\\codyb\\.vscode\\Py\\COMP7970-Homework\\Lib\\site-packages\\sklearn\\svm\\_base.py:305: ConvergenceWarning: Solver terminated early (max_iter=250).  Consider pre-processing your data with StandardScaler or MinMaxScaler.\n",
      "  warnings.warn(\n"
     ]
    },
    {
     "name": "stdout",
     "output_type": "stream",
     "text": [
      "[Poly] max_iter: 250, C: 100, gamma: 5, degree: 4, class_weight: balanced -> accuracy: 0.8770\n",
      "              precision    recall  f1-score   support\n",
      "\n",
      "          -1       0.88      1.00      0.93     44201\n",
      "           1       0.43      0.00      0.00      6199\n",
      "\n",
      "    accuracy                           0.88     50400\n",
      "   macro avg       0.65      0.50      0.47     50400\n",
      "weighted avg       0.82      0.88      0.82     50400\n",
      "\n"
     ]
    },
    {
     "name": "stderr",
     "output_type": "stream",
     "text": [
      "c:\\Users\\codyb\\.vscode\\Py\\COMP7970-Homework\\Lib\\site-packages\\sklearn\\svm\\_base.py:305: ConvergenceWarning: Solver terminated early (max_iter=250).  Consider pre-processing your data with StandardScaler or MinMaxScaler.\n",
      "  warnings.warn(\n"
     ]
    },
    {
     "name": "stdout",
     "output_type": "stream",
     "text": [
      "[Poly] max_iter: 250, C: 100, gamma: 5, degree: 4, class_weight: {1: 3, -1: 1} -> accuracy: 0.8770\n",
      "              precision    recall  f1-score   support\n",
      "\n",
      "          -1       0.88      1.00      0.93     44201\n",
      "           1       0.43      0.00      0.00      6199\n",
      "\n",
      "    accuracy                           0.88     50400\n",
      "   macro avg       0.65      0.50      0.47     50400\n",
      "weighted avg       0.82      0.88      0.82     50400\n",
      "\n"
     ]
    },
    {
     "name": "stderr",
     "output_type": "stream",
     "text": [
      "c:\\Users\\codyb\\.vscode\\Py\\COMP7970-Homework\\Lib\\site-packages\\sklearn\\svm\\_base.py:305: ConvergenceWarning: Solver terminated early (max_iter=250).  Consider pre-processing your data with StandardScaler or MinMaxScaler.\n",
      "  warnings.warn(\n"
     ]
    },
    {
     "name": "stdout",
     "output_type": "stream",
     "text": [
      "[Poly] max_iter: 250, C: 100, gamma: 5, degree: 4, class_weight: {1: 2, -1: 1} -> accuracy: 0.8770\n",
      "              precision    recall  f1-score   support\n",
      "\n",
      "          -1       0.88      1.00      0.93     44201\n",
      "           1       0.43      0.00      0.00      6199\n",
      "\n",
      "    accuracy                           0.88     50400\n",
      "   macro avg       0.65      0.50      0.47     50400\n",
      "weighted avg       0.82      0.88      0.82     50400\n",
      "\n"
     ]
    },
    {
     "name": "stderr",
     "output_type": "stream",
     "text": [
      "c:\\Users\\codyb\\.vscode\\Py\\COMP7970-Homework\\Lib\\site-packages\\sklearn\\svm\\_base.py:305: ConvergenceWarning: Solver terminated early (max_iter=250).  Consider pre-processing your data with StandardScaler or MinMaxScaler.\n",
      "  warnings.warn(\n"
     ]
    },
    {
     "name": "stdout",
     "output_type": "stream",
     "text": [
      "[Poly] max_iter: 250, C: 100, gamma: 10, degree: 2, class_weight: balanced -> accuracy: 0.8770\n",
      "              precision    recall  f1-score   support\n",
      "\n",
      "          -1       0.88      1.00      0.93     44201\n",
      "           1       0.43      0.00      0.00      6199\n",
      "\n",
      "    accuracy                           0.88     50400\n",
      "   macro avg       0.65      0.50      0.47     50400\n",
      "weighted avg       0.82      0.88      0.82     50400\n",
      "\n"
     ]
    },
    {
     "name": "stderr",
     "output_type": "stream",
     "text": [
      "c:\\Users\\codyb\\.vscode\\Py\\COMP7970-Homework\\Lib\\site-packages\\sklearn\\svm\\_base.py:305: ConvergenceWarning: Solver terminated early (max_iter=250).  Consider pre-processing your data with StandardScaler or MinMaxScaler.\n",
      "  warnings.warn(\n"
     ]
    },
    {
     "name": "stdout",
     "output_type": "stream",
     "text": [
      "[Poly] max_iter: 250, C: 100, gamma: 10, degree: 2, class_weight: {1: 3, -1: 1} -> accuracy: 0.8770\n",
      "              precision    recall  f1-score   support\n",
      "\n",
      "          -1       0.88      1.00      0.93     44201\n",
      "           1       0.43      0.00      0.00      6199\n",
      "\n",
      "    accuracy                           0.88     50400\n",
      "   macro avg       0.65      0.50      0.47     50400\n",
      "weighted avg       0.82      0.88      0.82     50400\n",
      "\n"
     ]
    },
    {
     "name": "stderr",
     "output_type": "stream",
     "text": [
      "c:\\Users\\codyb\\.vscode\\Py\\COMP7970-Homework\\Lib\\site-packages\\sklearn\\svm\\_base.py:305: ConvergenceWarning: Solver terminated early (max_iter=250).  Consider pre-processing your data with StandardScaler or MinMaxScaler.\n",
      "  warnings.warn(\n"
     ]
    },
    {
     "name": "stdout",
     "output_type": "stream",
     "text": [
      "[Poly] max_iter: 250, C: 100, gamma: 10, degree: 2, class_weight: {1: 2, -1: 1} -> accuracy: 0.8770\n",
      "              precision    recall  f1-score   support\n",
      "\n",
      "          -1       0.88      1.00      0.93     44201\n",
      "           1       0.43      0.00      0.00      6199\n",
      "\n",
      "    accuracy                           0.88     50400\n",
      "   macro avg       0.65      0.50      0.47     50400\n",
      "weighted avg       0.82      0.88      0.82     50400\n",
      "\n"
     ]
    },
    {
     "name": "stderr",
     "output_type": "stream",
     "text": [
      "c:\\Users\\codyb\\.vscode\\Py\\COMP7970-Homework\\Lib\\site-packages\\sklearn\\svm\\_base.py:305: ConvergenceWarning: Solver terminated early (max_iter=250).  Consider pre-processing your data with StandardScaler or MinMaxScaler.\n",
      "  warnings.warn(\n"
     ]
    },
    {
     "name": "stdout",
     "output_type": "stream",
     "text": [
      "[Poly] max_iter: 250, C: 100, gamma: 10, degree: 3, class_weight: balanced -> accuracy: 0.8770\n",
      "              precision    recall  f1-score   support\n",
      "\n",
      "          -1       0.88      1.00      0.93     44201\n",
      "           1       0.43      0.00      0.00      6199\n",
      "\n",
      "    accuracy                           0.88     50400\n",
      "   macro avg       0.65      0.50      0.47     50400\n",
      "weighted avg       0.82      0.88      0.82     50400\n",
      "\n"
     ]
    },
    {
     "name": "stderr",
     "output_type": "stream",
     "text": [
      "c:\\Users\\codyb\\.vscode\\Py\\COMP7970-Homework\\Lib\\site-packages\\sklearn\\svm\\_base.py:305: ConvergenceWarning: Solver terminated early (max_iter=250).  Consider pre-processing your data with StandardScaler or MinMaxScaler.\n",
      "  warnings.warn(\n"
     ]
    },
    {
     "name": "stdout",
     "output_type": "stream",
     "text": [
      "[Poly] max_iter: 250, C: 100, gamma: 10, degree: 3, class_weight: {1: 3, -1: 1} -> accuracy: 0.8770\n",
      "              precision    recall  f1-score   support\n",
      "\n",
      "          -1       0.88      1.00      0.93     44201\n",
      "           1       0.43      0.00      0.00      6199\n",
      "\n",
      "    accuracy                           0.88     50400\n",
      "   macro avg       0.65      0.50      0.47     50400\n",
      "weighted avg       0.82      0.88      0.82     50400\n",
      "\n"
     ]
    },
    {
     "name": "stderr",
     "output_type": "stream",
     "text": [
      "c:\\Users\\codyb\\.vscode\\Py\\COMP7970-Homework\\Lib\\site-packages\\sklearn\\svm\\_base.py:305: ConvergenceWarning: Solver terminated early (max_iter=250).  Consider pre-processing your data with StandardScaler or MinMaxScaler.\n",
      "  warnings.warn(\n"
     ]
    },
    {
     "name": "stdout",
     "output_type": "stream",
     "text": [
      "[Poly] max_iter: 250, C: 100, gamma: 10, degree: 3, class_weight: {1: 2, -1: 1} -> accuracy: 0.8770\n",
      "              precision    recall  f1-score   support\n",
      "\n",
      "          -1       0.88      1.00      0.93     44201\n",
      "           1       0.43      0.00      0.00      6199\n",
      "\n",
      "    accuracy                           0.88     50400\n",
      "   macro avg       0.65      0.50      0.47     50400\n",
      "weighted avg       0.82      0.88      0.82     50400\n",
      "\n"
     ]
    },
    {
     "name": "stderr",
     "output_type": "stream",
     "text": [
      "c:\\Users\\codyb\\.vscode\\Py\\COMP7970-Homework\\Lib\\site-packages\\sklearn\\svm\\_base.py:305: ConvergenceWarning: Solver terminated early (max_iter=250).  Consider pre-processing your data with StandardScaler or MinMaxScaler.\n",
      "  warnings.warn(\n"
     ]
    },
    {
     "name": "stdout",
     "output_type": "stream",
     "text": [
      "[Poly] max_iter: 250, C: 100, gamma: 10, degree: 4, class_weight: balanced -> accuracy: 0.8770\n",
      "              precision    recall  f1-score   support\n",
      "\n",
      "          -1       0.88      1.00      0.93     44201\n",
      "           1       0.43      0.00      0.00      6199\n",
      "\n",
      "    accuracy                           0.88     50400\n",
      "   macro avg       0.65      0.50      0.47     50400\n",
      "weighted avg       0.82      0.88      0.82     50400\n",
      "\n"
     ]
    },
    {
     "name": "stderr",
     "output_type": "stream",
     "text": [
      "c:\\Users\\codyb\\.vscode\\Py\\COMP7970-Homework\\Lib\\site-packages\\sklearn\\svm\\_base.py:305: ConvergenceWarning: Solver terminated early (max_iter=250).  Consider pre-processing your data with StandardScaler or MinMaxScaler.\n",
      "  warnings.warn(\n"
     ]
    },
    {
     "name": "stdout",
     "output_type": "stream",
     "text": [
      "[Poly] max_iter: 250, C: 100, gamma: 10, degree: 4, class_weight: {1: 3, -1: 1} -> accuracy: 0.8770\n",
      "              precision    recall  f1-score   support\n",
      "\n",
      "          -1       0.88      1.00      0.93     44201\n",
      "           1       0.43      0.00      0.00      6199\n",
      "\n",
      "    accuracy                           0.88     50400\n",
      "   macro avg       0.65      0.50      0.47     50400\n",
      "weighted avg       0.82      0.88      0.82     50400\n",
      "\n"
     ]
    },
    {
     "name": "stderr",
     "output_type": "stream",
     "text": [
      "c:\\Users\\codyb\\.vscode\\Py\\COMP7970-Homework\\Lib\\site-packages\\sklearn\\svm\\_base.py:305: ConvergenceWarning: Solver terminated early (max_iter=250).  Consider pre-processing your data with StandardScaler or MinMaxScaler.\n",
      "  warnings.warn(\n"
     ]
    },
    {
     "name": "stdout",
     "output_type": "stream",
     "text": [
      "[Poly] max_iter: 250, C: 100, gamma: 10, degree: 4, class_weight: {1: 2, -1: 1} -> accuracy: 0.8770\n",
      "              precision    recall  f1-score   support\n",
      "\n",
      "          -1       0.88      1.00      0.93     44201\n",
      "           1       0.43      0.00      0.00      6199\n",
      "\n",
      "    accuracy                           0.88     50400\n",
      "   macro avg       0.65      0.50      0.47     50400\n",
      "weighted avg       0.82      0.88      0.82     50400\n",
      "\n"
     ]
    },
    {
     "name": "stderr",
     "output_type": "stream",
     "text": [
      "c:\\Users\\codyb\\.vscode\\Py\\COMP7970-Homework\\Lib\\site-packages\\sklearn\\svm\\_base.py:305: ConvergenceWarning: Solver terminated early (max_iter=250).  Consider pre-processing your data with StandardScaler or MinMaxScaler.\n",
      "  warnings.warn(\n"
     ]
    },
    {
     "name": "stdout",
     "output_type": "stream",
     "text": [
      "[Poly] max_iter: 250, C: 100, gamma: 100, degree: 2, class_weight: balanced -> accuracy: 0.8766\n",
      "              precision    recall  f1-score   support\n",
      "\n",
      "          -1       0.88      1.00      0.93     44201\n",
      "           1       0.19      0.00      0.00      6199\n",
      "\n",
      "    accuracy                           0.88     50400\n",
      "   macro avg       0.54      0.50      0.47     50400\n",
      "weighted avg       0.79      0.88      0.82     50400\n",
      "\n"
     ]
    },
    {
     "name": "stderr",
     "output_type": "stream",
     "text": [
      "c:\\Users\\codyb\\.vscode\\Py\\COMP7970-Homework\\Lib\\site-packages\\sklearn\\svm\\_base.py:305: ConvergenceWarning: Solver terminated early (max_iter=250).  Consider pre-processing your data with StandardScaler or MinMaxScaler.\n",
      "  warnings.warn(\n"
     ]
    },
    {
     "name": "stdout",
     "output_type": "stream",
     "text": [
      "[Poly] max_iter: 250, C: 100, gamma: 100, degree: 2, class_weight: {1: 3, -1: 1} -> accuracy: 0.8766\n",
      "              precision    recall  f1-score   support\n",
      "\n",
      "          -1       0.88      1.00      0.93     44201\n",
      "           1       0.19      0.00      0.00      6199\n",
      "\n",
      "    accuracy                           0.88     50400\n",
      "   macro avg       0.54      0.50      0.47     50400\n",
      "weighted avg       0.79      0.88      0.82     50400\n",
      "\n"
     ]
    },
    {
     "name": "stderr",
     "output_type": "stream",
     "text": [
      "c:\\Users\\codyb\\.vscode\\Py\\COMP7970-Homework\\Lib\\site-packages\\sklearn\\svm\\_base.py:305: ConvergenceWarning: Solver terminated early (max_iter=250).  Consider pre-processing your data with StandardScaler or MinMaxScaler.\n",
      "  warnings.warn(\n"
     ]
    },
    {
     "name": "stdout",
     "output_type": "stream",
     "text": [
      "[Poly] max_iter: 250, C: 100, gamma: 100, degree: 2, class_weight: {1: 2, -1: 1} -> accuracy: 0.8765\n",
      "              precision    recall  f1-score   support\n",
      "\n",
      "          -1       0.88      1.00      0.93     44201\n",
      "           1       0.15      0.00      0.00      6199\n",
      "\n",
      "    accuracy                           0.88     50400\n",
      "   macro avg       0.52      0.50      0.47     50400\n",
      "weighted avg       0.79      0.88      0.82     50400\n",
      "\n"
     ]
    },
    {
     "name": "stderr",
     "output_type": "stream",
     "text": [
      "c:\\Users\\codyb\\.vscode\\Py\\COMP7970-Homework\\Lib\\site-packages\\sklearn\\svm\\_base.py:305: ConvergenceWarning: Solver terminated early (max_iter=250).  Consider pre-processing your data with StandardScaler or MinMaxScaler.\n",
      "  warnings.warn(\n"
     ]
    },
    {
     "name": "stdout",
     "output_type": "stream",
     "text": [
      "[Poly] max_iter: 250, C: 100, gamma: 100, degree: 3, class_weight: balanced -> accuracy: 0.8750\n",
      "              precision    recall  f1-score   support\n",
      "\n",
      "          -1       0.88      1.00      0.93     44201\n",
      "           1       0.11      0.00      0.00      6199\n",
      "\n",
      "    accuracy                           0.87     50400\n",
      "   macro avg       0.49      0.50      0.47     50400\n",
      "weighted avg       0.78      0.87      0.82     50400\n",
      "\n"
     ]
    },
    {
     "name": "stderr",
     "output_type": "stream",
     "text": [
      "c:\\Users\\codyb\\.vscode\\Py\\COMP7970-Homework\\Lib\\site-packages\\sklearn\\svm\\_base.py:305: ConvergenceWarning: Solver terminated early (max_iter=250).  Consider pre-processing your data with StandardScaler or MinMaxScaler.\n",
      "  warnings.warn(\n"
     ]
    },
    {
     "name": "stdout",
     "output_type": "stream",
     "text": [
      "[Poly] max_iter: 250, C: 100, gamma: 100, degree: 3, class_weight: {1: 3, -1: 1} -> accuracy: 0.8741\n",
      "              precision    recall  f1-score   support\n",
      "\n",
      "          -1       0.88      1.00      0.93     44201\n",
      "           1       0.12      0.00      0.01      6199\n",
      "\n",
      "    accuracy                           0.87     50400\n",
      "   macro avg       0.50      0.50      0.47     50400\n",
      "weighted avg       0.78      0.87      0.82     50400\n",
      "\n"
     ]
    },
    {
     "name": "stderr",
     "output_type": "stream",
     "text": [
      "c:\\Users\\codyb\\.vscode\\Py\\COMP7970-Homework\\Lib\\site-packages\\sklearn\\svm\\_base.py:305: ConvergenceWarning: Solver terminated early (max_iter=250).  Consider pre-processing your data with StandardScaler or MinMaxScaler.\n",
      "  warnings.warn(\n"
     ]
    },
    {
     "name": "stdout",
     "output_type": "stream",
     "text": [
      "[Poly] max_iter: 250, C: 100, gamma: 100, degree: 3, class_weight: {1: 2, -1: 1} -> accuracy: 0.8748\n",
      "              precision    recall  f1-score   support\n",
      "\n",
      "          -1       0.88      1.00      0.93     44201\n",
      "           1       0.15      0.00      0.01      6199\n",
      "\n",
      "    accuracy                           0.87     50400\n",
      "   macro avg       0.51      0.50      0.47     50400\n",
      "weighted avg       0.79      0.87      0.82     50400\n",
      "\n"
     ]
    },
    {
     "name": "stderr",
     "output_type": "stream",
     "text": [
      "c:\\Users\\codyb\\.vscode\\Py\\COMP7970-Homework\\Lib\\site-packages\\sklearn\\svm\\_base.py:305: ConvergenceWarning: Solver terminated early (max_iter=250).  Consider pre-processing your data with StandardScaler or MinMaxScaler.\n",
      "  warnings.warn(\n"
     ]
    },
    {
     "name": "stdout",
     "output_type": "stream",
     "text": [
      "[Poly] max_iter: 250, C: 100, gamma: 100, degree: 4, class_weight: balanced -> accuracy: 0.8770\n",
      "              precision    recall  f1-score   support\n",
      "\n",
      "          -1       0.88      1.00      0.93     44201\n",
      "           1       0.43      0.00      0.00      6199\n",
      "\n",
      "    accuracy                           0.88     50400\n",
      "   macro avg       0.65      0.50      0.47     50400\n",
      "weighted avg       0.82      0.88      0.82     50400\n",
      "\n"
     ]
    },
    {
     "name": "stderr",
     "output_type": "stream",
     "text": [
      "c:\\Users\\codyb\\.vscode\\Py\\COMP7970-Homework\\Lib\\site-packages\\sklearn\\svm\\_base.py:305: ConvergenceWarning: Solver terminated early (max_iter=250).  Consider pre-processing your data with StandardScaler or MinMaxScaler.\n",
      "  warnings.warn(\n"
     ]
    },
    {
     "name": "stdout",
     "output_type": "stream",
     "text": [
      "[Poly] max_iter: 250, C: 100, gamma: 100, degree: 4, class_weight: {1: 3, -1: 1} -> accuracy: 0.8770\n",
      "              precision    recall  f1-score   support\n",
      "\n",
      "          -1       0.88      1.00      0.93     44201\n",
      "           1       0.43      0.00      0.00      6199\n",
      "\n",
      "    accuracy                           0.88     50400\n",
      "   macro avg       0.65      0.50      0.47     50400\n",
      "weighted avg       0.82      0.88      0.82     50400\n",
      "\n"
     ]
    },
    {
     "name": "stderr",
     "output_type": "stream",
     "text": [
      "c:\\Users\\codyb\\.vscode\\Py\\COMP7970-Homework\\Lib\\site-packages\\sklearn\\svm\\_base.py:305: ConvergenceWarning: Solver terminated early (max_iter=250).  Consider pre-processing your data with StandardScaler or MinMaxScaler.\n",
      "  warnings.warn(\n"
     ]
    },
    {
     "name": "stdout",
     "output_type": "stream",
     "text": [
      "[Poly] max_iter: 250, C: 100, gamma: 100, degree: 4, class_weight: {1: 2, -1: 1} -> accuracy: 0.8770\n",
      "              precision    recall  f1-score   support\n",
      "\n",
      "          -1       0.88      1.00      0.93     44201\n",
      "           1       0.43      0.00      0.00      6199\n",
      "\n",
      "    accuracy                           0.88     50400\n",
      "   macro avg       0.65      0.50      0.47     50400\n",
      "weighted avg       0.82      0.88      0.82     50400\n",
      "\n",
      "Saved poly report to poly_250_report.csv\n",
      "\n"
     ]
    }
   ],
   "source": [
    "for max_iter_value in max_iters:\n",
    "    print(f\"\\n{'='*30}\\nStarting tests for max_iter = {max_iter_value}\\n{'='*30}\\n\")\n",
    "\n",
    "    # Linear\n",
    "    results_linear = []\n",
    "    linear_keys = list(linear_params.keys())\n",
    "    linear_values = list(linear_params.values())\n",
    "    for combo in itertools.product(*linear_values):\n",
    "        params = dict(zip(linear_keys, combo))\n",
    "        params[\"max_iter\"] = max_iter_value\n",
    "        \n",
    "        # Train\n",
    "        model = SVC(random_state=9, verbose=False, **params)\n",
    "        model.fit(X_train, y_train)\n",
    "        y_pred = model.predict(X_test)\n",
    "        acc = accuracy_score(y_test, y_pred)\n",
    "        report_text = classification_report(y_test, y_pred, zero_division=0)\n",
    "        \n",
    "        # Results\n",
    "        results_linear.append({\n",
    "            \"kernel\": params[\"kernel\"],\n",
    "            \"C\": params[\"C\"],\n",
    "            \"gamma\": None,\n",
    "            \"degree\": None,\n",
    "            \"class_weight\": params[\"class_weight\"],\n",
    "            \"max_iter\": max_iter_value,\n",
    "            \"accuracy\": acc,\n",
    "            \"classification_report\": report_text\n",
    "        })\n",
    "        \n",
    "        # Print results\n",
    "        print(f\"[Linear] max_iter: {max_iter_value}, C: {params['C']}, class_weight: {params['class_weight']} -> accuracy: {acc:.4f}\")\n",
    "        print(report_text)\n",
    "    \n",
    "    # Write results\n",
    "    df_linear = pd.DataFrame(results_linear)\n",
    "    linear_csv_filename = f\"linear_report.csv\"\n",
    "    df_linear.to_csv(linear_csv_filename, index=False)\n",
    "    print(f\"Saved linear report to {linear_csv_filename}\\n\")\n",
    "    \n",
    "    # RBF\n",
    "    results_rbf = []\n",
    "    rbf_keys = list(rbf_params.keys())\n",
    "    rbf_values = list(rbf_params.values())\n",
    "    for combo in itertools.product(*rbf_values):\n",
    "        params = dict(zip(rbf_keys, combo))\n",
    "        params[\"max_iter\"] = max_iter_value\n",
    "\n",
    "        # Train\n",
    "        model = SVC(random_state=9, verbose=False, **params)\n",
    "        model.fit(X_train, y_train)\n",
    "        y_pred = model.predict(X_test)\n",
    "        acc = accuracy_score(y_test, y_pred)\n",
    "        report_text = classification_report(y_test, y_pred, zero_division=0)\n",
    "\n",
    "        # Results\n",
    "        results_rbf.append({\n",
    "            \"kernel\": params[\"kernel\"],\n",
    "            \"C\": params[\"C\"],\n",
    "            \"gamma\": params[\"gamma\"],\n",
    "            \"degree\": None,  # Not applicable for RBF\n",
    "            \"class_weight\": params[\"class_weight\"],\n",
    "            \"max_iter\": max_iter_value,\n",
    "            \"accuracy\": acc,\n",
    "            \"classification_report\": report_text\n",
    "        })\n",
    "\n",
    "        # Print results\n",
    "        print(f\"[RBF] max_iter: {max_iter_value}, C: {params['C']}, gamma: {params['gamma']}, class_weight: {params['class_weight']} -> accuracy: {acc:.4f}\")\n",
    "        print(report_text)\n",
    "    \n",
    "    # Write results\n",
    "    df_rbf = pd.DataFrame(results_rbf)\n",
    "    rbf_csv_filename = f\"rbf_report.csv\"\n",
    "    df_rbf.to_csv(rbf_csv_filename, index=False)\n",
    "    print(f\"Saved RBF report to {rbf_csv_filename}\\n\")\n",
    "    \n",
    "    # Polynomial\n",
    "    results_poly = []\n",
    "    poly_keys = list(poly_params.keys())\n",
    "    poly_values = list(poly_params.values())\n",
    "    for combo in itertools.product(*poly_values):\n",
    "        params = dict(zip(poly_keys, combo))\n",
    "        params[\"max_iter\"] = max_iter_value\n",
    "        \n",
    "        # Train\n",
    "        model = SVC(random_state=9, verbose=False, **params)\n",
    "        model.fit(X_train, y_train)\n",
    "        y_pred = model.predict(X_test)\n",
    "        acc = accuracy_score(y_test, y_pred)\n",
    "        report_text = classification_report(y_test, y_pred, zero_division=0)\n",
    "        \n",
    "        # Results\n",
    "        results_poly.append({\n",
    "            \"kernel\": params[\"kernel\"],\n",
    "            \"C\": params[\"C\"],\n",
    "            \"gamma\": params[\"gamma\"],\n",
    "            \"degree\": params[\"degree\"],\n",
    "            \"class_weight\": params[\"class_weight\"],\n",
    "            \"max_iter\": max_iter_value,\n",
    "            \"accuracy\": acc,\n",
    "            \"classification_report\": report_text\n",
    "        })\n",
    "        \n",
    "        # Print results\n",
    "        print(f\"[Poly] max_iter: {max_iter_value}, C: {params['C']}, gamma: {params['gamma']}, degree: {params['degree']}, class_weight: {params['class_weight']} -> accuracy: {acc:.4f}\")\n",
    "        print(report_text)\n",
    "    \n",
    "    # Write results\n",
    "    df_poly = pd.DataFrame(results_poly)\n",
    "    poly_csv_filename = f\"poly_{max_iter_value}_report.csv\"\n",
    "    df_poly.to_csv(poly_csv_filename, index=False)\n",
    "    print(f\"Saved poly report to {poly_csv_filename}\\n\")"
   ]
  },
  {
   "cell_type": "markdown",
   "metadata": {},
   "source": [
    "### Parser Logic"
   ]
  },
  {
   "cell_type": "code",
   "execution_count": null,
   "metadata": {},
   "outputs": [],
   "source": [
    "def parsePrecisionAndRecall(report, label):\n",
    "    match = re.search(rf\"^\\s*{label}\\s+([\\d.]+)\\s+([\\d.]+)\", report, re.MULTILINE)\n",
    "    if match:\n",
    "        precision, recall = float(match.group(1)), float(match.group(2))\n",
    "        return precision, recall\n",
    "    return 0.0, 0.0\n",
    "\n",
    "def filterResults(filename, output_filename):\n",
    "    df = pd.read_csv(filename)\n",
    "    keep_rows = []\n",
    "\n",
    "    for _, row in df.iterrows():\n",
    "        acc = float(row[\"accuracy\"])\n",
    "        if acc < 0.13 or acc > 0.87:\n",
    "            continue\n",
    "\n",
    "        report = row[\"classification_report\"]\n",
    "\n",
    "        prec_neg, rec_neg = parsePrecisionAndRecall(report, \"-1\")\n",
    "        prec_pos, rec_pos = parsePrecisionAndRecall(report, \"1\")\n",
    "\n",
    "        if (prec_neg < 0.10 or rec_neg < 0.10 or\n",
    "            prec_pos < 0.10 or rec_pos < 0.10):\n",
    "            continue\n",
    "\n",
    "        keep_rows.append(row)\n",
    "\n",
    "    filtered_df = pd.DataFrame(keep_rows)\n",
    "    filtered_df.to_csv(output_filename, index=False)\n",
    "    print(f\"Filtered report saved to {output_filename} with {len(filtered_df)} rows\")\n",
    "\n",
    "filterResults(\"linear_report.csv\", \"filtered_linear_report.csv\")\n",
    "filterResults(\"rbf_report.csv\", \"filtered_rbf_report.csv\")\n",
    "filterResults(\"poly_250_report.csv\", \"filtered_poly_250_report.csv\")"
   ]
  }
 ],
 "metadata": {
  "kernelspec": {
   "display_name": "COMP7970-Homework (3.13.2)",
   "language": "python",
   "name": "python3"
  },
  "language_info": {
   "codemirror_mode": {
    "name": "ipython",
    "version": 3
   },
   "file_extension": ".py",
   "mimetype": "text/x-python",
   "name": "python",
   "nbconvert_exporter": "python",
   "pygments_lexer": "ipython3",
   "version": "3.13.2"
  }
 },
 "nbformat": 4,
 "nbformat_minor": 2
}
